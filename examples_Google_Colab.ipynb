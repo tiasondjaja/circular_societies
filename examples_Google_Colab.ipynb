{
  "nbformat": 4,
  "nbformat_minor": 0,
  "metadata": {
    "colab": {
      "name": "examples-Google_Colab.ipynb",
      "provenance": [],
      "collapsed_sections": [],
      "include_colab_link": true
    },
    "kernelspec": {
      "display_name": "Python 3",
      "language": "python",
      "name": "python3"
    }
  },
  "cells": [
    {
      "cell_type": "markdown",
      "metadata": {
        "id": "view-in-github",
        "colab_type": "text"
      },
      "source": [
        "<a href=\"https://colab.research.google.com/github/tiasondjaja/circular_societies/blob/master/examples_Google_Colab.ipynb\" target=\"_parent\"><img src=\"https://colab.research.google.com/assets/colab-badge.svg\" alt=\"Open In Colab\"/></a>"
      ]
    },
    {
      "cell_type": "markdown",
      "metadata": {
        "id": "wZ4upHILf2w8",
        "colab_type": "text"
      },
      "source": [
        "# Circular Societies Visualization Tool\n",
        "\n",
        "In this document, we define:\n",
        "+ The `Set` class (to create approval sets)\n",
        "+ The `CircularSociety` class (to create a circular society, which is made up of approval sets)\n",
        "    + Along with methods for visualizing the circular societies, computing piercing number and approval number, checking (k, m)-agreeability, and transforming the society into Hardin's uniform society.\n",
        "+ Functions to randomly generate circular societies.\n",
        "\n",
        "A complete \"documentation\" and a couple of examples are included below (scroll down).\n",
        "\n",
        "\n",
        "### How to run and use this document\n",
        "+ First, run the code cell in the \"Setup\" section below.  Do not modify anything.\n",
        "+ Then, optionally, read the documentation and run the code cells in the \"Example\" section\n",
        "+ Experiment with your own circular societies"
      ]
    },
    {
      "cell_type": "markdown",
      "metadata": {
        "id": "iY6TPjpSBP-Y",
        "colab_type": "text"
      },
      "source": [
        "## Setup\n",
        "\n",
        "Run the code cell in the \"Setup\" section below once each time the notebook is started. Do not modify anything."
      ]
    },
    {
      "cell_type": "code",
      "metadata": {
        "id": "F9I5hP_gf2xD",
        "colab_type": "code",
        "colab": {}
      },
      "source": [
        "import numpy as np\n",
        "import scipy as sp\n",
        "import cvxpy as cp\n",
        "import matplotlib.pyplot as plt\n",
        "import itertools\n",
        "\n",
        "# Part 0 ----------------------------------\n",
        "# Define the Set class (approval set)\n",
        "class Set:\n",
        "    # Initialize Class\n",
        "    def __init__( self, name, left_endpt, right_endpt, modulo ):\n",
        "        self.name = name\n",
        "        self.left_endpt = left_endpt\n",
        "        self.right_endpt = right_endpt\n",
        "        self.modulo = modulo\n",
        "    \n",
        "    # Method to print set name and left- and right-endpoints\n",
        "    def printSetInfo( self ):\n",
        "        if self.left_endpt <= self.right_endpt:\n",
        "            print( \" \" + self.name + \": [\" + str(self.left_endpt) + \", \" + str(self.right_endpt) + \"]\")\n",
        "        elif self.right_endpt == 0:\n",
        "            print( \" \" + self.name + \": [\" + str(self.left_endpt) + \", \" + str(self.modulo) + \"]\")\n",
        "        else:\n",
        "            print( \" \" + self.name + \": [0,\" + str(self.right_endpt) + \"] U [\" + str(self.left_endpt) + \", \" + str(self.modulo) + \"]\")\n",
        "    \n",
        "    def editSet( self, newname, newleft_endpt, newright_endpt, newmodulo ):\n",
        "        self.name = newname\n",
        "        self.left_endpt = newleft_endpt\n",
        "        self.right_endpt = newright_endpt\n",
        "        self.modulo = newmodulo\n",
        "        \n",
        "    def isPointInSet( self, point):\n",
        "        check = False\n",
        "        \n",
        "        if (self.left_endpt <= point and point <= self.right_endpt):\n",
        "             check = True\n",
        "        elif (self.left_endpt <= point and self.right_endpt <= self.left_endpt):\n",
        "             check = True\n",
        "        elif (point <= self.right_endpt and self.right_endpt <= self.left_endpt):\n",
        "             check = True\n",
        "            \n",
        "        return check\n",
        "  \n",
        "# Part 1 - MAIN ----------------------------------  \n",
        "\n",
        "# Define the CircularSociety class\n",
        "\n",
        "class CircularSociety:\n",
        "    \n",
        "    # Initialize Class\n",
        "    def __init__( self, name, modulo, isUniform = 0, tick = 0.5 ):\n",
        "        self.name = name\n",
        "        self.modulo = modulo # modulo > 0; the circular society is represented as [0, modulo) with 0 = modulo\n",
        "        self.approvalSets = [] # initialize with empty approval sets\n",
        "        self.numVoters = 0\n",
        "        self.tick = tick\n",
        "        \n",
        "        # List of all endpoints and setnames (useful when checking for left-right alternation)\n",
        "        self.list_setnames = []\n",
        "        self.list_left_endpts = []\n",
        "        self.list_right_endpts = []\n",
        "    \n",
        "    # method that returns a set given its name\n",
        "    def getSet( self, setname ):\n",
        "      for A in self.approvalSets:\n",
        "        if A.name == setname:\n",
        "          return A\n",
        "      return None\n",
        "    \n",
        "    ### DISPLAYING / OBTAINING BASIC INFORMATION ABOUT THE CIRCULAR SOCIETY----\n",
        "    \n",
        "    # Method to print list of approval sets\n",
        "    def listApprovalSets( self ):\n",
        "        for A in self.approvalSets:\n",
        "            A.printSetInfo()\n",
        "            \n",
        "    # Method to print society information\n",
        "    def printSocietyInfo( self ):\n",
        "        print(\"Circular Society Name: \" + self.name)\n",
        "        print(\"Spectrum: [0, \" + str(self.modulo) + \"].  (Note: we identify 0 = \" + str(self.modulo) + \")\"  )\n",
        "        print(\"Number of Voters: \" + str(self.numVoters) )\n",
        "        print(\"Approval Sets:\")\n",
        "        self.listApprovalSets()\n",
        "    \n",
        "    # Method to list the endpoints of the sets, from 0 to N\n",
        "    def listSetEndpoints( self ):\n",
        "        N = self.numVoters\n",
        "        orderedendpts = []\n",
        "        orderednames = []\n",
        "        setindices_ordered_left = np.argsort(self.list_left_endpts)\n",
        "        setindices_ordered_right = np.argsort(self.list_right_endpts)\n",
        "        left_i = 0\n",
        "        right_i = 0\n",
        "        \n",
        "        for step in range( 0, 2*N ):\n",
        "            if left_i < N and right_i < N:\n",
        "                if self.list_left_endpts[ setindices_ordered_left[left_i] ] < self.list_right_endpts[ setindices_ordered_right[right_i] ]:\n",
        "                    orderedendpts.append( self.list_left_endpts[ setindices_ordered_left[left_i] ] )\n",
        "                    orderednames.append( 'L' + self.list_setnames[ setindices_ordered_left[left_i] ] )\n",
        "                    left_i += 1\n",
        "                else:\n",
        "                    orderedendpts.append( self.list_right_endpts[ setindices_ordered_right[right_i] ] )\n",
        "                    orderednames.append( 'R' + self.list_setnames[ setindices_ordered_right[right_i] ] )\n",
        "                    right_i += 1\n",
        "            elif left_i == N and right_i < N:\n",
        "                orderedendpts.append( self.list_right_endpts[ setindices_ordered_right[right_i] ] )\n",
        "                orderednames.append( 'R' + self.list_setnames[ setindices_ordered_right[right_i] ] )\n",
        "                right_i += 1\n",
        "            else:\n",
        "                orderedendpts.append( self.list_left_endpts[ setindices_ordered_left[left_i] ] )\n",
        "                orderednames.append( 'L' + self.list_setnames[ setindices_ordered_left[left_i] ] )\n",
        "                left_i += 1\n",
        "        return orderednames, orderedendpts\n",
        "      \n",
        "    \n",
        "    ### FINDING, EDITING, ADDING, REMOVING APPROVAL SETS-----------------------\n",
        "    \n",
        "    # Method to find an approval set by name\n",
        "    def findApprovalSetName( self, setName ):\n",
        "        for ind, A in enumerate( self.approvalSets ):\n",
        "            if setName == A.name:\n",
        "                return ind # if set name found, return index\n",
        "        return -1 # if set name not found, return -1 \n",
        "    \n",
        "    # Method to add a new approval set into the society\n",
        "    def addApprovalSet( self, setName, left_endpt, right_endpt ):\n",
        "        # Check that setName is different from names of sets already on the list\n",
        "        ind = self.findApprovalSetName( setName ) # if not found, ind = -1\n",
        "        if ind == -1:\n",
        "            newSet = Set( setName, left_endpt, right_endpt, self.modulo )\n",
        "            \n",
        "            # Update attributes\n",
        "            self.approvalSets.append( newSet )\n",
        "            self.numVoters += 1\n",
        "            \n",
        "            # Update list of all endpoints\n",
        "            self.list_setnames.append( setName )\n",
        "            self.list_left_endpts.append( left_endpt )\n",
        "            self.list_right_endpts.append( right_endpt )\n",
        "            \n",
        "        else:\n",
        "            print(\"Set is not added because this set name has already been chosen.  Please pick a different set name.\")\n",
        "\n",
        "    # Method to remove an approval set from the society\n",
        "    def removeApprovalSet( self, setName ):\n",
        "        for ind, A in enumerate( self.approvalSets ):\n",
        "            if setName == A.name:\n",
        "                self.approvalSets.pop(ind)\n",
        "                self.list_setnames.pop(ind)\n",
        "                self.list_left_endpts.pop(ind)\n",
        "                self.list_right_endpts.pop(ind)\n",
        "                self.numVoters -= 1\n",
        "    \n",
        "    # Method to edit the endpoints of an approval set\n",
        "    def editApprovalSet( self, setName, newleft_endpt, newright_endpt ):\n",
        "        ind = self.findApprovalSetName( setName ) # if not found, ind = -1\n",
        "        \n",
        "        if ind == -1:\n",
        "            print(\"Set name is not found\")\n",
        "        else:\n",
        "            A = self.approvalSets[ind]\n",
        "            A.editSet( setName, newleft_endpt, newright_endpt, self.modulo )\n",
        "            self.list_left_endpts[ind] = newleft_endpt\n",
        "            self.list_right_endpts[ind] = newright_endpt\n",
        "    \n",
        "    \n",
        "    ### AGREEABILITY, AGREEMENT NUMBER, PIERCING NUMBER -----------------------\n",
        "    \n",
        "    # Method to check (k, m) agreeability (brute force)\n",
        "    def checkAgreeability( self, k, m):\n",
        "      setNames = [ A.name for A in self.approvalSets ]\n",
        "      subcollections_m = [list(i) for i in itertools.combinations(setNames, m)]\n",
        "      good = [] # is the society k,m agreeable? will store 1 or 0 for each collection of m sets\n",
        "      bad_m_sets = []\n",
        "      for collection in subcollections_m:\n",
        "        good_m_sets = [] # will store 1 or 0 for each collection of k sets\n",
        "        subcollections_k = [list(i) for i in itertools.combinations(collection, k)]\n",
        "        for collection1 in subcollections_k:\n",
        "          setname = collection1[0]\n",
        "          A = self.getSet(setname)\n",
        "          left = A.left_endpt\n",
        "          left_list = np.array([self.getSet(setname1).isPointInSet(left) for setname1 in collection1 ])\n",
        "          left_good = np.prod(left_list)\n",
        "          right = A.right_endpt\n",
        "          right_list = np.array([self.getSet(setname1).isPointInSet(right) for setname1 in collection1 ])\n",
        "          right_good = np.prod(right_list)\n",
        "          set_good = 1 - ( (1-left_good) * (1-right_good) ) # good if at least one is good\n",
        "          good_m_sets.append(set_good)\n",
        "        good_m_sets = np.array(good_m_sets)\n",
        "        good_m = 1 - np.prod(1-good_m_sets) # good if at least one is good\n",
        "        if good_m == 0:\n",
        "          bad_m_sets.append(collection)\n",
        "        good.append(good_m)\n",
        "      good = np.array(good)\n",
        "      is_kmagreeable = np.prod(good) # good if all is good\n",
        "      return is_kmagreeable, bad_m_sets\n",
        "    \n",
        "    # Method to the find agreement number (and the location)\n",
        "    def findAgreementNumber( self ):\n",
        "        Names, Endpts = self.listSetEndpoints()\n",
        "        agreement = 0\n",
        "        agrement_location = Endpts[0]\n",
        "        \n",
        "        # At each point, the number of intersecting sets changes only when an endpoint is encountered,\n",
        "        #  therefore, we will check the number of intersecting sets only at endpoints\n",
        "        for i in Endpts:\n",
        "          numSets_contain_i = 0\n",
        "          \n",
        "          for A in self.approvalSets:\n",
        "            if A.isPointInSet( i ):\n",
        "              numSets_contain_i = numSets_contain_i + 1\n",
        "          \n",
        "          if numSets_contain_i > agreement:\n",
        "            agreement = numSets_contain_i\n",
        "            agreement_location = i\n",
        "          \n",
        "        return agreement, agreement_location\n",
        "      \n",
        "    def findPiercingNumber( self ):\n",
        "      # Finding piercing number using an integer linear program (ILP) formulation\n",
        "      # (a linear program (LP) that is constrained to have integer solutions)\n",
        "      \n",
        "      # First, find constraint matrix/data for LP used to find piercing number\n",
        "      # Candidate piercing points are the endpoints of the intervals\n",
        "      _, orderedendpts = self.listSetEndpoints()\n",
        "      N = self.numVoters\n",
        "      M = 2*N\n",
        "      Mat = np.empty( [ N, M] )\n",
        "      for i in np.arange(0, N):\n",
        "        for j, p in enumerate(orderedendpts):\n",
        "          A = self.approvalSets[i]\n",
        "          Mat[i, j] = A.isPointInSet( p )\n",
        "      \n",
        "      # Next, vector of coefficients of objective function\n",
        "      c = np.ones(M)\n",
        "      \n",
        "      ## Solve ILP using cvxpy\n",
        "      x = cp.Variable(M, integer = True)\n",
        "      objective = cp.Minimize( cp.matmul(c, x) )\n",
        "      constraints = [ cp.matmul(Mat,x) >= np.ones(N), 0 <= x, x <= 1]\n",
        "      prob = cp.Problem( objective, constraints )\n",
        "      val = prob.solve(solver='GLPK_MI')\n",
        "      piercingNumber = int(np.round(val))\n",
        "      piercingSet = np.transpose(orderedendpts)[ np.round(x.value) > 0]\n",
        "      \n",
        "      return piercingNumber, piercingSet, x.value, Mat\n",
        "    \n",
        "    # implementing the linear society piercing number algorithm\n",
        "    def piercingAlgorithm( self, startingPoint = 0 ):\n",
        "\n",
        "      orderedendptnames, orderedendpts = self.listSetEndpoints()\n",
        "\n",
        "      if startingPoint > 0 :\n",
        "        temp1 = [ x for x in orderedendpts if x >= startingPoint ]\n",
        "        temp1names = [x for i, x in enumerate(orderedendptnames) if orderedendpts[i] >= startingPoint]\n",
        "        temp2 = [x for x in orderedendpts if x < startingPoint]\n",
        "        temp2names = [x for i, x in enumerate(orderedendptnames) if orderedendpts[i] < startingPoint]\n",
        "        orderedendpts = temp1 + temp2\n",
        "        orderedendptnames = temp1names + temp2names\n",
        "\n",
        "      uncovered_setnames = []\n",
        "      N = self.numVoters\n",
        "      for i in range(0, 2*N):\n",
        "        if( orderedendptnames[i][0] == \"R\" ):\n",
        "          uncovered_setnames.append( orderedendptnames[i][1:] )\n",
        "\n",
        "      # currently, uncovered_setnames contains all sets' names\n",
        "      piercingSet = []\n",
        "      while( len(uncovered_setnames) > 0): #while there are uncovered sets\n",
        "        current_point = self.getSet(uncovered_setnames[0]).right_endpt\n",
        "        covered_setnames = [setname for setname in uncovered_setnames if self.getSet(setname).isPointInSet(current_point) ]\n",
        "        uncovered_setnames = [setname for setname in uncovered_setnames if not self.getSet(setname).isPointInSet(current_point) ]\n",
        "        piercingSet.append( [current_point, covered_setnames] )\n",
        "      return piercingSet\n",
        "\n",
        "\n",
        "    ### HARDIN'S TRANSFORMATIONS (ELIMINATE CONTAINMENT, LR-ALTERNATION)-------\n",
        "    \n",
        "    # Method to check if Left-Right-alternating\n",
        "    def is_LR_alt( self, findRRL = False ):\n",
        "        L = self.listSetEndpoints()\n",
        "        numEndpts = len(L[0])\n",
        "        \n",
        "        # determine if LR alternating; if findRRL is True, also find names of sets where of RRL endpoints occur\n",
        "        isLR = True\n",
        "        RRLsets = list()\n",
        "        for i in range(0, numEndpts):\n",
        "            # determine if LR alternating\n",
        "            if L[0][i][0] == L[0][(i+1)%numEndpts][0]:\n",
        "                isLR = False\n",
        "            # find names of sets where of RRL endpoints occur\n",
        "            if ( findRRL ):\n",
        "                if(L[0][i%numEndpts][0] == \"R\" and L[0][(i+1)%numEndpts][0] == \"R\" and L[0][(i+2)%numEndpts][0] == \"L\"):\n",
        "                    RRLsets.append( [ L[0][i%numEndpts][1:], L[0][(i+1)%numEndpts][1:], L[0][(i+2)%numEndpts][1:] ])\n",
        "        \n",
        "        if findRRL:\n",
        "          return isLR, RRLsets\n",
        "        else:\n",
        "          return isLR\n",
        "        \n",
        "    # Method to check if a pair of sets has containment \n",
        "    def checkContainmentPair( self, setPair ):\n",
        "      Set1Name = setPair[0]\n",
        "      Set2Name = setPair[1]\n",
        "      indSet1 = self.findApprovalSetName( Set1Name )\n",
        "      indSet2 = self.findApprovalSetName( Set2Name )\n",
        "      containmentIsFound = False\n",
        "      \n",
        "      if (indSet1 == -1 or indSet2 == -1):\n",
        "        print(\"At least one of the set names is not found\")\n",
        "      else:\n",
        "        A1 = self.approvalSets[indSet1]\n",
        "        A2 = self.approvalSets[indSet2]\n",
        "        \n",
        "        if( A1.left_endpt <= A1.right_endpt and A2.left_endpt <= A2.right_endpt): \n",
        "          # Case 1: A1, A2 both don't wrap around\n",
        "          if( A1.left_endpt <= A2.left_endpt and A2.right_endpt <= A1.right_endpt ):\n",
        "            containmentIsFound = True # A2 is contained in A1\n",
        "            \n",
        "          elif( A2.left_endpt <= A1.left_endpt and A1.right_endpt <= A2.right_endpt ):\n",
        "            containmentIsFound = True # A1 is contained in A2\n",
        "          \n",
        "        elif ( A1.left_endpt <= A1.right_endpt and A2.left_endpt > A2.right_endpt ): \n",
        "          # Case 2: A1 doesn't wrap, A2 wraps around\n",
        "          if( A1.right_endpt <= A2.right_endpt or A2.left_endpt <= A1.left_endpt ):\n",
        "            containmentIsFound = True #A1 is contained in A2\n",
        "            \n",
        "        elif ( A1.left_endpt > A1.right_endpt and A2.left_endpt <= A2.right_endpt ): \n",
        "          # Case 3: A1 wraps, A2 doesn't wrap around\n",
        "          if( A1.left_endpt <= A2.left_endpt or A2.right_endpt <= A1.right_endpt ):\n",
        "            containmentIsFound = True #A2 is contained in A1\n",
        "          \n",
        "        else: \n",
        "          # Case 4: A1, A2 both wrap around\n",
        "          if( A2.right_endpt <= A1.right_endpt and A1.left_endpt <= A2.left_endpt):\n",
        "            containmentIsFound = True # A2 is contained in A1\n",
        "            \n",
        "          elif( A1.right_endpt <= A2.right_endpt and A2.left_endpt <= A1.left_endpt ):\n",
        "            containmentIsFound = True # A1 is contained in A2\n",
        "            \n",
        "      return containmentIsFound\n",
        "    \n",
        "    # Method to detect any containent and identifying pairs\n",
        "    def checkContainmentAll( self, findContainmentPairs = False ):\n",
        "      N = self.numVoters\n",
        "      approvalSetNames = self.list_setnames\n",
        "      containmentPairs = []\n",
        "      containmentIsFound = False\n",
        "      \n",
        "      for i in np.arange(0, N):\n",
        "        setName1 = self.list_setnames[i]\n",
        "        for j in np.arange(i+1, N):\n",
        "          setName2 = self.list_setnames[j]\n",
        "          \n",
        "          if ( self.checkContainmentPair( [setName1, setName2]) ):\n",
        "            \n",
        "            containmentPairs.append( [setName1, setName2] )\n",
        "            containmentIsFound = True\n",
        "            \n",
        "      if findContainmentPairs:\n",
        "        return containmentIsFound, containmentPairs\n",
        "      else:\n",
        "        return containmentIsFound\n",
        "    \n",
        "    # Method to eliminate a pair of containment\n",
        "    def eliminateContainmentPair( self, containmentPair ):\n",
        "        smallSetName = containmentPair[0]\n",
        "        largeSetName = containmentPair[1]\n",
        "        indSmallSet = self.findApprovalSetName( smallSetName )\n",
        "        indLargeSet = self.findApprovalSetName( largeSetName )\n",
        "        \n",
        "        if (indSmallSet == -1 or indLargeSet == -1):\n",
        "            print(\"At least one of the set names is not found\")\n",
        "        else:\n",
        "            # Swap the right endpoints of the two sets\n",
        "            ASmall = self.approvalSets[indSmallSet]\n",
        "            ALarge = self.approvalSets[indLargeSet]\n",
        "            \n",
        "            small_right_endpt = ASmall.right_endpt\n",
        "            small_newright_endpt = ALarge.right_endpt\n",
        "            large_newright_endpt = small_right_endpt\n",
        "            \n",
        "            self.editApprovalSet( smallSetName, ASmall.left_endpt, small_newright_endpt )\n",
        "            self.editApprovalSet( largeSetName, ALarge.left_endpt, large_newright_endpt )\n",
        "\n",
        "    # Method to eliminate all containments\n",
        "    def eliminateContainmentAll( self ):\n",
        "      \n",
        "      containmentIsFound, containmentPairs = self.checkContainmentAll( findContainmentPairs = True)\n",
        "      maxIt = 100\n",
        "      it = 0\n",
        "      \n",
        "      while(containmentIsFound and it < maxIt):\n",
        "        for setPair in containmentPairs:\n",
        "          self.eliminateContainmentPair( setPair )\n",
        "        containmentIsFound, containmentPairs = self.checkContainmentAll( findContainmentPairs = True )\n",
        "        it = it + 1\n",
        "      \n",
        "            \n",
        "    # Method to eliminate a set of RRL endpoints\n",
        "    def eliminateRRLTriple( self, RRLsets ):\n",
        "        Set2Name = RRLsets[1] # first set is unchanged\n",
        "        Set3Name = RRLsets[2]\n",
        "        indSet2 = self.findApprovalSetName( Set2Name )\n",
        "        indSet3 = self.findApprovalSetName( Set3Name )\n",
        "        \n",
        "        if (indSet2 == -1 or indSet3 == -1):\n",
        "            print(\"At least one of the set names is not found\")\n",
        "        else:\n",
        "            # Swap the right endpt of Set2 and the left endpoint of Set3\n",
        "            A2 = self.approvalSets[indSet2]\n",
        "            A3 = self.approvalSets[indSet3]\n",
        "            \n",
        "            set2_right_endpt = A2.right_endpt\n",
        "            set2_newright_endpt = A3.left_endpt\n",
        "            set3_newleft_endpt = set2_right_endpt\n",
        "            \n",
        "            self.editApprovalSet( Set2Name, A2.left_endpt, set2_newright_endpt)\n",
        "            self.editApprovalSet( Set3Name, set3_newleft_endpt, A3.right_endpt )\n",
        "    \n",
        "    # Method to eliminate all RRL (to achieve LR-alternation)\n",
        "    def eliminateRRLAll( self, maxIt = 10000 ):\n",
        "        isLR, RRLsets = self.is_LR_alt( findRRL = True )\n",
        "        \n",
        "        numIt = 0\n",
        "        while( not isLR and numIt < maxIt):\n",
        "          for triple in RRLsets:\n",
        "            self.eliminateRRLTriple( triple )\n",
        "          isLR, RRLsets = self.is_LR_alt( findRRL = True )\n",
        "          numIt = numIt + 1\n",
        "        \n",
        "        if ( not isLR ):\n",
        "          print(\"Max iteration reached but the society is still not LR-Alternating\")\n",
        "\n",
        "    # Method to transform into a uniform society\n",
        "    def uniformize( self ):\n",
        "        self.eliminateContainmentAll()\n",
        "        self.eliminateRRLAll()\n",
        "        \n",
        "\n",
        "        \n",
        "    ### VISUALIZATION --------------------------------------------------------\n",
        "    \n",
        "    # Method to visualize the sets\n",
        "    def visualize( self, drawAgreement = False, drawPiercing = False ):\n",
        "        \n",
        "        ## Set up grid\n",
        "        fig = plt.figure()\n",
        "        ax = fig.add_subplot(1, 1, 1)\n",
        "        # Major ticks every 1, minor ticks every self.tick (default = 0.5)\n",
        "        major_ticks = np.arange(0, self.modulo+1, self.modulo * 0.1)\n",
        "        minor_ticks = np.arange(0, self.modulo+1, self.tick)        \n",
        "        ax.set_xticks(major_ticks)\n",
        "        ax.set_xticks(minor_ticks, minor=True)\n",
        "        #ax.set_yticks(major_ticks)\n",
        "        #ax.set_yticks(minor_ticks, minor=True)\n",
        "        # Different thickness settings for the major and minor grids:\n",
        "        ax.grid(which='minor', alpha=0.2)\n",
        "        ax.grid(which='major', alpha=0.5)\n",
        "        plt.yticks(np.arange(0, self.numVoters+1, step = 1) )\n",
        "        \n",
        "        # Draw the intervals\n",
        "        for ind, A in enumerate( self.approvalSets ):\n",
        "            if A.left_endpt <= A.right_endpt:\n",
        "                x = [A.left_endpt, A.right_endpt]\n",
        "                y = [ind+1, ind+1]\n",
        "                plt.plot( x, y, 'ro-')\n",
        "            else:\n",
        "                x = [A.left_endpt, self.modulo]\n",
        "                y = [ind+1, ind+1]\n",
        "                plt.plot( A.left_endpt, ind+1, 'ro-', self.modulo, ind+1, 'r>-')\n",
        "                plt.plot( x, y, 'r')\n",
        "                x = [0, A.right_endpt]\n",
        "                plt.plot( 0, ind+1, 'r<-', A.right_endpt, ind+1, 'ro-')\n",
        "                plt.plot( x, y, 'r')\n",
        "                \n",
        "        # Draw one of the points that attains agreement number\n",
        "        if drawAgreement:\n",
        "            a, pos = self.findAgreementNumber()\n",
        "            plt.plot( [pos, pos], [0.8, self.numVoters], 'blue' )\n",
        "        \n",
        "        # Draw the piercing points\n",
        "        if drawPiercing:\n",
        "          piercingNum, piercingSet, _, _ = self.findPiercingNumber()\n",
        "          for pos in piercingSet:\n",
        "            plt.plot( [pos, pos], [0, 0.2 + self.numVoters], 'green', linestyle = 'dashed' )\n",
        "\n",
        "# Part 3 - generating random circular societies ----------------------------------    \n",
        "\n",
        "# Define function to generate a random fixed-length circular society\n",
        "def generateRandomFixedLengthSociety( societyname, N, modulo, p, tick = 0.5 ):\n",
        "    # N is number of voters\n",
        "    # modulo is the circumference of the circular society\n",
        "    # p is a fraction between 0 and 1 that controls the length of approval sets\n",
        "    #    The length of each set is p times modulo\n",
        "    # tick = 0.5 : controls tick marks in the visualization\n",
        "    \n",
        "    CS = CircularSociety( societyname, modulo, tick = tick )\n",
        "    \n",
        "    for i in list(range(N)):\n",
        "      left = np.random.uniform(low=0, high=modulo)\n",
        "      right = (left + p * modulo) % modulo\n",
        "      CS.addApprovalSet( \"Set \" + str(i+1), left , right )\n",
        "    \n",
        "    return CS\n",
        "\n",
        "# extras:\n",
        "# Define function to generate a circular society with a random approval sets\n",
        "def generateRandomSociety( societyname, N, modulo, epsilon = 0.5, mode = 1, a = 1, b = 1 ):\n",
        "    # epsilon = 0.5 is the perturbation of the right-endpoints\n",
        "    # N is number of voters\n",
        "    # mode lets us choose how the approval sets are generated\n",
        "    #   mode = 1: endpoints are chosen uniformly at random from [0, modulo]\n",
        "    #   mode = 2: left endpoint is chosen uniformly at random from [0, modulo]; \n",
        "    #             set length is from the beta distribution with parameters a, b\n",
        "    \n",
        "    CS = CircularSociety( societyname, modulo, tick = epsilon )\n",
        "    \n",
        "    for i in list(range(N)):\n",
        "      if mode == 1:\n",
        "        left = np.random.uniform(low=0, high=modulo)\n",
        "        right = np.random.uniform(low=0, high=modulo)\n",
        "      elif mode == 2:\n",
        "        left = np.random.uniform(low=0, high=modulo) \n",
        "        right = (left + np.random.beta(a, b)* modulo) % modulo\n",
        "        \n",
        "      CS.addApprovalSet( \"Set \" + str(i+1), left , right )\n",
        "    \n",
        "    \n",
        "    return CS\n",
        "  \n",
        "# Define function to generate U(N, h) (Hardin's uniform circular society)\n",
        "def generateUniformCircularSociety( societyname, N, h, epsilon = 0.5 ):\n",
        "    # epsilon = 0.5 is the perturbation of the right-endpoints\n",
        "    \n",
        "    CS = CircularSociety( societyname, N, tick = epsilon )\n",
        "    \n",
        "    for i in list(range(N)):\n",
        "        CS.addApprovalSet( \"Set \" + str(i+1), i, round( (i + h - epsilon) % N, 1) )\n",
        "    return CS"
      ],
      "execution_count": 0,
      "outputs": []
    },
    {
      "cell_type": "markdown",
      "metadata": {
        "id": "RCrDqSK-f2xZ",
        "colab_type": "text"
      },
      "source": [
        "## Documentation\n",
        "\n"
      ]
    },
    {
      "cell_type": "markdown",
      "metadata": {
        "id": "4dAjfaWNA3NJ",
        "colab_type": "text"
      },
      "source": [
        "### Creating a circular society object:\n",
        "\n",
        "`CircularSociety( name, modulo, isUniform = 0, tick = 0.5 )`\n",
        "\n",
        "+ `name`: string, a name for this society\n",
        "+ `modulo`: positive integer, the circular society will have [0, `modulo`] as its spectrum, with 0 and `modulo` identified\n",
        "+ `tick`: (Optional) numerical; the default is 0.5.   This determines the x-axis tickmark in the visualization"
      ]
    },
    {
      "cell_type": "markdown",
      "metadata": {
        "id": "77jOt7uaA1E6",
        "colab_type": "text"
      },
      "source": [
        "### Methods for the `CircularSociety` object:\n",
        "\n",
        "\n",
        "\n",
        "\n",
        "\n"
      ]
    },
    {
      "cell_type": "markdown",
      "metadata": {
        "colab_type": "text",
        "id": "umMemwNHBrr0"
      },
      "source": [
        "#### Methods for displaying basic information of the circular society\n",
        "+ `.listApprovalSets()`: listing the approval sets in this society\n",
        "+ `.printSocietyInfo()`: displaying the circular society's information (name, is it uniform, the spectrum, number of voters, list of approval sets) \n",
        "+ `.listSetEndpoints( )`: method to list the endpoints of the set, starting from the left-most (from 0).\n",
        "\n",
        "\n",
        "\n",
        "\n",
        "\n",
        "\n"
      ]
    },
    {
      "cell_type": "markdown",
      "metadata": {
        "id": "WBQ0LlKrzjlF",
        "colab_type": "text"
      },
      "source": [
        "#### Methods for finding, editing, adding, removing approval sets from the circular society:\n",
        "+ `.addApprovalSet( setName, left_endpt, right_endpt )`\n",
        "    + `setName`: string, name for the new set\n",
        "    + `left_endpt`: numerical, the left endpoint of the new set (does not have to be smaller than `right_endpt`)\n",
        "    + `right_endpt`: numerical, the right endpoint of the new set\n",
        "+ `.removeApprovalSet( setName )`: removing an existing approval set/voter\n",
        "    + `setName`: string, name of the set to be removed.  If setName is not found in the list of sets, an error message will be displayed\n",
        "+ `.editApprovalSet( setName, newleft_endpt, newright_endpt )`: editing an existing approval set\n",
        "    + `setName`: string, name of the set to be edited.  If setName is not found in the list of sets, an error message will be displayed\n",
        "    + `newleft_endpt`: numerical, the new left endpoint of the set\n",
        "    + `right_endpt`: numerical, the new right endpoint of the set"
      ]
    },
    {
      "cell_type": "markdown",
      "metadata": {
        "id": "KG0SnYdPzgoj",
        "colab_type": "text"
      },
      "source": [
        "#### Methods for finding agreement and piercing numbers\n",
        "+ `.checkAgreeability( k, m)`: method that returns (1) a True or False value (true if the society is (k, m)-agreeable), and (2) a list of \"bad collections of m approval sets\"--if the society is (k, m)-agreeable, then this is empty\n",
        "+ `.findAgreementNumber( )`: method that returns (1) the agreement number of the society and (2) the location where it is attained (if there are multiple locations, only the leftmost will be returned).  This method only checks points that are also endpoints of an approval set\n",
        "+ `.findPiercingNumber( )`: method that finds the piercing number of the society.  The candidates for piercing points are endpoints of the approval sets.  The method formulates the problem as an integer linear program, solved using the `cvxpy` library.  Outputs:\n",
        "  + `piercingNumber`: the piercing number\n",
        "  + `piercingSet`: the set of points that pierce the approval sets \n",
        "  + `x.value`: the optimal solution of the integer linear programming problem\n",
        "  + `Mat`: the `A` matrix involved in the integer linear programming formulation\n",
        "+ `.piercingAlgorithm( startingPoint = 0 )`: an implementation of the linear society piercing set algorithm\n",
        "  + Input: `startingPoint` is where we want to start the algorithm (a reference point for \"leftmost\". The default value is 0.\n",
        "  + Output: a piercing set "
      ]
    },
    {
      "cell_type": "markdown",
      "metadata": {
        "id": "L8H515Dey12v",
        "colab_type": "text"
      },
      "source": [
        "#### Methods related to Hardin's transformation (containment, LR-alternation)\n",
        "+ `.checkContainmentPair( setPair )`: method that returns True if one of the sets in the given pair is contained in the other.  The input `setPair` is a list containing the string names of the two sets\n",
        "+ `.checkContainmentAll( findContainmentPairs = False )`: method that check if there is any containment among all approval sets in the circular society.\n",
        "  + If `findContainmentPairs = False`, then the method returns True if there is a containment and False otherwise.\n",
        "  + If `findContainmentPairs = True`, then the method returns two outputs: the first is True/False indicating if there is containment; the second output is a list that contains pairs of sets (one of the sets in each pair is contained in the other one)\n",
        "+ `.eliminateContainmentPair( containmentPair  )`: method that switches the right endpoints of two sets where one was contained in the other.\n",
        "    + `containmentPair `: list of two approval sets' string names \n",
        "+ `.eliminateContainmentAll( )`: loops over all pairs of approval sets and check pairwise containment\n",
        "+ `.is_LR_alt( findRRL )`: method that \n",
        "  1. returns `True` or `False`, checking if the set is left-right alternating or not and \n",
        "  2. if `findRRL` is True, also returns a list containing lists of 3 approval  sets that attain RRL endpoints (if the set is LR alternating, this list is empty).  The default is `findRRL=False`\n",
        "+ `.eliminateRRLTriple( RRLsets )`: method that switches the right endpoints of the RL set in an RRL triple, to create an RLR triple\n",
        "  + `RRLsets`: a list of three set names that attains the RRL endpoints (in order)\n",
        "+ `.eliminateRRLAll( maxIt )`: method that eliminates all RRL triples, achieving a LR-alternating society, up to a given number of iterations.  If maximum iteration is achieved without achieving LR-alternation, a message indicating this is displayed.\n",
        "  + `maxIt`: max number of iteration.  The default is 100.\n",
        "+ `.uniformize()`: calls `.eliminateContainmentAll( )` followed by `.eliminateRRLAll( )`, transforming society into Hardin's uniform society."
      ]
    },
    {
      "cell_type": "markdown",
      "metadata": {
        "id": "b3H8E73My5Oc",
        "colab_type": "text"
      },
      "source": [
        "\n",
        "#### Methods for visualizing the circular society\n",
        "+ `.visualize( )`: visualizing the sets in this circular society; each set is plotted horizontally (different y coordinates for different sets)"
      ]
    },
    {
      "cell_type": "markdown",
      "metadata": {
        "id": "a5tgaIYCAyiZ",
        "colab_type": "text"
      },
      "source": [
        "### Function to create Hardin's Uniform Society:\n",
        "+ `generateUniformCircularSociety( societyname, N, h, epsilon = 0.5 )`:\n",
        "    + `societyname`: string, name of the society\n",
        "    + `N`: positive integer, number of approval sets\n",
        "    + `h`: positive integer, length of the sets, also the agreement number of the socity\n",
        "    + `epsilon`: (Optional), numerical, the default is 0.5; perturbs the right endpoint (instead of having the right endpoint of the interval be open)"
      ]
    },
    {
      "cell_type": "markdown",
      "metadata": {
        "id": "cCjRfV5LAxE7",
        "colab_type": "text"
      },
      "source": [
        "### Functions to randomly generate a circular society:\n",
        "+ `generateRandomSociety( societyname, N, modulo, epsilon = 0.5, mode = 1, a = 1, b = 1 )`:\n",
        "    + `societyname`: string, name of the society\n",
        "    + `N`: positive integer, number of approval sets\n",
        "    + `modulo`: positive integer, the circular society will have [0, `modulo`] as its spectrum, with 0 and `modulo` identified\n",
        "   + `mode`: (Optional) lets us choose how the approval sets are generated\n",
        "      + `mode = 1`: for each set, left and right endpoints are chosen uniformly at random from [0, `modulo`]\n",
        "      + `mode = 2`: for each set, left endpoint is chosen uniformly at random from [0, `modulo`]; the length is chosen from `modulo` * beta distribution with parameters `a`, `b`.  The default values are `a = 1` and `b = 1`,  which reduces to the uniform distribution  \n",
        "\n",
        "  + `epsilon`: (Optional), numerical, the default is 0.5; perturbs the right endpoint (instead of having the right endpoint of the interval be open)\n",
        "\n",
        "+ `generateRandomFixedLengthSociety( societyname, N, modulo, p, tick = 0.5 )`:\n",
        "  + `N` is number of voters\n",
        "  + `modulo` is the circumference of the circular society\n",
        "  + `p` is a fraction between 0 and 1 that controls the length of approval sets\n",
        "    + the length of each set is `p` times `modulo`\n",
        "  + `tick`: controls tick marks in the visualization.  The default value is 0.5"
      ]
    },
    {
      "cell_type": "markdown",
      "metadata": {
        "id": "kUQENXpu_Gp_",
        "colab_type": "text"
      },
      "source": [
        "## Examples"
      ]
    },
    {
      "cell_type": "markdown",
      "metadata": {
        "id": "N07STkUEAjpi",
        "colab_type": "text"
      },
      "source": [
        "### Example 1"
      ]
    },
    {
      "cell_type": "code",
      "metadata": {
        "id": "aC1df4CUf2xg",
        "colab_type": "code",
        "colab": {
          "base_uri": "https://localhost:8080/",
          "height": 456
        },
        "outputId": "09625fce-404d-4dcd-e22d-94a107833df9"
      },
      "source": [
        "# Example 1  (Run this cell by pressing Shift + Enter or clicking the \"play\" button to the side)\n",
        "\n",
        "# Creating a circular society named A (with a string name \"S1\") where the spectrum is [0, 10] (where 0 = 10)\n",
        "A = CircularSociety( \"S1\", 10)\n",
        "\n",
        "#   Adding sets \n",
        "A.addApprovalSet( \"Set1\", 3, 5 )  # \"Set1\" is the set's name, left endpoint = 3, right endpoint = 5\n",
        "A.addApprovalSet( \"Set2\", 0, 2 )\n",
        "A.addApprovalSet( \"Set3\", 5, 8 )\n",
        "A.addApprovalSet( \"Set4\", 7, 1 )\n",
        "A.addApprovalSet( \"Set5\", 6, 9 )\n",
        "A.addApprovalSet( \"Set6\", 2, 4 )\n",
        "\n",
        "#  Editing an existing set\n",
        "A.editApprovalSet( \"Set2\", 6, 3)\n",
        "\n",
        "#  Removing a set (by its names)\n",
        "A.removeApprovalSet( \"Set6\" )\n",
        "\n",
        "#  Displaying the circular society's information (name, is it uniform, the spectrum, number of voters, list of approval sets) \n",
        "A.printSocietyInfo()\n",
        "\n",
        "#  Visualizing the circular society; each set is plotted horizontally (different y coordinates for different sets)\n",
        "A.visualize( )\n",
        "\n",
        "#  Checking if the set is left-right alternating (returns True or False)\n",
        "A.is_LR_alt()\n",
        "\n",
        "# Finding the agreement number of the society\n",
        "a, pos = A.findAgreementNumber()\n",
        "print(a)\n",
        "print(pos)"
      ],
      "execution_count": 40,
      "outputs": [
        {
          "output_type": "stream",
          "text": [
            "Circular Society Name: S1\n",
            "Spectrum: [0, 10].  (Note: we identify 0 = 10)\n",
            "Number of Voters: 5\n",
            "Approval Sets:\n",
            " Set1: [3, 5]\n",
            " Set2: [0,3] U [6, 10]\n",
            " Set3: [5, 8]\n",
            " Set4: [0,1] U [7, 10]\n",
            " Set5: [6, 9]\n",
            "4\n",
            "7\n"
          ],
          "name": "stdout"
        },
        {
          "output_type": "display_data",
          "data": {
            "image/png": "[encoded data removed]",
            "text/plain": [
              "<Figure size 432x288 with 1 Axes>"
            ]
          },
          "metadata": {
            "tags": [],
            "needs_background": "light"
          }
        }
      ]
    },
    {
      "cell_type": "markdown",
      "metadata": {
        "id": "kS2xv2-GAlni",
        "colab_type": "text"
      },
      "source": [
        "### Example 2"
      ]
    },
    {
      "cell_type": "code",
      "metadata": {
        "id": "ZVdlx7pBf2x9",
        "colab_type": "code",
        "colab": {
          "base_uri": "https://localhost:8080/",
          "height": 545
        },
        "outputId": "532d3ace-446b-4fe2-9cf4-9350eb031072"
      },
      "source": [
        "# Example 2 (Run this cell by pressing Shift + Enter or clicking the \"play\" button to the side)\n",
        "\n",
        "# Generating a Uniform Society named S1 (with a string name \"Soc1\"), U(7, 4)\n",
        "S1 = generateUniformCircularSociety( \"Soc1\", 7, 4)\n",
        "\n",
        "#  Displaying the circular society's information (name, is it uniform, the spectrum, number of voters, list of approval sets) \n",
        "S1.printSocietyInfo()\n",
        "\n",
        "#  Visualizing the circular society; each set is plotted horizontally (different y coordinates for different sets)\n",
        "S1.visualize( )\n",
        "\n",
        "# Displaying the list of left/right endpoints starting from x = 0.\n",
        "print(S1.listSetEndpoints())\n",
        "\n",
        "# Checking if the set is left-right alternating (returns True or False)\n",
        "print(\"Is the society left-right alternating?\", S1.is_LR_alt() )\n",
        "\n",
        "# Find the agreement number of this society\n",
        "a, location = S1.findAgreementNumber()\n",
        "print(\"Agreement number is: \", a)\n",
        "print(\"Location of max agreement along the horizontal axis (potentially one of several): \", location)"
      ],
      "execution_count": 41,
      "outputs": [
        {
          "output_type": "stream",
          "text": [
            "Circular Society Name: Soc1\n",
            "Spectrum: [0, 7].  (Note: we identify 0 = 7)\n",
            "Number of Voters: 7\n",
            "Approval Sets:\n",
            " Set 1: [0, 3.5]\n",
            " Set 2: [1, 4.5]\n",
            " Set 3: [2, 5.5]\n",
            " Set 4: [3, 6.5]\n",
            " Set 5: [0,0.5] U [4, 7]\n",
            " Set 6: [0,1.5] U [5, 7]\n",
            " Set 7: [0,2.5] U [6, 7]\n",
            "(['LSet 1', 'RSet 5', 'LSet 2', 'RSet 6', 'LSet 3', 'RSet 7', 'LSet 4', 'RSet 1', 'LSet 5', 'RSet 2', 'LSet 6', 'RSet 3', 'LSet 7', 'RSet 4'], [0, 0.5, 1, 1.5, 2, 2.5, 3, 3.5, 4, 4.5, 5, 5.5, 6, 6.5])\n",
            "Is the society left-right alternating? True\n",
            "Agreement number is:  4\n",
            "Location of max agreement along the horizontal axis (potentially one of several):  0\n"
          ],
          "name": "stdout"
        },
        {
          "output_type": "display_data",
          "data": {
            "image/png": "[encoded data removed]",
            "text/plain": [
              "<Figure size 432x288 with 1 Axes>"
            ]
          },
          "metadata": {
            "tags": [],
            "needs_background": "light"
          }
        }
      ]
    },
    {
      "cell_type": "markdown",
      "metadata": {
        "id": "IS2YcGhRAnv_",
        "colab_type": "text"
      },
      "source": [
        "### Example 3"
      ]
    },
    {
      "cell_type": "code",
      "metadata": {
        "id": "NmOqH2Gof2yT",
        "colab_type": "code",
        "colab": {
          "base_uri": "https://localhost:8080/",
          "height": 543
        },
        "outputId": "68d8c81d-4401-4acb-97ac-0903e73c7c16"
      },
      "source": [
        "# Example 3: Random Society\n",
        "\n",
        "S2 = generateRandomSociety( 'A', 10, 10, epsilon = 0.5 )\n",
        "S2.printSocietyInfo()\n",
        "S2.visualize(  )\n",
        "a2, location2 = S2.findAgreementNumber()\n",
        "\n",
        "print(\"Agreement number is: \", a2)\n",
        "print(\"Location of max agreement along the horizontal axis (potentially one of several): \", location2)"
      ],
      "execution_count": 42,
      "outputs": [
        {
          "output_type": "stream",
          "text": [
            "Circular Society Name: A\n",
            "Spectrum: [0, 10].  (Note: we identify 0 = 10)\n",
            "Number of Voters: 10\n",
            "Approval Sets:\n",
            " Set 1: [0,6.897229184546641] U [7.6851364992776805, 10]\n",
            " Set 2: [4.599096259321124, 7.702448577256988]\n",
            " Set 3: [0,2.4823822351373703] U [5.656537765844022, 10]\n",
            " Set 4: [4.307460808038254, 5.715783199724714]\n",
            " Set 5: [2.5212578319380388, 2.736452258747417]\n",
            " Set 6: [0.6360914993865119, 9.521166419655941]\n",
            " Set 7: [3.4301433690826153, 4.525416748179966]\n",
            " Set 8: [0,0.6668826166361819] U [3.6913482412050023, 10]\n",
            " Set 9: [0,8.039160821268931] U [9.022900679328655, 10]\n",
            " Set 10: [0,1.2561703443771322] U [3.5695255842926255, 10]\n",
            "Agreement number is:  8\n",
            "Location of max agreement along the horizontal axis (potentially one of several):  5.656537765844022\n"
          ],
          "name": "stdout"
        },
        {
          "output_type": "display_data",
          "data": {
            "image/png": "[encoded data removed]",
            "text/plain": [
              "<Figure size 432x288 with 1 Axes>"
            ]
          },
          "metadata": {
            "tags": [],
            "needs_background": "light"
          }
        }
      ]
    },
    {
      "cell_type": "markdown",
      "metadata": {
        "id": "Ykk9hAjZz_UD",
        "colab_type": "text"
      },
      "source": [
        "## Exploration 1: Randomly-Generated Circular Societies\n",
        "\n",
        "Given a society whose approval sets are randomly generated (with a particular distribution), what is the distribution of the approval number of the random society?"
      ]
    },
    {
      "cell_type": "code",
      "metadata": {
        "id": "2pQz3DGXuHAh",
        "colab_type": "code",
        "colab": {}
      },
      "source": [
        "# Generate R random societies, each with N voters\n",
        "#   Each approval set has endpts from the uniform distribution on [0, modulo]\n",
        "\n",
        "R = 100\n",
        "N = 10\n",
        "modulo = 10\n",
        "\n",
        "approval = np.empty([R,])\n",
        "\n",
        "for i in np.arange(0, R):\n",
        "  S = generateRandomSociety( 'A', N, modulo, epsilon = 0.5, mode = 2, a = 2, b=2 )\n",
        "  approval[i], a = S.findAgreementNumber()"
      ],
      "execution_count": 0,
      "outputs": []
    },
    {
      "cell_type": "code",
      "metadata": {
        "id": "6L4OwirI7aHg",
        "colab_type": "code",
        "colab": {
          "base_uri": "https://localhost:8080/",
          "height": 317
        },
        "outputId": "863b0452-fbb1-4373-87e7-46923489bcd3"
      },
      "source": [
        "approvalRatio = approval/N\n",
        "plt.hist(approvalRatio, bins = 10)"
      ],
      "execution_count": 44,
      "outputs": [
        {
          "output_type": "execute_result",
          "data": {
            "text/plain": [
              "(array([24.,  0.,  0., 32.,  0.,  0., 30.,  0.,  0., 14.]),\n",
              " array([0.6 , 0.63, 0.66, 0.69, 0.72, 0.75, 0.78, 0.81, 0.84, 0.87, 0.9 ]),\n",
              " <a list of 10 Patch objects>)"
            ]
          },
          "metadata": {
            "tags": []
          },
          "execution_count": 44
        },
        {
          "output_type": "display_data",
          "data": {
            "image/png": "[encoded data removed]",
            "text/plain": [
              "<Figure size 432x288 with 1 Axes>"
            ]
          },
          "metadata": {
            "tags": [],
            "needs_background": "light"
          }
        }
      ]
    },
    {
      "cell_type": "code",
      "metadata": {
        "id": "FK_jw4us4Mps",
        "colab_type": "code",
        "colab": {
          "base_uri": "https://localhost:8080/",
          "height": 35
        },
        "outputId": "2b1737fd-11c3-454e-d7fe-96beae9eee58"
      },
      "source": [
        "np.mean(approvalRatio)"
      ],
      "execution_count": 45,
      "outputs": [
        {
          "output_type": "execute_result",
          "data": {
            "text/plain": [
              "0.7339999999999999"
            ]
          },
          "metadata": {
            "tags": []
          },
          "execution_count": 45
        }
      ]
    },
    {
      "cell_type": "code",
      "metadata": {
        "id": "DK_dxFC38YoC",
        "colab_type": "code",
        "colab": {
          "base_uri": "https://localhost:8080/",
          "height": 260
        },
        "outputId": "40fc9aaa-b6d8-490e-8c20-4ee376a40c57"
      },
      "source": [
        "S.printSocietyInfo()"
      ],
      "execution_count": 46,
      "outputs": [
        {
          "output_type": "stream",
          "text": [
            "Circular Society Name: A\n",
            "Spectrum: [0, 10].  (Note: we identify 0 = 10)\n",
            "Number of Voters: 10\n",
            "Approval Sets:\n",
            " Set 1: [0,3.1373010833700157] U [7.766508866796168, 10]\n",
            " Set 2: [0,3.988072122587635] U [5.169257195787668, 10]\n",
            " Set 3: [5.585571494735917, 8.268659741399873]\n",
            " Set 4: [0,4.7259267369715] U [5.324493454378796, 10]\n",
            " Set 5: [0.6597846917064409, 2.176608933752992]\n",
            " Set 6: [2.3858432863138237, 4.991947304820513]\n",
            " Set 7: [0,0.8731749177512889] U [7.665276891494766, 10]\n",
            " Set 8: [5.07241765121842, 9.090626935684725]\n",
            " Set 9: [2.489773935442803, 6.048043878482824]\n",
            " Set 10: [3.295535251261319, 7.1333496211195975]\n"
          ],
          "name": "stdout"
        }
      ]
    },
    {
      "cell_type": "code",
      "metadata": {
        "id": "O67CyWRAe3xI",
        "colab_type": "code",
        "colab": {
          "base_uri": "https://localhost:8080/",
          "height": 265
        },
        "outputId": "e950244c-1abe-4813-a79a-67e0789840c7"
      },
      "source": [
        "S.visualize( drawAgreement = True )"
      ],
      "execution_count": 47,
      "outputs": [
        {
          "output_type": "display_data",
          "data": {
            "image/png": "[encoded data removed]",
            "text/plain": [
              "<Figure size 432x288 with 1 Axes>"
            ]
          },
          "metadata": {
            "tags": [],
            "needs_background": "light"
          }
        }
      ]
    },
    {
      "cell_type": "code",
      "metadata": {
        "id": "rFrnHAAAfSsq",
        "colab_type": "code",
        "colab": {
          "base_uri": "https://localhost:8080/",
          "height": 34
        },
        "outputId": "d9c15ed5-122e-4078-867c-82c2ffebbb21"
      },
      "source": [
        "S.findAgreementNumber()"
      ],
      "execution_count": 48,
      "outputs": [
        {
          "output_type": "execute_result",
          "data": {
            "text/plain": [
              "(6, 5.585571494735917)"
            ]
          },
          "metadata": {
            "tags": []
          },
          "execution_count": 48
        }
      ]
    },
    {
      "cell_type": "markdown",
      "metadata": {
        "id": "lMGgDqgNp458",
        "colab_type": "text"
      },
      "source": [
        "## Exploration 2 (mainly for checking if code was written correctly)\n",
        "\n",
        "The ultimate goal is to obtain a bound on the change in piercing number as we transform an arbitrary circular society into a uniform one, via Hardin's transformations: (1) Elimination of containment, and (2) Left-right alternation."
      ]
    },
    {
      "cell_type": "markdown",
      "metadata": {
        "id": "4vomVzijySvD",
        "colab_type": "text"
      },
      "source": [
        "### 2A: Eliminating containment (check if correct)\n",
        "\n",
        "Below, we first check that the implementation of the method `.eliminateContainmentPair( self, smallSetName, largeSetName )` is correct."
      ]
    },
    {
      "cell_type": "code",
      "metadata": {
        "id": "EsN45QIUwt60",
        "colab_type": "code",
        "colab": {
          "base_uri": "https://localhost:8080/",
          "height": 300
        },
        "outputId": "616ec68e-fd22-4280-e26f-e122c4f68ebf"
      },
      "source": [
        "# Example 4: Eliminating containment\n",
        "\n",
        "# First, create a circular society named S3 (with a string name \"S3\") where the spectrum is [0, 10] (where 0 = 10)\n",
        "S3 = CircularSociety( \"S3\", 10)\n",
        "\n",
        "#   Adding sets \n",
        "S3.addApprovalSet( \"Set1\", 3, 5 )  # \"Set1\" is the set's name, left endpoint = 3, right endpoint = 5\n",
        "S3.addApprovalSet( \"Set2\", 2, 6 )\n",
        "S3.addApprovalSet( \"Set3\", 4, 8 )\n",
        "S3.addApprovalSet( \"Set4\", 7, 1 )\n",
        "\n",
        "# Finding the agreement number of the society\n",
        "a3, pos3 = S3.findAgreementNumber()\n",
        "print(a3)\n",
        "print(pos3)\n",
        "\n",
        "#  Visualizing the circular society; each set is plotted horizontally (different y coordinates for different sets)\n",
        "S3.visualize( drawAgreement = True )"
      ],
      "execution_count": 49,
      "outputs": [
        {
          "output_type": "stream",
          "text": [
            "3\n",
            "4\n"
          ],
          "name": "stdout"
        },
        {
          "output_type": "display_data",
          "data": {
            "image/png": "[encoded data removed]",
            "text/plain": [
              "<Figure size 432x288 with 1 Axes>"
            ]
          },
          "metadata": {
            "tags": [],
            "needs_background": "light"
          }
        }
      ]
    },
    {
      "cell_type": "code",
      "metadata": {
        "id": "BE8es2xSxMqa",
        "colab_type": "code",
        "colab": {
          "base_uri": "https://localhost:8080/",
          "height": 300
        },
        "outputId": "a61542d8-3f20-49e5-d482-00b5d8da9467"
      },
      "source": [
        "# Eliminate containment (Set1 is currently contained in Set2)\n",
        "\n",
        "S3.eliminateContainmentPair( [\"Set1\", \"Set2\"] )\n",
        "\n",
        "#  Visualizing the updated circular society\n",
        "S3.visualize( drawAgreement = True )\n",
        "\n",
        "# Finding the agreement number of the updated society\n",
        "a3new, pos3new = S3.findAgreementNumber()\n",
        "print(a3new)\n",
        "print(pos3new)"
      ],
      "execution_count": 50,
      "outputs": [
        {
          "output_type": "stream",
          "text": [
            "3\n",
            "4\n"
          ],
          "name": "stdout"
        },
        {
          "output_type": "display_data",
          "data": {
            "image/png": "[encoded data removed]",
            "text/plain": [
              "<Figure size 432x288 with 1 Axes>"
            ]
          },
          "metadata": {
            "tags": [],
            "needs_background": "light"
          }
        }
      ]
    },
    {
      "cell_type": "code",
      "metadata": {
        "id": "Na5dDYSjz6PJ",
        "colab_type": "code",
        "colab": {
          "base_uri": "https://localhost:8080/",
          "height": 35
        },
        "outputId": "3530f138-e3ac-4e10-8db0-f20e5bdf4ffc"
      },
      "source": [
        "# Check if LR-alternating, finding sets that attain Right-Right-Left endpoints\n",
        "LR = S3.is_LR_alt( findRRL = True)\n",
        "print(LR)"
      ],
      "execution_count": 51,
      "outputs": [
        {
          "output_type": "stream",
          "text": [
            "(False, [['Set2', 'Set1', 'Set4'], ['Set3', 'Set4', 'Set2']])\n"
          ],
          "name": "stdout"
        }
      ]
    },
    {
      "cell_type": "code",
      "metadata": {
        "id": "SVZvYUZtG92t",
        "colab_type": "code",
        "colab": {
          "base_uri": "https://localhost:8080/",
          "height": 283
        },
        "outputId": "4bdcacab-f09d-4474-e975-9fe1c2ec8292"
      },
      "source": [
        "# Iteration 1\n",
        "# Eliminate RRL in the first triple\n",
        "S3.eliminateRRLTriple( LR[1][0] )\n",
        "S3.visualize( drawAgreement = True )\n",
        "\n",
        "# Check if LR-alternating, finding sets that attain Right-Right-Left endpoints\n",
        "LR = S3.is_LR_alt( findRRL = True)\n",
        "print(LR)"
      ],
      "execution_count": 52,
      "outputs": [
        {
          "output_type": "stream",
          "text": [
            "(False, [['Set3', 'Set4', 'Set2']])\n"
          ],
          "name": "stdout"
        },
        {
          "output_type": "display_data",
          "data": {
            "image/png": "[encoded data removed]",
            "text/plain": [
              "<Figure size 432x288 with 1 Axes>"
            ]
          },
          "metadata": {
            "tags": [],
            "needs_background": "light"
          }
        }
      ]
    },
    {
      "cell_type": "code",
      "metadata": {
        "id": "e2_b7weKSLKC",
        "colab_type": "code",
        "colab": {
          "base_uri": "https://localhost:8080/",
          "height": 283
        },
        "outputId": "a3164f5d-bc85-4926-c266-f6263f0c4d0d"
      },
      "source": [
        "# Iteration 2\n",
        "# Eliminate RRL in the first triple\n",
        "S3.eliminateRRLTriple( LR[1][0] )\n",
        "S3.visualize( drawAgreement = True )\n",
        "\n",
        "# Check if LR-alternating, finding sets that attain Right-Right-Left endpoints\n",
        "LR = S3.is_LR_alt( findRRL = True)\n",
        "print(LR)"
      ],
      "execution_count": 53,
      "outputs": [
        {
          "output_type": "stream",
          "text": [
            "(False, [['Set1', 'Set3', 'Set2']])\n"
          ],
          "name": "stdout"
        },
        {
          "output_type": "display_data",
          "data": {
            "image/png": "[encoded data removed]",
            "text/plain": [
              "<Figure size 432x288 with 1 Axes>"
            ]
          },
          "metadata": {
            "tags": [],
            "needs_background": "light"
          }
        }
      ]
    },
    {
      "cell_type": "code",
      "metadata": {
        "id": "MyTYPNCVSLWF",
        "colab_type": "code",
        "colab": {
          "base_uri": "https://localhost:8080/",
          "height": 283
        },
        "outputId": "52cb4e44-4987-41a2-994f-72a86a1f6e70"
      },
      "source": [
        "# Iteration 3\n",
        "# Eliminate RRL in the first triple\n",
        "S3.eliminateRRLTriple( LR[1][0] )\n",
        "S3.visualize( drawAgreement = True )\n",
        "\n",
        "# Check if LR-alternating, finding sets that attain Right-Right-Left endpoints\n",
        "LR = S3.is_LR_alt( findRRL = True)\n",
        "print(LR)"
      ],
      "execution_count": 54,
      "outputs": [
        {
          "output_type": "stream",
          "text": [
            "(False, [['Set3', 'Set4', 'Set1']])\n"
          ],
          "name": "stdout"
        },
        {
          "output_type": "display_data",
          "data": {
            "image/png": "[encoded data removed]",
            "text/plain": [
              "<Figure size 432x288 with 1 Axes>"
            ]
          },
          "metadata": {
            "tags": [],
            "needs_background": "light"
          }
        }
      ]
    },
    {
      "cell_type": "code",
      "metadata": {
        "id": "2HUgwA6JSXjy",
        "colab_type": "code",
        "colab": {
          "base_uri": "https://localhost:8080/",
          "height": 283
        },
        "outputId": "97de7c06-54dd-4fbb-91b9-06c743eeaa3d"
      },
      "source": [
        "# Iteration 4\n",
        "# Eliminate RRL in the first triple\n",
        "S3.eliminateRRLTriple( LR[1][0] )\n",
        "S3.visualize( drawAgreement = True )\n",
        "\n",
        "# Check if LR-alternating, finding sets that attain Right-Right-Left endpoints\n",
        "LR = S3.is_LR_alt( findRRL = True)\n",
        "print(LR)"
      ],
      "execution_count": 55,
      "outputs": [
        {
          "output_type": "stream",
          "text": [
            "(True, [])\n"
          ],
          "name": "stdout"
        },
        {
          "output_type": "display_data",
          "data": {
            "image/png": "[encoded data removed]",
            "text/plain": [
              "<Figure size 432x288 with 1 Axes>"
            ]
          },
          "metadata": {
            "tags": [],
            "needs_background": "light"
          }
        }
      ]
    },
    {
      "cell_type": "markdown",
      "metadata": {
        "id": "CLjPhebxu_y8",
        "colab_type": "text"
      },
      "source": [
        "### 2B: LR-alternation (check that it's coded correctly)"
      ]
    },
    {
      "cell_type": "code",
      "metadata": {
        "colab_type": "code",
        "id": "grpMtok5Xg2-",
        "colab": {
          "base_uri": "https://localhost:8080/",
          "height": 265
        },
        "outputId": "6f0863d1-2743-4d51-bb82-cadd06d89b2d"
      },
      "source": [
        "## ------\n",
        "# Example 4 again: Eliminating containment and RRL\n",
        "# Same example as above; \n",
        "#   but to test the method .eliminateRRLAll() which repeats the above iterations until society is LR-alternating\n",
        "\n",
        "# First, create a circular society named S3 (with a string name \"S3\") where the spectrum is [0, 10] (where 0 = 10)\n",
        "S3 = CircularSociety( \"S3\", 10)\n",
        "#   Adding sets \n",
        "S3.addApprovalSet( \"Set1\", 3, 5 )  # \"Set1\" is the set's name, left endpoint = 3, right endpoint = 5\n",
        "S3.addApprovalSet( \"Set2\", 2, 6 )\n",
        "S3.addApprovalSet( \"Set3\", 4, 8 )\n",
        "S3.addApprovalSet( \"Set4\", 7, 1 )\n",
        "\n",
        "# Eliminate containment (Set1 is currently contained in Set2)\n",
        "S3.eliminateContainmentPair( [\"Set1\", \"Set2\"] )\n",
        "\n",
        "#  Visualizing the updated circular society\n",
        "S3.visualize( drawAgreement = True )"
      ],
      "execution_count": 56,
      "outputs": [
        {
          "output_type": "display_data",
          "data": {
            "image/png": "[encoded data removed]",
            "text/plain": [
              "<Figure size 432x288 with 1 Axes>"
            ]
          },
          "metadata": {
            "tags": [],
            "needs_background": "light"
          }
        }
      ]
    },
    {
      "cell_type": "code",
      "metadata": {
        "colab_type": "code",
        "id": "3k2Iq2EOXg3I",
        "colab": {
          "base_uri": "https://localhost:8080/",
          "height": 35
        },
        "outputId": "b1b686b8-2079-4662-f9fe-7f877c043fb1"
      },
      "source": [
        "# Eliminate all RRL endpoints\n",
        "S3.eliminateRRLAll()\n",
        "\n",
        "# Check if LR-alternating, finding sets that attain Right-Right-Left endpoints\n",
        "LR = S3.is_LR_alt( findRRL = True)\n",
        "print(LR)"
      ],
      "execution_count": 57,
      "outputs": [
        {
          "output_type": "stream",
          "text": [
            "(True, [])\n"
          ],
          "name": "stdout"
        }
      ]
    },
    {
      "cell_type": "code",
      "metadata": {
        "id": "MkDvAVRSYH8N",
        "colab_type": "code",
        "colab": {
          "base_uri": "https://localhost:8080/",
          "height": 265
        },
        "outputId": "7e366092-b579-46c4-d224-3d77ad24e3c5"
      },
      "source": [
        "S3.visualize(  drawAgreement = True )"
      ],
      "execution_count": 58,
      "outputs": [
        {
          "output_type": "display_data",
          "data": {
            "image/png": "[encoded data removed]",
            "text/plain": [
              "<Figure size 432x288 with 1 Axes>"
            ]
          },
          "metadata": {
            "tags": [],
            "needs_background": "light"
          }
        }
      ]
    },
    {
      "cell_type": "code",
      "metadata": {
        "id": "kzrAUzBWYJmL",
        "colab_type": "code",
        "colab": {
          "base_uri": "https://localhost:8080/",
          "height": 35
        },
        "outputId": "000db013-fa40-4f1d-d7d4-cb947aa6e50f"
      },
      "source": [
        "S3.findAgreementNumber()"
      ],
      "execution_count": 59,
      "outputs": [
        {
          "output_type": "execute_result",
          "data": {
            "text/plain": [
              "(3, 1)"
            ]
          },
          "metadata": {
            "tags": []
          },
          "execution_count": 59
        }
      ]
    },
    {
      "cell_type": "markdown",
      "metadata": {
        "id": "OUpCVYENjDU3",
        "colab_type": "text"
      },
      "source": [
        "### 2C: Finding and visualizing piercing number of a circular society (check that it's coded correctly)\n"
      ]
    },
    {
      "cell_type": "code",
      "metadata": {
        "id": "jnHsWwnsoW5N",
        "colab_type": "code",
        "colab": {
          "base_uri": "https://localhost:8080/",
          "height": 265
        },
        "outputId": "237efdcc-15fd-4379-8745-109968c64266"
      },
      "source": [
        "## ------\n",
        "# Example 4 again, continued\n",
        "# First, create a circular society named S3 (with a string name \"S3\") where the spectrum is [0, 10] (where 0 = 10)\n",
        "S3 = CircularSociety( \"S3\", 10)\n",
        "\n",
        "#   Adding sets \n",
        "S3.addApprovalSet( \"Set1\", 3, 5 )  # \"Set1\" is the set's name, left endpoint = 3, right endpoint = 5\n",
        "S3.addApprovalSet( \"Set2\", 2, 6 )\n",
        "S3.addApprovalSet( \"Set3\", 4, 8 )\n",
        "S3.addApprovalSet( \"Set4\", 7, 1 )\n",
        "\n",
        "# Visualize\n",
        "S3.visualize()"
      ],
      "execution_count": 60,
      "outputs": [
        {
          "output_type": "display_data",
          "data": {
            "image/png": "[encoded data removed]",
            "text/plain": [
              "<Figure size 432x288 with 1 Axes>"
            ]
          },
          "metadata": {
            "tags": [],
            "needs_background": "light"
          }
        }
      ]
    },
    {
      "cell_type": "code",
      "metadata": {
        "id": "-GnW1MkFocuQ",
        "colab_type": "code",
        "colab": {
          "base_uri": "https://localhost:8080/",
          "height": 139
        },
        "outputId": "525266ff-8506-462d-d5b9-f461ec318efb"
      },
      "source": [
        "# finding the piercing number (and its location)\n",
        "piercingNumber, piercingSet, x1, M = S3.findPiercingNumber()\n",
        "print(piercingNumber)\n",
        "print(piercingSet)\n",
        "print(x1)\n",
        "print(M)"
      ],
      "execution_count": 61,
      "outputs": [
        {
          "output_type": "stream",
          "text": [
            "2\n",
            "[1 4]\n",
            "[1. 0. 0. 1. 0. 0. 0. 0.]\n",
            "[[0. 0. 1. 1. 1. 0. 0. 0.]\n",
            " [0. 1. 1. 1. 1. 1. 0. 0.]\n",
            " [0. 0. 0. 1. 1. 1. 1. 1.]\n",
            " [1. 0. 0. 0. 0. 0. 1. 1.]]\n"
          ],
          "name": "stdout"
        }
      ]
    },
    {
      "cell_type": "code",
      "metadata": {
        "id": "gT-nc5N-sJkg",
        "colab_type": "code",
        "colab": {
          "base_uri": "https://localhost:8080/",
          "height": 265
        },
        "outputId": "8c37d6ad-5a87-4988-f9e4-5cad5e8fd8fc"
      },
      "source": [
        "# Visualize the piercing set\n",
        "S3.visualize( drawAgreement = True, drawPiercing = True)"
      ],
      "execution_count": 62,
      "outputs": [
        {
          "output_type": "display_data",
          "data": {
            "image/png": "[encoded data removed]",
            "text/plain": [
              "<Figure size 432x288 with 1 Axes>"
            ]
          },
          "metadata": {
            "tags": [],
            "needs_background": "light"
          }
        }
      ]
    },
    {
      "cell_type": "markdown",
      "metadata": {
        "id": "gE6u2emvvm92",
        "colab_type": "text"
      },
      "source": [
        "### 2D: Track change in piercing number before vs. after Hardin's Transformations"
      ]
    },
    {
      "cell_type": "code",
      "metadata": {
        "id": "nKDKCIogs_rL",
        "colab_type": "code",
        "colab": {
          "base_uri": "https://localhost:8080/",
          "height": 317
        },
        "outputId": "cdd68db0-0496-4a21-8608-8a0cd8589126"
      },
      "source": [
        "## ------\n",
        "# Example 4 again, continued\n",
        "# First, create a circular society named S3 (with a string name \"S3\") where the spectrum is [0, 10] (where 0 = 10)\n",
        "S3 = CircularSociety( \"S3\", 10)\n",
        "\n",
        "#   Adding sets \n",
        "S3.addApprovalSet( \"Set1\", 3, 5 )  # \"Set1\" is the set's name, left endpoint = 3, right endpoint = 5\n",
        "S3.addApprovalSet( \"Set2\", 2, 6 )\n",
        "S3.addApprovalSet( \"Set3\", 4, 8 )\n",
        "S3.addApprovalSet( \"Set4\", 7, 1 )\n",
        "\n",
        "# Visualize\n",
        "S3.visualize( drawPiercing = True)\n",
        "\n",
        "# Find piercing number and piercing set\n",
        "piercingNumber, piercingSet, x, _ = S3.findPiercingNumber()\n",
        "print(piercingNumber)\n",
        "print(piercingSet)\n",
        "print(x)"
      ],
      "execution_count": 63,
      "outputs": [
        {
          "output_type": "stream",
          "text": [
            "2\n",
            "[1 4]\n",
            "[1. 0. 0. 1. 0. 0. 0. 0.]\n"
          ],
          "name": "stdout"
        },
        {
          "output_type": "display_data",
          "data": {
            "image/png": "[encoded data removed]",
            "text/plain": [
              "<Figure size 432x288 with 1 Axes>"
            ]
          },
          "metadata": {
            "tags": [],
            "needs_background": "light"
          }
        }
      ]
    },
    {
      "cell_type": "code",
      "metadata": {
        "id": "41Wjx9sev6VH",
        "colab_type": "code",
        "colab": {}
      },
      "source": [
        "# Eliminate Containment\n",
        "S3.eliminateContainmentPair([\"Set1\", \"Set2\"])"
      ],
      "execution_count": 0,
      "outputs": []
    },
    {
      "cell_type": "code",
      "metadata": {
        "id": "yoE0etsowUGM",
        "colab_type": "code",
        "colab": {}
      },
      "source": [
        "# Make LR-Alternating (Eliminate RRL)\n",
        "S3.eliminateRRLAll()"
      ],
      "execution_count": 0,
      "outputs": []
    },
    {
      "cell_type": "code",
      "metadata": {
        "id": "Hl0hxiFowg1W",
        "colab_type": "code",
        "colab": {
          "base_uri": "https://localhost:8080/",
          "height": 265
        },
        "outputId": "90ab3e32-11ae-4ff9-f55d-bfb3d1607187"
      },
      "source": [
        "S3.visualize( drawPiercing = True )"
      ],
      "execution_count": 66,
      "outputs": [
        {
          "output_type": "display_data",
          "data": {
            "image/png": "[encoded data removed]",
            "text/plain": [
              "<Figure size 432x288 with 1 Axes>"
            ]
          },
          "metadata": {
            "tags": [],
            "needs_background": "light"
          }
        }
      ]
    },
    {
      "cell_type": "code",
      "metadata": {
        "id": "UizOao21wjCM",
        "colab_type": "code",
        "colab": {
          "base_uri": "https://localhost:8080/",
          "height": 139
        },
        "outputId": "712ddf28-f4f8-400d-e858-5ffd2c927299"
      },
      "source": [
        "piercingNumber2, piercingSet2, x2, Mat = S3.findPiercingNumber()\n",
        "print(piercingNumber2)\n",
        "print(piercingSet2)\n",
        "print(x2)\n",
        "print(Mat)"
      ],
      "execution_count": 67,
      "outputs": [
        {
          "output_type": "stream",
          "text": [
            "2\n",
            "[3 4]\n",
            "[0. 0. 1. 1. 0. 0. 0. 0.]\n",
            "[[0. 1. 1. 1. 1. 1. 1. 0.]\n",
            " [1. 1. 1. 1. 1. 0. 0. 1.]\n",
            " [1. 0. 0. 1. 1. 1. 1. 1.]\n",
            " [1. 1. 1. 0. 0. 1. 1. 1.]]\n"
          ],
          "name": "stdout"
        }
      ]
    },
    {
      "cell_type": "markdown",
      "metadata": {
        "id": "2X80Zs5mxjCC",
        "colab_type": "text"
      },
      "source": [
        "Quick note: The example above shows that the linear program does not give exact solution when finding a piercing number of a circular society (although I believe it will for linear society)\n",
        "\n",
        "(for interval graphs, which are \"strongly chordal\", many NP-hard problems can be solved efficiently)\n",
        "https://en.wikipedia.org/wiki/Strongly_chordal_graph\n",
        "\n",
        "So, maybe this means that for circular society, the corresponding graph doesn't have these nice properties.\n",
        "\n",
        "other notes to self: https://en.wikipedia.org/wiki/Perfect_graph\n"
      ]
    },
    {
      "cell_type": "markdown",
      "metadata": {
        "id": "LckJRizeGwXs",
        "colab_type": "text"
      },
      "source": [
        "## Exploration 3: Transforming circular societies into uniform via Hardin's Transformations (keeping track of change in piercing number)\n",
        "\n"
      ]
    },
    {
      "cell_type": "markdown",
      "metadata": {
        "id": "1lN0DJUwQP3e",
        "colab_type": "text"
      },
      "source": [
        "### Carolyn's Example \n",
        "\n",
        "(Section 2.1 of brain dump in Overleaf)"
      ]
    },
    {
      "cell_type": "code",
      "metadata": {
        "id": "Beg7vaq9t0Ns",
        "colab_type": "code",
        "colab": {
          "base_uri": "https://localhost:8080/",
          "height": 669
        },
        "outputId": "4699ade8-dd31-46eb-fde9-55fd840302b5"
      },
      "source": [
        "# Carolyn's example\n",
        "S4 = CircularSociety( \"CarolynsExample\", 10)\n",
        "\n",
        "#   Adding sets \n",
        "S4.addApprovalSet( \"Blue\", 2, 8 )  # \"Blue\" is the set's name, left endpoint = 2, right endpoint = 8\n",
        "S4.addApprovalSet( \"Red\", 4, 6 )\n",
        "S4.addApprovalSet( \"Green\", 0.5, 3 )\n",
        "S4.addApprovalSet( \"Purple\", 7, 9.5 )\n",
        "\n",
        "# Finding the agreement number of the society\n",
        "a4, pos4 = S4.findAgreementNumber()\n",
        "\n",
        "print(\"--------\")\n",
        "print(\"Before any transformations\")\n",
        "print(\"Agreement number:\", a4)\n",
        "p4, _, _, _ = S4.findPiercingNumber()\n",
        "print(\"Piercing number:\", p4)\n",
        "S4.visualize( drawAgreement = True, drawPiercing = True )\n",
        "print(\"--------\")\n",
        "\n",
        "# Apply transformations\n",
        "import copy\n",
        "\n",
        "S4new = copy.deepcopy(S4)\n",
        "S4new.uniformize()\n",
        "\n",
        "print(\"After Hardin's transformations\")\n",
        "a4new, _ = S4new.findAgreementNumber()\n",
        "print(\"Agreement number after LR-alternation:\", a4new)\n",
        "p4new, _, _, _ = S4new.findPiercingNumber()\n",
        "print(\"Piercing number after LR-alternation:\", p4new)\n",
        "S4new.visualize( drawAgreement = True, drawPiercing = True )\n",
        "print(\"--------\")"
      ],
      "execution_count": 68,
      "outputs": [
        {
          "output_type": "stream",
          "text": [
            "--------\n",
            "Before any transformations\n",
            "Agreement number: 2\n",
            "Piercing number: 3\n",
            "--------\n",
            "After Hardin's transformations\n",
            "Agreement number after LR-alternation: 2\n",
            "Piercing number after LR-alternation: 2\n",
            "--------\n"
          ],
          "name": "stdout"
        },
        {
          "output_type": "display_data",
          "data": {
            "image/png": "[encoded data removed]",
            "text/plain": [
              "<Figure size 432x288 with 1 Axes>"
            ]
          },
          "metadata": {
            "tags": [],
            "needs_background": "light"
          }
        },
        {
          "output_type": "display_data",
          "data": {
            "image/png": "[encoded data removed]",
            "text/plain": [
              "<Figure size 432x288 with 1 Axes>"
            ]
          },
          "metadata": {
            "tags": [],
            "needs_background": "light"
          }
        }
      ]
    },
    {
      "cell_type": "code",
      "metadata": {
        "id": "ovrDUi5y3RBI",
        "colab_type": "code",
        "colab": {
          "base_uri": "https://localhost:8080/",
          "height": 104
        },
        "outputId": "9d387c60-f5d3-4812-dd0f-eb7e336ef9b5"
      },
      "source": [
        "S4b = S4\n",
        "\n",
        "S4.addApprovalSet( \"Purple2\", 7, 9.5 )\n",
        "\n",
        "S4b.listApprovalSets()"
      ],
      "execution_count": 69,
      "outputs": [
        {
          "output_type": "stream",
          "text": [
            " Blue: [2, 8]\n",
            " Red: [4, 6]\n",
            " Green: [0.5, 3]\n",
            " Purple: [7, 9.5]\n",
            " Purple2: [7, 9.5]\n"
          ],
          "name": "stdout"
        }
      ]
    },
    {
      "cell_type": "code",
      "metadata": {
        "id": "xCmrXCVH45MH",
        "colab_type": "code",
        "colab": {
          "base_uri": "https://localhost:8080/",
          "height": 669
        },
        "outputId": "bdc044d8-2f24-43da-cea8-a6d6c253dcb8"
      },
      "source": [
        "# Generalize Carolyn's example?\n",
        "S4b = CircularSociety( \"Carolyn's Example, Generalized\", 10)\n",
        "\n",
        "#   Adding sets \n",
        "S4b.addApprovalSet( \"Set 1\", 1, 1.8 )\n",
        "S4b.addApprovalSet( \"Set 2\", 2, 2.8 )\n",
        "S4b.addApprovalSet( \"Set 3\", 3, 3.8 )\n",
        "S4b.addApprovalSet( \"Set 4\", 4, 4.8 )\n",
        "S4b.addApprovalSet( \"Set 5\", 5, 5.8 )\n",
        "S4b.addApprovalSet( \"Set 6\", 6, 6.8 )\n",
        "S4b.addApprovalSet( \"Set 7\", 7, 7.8 )\n",
        "S4b.addApprovalSet( \"Set 8\", 8, 8.8 )\n",
        "S4b.addApprovalSet( \"Set 9\", 1.6, 8.4 )\n",
        "S4b.addApprovalSet( \"Set 10\", 8.4, 1.4 )\n",
        "\n",
        "# Finding the agreement number of the society\n",
        "a4b, _ = S4b.findAgreementNumber()\n",
        "\n",
        "print(\"--------\")\n",
        "print(\"Before any transformations\")\n",
        "print(\"Agreement number:\", a4b)\n",
        "p4b, _, _, _ = S4b.findPiercingNumber()\n",
        "print(\"Piercing number:\", p4b)\n",
        "S4b.visualize( drawAgreement = True, drawPiercing = True )\n",
        "print(\"--------\")\n",
        "\n",
        "# Apply transformations\n",
        "S4bnew = copy.deepcopy(S4b)\n",
        "S4bnew.uniformize()\n",
        "\n",
        "print(\"After Hardin's transformations\")\n",
        "a4bnew, _ = S4bnew.findAgreementNumber()\n",
        "print(\"Agreement number after LR-alternation:\", a4bnew)\n",
        "p4bnew, _, _, _ = S4bnew.findPiercingNumber()\n",
        "print(\"Piercing number after LR-alternation:\", p4bnew)\n",
        "S4bnew.visualize( drawAgreement = True, drawPiercing = True )\n",
        "print(\"--------\")"
      ],
      "execution_count": 70,
      "outputs": [
        {
          "output_type": "stream",
          "text": [
            "--------\n",
            "Before any transformations\n",
            "Agreement number: 3\n",
            "Piercing number: 8\n",
            "--------\n",
            "After Hardin's transformations\n",
            "Agreement number after LR-alternation: 8\n",
            "Piercing number after LR-alternation: 2\n",
            "--------\n"
          ],
          "name": "stdout"
        },
        {
          "output_type": "display_data",
          "data": {
            "image/png": "[encoded data removed]",
            "text/plain": [
              "<Figure size 432x288 with 1 Axes>"
            ]
          },
          "metadata": {
            "tags": [],
            "needs_background": "light"
          }
        },
        {
          "output_type": "display_data",
          "data": {
            "image/png": "[encoded data removed]",
            "text/plain": [
              "<Figure size 432x288 with 1 Axes>"
            ]
          },
          "metadata": {
            "tags": [],
            "needs_background": "light"
          }
        }
      ]
    },
    {
      "cell_type": "code",
      "metadata": {
        "id": "wRTEGrRH6S9J",
        "colab_type": "code",
        "colab": {
          "base_uri": "https://localhost:8080/",
          "height": 283
        },
        "outputId": "db1d624e-6e61-48dc-944c-5a9ffc2b5053"
      },
      "source": [
        "# saving visualizations\n",
        "\n",
        "# mounting a google drive\n",
        "from google.colab import drive\n",
        "drive.mount('/content/gdrive')\n",
        "\n",
        "#f1 = plt.figure()\n",
        "S4bnew.visualize(drawAgreement = True, drawPiercing = True)\n",
        "#plt.plot()\n",
        "plt.savefig(\"/content/gdrive/My Drive/ApprovalVoting/example10transformed.pdf\", bbox_inches='tight')"
      ],
      "execution_count": 71,
      "outputs": [
        {
          "output_type": "stream",
          "text": [
            "Drive already mounted at /content/gdrive; to attempt to forcibly remount, call drive.mount(\"/content/gdrive\", force_remount=True).\n"
          ],
          "name": "stdout"
        },
        {
          "output_type": "display_data",
          "data": {
            "image/png": "[encoded data removed]",
            "text/plain": [
              "<Figure size 432x288 with 1 Axes>"
            ]
          },
          "metadata": {
            "tags": [],
            "needs_background": "light"
          }
        }
      ]
    },
    {
      "cell_type": "markdown",
      "metadata": {
        "id": "3lbEfTMLTDpZ",
        "colab_type": "text"
      },
      "source": [
        "### Randomly-generated example"
      ]
    },
    {
      "cell_type": "code",
      "metadata": {
        "id": "tFw9vK7fIl1d",
        "colab_type": "code",
        "colab": {
          "base_uri": "https://localhost:8080/",
          "height": 153
        },
        "outputId": "bf3e4409-88c5-429d-e89f-7c5dd0245fbd"
      },
      "source": [
        "# Generate a random circular society\n",
        "S5 = generateRandomSociety( \"RandomSociety\", 10, 10, epsilon = 0.5, mode = 1, a = 1, b = 1 )\n",
        "\n",
        "\n",
        "# Finding the agreement number of the society\n",
        "a5, pos5 = S5.findAgreementNumber()\n",
        "\n",
        "print(\"--------\")\n",
        "print(\"Before any transformations\")\n",
        "print(\"Agreement number:\", a5)\n",
        "p5, _, _, _ = S5.findPiercingNumber()\n",
        "print(\"Piercing number:\", p5)\n",
        "#S5.visualize( drawAgreement = True, drawPiercing = True )\n",
        "\n",
        "# Apply transformations\n",
        "S5transformed = copy.deepcopy(S5)\n",
        "S5transformed.uniformize()\n",
        "\n",
        "print(\"--------\")\n",
        "print(\"After Hardin's transformations\")\n",
        "a5new, pos5new = S5transformed.findAgreementNumber()\n",
        "print(\"Agreement number uniformizing:\", a5new)\n",
        "p5new, _, _, _ = S5transformed.findPiercingNumber()\n",
        "print(\"Piercing number after uniformizing:\", p5new)\n",
        "#S5.visualize( drawAgreement = True, drawPiercing = True )"
      ],
      "execution_count": 72,
      "outputs": [
        {
          "output_type": "stream",
          "text": [
            "--------\n",
            "Before any transformations\n",
            "Agreement number: 8\n",
            "Piercing number: 2\n",
            "--------\n",
            "After Hardin's transformations\n",
            "Agreement number uniformizing: 8\n",
            "Piercing number after uniformizing: 2\n"
          ],
          "name": "stdout"
        }
      ]
    },
    {
      "cell_type": "code",
      "metadata": {
        "id": "zgclscNFY76u",
        "colab_type": "code",
        "colab": {
          "base_uri": "https://localhost:8080/",
          "height": 34
        },
        "outputId": "e8991f08-9558-4b78-865a-6f434d829f75"
      },
      "source": [
        "# Create a local file to upload.\n",
        "\n",
        "# first run this cell\n",
        "# --------------\n",
        "# mounting a google drive\n",
        "import datetime\n",
        "from google.colab import drive\n",
        "drive.mount('/content/gdrive')\n",
        "\n",
        "def writeSocietyInformation( circSoc, textfilename, append = True):\n",
        "  # Create a local file to upload.\n",
        "  if append:\n",
        "    appendText = 'a'\n",
        "  else:\n",
        "    appendText = 'w'\n",
        "\n",
        "  with open('/content/gdrive/My Drive/ApprovalVoting/' + textfilename, appendText ) as f:\n",
        "    f.write(\"----------------------------------------------------\\n\")\n",
        "    f.write(\"Date: \" + str(datetime.datetime.now()) + \"\\n\" )\n",
        "    f.write(\"Circular Society Name: \" + circSoc.name + \"\\n\")\n",
        "    f.write(\"Spectrum: [0, \" + str(circSoc.modulo) + \"].  (Note: we identify 0 = \" + str(circSoc.modulo) + \") \\n\")\n",
        "    f.write(\"Number of Voters: \" + str(circSoc.numVoters) + \"\\n\")\n",
        "    f.write(\"Approval Sets:\\n\")\n",
        "    for A in circSoc.approvalSets:\n",
        "      if A.left_endpt <= A.right_endpt:\n",
        "        f.write( \" \" + A.name + \": [\" + str(A.left_endpt) + \", \" + str(A.right_endpt) + \"]\\n\")\n",
        "      elif A.right_endpt == 0:\n",
        "        f.write( \" \" + A.name + \": [\" + str(A.left_endpt) + \", \" + str(A.modulo) + \"]\\n\")\n",
        "      else:\n",
        "        f.write( \" \" + A.name + \": [0,\" + str(A.right_endpt) + \"] U [\" + str(A.left_endpt) + \", \" + str(A.modulo) + \"]\\n\")\n",
        "    #f.write(\"Before any transformations\\n\")\n",
        "    a, _ = circSoc.findAgreementNumber()\n",
        "    p, piercingset, _, _ = circSoc.findPiercingNumber()\n",
        "    f.write(\"Agreement number: \" + str(a) + \"\\n\")\n",
        "    f.write(\"Piercing number: \" + str(p) + \"\\n\")\n",
        "    f.write(\"Piercing set: \")\n",
        "    f.write(str(piercingset))\n",
        "    f.write(\"\\n\")\n",
        "# ----------------"
      ],
      "execution_count": 73,
      "outputs": [
        {
          "output_type": "stream",
          "text": [
            "Drive already mounted at /content/gdrive; to attempt to forcibly remount, call drive.mount(\"/content/gdrive\", force_remount=True).\n"
          ],
          "name": "stdout"
        }
      ]
    },
    {
      "cell_type": "code",
      "metadata": {
        "id": "0_evIx6fEWnQ",
        "colab_type": "code",
        "colab": {
          "base_uri": "https://localhost:8080/",
          "height": 1000
        },
        "outputId": "2cac60cf-a78e-4a2a-d2dc-8985443f1470"
      },
      "source": [
        "# write into file:\n",
        "writeSocietyInformation( S5, 'output.txt', append = True) # to write info to file\n",
        "\n",
        "!cat /content/gdrive/My\\ Drive/ApprovalVoting/output.txt # to display content of text file\n"
      ],
      "execution_count": 74,
      "outputs": [
        {
          "output_type": "stream",
          "text": [
            "----------------------------------------------------\n",
            "Date: 2019-02-20 21:57:46.559268\n",
            "Circular Society Name: Carolyn's Example, Generalized\n",
            "Spectrum: [0, 10].  (Note: we identify 0 = 10) \n",
            "Number of Voters: 10\n",
            "Approval Sets:\n",
            " Set 1: [1, 1.8]\n",
            " Set 2: [2, 2.8]\n",
            " Set 3: [3, 3.8]\n",
            " Set 4: [4, 4.8]\n",
            " Set 5: [5, 5.8]\n",
            " Set 6: [6, 6.8]\n",
            " Set 7: [7, 7.8]\n",
            " Set 8: [8, 8.8]\n",
            " Set 9: [1.6, 8.4]\n",
            " Set 10: [0,1.4] U [8.4, 10]\n",
            "Before any transformations\n",
            "Agreement number: 3\n",
            "Piercing number: 8\n",
            "After Hardin's Transformations \n",
            "Agreement number: 8\n",
            "Piercing number: 2\n",
            "----------------------------------------------------\n",
            "\n",
            "----------------------------------------------------\n",
            "Date: 2019-02-20 22:21:30.869666\n",
            "Circular Society Name: RandomSociety\n",
            "Spectrum: [0, 10].  (Note: we identify 0 = 10) \n",
            "Number of Voters: 10\n",
            "Approval Sets:\n",
            " Set 1: [0,5.670304636232589] U [6.404985345722523, 10]\n",
            " Set 2: [0,4.4766964830306035] U [7.156258784542989, 10]\n",
            " Set 3: [0,1.910746401023734] U [3.8508870804397235, 10]\n",
            " Set 4: [0.2689512517136994, 9.162583896073588]\n",
            " Set 5: [0.29750205660257323, 5.284299304871038]\n",
            " Set 6: [3.690812288733264, 8.904796930559513]\n",
            " Set 7: [6.396409874432154, 8.002441589242249]\n",
            " Set 8: [0,0.9819572989863068] U [8.06725722757507, 10]\n",
            " Set 9: [1.6117710648996908, 4.646971335404975]\n",
            " Set 10: [4.381843246821209, 9.529636782655773]\n",
            "Before any transformations\n",
            "Agreement number: 8\n",
            "Piercing number: 3\n",
            "After Hardin's Transformations \n",
            "Agreement number: 5\n",
            "Piercing number: 2\n",
            "----------------------------------------------------\n",
            "\n",
            "----------------------------------------------------\n",
            "----------------------------------------------------\n",
            "Date: 2020-06-10 11:51:14.930231\n",
            "Circular Society Name: RandomSociety\n",
            "Spectrum: [0, 10].  (Note: we identify 0 = 10) \n",
            "Number of Voters: 10\n",
            "Approval Sets:\n",
            " Set 1: [0,3.1339495161087862] U [3.834214929551921, 10]\n",
            " Set 2: [0,5.923793499965608] U [9.786911689226926, 10]\n",
            " Set 3: [8.218973884371602, 9.91664829433259]\n",
            " Set 4: [0,3.6273670447552653] U [8.301763275525214, 10]\n",
            " Set 5: [4.433304507298265, 9.49038440651239]\n",
            " Set 6: [0.6362152592682502, 6.975035957153411]\n",
            " Set 7: [2.2674552933147893, 9.282006854783912]\n",
            " Set 8: [0,3.2900374931292897] U [8.23415877248032, 10]\n",
            " Set 9: [1.9695438841231994, 3.244556147482448]\n",
            " Set 10: [0,2.220548188009114] U [3.848591621738829, 10]\n",
            "Agreement number: 7\n",
            "Piercing number: 2\n",
            "Piercing set: [1.96954388 8.21897388]\n",
            "----------------------------------------------------\n",
            "Date: 2020-06-10 12:13:02.997933\n",
            "Circular Society Name: RandomSociety\n",
            "Spectrum: [0, 10].  (Note: we identify 0 = 10) \n",
            "Number of Voters: 10\n",
            "Approval Sets:\n",
            " Set 1: [3.1933193245902203, 5.598896228231816]\n",
            " Set 2: [0,0.9882533553099715] U [8.702034286795378, 10]\n",
            " Set 3: [0,6.910559651087958] U [9.67312425224421, 10]\n",
            " Set 4: [0,0.6570617877125395] U [8.70916395645117, 10]\n",
            " Set 5: [4.536171447612473, 5.9260555564875546]\n",
            " Set 6: [0,7.381534499231003] U [9.014685999751297, 10]\n",
            " Set 7: [0.47085751629623585, 0.5194834979407248]\n",
            " Set 8: [0,0.5005154860063876] U [8.855990359841003, 10]\n",
            " Set 9: [0,8.787629237594984] U [8.795396435792755, 10]\n",
            " Set 10: [0,2.3794236583722093] U [3.4228398994704023, 10]\n",
            "Agreement number: 8\n",
            "Piercing number: 2\n",
            "Piercing set: [0.47085752 4.53617145]\n"
          ],
          "name": "stdout"
        }
      ]
    },
    {
      "cell_type": "code",
      "metadata": {
        "id": "0bTYlN_A0qqu",
        "colab_type": "code",
        "colab": {
          "base_uri": "https://localhost:8080/",
          "height": 265
        },
        "outputId": "2e940fde-0482-4138-c821-62b7be7caff5"
      },
      "source": [
        "# saving visualizations\n",
        "# (drive should be mounted first)\n",
        "#f1 = plt.figure()\n",
        "S5.visualize(drawAgreement = True, drawPiercing = True)\n",
        "#plt.plot()\n",
        "plt.savefig(\"/content/gdrive/My Drive/ApprovalVoting/random10.pdf\", bbox_inches='tight')"
      ],
      "execution_count": 75,
      "outputs": [
        {
          "output_type": "display_data",
          "data": {
            "image/png": "[encoded data removed]",
            "text/plain": [
              "<Figure size 432x288 with 1 Axes>"
            ]
          },
          "metadata": {
            "tags": [],
            "needs_background": "light"
          }
        }
      ]
    },
    {
      "cell_type": "code",
      "metadata": {
        "id": "LJH_q0G4rjRT",
        "colab_type": "code",
        "colab": {
          "base_uri": "https://localhost:8080/",
          "height": 265
        },
        "outputId": "b6033cc5-cd8a-4431-b480-6766f6c88df1"
      },
      "source": [
        "# saving visualizations\n",
        "S5transformed.visualize(drawAgreement = True, drawPiercing = True)\n",
        "plt.savefig(\"/content/gdrive/My Drive/ApprovalVoting/random10_transformed.pdf\", bbox_inches='tight')"
      ],
      "execution_count": 76,
      "outputs": [
        {
          "output_type": "display_data",
          "data": {
            "image/png": "[encoded data removed]",
            "text/plain": [
              "<Figure size 432x288 with 1 Axes>"
            ]
          },
          "metadata": {
            "tags": [],
            "needs_background": "light"
          }
        }
      ]
    },
    {
      "cell_type": "markdown",
      "metadata": {
        "id": "fMQGcMzXl9W1",
        "colab_type": "text"
      },
      "source": [
        "## Exploration 4: Experiments with randomly generated fixed length societies"
      ]
    },
    {
      "cell_type": "code",
      "metadata": {
        "id": "ZyVEIGzxANsT",
        "colab_type": "code",
        "colab": {
          "base_uri": "https://localhost:8080/",
          "height": 350
        },
        "outputId": "78bdc3f4-f497-45af-e935-7176ea86c64f"
      },
      "source": [
        "# ---\n",
        "# Random Example\n",
        "N = 3 # number of approval sets\n",
        "modulo = 1 # circumference of the circular society\n",
        "p = 0.25\n",
        "\n",
        "S = generateRandomFixedLengthSociety( \"Fixed length society 1\", N, modulo, p, tick=0.05 )\n",
        "\n",
        "# ---\n",
        "# Finding the agreement number of the society\n",
        "a, position = S.findAgreementNumber()\n",
        "\n",
        "print(\"--------\")\n",
        "print(\"Before any transformations\")\n",
        "print(\"Agreement number:\", a)\n",
        "p, _, _, _ = S.findPiercingNumber()\n",
        "print(\"Piercing number:\", p)\n",
        "S.visualize( drawAgreement = True, drawPiercing = True )\n",
        "print(\"--------\")"
      ],
      "execution_count": 77,
      "outputs": [
        {
          "output_type": "stream",
          "text": [
            "--------\n",
            "Before any transformations\n",
            "Agreement number: 2\n",
            "Piercing number: 2\n",
            "--------\n"
          ],
          "name": "stdout"
        },
        {
          "output_type": "display_data",
          "data": {
            "image/png": "[encoded data removed]",
            "text/plain": [
              "<Figure size 432x288 with 1 Axes>"
            ]
          },
          "metadata": {
            "tags": [],
            "needs_background": "light"
          }
        }
      ]
    },
    {
      "cell_type": "code",
      "metadata": {
        "id": "yTlTYqxuP_hi",
        "colab_type": "code",
        "colab": {
          "base_uri": "https://localhost:8080/",
          "height": 153
        },
        "outputId": "611ead34-05dd-429f-b9fb-c6e2891d7358"
      },
      "source": [
        "S.printSocietyInfo()\n",
        "tau, piercingset, _, _ = S.findPiercingNumber()\n",
        "print(piercingset)"
      ],
      "execution_count": 78,
      "outputs": [
        {
          "output_type": "stream",
          "text": [
            "Circular Society Name: Fixed length society 1\n",
            "Spectrum: [0, 1].  (Note: we identify 0 = 1)\n",
            "Number of Voters: 3\n",
            "Approval Sets:\n",
            " Set 1: [0.3846541495697703, 0.6346541495697703]\n",
            " Set 2: [0.43266841430606695, 0.682668414306067]\n",
            " Set 3: [0.04370607910735813, 0.29370607910735813]\n",
            "[0.04370608 0.43266841]\n"
          ],
          "name": "stdout"
        }
      ]
    },
    {
      "cell_type": "code",
      "metadata": {
        "id": "HzmJm6gApDnh",
        "colab_type": "code",
        "colab": {
          "base_uri": "https://localhost:8080/",
          "height": 350
        },
        "outputId": "2e3dcaa3-1401-4a0e-a6d8-a15e84d9cabb"
      },
      "source": [
        "# Apply transformations\n",
        "Snew = copy.deepcopy(S)\n",
        "Snew.uniformize()\n",
        "\n",
        "print(\"--------\")\n",
        "print(\"After Hardin's transformations\")\n",
        "anew, _ = Snew.findAgreementNumber()\n",
        "print(\"Agreement number after LR-alternation:\", anew)\n",
        "pnew, _, _, _ = Snew.findPiercingNumber()\n",
        "print(\"Piercing number after LR-alternation:\", pnew)\n",
        "Snew.visualize( drawAgreement = True, drawPiercing = True )\n",
        "print(\"--------\")"
      ],
      "execution_count": 79,
      "outputs": [
        {
          "output_type": "stream",
          "text": [
            "--------\n",
            "After Hardin's transformations\n",
            "Agreement number after LR-alternation: 2\n",
            "Piercing number after LR-alternation: 2\n",
            "--------\n"
          ],
          "name": "stdout"
        },
        {
          "output_type": "display_data",
          "data": {
            "image/png": "[encoded data removed]",
            "text/plain": [
              "<Figure size 432x288 with 1 Axes>"
            ]
          },
          "metadata": {
            "tags": [],
            "needs_background": "light"
          }
        }
      ]
    },
    {
      "cell_type": "markdown",
      "metadata": {
        "id": "qcs_l8BVKIaI",
        "colab_type": "text"
      },
      "source": [
        "## Exploration 5: Fixed-Length Experiments\n"
      ]
    },
    {
      "cell_type": "code",
      "metadata": {
        "id": "636zpOOqKPod",
        "colab_type": "code",
        "outputId": "9f9057cd-8cd8-4650-feec-d9bd978a8fb9",
        "colab": {
          "base_uri": "https://localhost:8080/",
          "height": 469
        }
      },
      "source": [
        "# Creating a circular society S, the spectrum is [0, 1]\n",
        "S = CircularSociety( \"S\", 1)\n",
        "\n",
        "p = 0.4 # length of the society\n",
        "\n",
        "#   Adding sets \n",
        "left_endpoints = [0.9268, 0.3376, 0.4562]\n",
        "\n",
        "for i, left_pt in enumerate(left_endpoints):\n",
        "  S.addApprovalSet( \"Set\"+str(i), left_pt, (left_pt + p)%1 )\n",
        "\n",
        "#  Displaying the circular society's information (name, is it uniform, the spectrum, number of voters, list of approval sets) \n",
        "S.printSocietyInfo()\n",
        "\n",
        "#  Visualizing the circular society; each set is plotted horizontally (different y coordinates for different sets)\n",
        "S.visualize( drawAgreement = True, drawPiercing = True )\n",
        "\n",
        "#  Checking if the set is left-right alternating (returns True or False)\n",
        "S.is_LR_alt()\n",
        "\n",
        "# Finding the agreement number of the society\n",
        "a, pos = S.findAgreementNumber( )\n",
        "tau, piercingSet, x_value, Mat = S.findPiercingNumber()\n",
        "print('Agreement Number: '+ str(a))\n",
        "print('Location of max agreement: ' + str(pos))\n",
        "print('Piercing Number: ' + str(tau))\n",
        "print('Piercing Set: ')\n",
        "print(piercingSet)"
      ],
      "execution_count": 80,
      "outputs": [
        {
          "output_type": "stream",
          "text": [
            "Circular Society Name: S\n",
            "Spectrum: [0, 1].  (Note: we identify 0 = 1)\n",
            "Number of Voters: 3\n",
            "Approval Sets:\n",
            " Set0: [0,0.3268] U [0.9268, 1]\n",
            " Set1: [0.3376, 0.7376]\n",
            " Set2: [0.4562, 0.8562000000000001]\n",
            "Agreement Number: 2\n",
            "Location of max agreement: 0.4562\n",
            "Piercing Number: 2\n",
            "Piercing Set: \n",
            "[0.3268 0.4562]\n"
          ],
          "name": "stdout"
        },
        {
          "output_type": "display_data",
          "data": {
            "image/png": "[encoded data removed]",
            "text/plain": [
              "<Figure size 432x288 with 1 Axes>"
            ]
          },
          "metadata": {
            "tags": [],
            "needs_background": "light"
          }
        }
      ]
    },
    {
      "cell_type": "markdown",
      "metadata": {
        "id": "Y1JPNEjC8Izb",
        "colab_type": "text"
      },
      "source": [
        "## Exploration 6: Multiple randomly-generated fixed-length societies"
      ]
    },
    {
      "cell_type": "code",
      "metadata": {
        "id": "W7iAsG3YLPbe",
        "colab_type": "code",
        "outputId": "d03ce8b0-20d4-486f-bb1c-4e8d85a1ccf5",
        "colab": {
          "base_uri": "https://localhost:8080/",
          "height": 295
        }
      },
      "source": [
        "# ---\n",
        "nSoc = 1000 # number of randomly-generated societies\n",
        "\n",
        "N = 6 # number of approval sets\n",
        "modulo = 1 # circumference of the circular society platform\n",
        "p = 0.19\n",
        "agreementNumList = np.zeros( nSoc )\n",
        "piercingNumList = np.zeros( nSoc )\n",
        "\n",
        "\n",
        "for i in range(0, nSoc):\n",
        "  S = generateRandomFixedLengthSociety( \"Fixed length society 1\", N, modulo, p, tick=0.05 )\n",
        "  #agreementNum, _ = S.findAgreementNumber()\n",
        "  piercingNum, _, _, _ = S.findPiercingNumber()\n",
        "  #agreementNumList[i] = agreementNum\n",
        "  piercingNumList[i] = piercingNum\n",
        "\n",
        "# print results & stats\n",
        "print('Num sets: ', N)\n",
        "print('Length: ', p)\n",
        "print('Num societies: ', nSoc)\n",
        "#print('Agreement Numbers: ', agreementNumList)\n",
        "#print('Piercing Numbers: ', piercingNumList)\n",
        "\n",
        "# piercing number stats\n",
        "print('Piercing Numbers - Summary')\n",
        "print('Min: ', np.min(piercingNumList))\n",
        "print('Max: ', np.max(piercingNumList))\n",
        "print('Mean: ', np.mean(piercingNumList))\n",
        "print('Median: ', np.median(piercingNumList))\n",
        "print('Fraction with tau = 2 :', np.sum( piercingNumList == 2) /nSoc )\n",
        "print('Conjecture says: ', N*(N-1)/2*(1-2*p)*((2*p)**(N-2)) )\n",
        "#print('conjecture says: ', N*(p**(N-1)) )\n",
        "\n",
        "# test tau = 3\n",
        "print('Fraction with tau = 3 :', np.sum( piercingNumList == 3) /nSoc )\n",
        "print('Conjecture says: ', N*(N-1)*(N-2) /3/2 * ((1-3*p) ** 2)  * ((3*p)**(N-3)) )\n",
        "\n",
        "# test tau = 4\n",
        "print('Fraction with tau = 4 :', np.sum( piercingNumList == 4) /nSoc )\n",
        "print('Conjecture says: ', N*(N-1)*(N-2)*(N-3) /4/3/2 * ((1-4*p) ** 3)  * ((4*p)**(N-4)) )\n",
        "\n",
        "# test tau = 5\n",
        "print('Fraction with tau = 5 :', np.sum( piercingNumList == 5) /nSoc )\n",
        "print('Conjecture says: ', N*(N-1)*(N-2)*(N-3) * (N-2) /5/4/3/2 * ((1-5*p) ** 4)  * ((5*p)**(N-5)) )"
      ],
      "execution_count": 81,
      "outputs": [
        {
          "output_type": "stream",
          "text": [
            "Num sets:  6\n",
            "Length:  0.19\n",
            "Num societies:  1000\n",
            "Piercing Numbers - Summary\n",
            "Min:  1.0\n",
            "Max:  5.0\n",
            "Mean:  2.932\n",
            "Median:  3.0\n",
            "Fraction with tau = 2 : 0.191\n",
            "Conjecture says:  0.193917648\n",
            "Fraction with tau = 3 : 0.684\n",
            "Conjecture says:  0.684843714\n",
            "Fraction with tau = 4 : 0.123\n",
            "Conjecture says:  0.11977113599999997\n",
            "Fraction with tau = 5 : 0.001\n",
            "Conjecture says:  7.125000000000025e-05\n"
          ],
          "name": "stdout"
        }
      ]
    },
    {
      "cell_type": "code",
      "metadata": {
        "id": "JXo9RoLEChTA",
        "colab_type": "code",
        "colab": {
          "base_uri": "https://localhost:8080/",
          "height": 35
        },
        "outputId": "55879ec7-ee88-44d0-a0e0-2c7c9ff8424e"
      },
      "source": [
        "piercingNumList[ agreementNumList >= 5]"
      ],
      "execution_count": 82,
      "outputs": [
        {
          "output_type": "execute_result",
          "data": {
            "text/plain": [
              "array([], dtype=float64)"
            ]
          },
          "metadata": {
            "tags": []
          },
          "execution_count": 82
        }
      ]
    },
    {
      "cell_type": "markdown",
      "metadata": {
        "id": "iBCSjDPwi3l-",
        "colab_type": "text"
      },
      "source": [
        "## Exploration 7: Testing the implementation of the \"linear society piercing number algorithm\" on circular societies"
      ]
    },
    {
      "cell_type": "code",
      "metadata": {
        "id": "1q2ThY_qi-DW",
        "colab_type": "code",
        "outputId": "439ce9b3-26d1-4786-fab5-abbe2f746090",
        "colab": {
          "base_uri": "https://localhost:8080/",
          "height": 300
        }
      },
      "source": [
        "# Creating a circular society S, the spectrum is [0, 1]\n",
        "N = 100 # number of approval sets\n",
        "modulo = 1 # circumference of the circular society platform\n",
        "p = 0.1 # length of the society\n",
        "\n",
        "S = generateRandomFixedLengthSociety( \"Fixed length society 1\", N, modulo, p, tick=0.05 )\n",
        "\n",
        "#  Visualizing the circular society; each set is plotted horizontally (different y coordinates for different sets)\n",
        "S.visualize( drawAgreement = True, drawPiercing = True )\n",
        "\n",
        "#  use the linear piercing algorithm\n",
        "output = S.piercingAlgorithm( startingPoint=0)\n",
        "print(len(output))\n",
        "\n",
        "# find the actual piercing number\n",
        "p, _, _, _ = S.findPiercingNumber()\n",
        "print(p)"
      ],
      "execution_count": 83,
      "outputs": [
        {
          "output_type": "stream",
          "text": [
            "9\n",
            "9\n"
          ],
          "name": "stdout"
        },
        {
          "output_type": "display_data",
          "data": {
            "image/png": "[encoded data removed]",
            "text/plain": [
              "<Figure size 432x288 with 1 Axes>"
            ]
          },
          "metadata": {
            "tags": [],
            "needs_background": "light"
          }
        }
      ]
    },
    {
      "cell_type": "code",
      "metadata": {
        "id": "kpkkpfMakAnR",
        "colab_type": "code",
        "outputId": "0b0ca612-3462-455f-97c0-7589047f8ddb",
        "colab": {
          "base_uri": "https://localhost:8080/",
          "height": 1000
        }
      },
      "source": [
        "#  use the linear piercing algorithm, cutting the circle at a randomly chosen location x\n",
        "S.printSocietyInfo()\n",
        "print('------')\n",
        "\n",
        "import random\n",
        "x = random.uniform(0, 1)\n",
        "print('x : ', x)\n",
        "output = S.piercingAlgorithm( startingPoint=x)\n",
        "print(np.array(output))\n",
        "print(len(output))"
      ],
      "execution_count": 84,
      "outputs": [
        {
          "output_type": "stream",
          "text": [
            "Circular Society Name: Fixed length society 1\n",
            "Spectrum: [0, 1].  (Note: we identify 0 = 1)\n",
            "Number of Voters: 100\n",
            "Approval Sets:\n",
            " Set 1: [0.07254731062995323, 0.17254731062995324]\n",
            " Set 2: [0.6331235949012323, 0.7331235949012322]\n",
            " Set 3: [0.7043791621219534, 0.8043791621219534]\n",
            " Set 4: [0.6771485851680263, 0.7771485851680263]\n",
            " Set 5: [0.3756940335277402, 0.4756940335277402]\n",
            " Set 6: [0.8580177744396992, 0.9580177744396992]\n",
            " Set 7: [0.8043294571157001, 0.9043294571157001]\n",
            " Set 8: [0.2556353169380602, 0.35563531693806016]\n",
            " Set 9: [0.6970833597696163, 0.7970833597696163]\n",
            " Set 10: [0.8698160226854126, 0.9698160226854126]\n",
            " Set 11: [0.5000873789684622, 0.6000873789684622]\n",
            " Set 12: [0.5779771894573599, 0.6779771894573599]\n",
            " Set 13: [0.5611985986974399, 0.6611985986974399]\n",
            " Set 14: [0.6907078797259254, 0.7907078797259254]\n",
            " Set 15: [0.5585442610620892, 0.6585442610620892]\n",
            " Set 16: [0.021623815575442573, 0.12162381557544258]\n",
            " Set 17: [0.6625801779259304, 0.7625801779259304]\n",
            " Set 18: [0,0.009319169007535821] U [0.9093191690075358, 1]\n",
            " Set 19: [0.1001975606661536, 0.2001975606661536]\n",
            " Set 20: [0.8082896726821055, 0.9082896726821055]\n",
            " Set 21: [0.5518915613551085, 0.6518915613551085]\n",
            " Set 22: [0.0664818468061168, 0.1664818468061168]\n",
            " Set 23: [0.3991282778363703, 0.49912827783637026]\n",
            " Set 24: [0,0.010318369160832397] U [0.9103183691608324, 1]\n",
            " Set 25: [0.6751279846718531, 0.7751279846718531]\n",
            " Set 26: [0.29066910573533355, 0.39066910573533353]\n",
            " Set 27: [0.5164437937227662, 0.6164437937227661]\n",
            " Set 28: [0.41610882108240854, 0.5161088210824085]\n",
            " Set 29: [0.174331811971157, 0.27433181197115697]\n",
            " Set 30: [0.12709820350066314, 0.22709820350066315]\n",
            " Set 31: [0.022706264065872728, 0.12270626406587273]\n",
            " Set 32: [0.14523005879445572, 0.24523005879445572]\n",
            " Set 33: [0.11910067378345413, 0.21910067378345413]\n",
            " Set 34: [0,0.023554584869812656] U [0.9235545848698127, 1]\n",
            " Set 35: [0.46746082363270625, 0.5674608236327062]\n",
            " Set 36: [0.04406127635627566, 0.14406127635627566]\n",
            " Set 37: [0.2196437814824802, 0.3196437814824802]\n",
            " Set 38: [0,0.017943690418158686] U [0.9179436904181587, 1]\n",
            " Set 39: [0.5435383544598348, 0.6435383544598348]\n",
            " Set 40: [0.29337214206540096, 0.39337214206540094]\n",
            " Set 41: [0.8474788643776904, 0.9474788643776904]\n",
            " Set 42: [0.19067283431984106, 0.29067283431984103]\n",
            " Set 43: [0.22211450453494408, 0.32211450453494406]\n",
            " Set 44: [0.27207948400360527, 0.37207948400360524]\n",
            " Set 45: [0.047148873018245, 0.147148873018245]\n",
            " Set 46: [0.47565983618913465, 0.5756598361891346]\n",
            " Set 47: [0.6843434495882791, 0.7843434495882791]\n",
            " Set 48: [0.4500057711472394, 0.5500057711472394]\n",
            " Set 49: [0.33297563947240993, 0.4329756394724099]\n",
            " Set 50: [0,0.08470797384643936] U [0.9847079738464394, 1]\n",
            " Set 51: [0,0.0327457747854496] U [0.9327457747854496, 1]\n",
            " Set 52: [0.5527612710631301, 0.6527612710631301]\n",
            " Set 53: [0.06854557134566219, 0.1685455713456622]\n",
            " Set 54: [0.6591243224646661, 0.7591243224646661]\n",
            " Set 55: [0.4755632310669168, 0.5755632310669168]\n",
            " Set 56: [0.4349846082866605, 0.5349846082866605]\n",
            " Set 57: [0.11592366002513133, 0.21592366002513133]\n",
            " Set 58: [0,0.07361340589871523] U [0.9736134058987151, 1]\n",
            " Set 59: [0.6556318041480323, 0.7556318041480323]\n",
            " Set 60: [0.4292400898465253, 0.5292400898465253]\n",
            " Set 61: [0.7174882576195647, 0.8174882576195647]\n",
            " Set 62: [0.3593152426688707, 0.4593152426688707]\n",
            " Set 63: [0.809603151029596, 0.909603151029596]\n",
            " Set 64: [0,0.025993085828313278] U [0.9259930858283133, 1]\n",
            " Set 65: [0.4865225398471239, 0.5865225398471239]\n",
            " Set 66: [0.46114096785945924, 0.5611409678594592]\n",
            " Set 67: [0.5009408777094913, 0.6009408777094912]\n",
            " Set 68: [0.8881502084209685, 0.9881502084209685]\n",
            " Set 69: [0.30627596301817883, 0.4062759630181788]\n",
            " Set 70: [0.6496223681884297, 0.7496223681884296]\n",
            " Set 71: [0,0.023909610314066354] U [0.9239096103140664, 1]\n",
            " Set 72: [0.6912474813106654, 0.7912474813106654]\n",
            " Set 73: [0.5511808849768004, 0.6511808849768004]\n",
            " Set 74: [0.8697139103624136, 0.9697139103624136]\n",
            " Set 75: [0.4078816012571972, 0.5078816012571972]\n",
            " Set 76: [0.263641088017478, 0.36364108801747796]\n",
            " Set 77: [0.18125954179984005, 0.28125954179984003]\n",
            " Set 78: [0.7958038805801554, 0.8958038805801554]\n",
            " Set 79: [0.7319424430383595, 0.8319424430383595]\n",
            " Set 80: [0.10990055110871089, 0.2099005511087109]\n",
            " Set 81: [0.6912791517198263, 0.7912791517198263]\n",
            " Set 82: [0.04147023027914365, 0.14147023027914366]\n",
            " Set 83: [0,0.06917587706438777] U [0.9691758770643877, 1]\n",
            " Set 84: [0.21520035382722646, 0.31520035382722644]\n",
            " Set 85: [0.2968285405698934, 0.39682854056989336]\n",
            " Set 86: [0.744040014845747, 0.844040014845747]\n",
            " Set 87: [0.4140815953461914, 0.5140815953461914]\n",
            " Set 88: [0.24817460609514075, 0.3481746060951407]\n",
            " Set 89: [0.34976458400737664, 0.4497645840073766]\n",
            " Set 90: [0.24811404445273, 0.34811404445273]\n",
            " Set 91: [0.4380197400438872, 0.5380197400438872]\n",
            " Set 92: [0.38329181496549325, 0.4832918149654932]\n",
            " Set 93: [0,0.003049498346162416] U [0.9030494983461624, 1]\n",
            " Set 94: [0.3198979795458303, 0.4198979795458303]\n",
            " Set 95: [0.5856937726761018, 0.6856937726761018]\n",
            " Set 96: [0.6455688575698769, 0.7455688575698769]\n",
            " Set 97: [0.10067494273456001, 0.20067494273456002]\n",
            " Set 98: [0.041527607872097416, 0.14152760787209742]\n",
            " Set 99: [0.018758606191802363, 0.11875860619180237]\n",
            " Set 100: [0.4501923292143637, 0.5501923292143637]\n",
            "------\n",
            "x :  0.9253940270436541\n",
            "[[0.9474788643776904\n",
            "  list(['Set 41', 'Set 6', 'Set 74', 'Set 10', 'Set 68', 'Set 93', 'Set 18', 'Set 24', 'Set 38', 'Set 34', 'Set 71', 'Set 64', 'Set 51'])]\n",
            " [0.06917587706438777\n",
            "  list(['Set 83', 'Set 58', 'Set 50', 'Set 99', 'Set 16', 'Set 31', 'Set 82', 'Set 98', 'Set 36', 'Set 45', 'Set 22', 'Set 53'])]\n",
            " [0.17254731062995324\n",
            "  list(['Set 1', 'Set 19', 'Set 97', 'Set 80', 'Set 57', 'Set 33', 'Set 30', 'Set 32'])]\n",
            " [0.27433181197115697\n",
            "  list(['Set 29', 'Set 77', 'Set 42', 'Set 84', 'Set 37', 'Set 43', 'Set 90', 'Set 88', 'Set 8', 'Set 76', 'Set 44'])]\n",
            " [0.39066910573533353\n",
            "  list(['Set 26', 'Set 40', 'Set 85', 'Set 69', 'Set 94', 'Set 49', 'Set 89', 'Set 62', 'Set 5', 'Set 92'])]\n",
            " [0.49912827783637026\n",
            "  list(['Set 23', 'Set 75', 'Set 87', 'Set 28', 'Set 60', 'Set 56', 'Set 91', 'Set 48', 'Set 100', 'Set 66', 'Set 35', 'Set 55', 'Set 46', 'Set 65'])]\n",
            " [0.6000873789684622\n",
            "  list(['Set 11', 'Set 67', 'Set 27', 'Set 39', 'Set 73', 'Set 21', 'Set 52', 'Set 15', 'Set 13', 'Set 12', 'Set 95'])]\n",
            " [0.7331235949012322\n",
            "  list(['Set 2', 'Set 96', 'Set 70', 'Set 59', 'Set 54', 'Set 17', 'Set 25', 'Set 4', 'Set 47', 'Set 14', 'Set 72', 'Set 81', 'Set 9', 'Set 3', 'Set 61', 'Set 79'])]\n",
            " [0.844040014845747\n",
            "  list(['Set 86', 'Set 78', 'Set 7', 'Set 20', 'Set 63'])]]\n",
            "9\n"
          ],
          "name": "stdout"
        }
      ]
    },
    {
      "cell_type": "markdown",
      "metadata": {
        "id": "ULegrzeJPDOu",
        "colab_type": "text"
      },
      "source": [
        "## Exploration 8: Multiple linear societies: check how often the linear piercing algorithm gives us the correct answer"
      ]
    },
    {
      "cell_type": "code",
      "metadata": {
        "id": "iEMVADG9PCo7",
        "colab_type": "code",
        "outputId": "27c9968c-8930-4749-a56c-d692a0cb664d",
        "colab": {
          "base_uri": "https://localhost:8080/",
          "height": 69
        }
      },
      "source": [
        "nSoc = 100\n",
        "\n",
        "# Creating a circular society S, the spectrum is [0, 1]\n",
        "N = 100 # number of approval sets\n",
        "modulo = 1 # circumference of the circular society platform\n",
        "p = 0.3 # length of the society\n",
        "tau_diff_list = np.zeros( nSoc ) # tau minus tau_actual\n",
        "\n",
        "for i in range(0, nSoc):\n",
        "  S = generateRandomFixedLengthSociety( \"Fixed length society 1\", N, modulo, p, tick=0.05 )\n",
        "  #  use the linear piercing algorithm\n",
        "  output = S.piercingAlgorithm( startingPoint=0)\n",
        "  tau = len(output)\n",
        "  # find the actual piercing number\n",
        "  tau_actual, _, _, _ = S.findPiercingNumber()\n",
        "  tau_diff_list[i] = tau - tau_actual\n",
        "\n",
        "min_tau_diff = min(tau_diff_list)\n",
        "max_tau_diff = max(tau_diff_list)\n",
        "num_correct = len( tau_diff_list[tau_diff_list == 0] )\n",
        "frac_correct = num_correct / nSoc\n",
        "\n",
        "print('Minimum difference: ', min_tau_diff )\n",
        "print('Maximum difference: ', max_tau_diff )\n",
        "print('Fraction correct :', frac_correct )"
      ],
      "execution_count": 85,
      "outputs": [
        {
          "output_type": "stream",
          "text": [
            "Minimum difference:  0.0\n",
            "Maximum difference:  1.0\n",
            "Fraction correct : 0.94\n"
          ],
          "name": "stdout"
        }
      ]
    },
    {
      "cell_type": "markdown",
      "metadata": {
        "id": "QsDjPXjc-dHY",
        "colab_type": "text"
      },
      "source": [
        "## Exploration 9: Checking (k, m)-agreeability"
      ]
    },
    {
      "cell_type": "code",
      "metadata": {
        "id": "PC_8Z7WIC7Hm",
        "colab_type": "code",
        "outputId": "be4b5590-f9f2-4cc7-dfdc-741924512484",
        "colab": {
          "base_uri": "https://localhost:8080/",
          "height": 300
        }
      },
      "source": [
        "# Creating a circular society S, the spectrum is [0, 1]\n",
        "N = 10 # number of approval sets\n",
        "modulo = 1 # circumference of the circular society platform\n",
        "p = 0.2 # length of the society\n",
        "\n",
        "S = generateRandomFixedLengthSociety( \"Fixed length society 1\", N, modulo, p, tick=0.05 )\n",
        "\n",
        "#  Visualizing the circular society; each set is plotted horizontally (different y coordinates for different sets)\n",
        "S.visualize( drawAgreement = True, drawPiercing = True )\n",
        "\n",
        "is_kmagreeable, bad_m_sets = S.checkAgreeability(4, 9)\n",
        "print(is_kmagreeable)\n",
        "print(bad_m_sets)"
      ],
      "execution_count": 88,
      "outputs": [
        {
          "output_type": "stream",
          "text": [
            "1\n",
            "[]\n"
          ],
          "name": "stdout"
        },
        {
          "output_type": "display_data",
          "data": {
            "image/png": "[encoded data removed]",
            "text/plain": [
              "<Figure size 432x288 with 1 Axes>"
            ]
          },
          "metadata": {
            "tags": [],
            "needs_background": "light"
          }
        }
      ]
    },
    {
      "cell_type": "code",
      "metadata": {
        "id": "MqrDbN_EhP9i",
        "colab_type": "code",
        "outputId": "a64c6381-ceb5-4c19-8516-9eb71eb5c600",
        "colab": {
          "base_uri": "https://localhost:8080/",
          "height": 72
        }
      },
      "source": [
        "is_kmagreeable, bad_m_sets = S.checkAgreeability(2, 3)\n",
        "print(is_kmagreeable)\n",
        "print(bad_m_sets)"
      ],
      "execution_count": 89,
      "outputs": [
        {
          "output_type": "stream",
          "text": [
            "0\n",
            "[['Set 1', 'Set 2', 'Set 5'], ['Set 1', 'Set 3', 'Set 5'], ['Set 2', 'Set 4', 'Set 5'], ['Set 2', 'Set 5', 'Set 6'], ['Set 2', 'Set 5', 'Set 7'], ['Set 2', 'Set 5', 'Set 8'], ['Set 2', 'Set 5', 'Set 9'], ['Set 2', 'Set 5', 'Set 10'], ['Set 3', 'Set 4', 'Set 5'], ['Set 3', 'Set 5', 'Set 6'], ['Set 3', 'Set 5', 'Set 7'], ['Set 3', 'Set 5', 'Set 8'], ['Set 3', 'Set 5', 'Set 9'], ['Set 3', 'Set 5', 'Set 10']]\n"
          ],
          "name": "stdout"
        }
      ]
    },
    {
      "cell_type": "code",
      "metadata": {
        "id": "yJPhp3rECfg9",
        "colab_type": "code",
        "colab": {}
      },
      "source": [
        ""
      ],
      "execution_count": 0,
      "outputs": []
    }
  ]
}