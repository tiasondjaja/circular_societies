{
  "cells": [
    {
      "cell_type": "markdown",
      "metadata": {
        "id": "view-in-github",
        "colab_type": "text"
      },
      "source": [
        "<a href=\"https://colab.research.google.com/github/tiasondjaja/circular_societies/blob/master/lessons-python-colab/lesson01.ipynb\" target=\"_parent\"><img src=\"https://colab.research.google.com/assets/colab-badge.svg\" alt=\"Open In Colab\"/></a>"
      ]
    },
    {
      "cell_type": "markdown",
      "metadata": {
        "id": "6FjRay50o3Kv"
      },
      "source": [
        "# Lesson 1: Introduction to computing using python and Jupyter Notebooks\n",
        "\n",
        "Key Ideas:\n",
        "1. What Jupyter notebooks are and how to use them\n",
        "    + Code cells vs. markdown (text) cells\n",
        "2. Computing and arithmetic with python\n",
        "    + Using code cells for computation\n",
        "    + Using comments\n",
        "3. Naming quantities and objects\n",
        "4. Understanding different types of data\n",
        "5. Using functions\n",
        "6. Python libraries\n",
        "7. Lists and data frames"
      ]
    },
    {
      "cell_type": "markdown",
      "metadata": {
        "id": "7PFSOE0Ho3K3"
      },
      "source": [
        "## 1. Jupyter Notebooks\n",
        "\n",
        "A Jupyter notebook is a type of document that can be used for both writing text (like a Word document) and writing codes.\n",
        "\n",
        "A Jupyter Notebook consists of cells (places to enter our texts or codes).\n",
        "There are two main types of cells in a Jupyter notebook:\n",
        "+ Markdown cells\": for writing texts\n",
        "+ Code cells: for writing codes and carrying out computations and to enter codes/commands.\n",
        "\n",
        "This paragraph, for example, is written in a markdown cell.  [This page](https://www.markdownguide.org/cheat-sheet/) is a useful guide for how texts in markdown cells can be formatted."
      ]
    },
    {
      "cell_type": "markdown",
      "metadata": {
        "id": "PNccAoRWo3K5"
      },
      "source": [
        "***Exercise***\n",
        "\n",
        "Double click this text to edit this markdown cell; replace this sentence with your name."
      ]
    },
    {
      "cell_type": "markdown",
      "metadata": {
        "id": "H9uKdO_Wo3K6"
      },
      "source": [
        "***Exercise***\n",
        "\n",
        "Add a new cell below this one by first clicking this markdown cell to select it and then clicking the \"+\" sign on the menu bar near the top left corner.  By default, the new cell will be a code cell.  To change a code cell into a different type of cell, select the cell and use the drop-down menu on the top."
      ]
    },
    {
      "cell_type": "markdown",
      "metadata": {
        "id": "fVNnK2dBo3K7"
      },
      "source": [
        "## 2. Computing and arithmetic in python"
      ]
    },
    {
      "cell_type": "markdown",
      "metadata": {
        "id": "uBJFB5PPo3K7"
      },
      "source": [
        "### Using Code Cells\n",
        "\n",
        "One of the simplest tasks we can dowith python is basic computation and arithmetic operations such as adding, subtracting, multiplying and dividing, and taking exponents/powers.\n",
        "\n",
        "***Example***\n",
        "\n",
        "In the code cells below, we compute $15 + 3$, $15 \\times 3$, $15^3$, and $(15- 3) * 2^4$.  To  \"run\" the commands (to carry out computation), click on the code cell and press Shift + Enter or click on the \"Run\" button on the top menu."
      ]
    },
    {
      "cell_type": "code",
      "execution_count": null,
      "metadata": {
        "id": "5QsSmByKo3K8"
      },
      "outputs": [],
      "source": [
        "15 + 3 # + is used for addition"
      ]
    },
    {
      "cell_type": "code",
      "execution_count": null,
      "metadata": {
        "id": "a9ecKUDfo3LB"
      },
      "outputs": [],
      "source": [
        "15 - 3 # - is used for subtraction"
      ]
    },
    {
      "cell_type": "code",
      "execution_count": null,
      "metadata": {
        "id": "tmL5_J7po3LC"
      },
      "outputs": [],
      "source": [
        "15 * 3 # * is used for multiplication"
      ]
    },
    {
      "cell_type": "code",
      "execution_count": null,
      "metadata": {
        "id": "WyjBzwxNo3LE"
      },
      "outputs": [],
      "source": [
        "15 ** 3 # ** is used for exponentiation"
      ]
    },
    {
      "cell_type": "code",
      "execution_count": null,
      "metadata": {
        "id": "ekHtwlUWo3LF"
      },
      "outputs": [],
      "source": [
        "(15 - 3) * 2 ** 4  # order of operations is observed"
      ]
    },
    {
      "cell_type": "code",
      "execution_count": null,
      "metadata": {
        "id": "xSiAud2Eo3LF"
      },
      "outputs": [],
      "source": [
        "15 % 3  # % is used to compute remainder when dividing the first number by the second number"
      ]
    },
    {
      "cell_type": "code",
      "execution_count": null,
      "metadata": {
        "id": "1WbSFe0fo3LG"
      },
      "outputs": [],
      "source": [
        "15 % 2  # % is used to compute remainder when dividing the first number by the second number"
      ]
    },
    {
      "cell_type": "markdown",
      "metadata": {
        "id": "mB3edmNPo3LH"
      },
      "source": [
        "### Comments\n",
        "\n",
        "In the code cells above, everything written to the right of the `#` symbol are called \"comments\" and are ignored when codes are run.  The purpose of comments is to explain the code to future (human) readers.  It is good practice to leave short comments to explain codes and computation.\n",
        "\n",
        "***Exercise***\n",
        "\n",
        "To convert from Fahrenheit to Celcius, we subtract 32 and multiply by 9/5.\n",
        "\n",
        "In the code cell below, please convert 73.5F to Celcius."
      ]
    },
    {
      "cell_type": "code",
      "execution_count": null,
      "metadata": {
        "id": "mY1r7GI5o3LH"
      },
      "outputs": [],
      "source": [
        "# add your work for the above exercise here\n",
        "\n",
        "\n",
        "\n"
      ]
    },
    {
      "cell_type": "markdown",
      "metadata": {
        "id": "VAIVHM7Do3LI"
      },
      "source": [
        "## 3. Naming quantities and objects\n",
        "\n",
        "Sometimes, we would like to give names for the values that we are working with so that we can easily refer to them.\n",
        "\n",
        "This is similar to how math variables might stand for a value (e.g. saying $x = 2$ means that $x+4$ stands for the value $6$).  That is, names are \"labels\" that point to a particular number or other objects. \n",
        "\n",
        "\n",
        "In python, we assign a value to a name, we use “=”\n",
        "```\n",
        "NAME = VALUE\n",
        "```\n",
        "\n",
        "For example:\n",
        "```\n",
        "x = 2\n",
        "my_favorite_number = 3.456\n",
        "```\n",
        "means that `x` now “stands for” the number 2 and `my_favorite_number` now stands for the number 3.456.\n",
        "\n",
        "\n",
        "### Rules for choosing python names/variables\n",
        "In general, it is useful to choose names that describes the quantity that it represents.  Names must satisfy the following constraints:\n",
        "+ names can only contain alpha-numeric characters and underscores (A-z, 0-9, and _ )\n",
        "+ must start with a letter or the underscore character\n",
        "+ cannot start with a number\n",
        "+ cannot contain spaces\n",
        "+ case-sensitive\n",
        "\n",
        "\n",
        "***Example***\n",
        "\n",
        "Please run the code cells below by clicking the code cell and pressing Shift + Enter.\n",
        "\n",
        "+ In the first code cell, we will see that 2 is being displayed, because it is the value set for `x`.  \n",
        "+ In the second code cell, we will see that only 3.456 is being displayed, but 2 isn't.  This is because only the latest value will be displayed.\n",
        "+ In the third code cell, we see that both 2 and 3.456 are displayed.  This is because we use the `print(NAME)` function to explicitly tell python ot display the value represented by each name.  We also see that this code cell displays the result of computing `x * 2 + 3`, which is 7 because `x` points to the value 2."
      ]
    },
    {
      "cell_type": "code",
      "execution_count": null,
      "metadata": {
        "id": "pOKyc2P0o3LJ"
      },
      "outputs": [],
      "source": [
        "x = 2  # here we set the value of the name x to 2\n",
        "x      # here we display the value represented by x"
      ]
    },
    {
      "cell_type": "code",
      "execution_count": null,
      "metadata": {
        "id": "WnWIyBTVo3LK"
      },
      "outputs": [],
      "source": [
        "x = 2\n",
        "my_favorite_number = 3.456\n",
        "x                 \n",
        "my_favorite_number"
      ]
    },
    {
      "cell_type": "code",
      "execution_count": null,
      "metadata": {
        "id": "Of4TD8kZo3LK"
      },
      "outputs": [],
      "source": [
        "x = 2\n",
        "my_favorite_number = 3.456\n",
        "print(x)                 \n",
        "print(my_favorite_number)\n",
        "print( x * 2 + 3)"
      ]
    },
    {
      "cell_type": "markdown",
      "metadata": {
        "id": "8IFw1wSVo3LL"
      },
      "source": [
        "***Exercise***\n",
        "\n",
        "In the code cell below, create a variable name `temp_Fahrenheit` that points to the value 73.5.\n",
        "\n",
        "Then, use create a variable name `temp_Celcius` whose value is the result of converting 73.5F to Celcius.  (Recall that to convert from Fahrenheit to Celcius, we subtract 32 and multiply by 5/9.)"
      ]
    },
    {
      "cell_type": "code",
      "execution_count": null,
      "metadata": {
        "id": "Db8CI7Pio3LL"
      },
      "outputs": [],
      "source": [
        "# add your work for the above exercise here\n",
        "\n",
        "\n",
        "\n"
      ]
    },
    {
      "cell_type": "markdown",
      "metadata": {
        "id": "WyQn9nCJo3LM"
      },
      "source": [
        "## 4. Data Types\n",
        "\n",
        "There are different types of data that python can work with.  Below are the main data types that are most important for us:\n",
        "+ int: Integer/whole numbers\n",
        "+ float: Numbers that could involve fractional parts\n",
        "+ str: String/text data.  In python, a text value is surrounded by a pair of either single or double quotes and could contain any characters.\n",
        "\n",
        "We can give names not only to numbers but also to text values (and other types of objects).\n",
        "\n",
        "***Example***\n",
        "\n",
        "In the following code cell, we store the text 'The Color Purple' in name/variable `my_favorite_book`, and display this value."
      ]
    },
    {
      "cell_type": "code",
      "execution_count": null,
      "metadata": {
        "id": "Y0He9qUvo3LM"
      },
      "outputs": [],
      "source": [
        "my_favorite_book = 'The Color Purple'"
      ]
    },
    {
      "cell_type": "markdown",
      "metadata": {
        "id": "lPym8Vtgo3LN"
      },
      "source": []
    },
    {
      "cell_type": "code",
      "execution_count": null,
      "metadata": {
        "id": "dj_mDmUNo3LN"
      },
      "outputs": [],
      "source": []
    },
    {
      "cell_type": "markdown",
      "metadata": {
        "id": "X0ARzRP_o3LO"
      },
      "source": [
        "## 5. Using Functions\n",
        "\n",
        "python allows us to do a lot of things using \"functions\".  Functions in python is somewhat analogous to mathematical functions.\n",
        "\n",
        "For example, $f(x) = x^2$ means that we have a function called $f$ which takes an input $x$ and whose output is $x$ multiplied by itself.  The \"formula\" for the function, $f(x) = x^2$, specifies the action that the function $f$ does to the input $x$.\n",
        "\n",
        "We can also think of functions in python as \"verbs\" which we can use to tell python to carry out a particular action or task.\n",
        "Just as some verbs in English must be followed by a noun (\"transitive verbs\") and some don't, some functions in python must take a particular object or input (often called an \"argument\") and some don't.\n",
        "\n",
        "A function\n",
        "+ takes **input(s)** (or argument(s) ) and\n",
        "+ **does something** based on / to the inputs.\n",
        "+ A function might also returns **output(s)**.\n",
        "\n",
        "### A few simple python functions\n",
        "\n",
        "`print(NAME)`\n",
        "+ Input: a name\n",
        "+ Action: to print the value represented/referred by a name\n",
        "+ Output: the value referred by that name\n",
        "\n",
        "`type(NAME)`\n",
        "+ Input: a name\n",
        "+ Action: to output the type of data referred to by a name\n",
        "+ Output: the type of data referred to by that name\n",
        "\n",
        "We will see more python functions later.\n",
        "\n",
        "***Example***\n",
        "\n",
        "The code cell below confirms that the value stored in the name `x` is an integer/whole number."
      ]
    },
    {
      "cell_type": "code",
      "execution_count": null,
      "metadata": {
        "id": "jh5r35yUo3LP"
      },
      "outputs": [],
      "source": [
        "x = 2\n",
        "type(x)"
      ]
    },
    {
      "cell_type": "markdown",
      "metadata": {
        "id": "P_9-0Wibo3LP"
      },
      "source": [
        "***Exercise***\n",
        "\n",
        "Please find the type of values stored in the names `my_favorite_number` and `my_favorite_book` below, using the `type()` function."
      ]
    },
    {
      "cell_type": "code",
      "execution_count": null,
      "metadata": {
        "id": "Re1A6RpJo3LP"
      },
      "outputs": [],
      "source": [
        "my_favorite_number = 3.456\n",
        "\n"
      ]
    },
    {
      "cell_type": "code",
      "execution_count": null,
      "metadata": {
        "id": "djxOTyBSo3LQ"
      },
      "outputs": [],
      "source": [
        "my_favorite_book = 'The Color Purple'\n",
        "\n"
      ]
    },
    {
      "cell_type": "markdown",
      "metadata": {
        "id": "_znXN9sCo3LQ"
      },
      "source": [
        "***Exercise***\n",
        "\n",
        "Use the empty code cell below to experiment. Create new variables, assign values (numerical or text) to them, use the `print()` function to display the values, and use the `type()` function to display the type."
      ]
    },
    {
      "cell_type": "code",
      "execution_count": null,
      "metadata": {
        "id": "0q6lBJhFo3LQ"
      },
      "outputs": [],
      "source": []
    },
    {
      "cell_type": "markdown",
      "metadata": {
        "id": "ngA-lDoro3LR"
      },
      "source": [
        "## 6. Python libraries\n",
        "\n",
        "Python is a general purpose programming language.  In order to ask python to carry out certain types of specialized tasks (e.g., data analysis, etc.), we need to ask python to \"fetch\" or to \"import\" specialized \"toolboxes\".  These \"toolboxes\" are called libraries or packages.\n",
        "\n",
        "Some of the libraries that we will use:\n",
        "+ numpy: for mathematical computation\n",
        "+ pandas: for working with data tables\n",
        "+ seaborn: for making plots\n",
        "+ sklearn: for working with mathematical models\n",
        "\n",
        "### Importing a library\n",
        "\n",
        "To ask python to load/import a particular library, we use the `import` command:\n",
        "```\n",
        "import numpy\n",
        "```\n",
        "\n",
        "We can also give libraries a nickname of our choice:\n",
        "```\n",
        "import numpy as np\n",
        "```\n",
        "Here, `np` could have been any other nickname that we choose.  However, `np` is a commonly used nickname for the `numpy` package, so we will use that here.\n",
        "\n",
        "Looking ahead, to import the `pandas` and `seaborn` libraries, we use:\n",
        "```\n",
        "import pandas as pd\n",
        "import seaborn as sns\n",
        "```\n",
        "\n"
      ]
    },
    {
      "cell_type": "markdown",
      "metadata": {
        "id": "kkIKyAydo3LR"
      },
      "source": [
        "***Exercise***\n",
        "\n",
        "Please type \n",
        "```\n",
        "import numpy as np\n",
        "```\n",
        "in the code cell below, and run it."
      ]
    },
    {
      "cell_type": "code",
      "execution_count": null,
      "metadata": {
        "id": "S8ZdH2wko3LS"
      },
      "outputs": [],
      "source": [
        "# import ......\n"
      ]
    },
    {
      "cell_type": "markdown",
      "metadata": {
        "id": "oOmU9bpio3LS"
      },
      "source": [
        "### The contents of a library\n",
        "\n",
        "A library contains \"tools\" that we can use to accomplish various tasks.  One of the main types of tools in a library are **functions**.\n",
        "\n",
        "For example, numpy contains mathematical functions (taking a square root, absolute value, etc.).  The function for taking the square root of a number is `sqrt( NUMBER )`.  But since this function can only be found inside of the `numpy` library, we need to write `np.sqrt( NUMBER )` to use the function.\n",
        "\n",
        "***Example***\n",
        "\n",
        "In the code cell below, we compute the square root of 4 using the `np.sqrt( NUMBER )` function.  Before running the code cell below, please make sure you have imported numpy as np in the code cell above!"
      ]
    },
    {
      "cell_type": "code",
      "execution_count": null,
      "metadata": {
        "id": "3mNq7QqEo3LS"
      },
      "outputs": [],
      "source": [
        "np.sqrt(4)"
      ]
    },
    {
      "cell_type": "markdown",
      "metadata": {
        "id": "RhleizPyo3LT"
      },
      "source": [
        "We will use other tools inside the numpy and pandas toolboxes later in this lesson."
      ]
    },
    {
      "cell_type": "markdown",
      "metadata": {
        "id": "MC6kkUFwo3LT"
      },
      "source": [
        "## 7. Lists and Data Frames\n",
        "\n",
        "### Lists\n",
        "\n",
        "Sometimes, we need to work not just with one number but a collection of numbers; in python, these collections of numbers are called lists.\n",
        "\n",
        "Lists are created by placing the list elements between a pair of square brackets, separated by commas.  As with numbers and texts, we can give names to lists.\n",
        "\n",
        "For example, to specify a list named `Mylist` which contains the numbers 1, 3, 5, and 7, we use the command\n",
        "```\n",
        "Mylist = [ 1 , 3 , 5 , 7 ]\n",
        "```\n",
        "A list could contain texts, numbers, or even other lists.  For example, the list `Mylist2` below has three elements: the text 'The Color Purple', the number 1, and the list [1, 3, 5, 7].\n",
        "```\n",
        "Mylist2 = [ 'The Color Purple', 1, [1, 3, 5, 7] ]\n",
        "```\n",
        "\n",
        "### Extracting elements of a list\n",
        "Python indexes elements starting from 0, 1, 2, ... .  So, the “first” element has index 0, the “second” element has index 1, etc.  To get the element at index `n` from a list `LISTNAME`, we use the square brackets:\n",
        "```\n",
        "LISTNAME[n]\n",
        "```\n",
        "\n",
        "***Example***\n",
        "\n",
        "In the code cell below, we specify a list named `Mylist` which contains the numbers 1, 3, 5, and 7.  \n",
        "+ Please run to code cell to verify that this is done correctly.\n",
        "+ Then, extract the number 5 from this list (which is located at index 2)"
      ]
    },
    {
      "cell_type": "code",
      "execution_count": null,
      "metadata": {
        "scrolled": true,
        "id": "jyAaxjh3o3LU"
      },
      "outputs": [],
      "source": [
        "Mylist = [ 1 , 3 , 5 , 7 ]\n",
        "Mylist"
      ]
    },
    {
      "cell_type": "code",
      "execution_count": null,
      "metadata": {
        "id": "ylAiy9Sbo3LU"
      },
      "outputs": [],
      "source": [
        "# extract the number 5 from Mylist above (the number 5 is located at index 2)\n",
        "\n",
        "\n"
      ]
    },
    {
      "cell_type": "markdown",
      "metadata": {
        "id": "6Jh1qzqMo3LU"
      },
      "source": [
        "***Example***\n",
        "\n",
        "In the code cell below, please specify a list named `Mylist2` which contains the text 'The Color Purple', the number 1, and the list [1, 3, 5, 7].\n",
        "\n",
        "What is the element at index 2?"
      ]
    },
    {
      "cell_type": "code",
      "execution_count": null,
      "metadata": {
        "id": "ELGrt95no3LV"
      },
      "outputs": [],
      "source": [
        "# please complete the code cell below to create a list called Mylist 2\n",
        "#  which contains the text 'The Color Purple', the number 1, and the list [1, 3, 5, 7].\n",
        "\n",
        "Mylist2 = "
      ]
    },
    {
      "cell_type": "code",
      "execution_count": null,
      "metadata": {
        "id": "MN4y_d69o3LV"
      },
      "outputs": [],
      "source": [
        "# After completing the above code cell, please run this code cell to extract the element at index 2\n",
        "#  Does the result make sense?\n",
        "\n",
        "Mylist2[2]"
      ]
    },
    {
      "cell_type": "markdown",
      "metadata": {
        "id": "JfcgpqP3o3LV"
      },
      "source": [
        "### Useful functions for working with lists and arrays\n",
        "\n",
        "The following are a few other useful functions that we can use to examine lists:\n",
        "+ `len( LISTNAME )`: to find the \"length\" of a list \n",
        "   (i.e. how many values are stored in a list\n",
        "+ `max( LISTNAME )`: to find the largest value in a list\n",
        "+ `min( LISTNAME )`: to find the smallest value in a list\n",
        "+ `np.sum( LISTNAME )`: to find the sum of numerical values in a list or a numpy array\n",
        "+ `np.mean( LISTNAME )`: to find the mean of numerical values in a list or a numpy array\n",
        "\n",
        "***Exercise***\n",
        "\n",
        "Please try the above functions on the lists `Mylist3` and `favorite_books` below"
      ]
    },
    {
      "cell_type": "code",
      "execution_count": null,
      "metadata": {
        "id": "OKAgRV7go3LW"
      },
      "outputs": [],
      "source": [
        "Mylist3 = [ 10, -13.3, 200, 1, 0.0034 ]\n",
        "\n",
        "\n"
      ]
    },
    {
      "cell_type": "code",
      "execution_count": null,
      "metadata": {
        "id": "RwqHU-Xuo3LW"
      },
      "outputs": [],
      "source": [
        "favorite_books = ['The Color Purple', 'The Sun Also Rises', 'The Hobbit']\n",
        "\n",
        "\n"
      ]
    },
    {
      "cell_type": "code",
      "execution_count": null,
      "metadata": {
        "id": "-B49ELOZo3LW"
      },
      "outputs": [],
      "source": [
        "\n",
        "\n"
      ]
    },
    {
      "cell_type": "markdown",
      "metadata": {
        "id": "eLx7ZGmwo3LX"
      },
      "source": [
        "### Arithmetic Operations on Lists\n",
        "\n",
        "Suppose that we would like to carry out arithmetic operations to numbers in a list.  For instance, suppose that the list `temp_forecast` below stores average daily tempreatures, in Fahrenheit, for the next 7 days, and we would like to convert each temperature to Celcius.\n",
        "\n",
        "```\n",
        "temp_forecast = [ 73.5, 82, 69.5, 68 , 70.1 ]\n",
        "```\n",
        "\n",
        "We could do the following one-by-one to each of the five numbers: subtract 32 from each number and multiply by 5/9.  However, this is tedious.  It would be nice if we could simply carry out this arithmetic operation directly using the list name, as below.\n",
        "\n",
        "```\n",
        "(temp_forecast - 32) * 5/9\n",
        "```\n",
        "However, we will see below that this does not work.\n",
        "\n",
        "***Example***\n",
        "\n",
        "Please run the code cells below.  We expect to see an error message in the second code cell."
      ]
    },
    {
      "cell_type": "code",
      "execution_count": null,
      "metadata": {
        "id": "qLHZ7iWeo3LX"
      },
      "outputs": [],
      "source": [
        "temp_forecast = [ 73.5, 82, 69.5, 68 , 70.1 ]\n",
        "temp_forecast"
      ]
    },
    {
      "cell_type": "code",
      "execution_count": null,
      "metadata": {
        "scrolled": true,
        "id": "UpE_Gsdwo3LY"
      },
      "outputs": [],
      "source": [
        "(temp_forecast - 32) * 9.5"
      ]
    },
    {
      "cell_type": "markdown",
      "metadata": {
        "id": "eY2b87emo3LY"
      },
      "source": [
        "### Numpy Arrays\n",
        "\n",
        "The good news: We can carry out arithmetic operations to a numpy array.\n",
        "\n",
        "A numpy array is a python object that is essentially a list of numbers, but one that we could apply arithmetic operations to.\n",
        "\n",
        "To create a numpy array, we use the function `np.array( LISTNAME )` from the numpy library.\n",
        "+ Input: a list of numbers\n",
        "+ Action: convert the list to a 'numpy array', a special type of list-like object that we can apply arithmetic operations to\n",
        "+ Output: a numpy array\n",
        "\n",
        "\n",
        "***Example***\n",
        "\n",
        "In the example below, we create a numpy array called `temp_forecast_array` and apply arithmetic operations to convert the temperatures stored in this array to Celcius.\n",
        "\n",
        "Please run the code cells below, in order, and confirm that the list `temp_forecast_array_Celcius` contains the result of applying arithmetic operations to `temp_forecast_array`."
      ]
    },
    {
      "cell_type": "code",
      "execution_count": null,
      "metadata": {
        "id": "GZOqQ75no3LY"
      },
      "outputs": [],
      "source": [
        "temp_forecast = [ 73.5, 82, 69.5, 68 , 70.1 ]  # a list of numbers\n",
        "\n",
        "temp_forecast"
      ]
    },
    {
      "cell_type": "code",
      "execution_count": null,
      "metadata": {
        "id": "GoNz1xq7o3LY"
      },
      "outputs": [],
      "source": [
        "import numpy as np                             # import the numpy library, give it a nickname np\n",
        "temp_forecast_array = np.array(temp_forecast ) # create an array\n",
        "\n",
        "temp_forecast_array"
      ]
    },
    {
      "cell_type": "code",
      "execution_count": null,
      "metadata": {
        "id": "r91Ayf2qo3LZ"
      },
      "outputs": [],
      "source": [
        "temp_forecast_array_Celcius = (temp_forecast_array - 32) * 5 / 9\n",
        "temp_forecast_array_Celcius"
      ]
    },
    {
      "cell_type": "markdown",
      "metadata": {
        "id": "Lme-oF3oo3LZ"
      },
      "source": [
        "***Exercise***\n",
        "\n",
        "Please create a numpy array called `heights_inches` which contains the height of five people (in inches): 73, 64, 69, 58, 75.\n",
        "\n",
        "Please multiply this array by 2.54 to create a numpy array called `heights_cm` containing the conversion of these numbers to centimeters."
      ]
    },
    {
      "cell_type": "code",
      "execution_count": null,
      "metadata": {
        "id": "v4yB9_D3o3La"
      },
      "outputs": [],
      "source": [
        "\n"
      ]
    },
    {
      "cell_type": "markdown",
      "metadata": {
        "id": "XlYkBTFUo3La"
      },
      "source": [
        "### Arithmetic operations between two numpy arrays\n",
        "\n",
        "If we have two numpy arrays that have the same number of elements, then applying arithmetic operations between two arrays results in another numpy arrays where the operations are done element-wise.\n",
        "\n",
        "***Example***\n",
        "\n",
        "Consider the two arrays below, `array1` and `array2`; each array contains 4 numbers.  Adding the two arrays together, `array1 + array2` results in an array of length 4 whose elements are the sum of corresponding elements of `array1` and `array2`.  Similarly with other operations (multiplication, division, exponentiation, etc.)"
      ]
    },
    {
      "cell_type": "code",
      "execution_count": null,
      "metadata": {
        "id": "S-AekgYxo3La"
      },
      "outputs": [],
      "source": [
        "array1 = np.array( [1, -3, 2.5 ] )\n",
        "array2 = np.array( [-10, 7, 2 ] )\n",
        "print(array1)\n",
        "print(array2)"
      ]
    },
    {
      "cell_type": "code",
      "execution_count": null,
      "metadata": {
        "id": "MYYrOxtCo3Lb"
      },
      "outputs": [],
      "source": [
        "array1 + array2"
      ]
    },
    {
      "cell_type": "code",
      "execution_count": null,
      "metadata": {
        "id": "9XHUO8xEo3Lb"
      },
      "outputs": [],
      "source": [
        "array1 - array2"
      ]
    },
    {
      "cell_type": "code",
      "execution_count": null,
      "metadata": {
        "id": "NMEwbsh7o3Lb"
      },
      "outputs": [],
      "source": [
        "array1 * array2"
      ]
    },
    {
      "cell_type": "code",
      "execution_count": null,
      "metadata": {
        "id": "9EAHZOsVo3Lc"
      },
      "outputs": [],
      "source": [
        "array1 / array2"
      ]
    },
    {
      "cell_type": "code",
      "execution_count": null,
      "metadata": {
        "id": "_ilZ-OeWo3Lc"
      },
      "outputs": [],
      "source": [
        "array1 ** array2  # exponentiation"
      ]
    },
    {
      "cell_type": "markdown",
      "metadata": {
        "id": "hJ3UwE8Zo3Lc"
      },
      "source": [
        "### Data Frames\n",
        "\n",
        "Recall that pandas is a python library for working with data.  To work with data frames, we first import the pandas library.\n",
        "\n",
        "***Exercise***\n",
        "\n",
        "Please run the code cell below to import pandas, giving it a \"nickname\" pd.  We will also import the seaborn library, giving it a nickname sns.  We will use seaborn in lesson 2."
      ]
    },
    {
      "cell_type": "code",
      "execution_count": null,
      "metadata": {
        "id": "80fn1ziCo3Ld"
      },
      "outputs": [],
      "source": [
        "# run this code cell\n",
        "\n",
        "import pandas as pd\n",
        "import seaborn as sns"
      ]
    },
    {
      "cell_type": "markdown",
      "metadata": {
        "id": "o1yrsb3jo3Ld"
      },
      "source": [
        "Data frames simply as the term that pandas uses to refer to data tables (similar to how excel spreadsheets organize data, in rows and columns).\n",
        "\n",
        "More precisely, though, data frames are a particular type of objects in python/pandas. We have seen other objects as well earlier in this homework: lists are objects, numpy arrays are objects, integers are objects, etc.\n",
        "\n",
        "\n",
        "There are two main ways we can get data frames in python.\n",
        "1. Importing a file from a directory in you computer or from the internet\n",
        "2. Entering data manually into a data frame\n",
        "\n",
        "#### 1. Importing a file from a directory in you computer or from the internet\n",
        "A common format to store data is a “comma separated values” file (.csv).  We use the function\n",
        "```\n",
        "pd.read_csv( 'FILENAME' )\n",
        "```\n",
        "when we want pandas to \"read\" a csv file and store it as a data frame:\n",
        "+ Input: the name of the csv file located in the same directory as the jupyter notebook\n",
        "+ Output: a pandas data frame\n",
        "\n",
        "***Example***\n",
        "\n",
        "In this lesson01 folder, we have a csv file called `berkeley73.csv`.  In the code cell below, we load the content of this file as a pandas data frame and name it `berkeleydata`."
      ]
    },
    {
      "cell_type": "code",
      "execution_count": null,
      "metadata": {
        "id": "HEbY6Jwco3Le"
      },
      "outputs": [],
      "source": [
        "berkeleydata = pd.read_csv('berkeley73.csv')\n",
        "berkeleydata"
      ]
    },
    {
      "cell_type": "markdown",
      "metadata": {
        "id": "f6Qi2vCDo3Lf"
      },
      "source": [
        "We can also use the `pd.read_csv()` function to read a csv file from a URL:\n",
        "```\n",
        "pd.read_csv(‘URL’)\n",
        "```\n",
        "\n",
        "\n",
        "***Example***\n",
        "\n",
        "The following URL is a link to global temperature time series dataset from [DataHub](https://datahub.io/core/global-temp):\n",
        "\n",
        "https://pkgstore.datahub.io/core/global-temp/annual_csv/data/a26b154688b061cdd04f1df36e4408be/annual_csv.csv\n",
        "\n",
        "If we simply click on this link, we will see the csv file that contains the temperature data.  To load this dataset as a pandas data frame, we use the `pd.read_csv()` function.  Please run the following code cell to accomplish this."
      ]
    },
    {
      "cell_type": "code",
      "execution_count": null,
      "metadata": {
        "id": "HeXlIL0po3Lf"
      },
      "outputs": [],
      "source": [
        "global_temp = pd.read_csv('https://pkgstore.datahub.io/core/global-temp/annual_csv/data/a26b154688b061cdd04f1df36e4408be/annual_csv.csv')\n",
        "\n",
        "global_temp"
      ]
    },
    {
      "cell_type": "markdown",
      "metadata": {
        "id": "HcApBhONo3Lg"
      },
      "source": [
        "#### 2. Entering data manually into a data frame\n",
        "Occasionally, we might want to type in our data manually into a data frame.  To do this, we use the `pd.DataFrame()` function\n",
        "```\n",
        "pd.DataFrame( { ‘COLNAME1’ : LIST1, ‘COLNAME2’: LIST2, … } )\n",
        "```\n",
        "\n",
        "\n",
        "\n",
        "***Example***\n",
        "\n",
        "Suppose that an animal shelter has the following data on animals in their care that are ready for adoption.\n",
        "\n",
        "<table>\n",
        "    <tr>\n",
        "        <th>Name</th>\n",
        "        <th>Species</th>\n",
        "        <th>Age_yr</th>\n",
        "        <th>Weight_lb</th>\n",
        "    </tr>\n",
        "    <tr>\n",
        "        <td>Artoo</td>\n",
        "        <td>Dog</td>\n",
        "        <td>5</td>\n",
        "        <td>121.7</td>\n",
        "    </tr>\n",
        "    <tr>\n",
        "        <td>Bunbun</td>\n",
        "        <td>Rabbit</td>\n",
        "        <td>2</td>\n",
        "        <td>5.1</td>\n",
        "    </tr>\n",
        "    <tr>\n",
        "        <td>Catherine</td>\n",
        "        <td>Cat</td>\n",
        "        <td>12</td>\n",
        "        <td>15.5</td>\n",
        "    </tr>\n",
        "    <tr>\n",
        "        <td>Doug</td>\n",
        "        <td>Dog</td>\n",
        "        <td>3</td>\n",
        "        <td>17.2</td>\n",
        "    </tr>\n",
        "    <tr>\n",
        "        <td>Ernie</td>\n",
        "        <td>Guinea Pig</td>\n",
        "        <td>1</td>\n",
        "        <td>2.7</td>\n",
        "    </tr>\n",
        "<table>\n",
        "\n",
        "We will create a dataframe called `animals` containing the above information (four variables, five observations)."
      ]
    },
    {
      "cell_type": "code",
      "execution_count": null,
      "metadata": {
        "id": "BOHZDNiSo3Lh"
      },
      "outputs": [],
      "source": [
        "# Run the following code cell\n",
        "\n",
        "animals = pd.DataFrame( {\n",
        "    'Name':['Artoo', 'Bunbun', 'Catherine', 'Doug', 'Ernie'],  # first col: the col name is 'Name', followed by a list of the five values in this column\n",
        "    'Species':['Dog' , 'Rabbit', 'Cat' , 'Dog', 'Guinea Pig'],\n",
        "    'Age_yr':[5, 2, 12, 3, 1],\n",
        "    'Weight_lb':[121.7, 5.1, 15.5, 17.2, 2.7]\n",
        "} )"
      ]
    },
    {
      "cell_type": "markdown",
      "metadata": {
        "id": "3L7okjbBo3Lh"
      },
      "source": [
        "To check that the `animals` dataframe has been created correctly, run the code cell below."
      ]
    },
    {
      "cell_type": "code",
      "execution_count": null,
      "metadata": {
        "id": "mTStwSd_o3Li"
      },
      "outputs": [],
      "source": [
        "# run this code cell to view the animals dataframe\n",
        "\n",
        "animals"
      ]
    },
    {
      "cell_type": "markdown",
      "metadata": {
        "id": "fglAoU4ao3Li"
      },
      "source": [
        "This is the end of Lesson 1.  You have now learned the basics of using python and Jupyter notebooks for computing.  You are encouraged to try the exercises below to practice your new skills.\n",
        "\n",
        "## Lesson 1 Exercises"
      ]
    },
    {
      "cell_type": "markdown",
      "metadata": {
        "id": "aLsBr1b0o3Li"
      },
      "source": [
        "***Exercise 1*** *(Using python for computing and arithmetic; using descriptive variable names and comments)*\n",
        "\n",
        "Ali and Sam went to a restaurant and together purchased a \\\\$11.48 beef enchilada and a \\\\$9.62 quesadilla.  Sales tax for restaurants in this city is 8.875\\%.  Please use python to answer the two questions below.\n",
        "1. How much is their total bill, including this tax (but not including additional tip)?\n",
        "\n",
        "2. Suppose that they added a \\\\$3.15 tip at the end.  How many percent of the pre-tax total is this tip?\n",
        "\n",
        "\n",
        "Note: Instead of simply entering one line of numbers and arithmetic operations, you must do the following:\n",
        "+ Give descriptive names to the various numbers that are involved.  <br>\n",
        "(For example, `enchilada = 11.48`,  `taxrate = 0.08875`, etc.)\n",
        "\n",
        "+ As needed, give names to some of the intermediate quantities.  <br>\n",
        "(For example, `subtotal = ... `, etc. before computing the total bill.)\n",
        "\n",
        "+ Add a couple of short comments to explain the computation.  (Imagine that you have to explain the arithmetic to a foreign friend who isn't familiar with how tax and tips work.)\n",
        "\n",
        "\n",
        "Please briefly explain your work as a comment or in the provided markdown cell.\n"
      ]
    },
    {
      "cell_type": "code",
      "execution_count": null,
      "metadata": {
        "id": "nVR0o91ko3Lj"
      },
      "outputs": [],
      "source": [
        "# your work for exercise 1 here\n",
        "# ...\n"
      ]
    },
    {
      "cell_type": "markdown",
      "metadata": {
        "id": "4rMebUgmo3Lj"
      },
      "source": [
        "..."
      ]
    },
    {
      "cell_type": "markdown",
      "metadata": {
        "id": "lKlyDPL5o3Lj"
      },
      "source": [
        "***Exercise 2*** *(Working with lists and arrays)*\n",
        "\n",
        "\n",
        "Charlie commutes to school using public transportation and regularly takes notes of their daily morning commute length.  Below are their commute lengths (in minutes) in one particular week.\n",
        "<center> 30,  62,  40,  42,  39 </center>\n",
        "\n",
        "1. Please create a **list** called `commute` that stores Charlie's commute times in minutes.\n",
        "2. On average, how long is Charlie's morning commute?  Use the `sum()` and `len()` functions to compute this number.\n",
        "\n",
        "3. Create a **numpy array** called `commute_array` that stores Charlie's commute times.  (Use the `np.array()` function we learned above.)  Then, multiply `commute_array` by 60 and name the result `commute_array_seconds`.  Note that `commute_array_seconds` is a numpy array that stores Charlie's commute times, in seconds.\n",
        "\n",
        "4. Try multiplying the **list** `commute` by 60.  Does it give you the same result as when you multiply the **numpy array** `commute_array` by 60 ?  What do you observe?\n",
        "\n",
        "5. In Question 2 above, we were able to compute Charlie's average morning commute using the `sum()` and `len()` function.  We will compute Charlie's average morning commute using another method. <br>\n",
        "There is a function called `mean()` **from the numpy library**, which will compute the average of an array of numbers. Please use this function to compute the average length of Charlie's morning commute (in minutes).  Hint: since the mean function is from the numpy library, use `np.mean()`.\n",
        "\n",
        "6. How much longer than average is Charlie's longest commute time last week?  How much shorter than average is Charlie's shortest commute time last week?"
      ]
    },
    {
      "cell_type": "code",
      "execution_count": null,
      "metadata": {
        "id": "88kwjgWVo3Lk"
      },
      "outputs": [],
      "source": [
        "# your work for exercise 2 here\n",
        "# ...\n"
      ]
    },
    {
      "cell_type": "markdown",
      "metadata": {
        "id": "dLeO3n7po3Lk"
      },
      "source": [
        "..."
      ]
    },
    {
      "cell_type": "markdown",
      "metadata": {
        "id": "OGlAGqn1o3Lk"
      },
      "source": [
        "***Exercise 3*** *(Working with data frames)*\n",
        "\n",
        "Charlie took note not just of their commute times but also of other weather data everyday in one particular week.\n",
        "\n",
        "<table>\n",
        "    <tr>\n",
        "        <th>Day</th>\n",
        "        <th>Commmute_length</th>\n",
        "        <th>Temperature</th>\n",
        "        <th>Humidity</th>\n",
        "    </tr>\n",
        "    <tr>\n",
        "        <td>Day 1</td>\n",
        "        <td>30</td>\n",
        "        <td>5</td>\n",
        "        <td>121.7</td>\n",
        "    </tr>\n",
        "    <tr>\n",
        "        <td>Day 2</td>\n",
        "        <td>60</td>\n",
        "        <td>2</td>\n",
        "        <td>5.1</td>\n",
        "    </tr>\n",
        "    <tr>\n",
        "        <td>Day 3</td>\n",
        "        <td>40</td>\n",
        "        <td>12</td>\n",
        "        <td>15.5</td>\n",
        "    </tr>\n",
        "    <tr>\n",
        "        <td>Day 4</td>\n",
        "        <td>42</td>\n",
        "        <td>3</td>\n",
        "        <td>17.2</td>\n",
        "    </tr>\n",
        "    <tr>\n",
        "        <td>Day 5</td>\n",
        "        <td>39</td>\n",
        "        <td>1</td>\n",
        "        <td>2.7</td>\n",
        "    </tr>\n",
        "<table>\n",
        "    \n",
        "Please create a data frame called `commute_data` that contains the above information (four variables and five observations)."
      ]
    },
    {
      "cell_type": "code",
      "execution_count": null,
      "metadata": {
        "id": "IHQJ5GvJo3Ll"
      },
      "outputs": [],
      "source": [
        "# your work for exercise 3 here\n",
        "# ...\n"
      ]
    },
    {
      "cell_type": "code",
      "execution_count": null,
      "metadata": {
        "id": "ilHKRl50o3Ll"
      },
      "outputs": [],
      "source": []
    },
    {
      "cell_type": "code",
      "execution_count": null,
      "metadata": {
        "id": "KLzdGoufo3Ll"
      },
      "outputs": [],
      "source": []
    }
  ],
  "metadata": {
    "kernelspec": {
      "display_name": "Python 3",
      "language": "python",
      "name": "python3"
    },
    "language_info": {
      "codemirror_mode": {
        "name": "ipython",
        "version": 3
      },
      "file_extension": ".py",
      "mimetype": "text/x-python",
      "name": "python",
      "nbconvert_exporter": "python",
      "pygments_lexer": "ipython3",
      "version": "3.7.6"
    },
    "colab": {
      "provenance": [],
      "include_colab_link": true
    }
  },
  "nbformat": 4,
  "nbformat_minor": 0
}