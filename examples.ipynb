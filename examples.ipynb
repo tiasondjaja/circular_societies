{
 "cells": [
  {
   "cell_type": "code",
   "execution_count": 1,
   "metadata": {},
   "outputs": [],
   "source": [
    "import circularsocieties\n",
    "from circularsocieties import CircularSociety"
   ]
  },
  {
   "cell_type": "markdown",
   "metadata": {
    "colab_type": "text",
    "id": "kUQENXpu_Gp_"
   },
   "source": [
    "## Examples"
   ]
  },
  {
   "cell_type": "markdown",
   "metadata": {
    "colab_type": "text",
    "id": "N07STkUEAjpi"
   },
   "source": [
    "### Example 1"
   ]
  },
  {
   "cell_type": "code",
   "execution_count": 2,
   "metadata": {
    "colab": {},
    "colab_type": "code",
    "id": "aC1df4CUf2xg"
   },
   "outputs": [
    {
     "name": "stdout",
     "output_type": "stream",
     "text": [
      "Circular Society Name: S1\n",
      "Spectrum: [0, 10].  (Note: we identify 0 = 10)\n",
      "Number of Voters: 5\n",
      "Approval Sets:\n",
      " Set1: [3, 5]\n",
      " Set2: [0,3] U [6, 10]\n",
      " Set3: [5, 8]\n",
      " Set4: [0,1] U [7, 10]\n",
      " Set5: [6, 9]\n",
      "4\n",
      "7\n"
     ]
    },
    {
     "data": {
      "image/png": "[encoded data removed]",
      "text/plain": [
       "<Figure size 432x288 with 1 Axes>"
      ]
     },
     "metadata": {
      "needs_background": "light"
     },
     "output_type": "display_data"
    }
   ],
   "source": [
    "# Example 1  (Run this cell by pressing Shift + Enter or clicking the \"play\" button to the side)\n",
    "\n",
    "# Creating a circular society named A (with a string name \"S1\") where the spectrum is [0, 10] (where 0 = 10)\n",
    "A = CircularSociety( \"S1\", 10)\n",
    "\n",
    "#   Adding sets \n",
    "A.addApprovalSet( \"Set1\", 3, 5 )  # \"Set1\" is the set's name, left endpoint = 3, right endpoint = 5\n",
    "A.addApprovalSet( \"Set2\", 0, 2 )\n",
    "A.addApprovalSet( \"Set3\", 5, 8 )\n",
    "A.addApprovalSet( \"Set4\", 7, 1 )\n",
    "A.addApprovalSet( \"Set5\", 6, 9 )\n",
    "A.addApprovalSet( \"Set6\", 2, 4 )\n",
    "\n",
    "#  Editing an existing set\n",
    "A.editApprovalSet( \"Set2\", 6, 3)\n",
    "\n",
    "#  Removing a set (by its names)\n",
    "A.removeApprovalSet( \"Set6\" )\n",
    "\n",
    "#  Displaying the circular society's information (name, is it uniform, the spectrum, number of voters, list of approval sets) \n",
    "A.printSocietyInfo()\n",
    "\n",
    "#  Visualizing the circular society; each set is plotted horizontally (different y coordinates for different sets)\n",
    "A.visualize( )\n",
    "\n",
    "#  Checking if the set is left-right alternating (returns True or False)\n",
    "A.is_LR_alt()\n",
    "\n",
    "# Finding the agreement number of the society\n",
    "a, pos = A.findAgreementNumber()\n",
    "print(a)\n",
    "print(pos)"
   ]
  },
  {
   "cell_type": "markdown",
   "metadata": {
    "colab_type": "text",
    "id": "kS2xv2-GAlni"
   },
   "source": [
    "### Example 2"
   ]
  },
  {
   "cell_type": "code",
   "execution_count": 3,
   "metadata": {
    "colab": {},
    "colab_type": "code",
    "id": "ZVdlx7pBf2x9"
   },
   "outputs": [
    {
     "name": "stdout",
     "output_type": "stream",
     "text": [
      "Circular Society Name: Soc1\n",
      "Spectrum: [0, 7].  (Note: we identify 0 = 7)\n",
      "Number of Voters: 7\n",
      "Approval Sets:\n",
      " Set 1: [0, 3.5]\n",
      " Set 2: [1, 4.5]\n",
      " Set 3: [2, 5.5]\n",
      " Set 4: [3, 6.5]\n",
      " Set 5: [0,0.5] U [4, 7]\n",
      " Set 6: [0,1.5] U [5, 7]\n",
      " Set 7: [0,2.5] U [6, 7]\n",
      "(['LSet 1', 'RSet 5', 'LSet 2', 'RSet 6', 'LSet 3', 'RSet 7', 'LSet 4', 'RSet 1', 'LSet 5', 'RSet 2', 'LSet 6', 'RSet 3', 'LSet 7', 'RSet 4'], [0, 0.5, 1, 1.5, 2, 2.5, 3, 3.5, 4, 4.5, 5, 5.5, 6, 6.5])\n",
      "Is the society left-right alternating? True\n",
      "Agreement number is:  4\n",
      "Location of max agreement along the horizontal axis (potentially one of several):  0\n"
     ]
    },
    {
     "data": {
      "image/png": "[encoded data removed]",
      "text/plain": [
       "<Figure size 432x288 with 1 Axes>"
      ]
     },
     "metadata": {
      "needs_background": "light"
     },
     "output_type": "display_data"
    }
   ],
   "source": [
    "# Example 2 (Run this cell by pressing Shift + Enter or clicking the \"play\" button to the side)\n",
    "\n",
    "# Generating a Uniform Society named S1 (with a string name \"Soc1\"), U(7, 4)\n",
    "S1 = circularsocieties.generateUniformCircularSociety( \"Soc1\", 7, 4)\n",
    "\n",
    "#  Displaying the circular society's information (name, is it uniform, the spectrum, number of voters, list of approval sets) \n",
    "S1.printSocietyInfo()\n",
    "\n",
    "#  Visualizing the circular society; each set is plotted horizontally (different y coordinates for different sets)\n",
    "S1.visualize( )\n",
    "\n",
    "# Displaying the list of left/right endpoints starting from x = 0.\n",
    "print(S1.listSetEndpoints())\n",
    "\n",
    "# Checking if the set is left-right alternating (returns True or False)\n",
    "print(\"Is the society left-right alternating?\", S1.is_LR_alt() )\n",
    "\n",
    "# Find the agreement number of this society\n",
    "a, location = S1.findAgreementNumber()\n",
    "print(\"Agreement number is: \", a)\n",
    "print(\"Location of max agreement along the horizontal axis (potentially one of several): \", location)"
   ]
  },
  {
   "cell_type": "markdown",
   "metadata": {
    "colab_type": "text",
    "id": "IS2YcGhRAnv_"
   },
   "source": [
    "### Example 3"
   ]
  },
  {
   "cell_type": "code",
   "execution_count": 4,
   "metadata": {
    "colab": {},
    "colab_type": "code",
    "id": "NmOqH2Gof2yT"
   },
   "outputs": [
    {
     "name": "stdout",
     "output_type": "stream",
     "text": [
      "Circular Society Name: A\n",
      "Spectrum: [0, 10].  (Note: we identify 0 = 10)\n",
      "Number of Voters: 10\n",
      "Approval Sets:\n",
      " Set 1: [1.2672448750566767, 5.142017308758076]\n",
      " Set 2: [1.012580142772641, 2.6525486066313397]\n",
      " Set 3: [0,0.2763286789174091] U [5.671079711241608, 10]\n",
      " Set 4: [0,1.3347830617342749] U [6.695779483821999, 10]\n",
      " Set 5: [4.7894083832938925, 5.994872411774862]\n",
      " Set 6: [0.6108710026604036, 9.621458321427763]\n",
      " Set 7: [5.6518972091247255, 8.42532382788663]\n",
      " Set 8: [0,8.901884209183985] U [9.881913001268215, 10]\n",
      " Set 9: [1.1881518437138072, 4.104549700616079]\n",
      " Set 10: [0,6.682094440546366] U [8.313399780043314, 10]\n",
      "Agreement number is:  7\n",
      "Location of max agreement along the horizontal axis (potentially one of several):  1.2672448750566767\n"
     ]
    },
    {
     "data": {
      "image/png": "[encoded data removed]",
      "text/plain": [
       "<Figure size 432x288 with 1 Axes>"
      ]
     },
     "metadata": {
      "needs_background": "light"
     },
     "output_type": "display_data"
    }
   ],
   "source": [
    "# Example 3: Random Society\n",
    "\n",
    "S2 = circularsocieties.generateRandomSociety( 'A', 10, 10, epsilon = 0.5 )\n",
    "S2.printSocietyInfo()\n",
    "S2.visualize(  )\n",
    "a2, location2 = S2.findAgreementNumber()\n",
    "\n",
    "print(\"Agreement number is: \", a2)\n",
    "print(\"Location of max agreement along the horizontal axis (potentially one of several): \", location2)"
   ]
  },
  {
   "cell_type": "markdown",
   "metadata": {
    "colab_type": "text",
    "id": "Ykk9hAjZz_UD"
   },
   "source": [
    "## Exploration 1: Randomly-Generated Circular Societies\n",
    "\n",
    "Given a society whose approval sets are randomly generated (with a particular distribution), what is the distribution of the approval number of the random society?"
   ]
  },
  {
   "cell_type": "code",
   "execution_count": 5,
   "metadata": {
    "colab": {},
    "colab_type": "code",
    "id": "2pQz3DGXuHAh"
   },
   "outputs": [],
   "source": [
    "# Generate R random societies, each with N voters\n",
    "#   Each approval set has endpts from the uniform distribution on [0, modulo]\n",
    "\n",
    "import numpy as np\n",
    "import matplotlib.pyplot as plt\n",
    "\n",
    "R = 100\n",
    "N = 10\n",
    "modulo = 10\n",
    "\n",
    "approval = np.empty([R,])\n",
    "\n",
    "for i in np.arange(0, R):\n",
    "  S = circularsocieties.generateRandomSociety( 'A', N, modulo, epsilon = 0.5, mode = 2, a = 2, b=2 )\n",
    "  approval[i], a = S.findAgreementNumber()"
   ]
  },
  {
   "cell_type": "code",
   "execution_count": 6,
   "metadata": {
    "colab": {},
    "colab_type": "code",
    "id": "6L4OwirI7aHg"
   },
   "outputs": [
    {
     "data": {
      "text/plain": [
       "(array([11.,  0.,  0., 46.,  0.,  0., 35.,  0.,  0.,  8.]),\n",
       " array([0.6 , 0.63, 0.66, 0.69, 0.72, 0.75, 0.78, 0.81, 0.84, 0.87, 0.9 ]),\n",
       " <a list of 10 Patch objects>)"
      ]
     },
     "execution_count": 6,
     "metadata": {},
     "output_type": "execute_result"
    },
    {
     "data": {
      "image/png": "[encoded data removed]",
      "text/plain": [
       "<Figure size 432x288 with 1 Axes>"
      ]
     },
     "metadata": {
      "needs_background": "light"
     },
     "output_type": "display_data"
    }
   ],
   "source": [
    "approvalRatio = approval/N\n",
    "plt.hist(approvalRatio, bins = 10)"
   ]
  },
  {
   "cell_type": "code",
   "execution_count": 7,
   "metadata": {
    "colab": {},
    "colab_type": "code",
    "id": "FK_jw4us4Mps"
   },
   "outputs": [
    {
     "data": {
      "text/plain": [
       "0.74"
      ]
     },
     "execution_count": 7,
     "metadata": {},
     "output_type": "execute_result"
    }
   ],
   "source": [
    "np.mean(approvalRatio)"
   ]
  },
  {
   "cell_type": "code",
   "execution_count": 8,
   "metadata": {
    "colab": {},
    "colab_type": "code",
    "id": "DK_dxFC38YoC"
   },
   "outputs": [
    {
     "name": "stdout",
     "output_type": "stream",
     "text": [
      "Circular Society Name: A\n",
      "Spectrum: [0, 10].  (Note: we identify 0 = 10)\n",
      "Number of Voters: 10\n",
      "Approval Sets:\n",
      " Set 1: [0.9616010140161724, 6.170486153513523]\n",
      " Set 2: [0.8531208796732426, 8.42308152941218]\n",
      " Set 3: [0,7.2782530898102635] U [8.834190142137526, 10]\n",
      " Set 4: [0,0.22778565208118806] U [5.351170320240062, 10]\n",
      " Set 5: [0,3.5599432449670427] U [7.654038660407942, 10]\n",
      " Set 6: [0,3.666287170612865] U [8.723237929114179, 10]\n",
      " Set 7: [6.921883957808549, 7.656189044133397]\n",
      " Set 8: [0,4.602830130662017] U [8.794301991845469, 10]\n",
      " Set 9: [0,2.739830617569371] U [8.927354090273163, 10]\n",
      " Set 10: [0,1.216002339225314] U [2.5215331668719343, 10]\n"
     ]
    }
   ],
   "source": [
    "S.printSocietyInfo()"
   ]
  },
  {
   "cell_type": "code",
   "execution_count": 9,
   "metadata": {
    "colab": {},
    "colab_type": "code",
    "id": "O67CyWRAe3xI"
   },
   "outputs": [
    {
     "data": {
      "image/png": "[encoded data removed]",
      "text/plain": [
       "<Figure size 432x288 with 1 Axes>"
      ]
     },
     "metadata": {
      "needs_background": "light"
     },
     "output_type": "display_data"
    }
   ],
   "source": [
    "S.visualize( drawAgreement = True )"
   ]
  },
  {
   "cell_type": "code",
   "execution_count": 10,
   "metadata": {
    "colab": {},
    "colab_type": "code",
    "id": "rFrnHAAAfSsq"
   },
   "outputs": [
    {
     "data": {
      "text/plain": [
       "(8, 0.9616010140161724)"
      ]
     },
     "execution_count": 10,
     "metadata": {},
     "output_type": "execute_result"
    }
   ],
   "source": [
    "S.findAgreementNumber()"
   ]
  },
  {
   "cell_type": "markdown",
   "metadata": {
    "colab_type": "text",
    "id": "lMGgDqgNp458"
   },
   "source": [
    "## Exploration 2 (mainly for checking if code was written correctly)\n",
    "\n",
    "The ultimate goal is to obtain a bound on the change in piercing number as we transform an arbitrary circular society into a uniform one, via Hardin's transformations: (1) Elimination of containment, and (2) Left-right alternation."
   ]
  },
  {
   "cell_type": "markdown",
   "metadata": {
    "colab_type": "text",
    "id": "4vomVzijySvD"
   },
   "source": [
    "### 2A: Eliminating containment (check if correct)\n",
    "\n",
    "Below, we first check that the implementation of the method `.eliminateContainmentPair( self, smallSetName, largeSetName )` is correct."
   ]
  },
  {
   "cell_type": "code",
   "execution_count": 11,
   "metadata": {
    "colab": {},
    "colab_type": "code",
    "id": "EsN45QIUwt60"
   },
   "outputs": [
    {
     "name": "stdout",
     "output_type": "stream",
     "text": [
      "3\n",
      "4\n"
     ]
    },
    {
     "data": {
      "image/png": "[encoded data removed]",
      "text/plain": [
       "<Figure size 432x288 with 1 Axes>"
      ]
     },
     "metadata": {
      "needs_background": "light"
     },
     "output_type": "display_data"
    }
   ],
   "source": [
    "# Example 4: Eliminating containment\n",
    "\n",
    "# First, create a circular society named S3 (with a string name \"S3\") where the spectrum is [0, 10] (where 0 = 10)\n",
    "S3 = CircularSociety( \"S3\", 10)\n",
    "\n",
    "#   Adding sets \n",
    "S3.addApprovalSet( \"Set1\", 3, 5 )  # \"Set1\" is the set's name, left endpoint = 3, right endpoint = 5\n",
    "S3.addApprovalSet( \"Set2\", 2, 6 )\n",
    "S3.addApprovalSet( \"Set3\", 4, 8 )\n",
    "S3.addApprovalSet( \"Set4\", 7, 1 )\n",
    "\n",
    "# Finding the agreement number of the society\n",
    "a3, pos3 = S3.findAgreementNumber()\n",
    "print(a3)\n",
    "print(pos3)\n",
    "\n",
    "#  Visualizing the circular society; each set is plotted horizontally (different y coordinates for different sets)\n",
    "S3.visualize( drawAgreement = True )"
   ]
  },
  {
   "cell_type": "code",
   "execution_count": 12,
   "metadata": {
    "colab": {},
    "colab_type": "code",
    "id": "BE8es2xSxMqa"
   },
   "outputs": [
    {
     "name": "stdout",
     "output_type": "stream",
     "text": [
      "3\n",
      "4\n"
     ]
    },
    {
     "data": {
      "image/png": "[encoded data removed]",
      "text/plain": [
       "<Figure size 432x288 with 1 Axes>"
      ]
     },
     "metadata": {
      "needs_background": "light"
     },
     "output_type": "display_data"
    }
   ],
   "source": [
    "# Eliminate containment (Set1 is currently contained in Set2)\n",
    "\n",
    "S3.eliminateContainmentPair( [\"Set1\", \"Set2\"] )\n",
    "\n",
    "#  Visualizing the updated circular society\n",
    "S3.visualize( drawAgreement = True )\n",
    "\n",
    "# Finding the agreement number of the updated society\n",
    "a3new, pos3new = S3.findAgreementNumber()\n",
    "print(a3new)\n",
    "print(pos3new)"
   ]
  },
  {
   "cell_type": "code",
   "execution_count": 13,
   "metadata": {
    "colab": {},
    "colab_type": "code",
    "id": "Na5dDYSjz6PJ"
   },
   "outputs": [
    {
     "name": "stdout",
     "output_type": "stream",
     "text": [
      "(False, [['Set2', 'Set1', 'Set4'], ['Set3', 'Set4', 'Set2']])\n"
     ]
    }
   ],
   "source": [
    "# Check if LR-alternating, finding sets that attain Right-Right-Left endpoints\n",
    "LR = S3.is_LR_alt( findRRL = True)\n",
    "print(LR)"
   ]
  },
  {
   "cell_type": "code",
   "execution_count": 14,
   "metadata": {
    "colab": {},
    "colab_type": "code",
    "id": "SVZvYUZtG92t"
   },
   "outputs": [
    {
     "name": "stdout",
     "output_type": "stream",
     "text": [
      "(False, [['Set3', 'Set4', 'Set2']])\n"
     ]
    },
    {
     "data": {
      "image/png": "[encoded data removed]",
      "text/plain": [
       "<Figure size 432x288 with 1 Axes>"
      ]
     },
     "metadata": {
      "needs_background": "light"
     },
     "output_type": "display_data"
    }
   ],
   "source": [
    "# Iteration 1\n",
    "# Eliminate RRL in the first triple\n",
    "S3.eliminateRRLTriple( LR[1][0] )\n",
    "S3.visualize( drawAgreement = True )\n",
    "\n",
    "# Check if LR-alternating, finding sets that attain Right-Right-Left endpoints\n",
    "LR = S3.is_LR_alt( findRRL = True)\n",
    "print(LR)"
   ]
  },
  {
   "cell_type": "code",
   "execution_count": 15,
   "metadata": {
    "colab": {},
    "colab_type": "code",
    "id": "e2_b7weKSLKC"
   },
   "outputs": [
    {
     "name": "stdout",
     "output_type": "stream",
     "text": [
      "(False, [['Set1', 'Set3', 'Set2']])\n"
     ]
    },
    {
     "data": {
      "image/png": "[encoded data removed]",
      "text/plain": [
       "<Figure size 432x288 with 1 Axes>"
      ]
     },
     "metadata": {
      "needs_background": "light"
     },
     "output_type": "display_data"
    }
   ],
   "source": [
    "# Iteration 2\n",
    "# Eliminate RRL in the first triple\n",
    "S3.eliminateRRLTriple( LR[1][0] )\n",
    "S3.visualize( drawAgreement = True )\n",
    "\n",
    "# Check if LR-alternating, finding sets that attain Right-Right-Left endpoints\n",
    "LR = S3.is_LR_alt( findRRL = True)\n",
    "print(LR)"
   ]
  },
  {
   "cell_type": "code",
   "execution_count": 16,
   "metadata": {
    "colab": {},
    "colab_type": "code",
    "id": "MyTYPNCVSLWF"
   },
   "outputs": [
    {
     "name": "stdout",
     "output_type": "stream",
     "text": [
      "(False, [['Set3', 'Set4', 'Set1']])\n"
     ]
    },
    {
     "data": {
      "image/png": "[encoded data removed]",
      "text/plain": [
       "<Figure size 432x288 with 1 Axes>"
      ]
     },
     "metadata": {
      "needs_background": "light"
     },
     "output_type": "display_data"
    }
   ],
   "source": [
    "# Iteration 3\n",
    "# Eliminate RRL in the first triple\n",
    "S3.eliminateRRLTriple( LR[1][0] )\n",
    "S3.visualize( drawAgreement = True )\n",
    "\n",
    "# Check if LR-alternating, finding sets that attain Right-Right-Left endpoints\n",
    "LR = S3.is_LR_alt( findRRL = True)\n",
    "print(LR)"
   ]
  },
  {
   "cell_type": "code",
   "execution_count": 17,
   "metadata": {
    "colab": {},
    "colab_type": "code",
    "id": "2HUgwA6JSXjy"
   },
   "outputs": [
    {
     "name": "stdout",
     "output_type": "stream",
     "text": [
      "(True, [])\n"
     ]
    },
    {
     "data": {
      "image/png": "[encoded data removed]",
      "text/plain": [
       "<Figure size 432x288 with 1 Axes>"
      ]
     },
     "metadata": {
      "needs_background": "light"
     },
     "output_type": "display_data"
    }
   ],
   "source": [
    "# Iteration 4\n",
    "# Eliminate RRL in the first triple\n",
    "S3.eliminateRRLTriple( LR[1][0] )\n",
    "S3.visualize( drawAgreement = True )\n",
    "\n",
    "# Check if LR-alternating, finding sets that attain Right-Right-Left endpoints\n",
    "LR = S3.is_LR_alt( findRRL = True)\n",
    "print(LR)"
   ]
  },
  {
   "cell_type": "markdown",
   "metadata": {
    "colab_type": "text",
    "id": "CLjPhebxu_y8"
   },
   "source": [
    "### 2B: LR-alternation (check that it's coded correctly)"
   ]
  },
  {
   "cell_type": "code",
   "execution_count": 18,
   "metadata": {
    "colab": {},
    "colab_type": "code",
    "id": "grpMtok5Xg2-"
   },
   "outputs": [
    {
     "data": {
      "image/png": "[encoded data removed]",
      "text/plain": [
       "<Figure size 432x288 with 1 Axes>"
      ]
     },
     "metadata": {
      "needs_background": "light"
     },
     "output_type": "display_data"
    }
   ],
   "source": [
    "## ------\n",
    "# Example 4 again: Eliminating containment and RRL\n",
    "# Same example as above; \n",
    "#   but to test the method .eliminateRRLAll() which repeats the above iterations until society is LR-alternating\n",
    "\n",
    "# First, create a circular society named S3 (with a string name \"S3\") where the spectrum is [0, 10] (where 0 = 10)\n",
    "S3 = CircularSociety( \"S3\", 10)\n",
    "#   Adding sets \n",
    "S3.addApprovalSet( \"Set1\", 3, 5 )  # \"Set1\" is the set's name, left endpoint = 3, right endpoint = 5\n",
    "S3.addApprovalSet( \"Set2\", 2, 6 )\n",
    "S3.addApprovalSet( \"Set3\", 4, 8 )\n",
    "S3.addApprovalSet( \"Set4\", 7, 1 )\n",
    "\n",
    "# Eliminate containment (Set1 is currently contained in Set2)\n",
    "S3.eliminateContainmentPair( [\"Set1\", \"Set2\"] )\n",
    "\n",
    "#  Visualizing the updated circular society\n",
    "S3.visualize( drawAgreement = True )"
   ]
  },
  {
   "cell_type": "code",
   "execution_count": 19,
   "metadata": {
    "colab": {},
    "colab_type": "code",
    "id": "3k2Iq2EOXg3I"
   },
   "outputs": [
    {
     "name": "stdout",
     "output_type": "stream",
     "text": [
      "(True, [])\n"
     ]
    }
   ],
   "source": [
    "# Eliminate all RRL endpoints\n",
    "S3.eliminateRRLAll()\n",
    "\n",
    "# Check if LR-alternating, finding sets that attain Right-Right-Left endpoints\n",
    "LR = S3.is_LR_alt( findRRL = True)\n",
    "print(LR)"
   ]
  },
  {
   "cell_type": "code",
   "execution_count": 20,
   "metadata": {
    "colab": {},
    "colab_type": "code",
    "id": "MkDvAVRSYH8N"
   },
   "outputs": [
    {
     "data": {
      "image/png": "[encoded data removed]",
      "text/plain": [
       "<Figure size 432x288 with 1 Axes>"
      ]
     },
     "metadata": {
      "needs_background": "light"
     },
     "output_type": "display_data"
    }
   ],
   "source": [
    "S3.visualize(  drawAgreement = True )"
   ]
  },
  {
   "cell_type": "code",
   "execution_count": 21,
   "metadata": {
    "colab": {},
    "colab_type": "code",
    "id": "kzrAUzBWYJmL"
   },
   "outputs": [
    {
     "data": {
      "text/plain": [
       "(3, 1)"
      ]
     },
     "execution_count": 21,
     "metadata": {},
     "output_type": "execute_result"
    }
   ],
   "source": [
    "S3.findAgreementNumber()"
   ]
  },
  {
   "cell_type": "markdown",
   "metadata": {
    "colab_type": "text",
    "id": "OUpCVYENjDU3"
   },
   "source": [
    "### 2C: Finding and visualizing piercing number of a circular society (check that it's coded correctly)\n"
   ]
  },
  {
   "cell_type": "code",
   "execution_count": 22,
   "metadata": {
    "colab": {},
    "colab_type": "code",
    "id": "jnHsWwnsoW5N"
   },
   "outputs": [
    {
     "data": {
      "image/png": "[encoded data removed]",
      "text/plain": [
       "<Figure size 432x288 with 1 Axes>"
      ]
     },
     "metadata": {
      "needs_background": "light"
     },
     "output_type": "display_data"
    }
   ],
   "source": [
    "## ------\n",
    "# Example 4 again, continued\n",
    "# First, create a circular society named S3 (with a string name \"S3\") where the spectrum is [0, 10] (where 0 = 10)\n",
    "S3 = CircularSociety( \"S3\", 10)\n",
    "\n",
    "#   Adding sets \n",
    "S3.addApprovalSet( \"Set1\", 3, 5 )  # \"Set1\" is the set's name, left endpoint = 3, right endpoint = 5\n",
    "S3.addApprovalSet( \"Set2\", 2, 6 )\n",
    "S3.addApprovalSet( \"Set3\", 4, 8 )\n",
    "S3.addApprovalSet( \"Set4\", 7, 1 )\n",
    "\n",
    "# Visualize\n",
    "S3.visualize()"
   ]
  },
  {
   "cell_type": "code",
   "execution_count": 23,
   "metadata": {
    "colab": {},
    "colab_type": "code",
    "id": "-GnW1MkFocuQ"
   },
   "outputs": [
    {
     "name": "stdout",
     "output_type": "stream",
     "text": [
      "2\n",
      "[1 4]\n",
      "[1. 0. 0. 1. 0. 0. 0. 0.]\n",
      "[[0. 0. 1. 1. 1. 0. 0. 0.]\n",
      " [0. 1. 1. 1. 1. 1. 0. 0.]\n",
      " [0. 0. 0. 1. 1. 1. 1. 1.]\n",
      " [1. 0. 0. 0. 0. 0. 1. 1.]]\n"
     ]
    }
   ],
   "source": [
    "# finding the piercing number (and its location)\n",
    "piercingNumber, piercingSet, x1, M = S3.findPiercingNumber()\n",
    "print(piercingNumber)\n",
    "print(piercingSet)\n",
    "print(x1)\n",
    "print(M)"
   ]
  },
  {
   "cell_type": "code",
   "execution_count": 24,
   "metadata": {
    "colab": {},
    "colab_type": "code",
    "id": "gT-nc5N-sJkg"
   },
   "outputs": [
    {
     "data": {
      "image/png": "[encoded data removed]",
      "text/plain": [
       "<Figure size 432x288 with 1 Axes>"
      ]
     },
     "metadata": {
      "needs_background": "light"
     },
     "output_type": "display_data"
    }
   ],
   "source": [
    "# Visualize the piercing set\n",
    "S3.visualize( drawAgreement = True, drawPiercing = True)"
   ]
  },
  {
   "cell_type": "markdown",
   "metadata": {
    "colab_type": "text",
    "id": "gE6u2emvvm92"
   },
   "source": [
    "### 2D: Track change in piercing number before vs. after Hardin's Transformations"
   ]
  },
  {
   "cell_type": "code",
   "execution_count": 25,
   "metadata": {
    "colab": {},
    "colab_type": "code",
    "id": "nKDKCIogs_rL"
   },
   "outputs": [
    {
     "name": "stdout",
     "output_type": "stream",
     "text": [
      "2\n",
      "[1 4]\n",
      "[1. 0. 0. 1. 0. 0. 0. 0.]\n"
     ]
    },
    {
     "data": {
      "image/png": "[encoded data removed]",
      "text/plain": [
       "<Figure size 432x288 with 1 Axes>"
      ]
     },
     "metadata": {
      "needs_background": "light"
     },
     "output_type": "display_data"
    }
   ],
   "source": [
    "## ------\n",
    "# Example 4 again, continued\n",
    "# First, create a circular society named S3 (with a string name \"S3\") where the spectrum is [0, 10] (where 0 = 10)\n",
    "S3 = CircularSociety( \"S3\", 10)\n",
    "\n",
    "#   Adding sets \n",
    "S3.addApprovalSet( \"Set1\", 3, 5 )  # \"Set1\" is the set's name, left endpoint = 3, right endpoint = 5\n",
    "S3.addApprovalSet( \"Set2\", 2, 6 )\n",
    "S3.addApprovalSet( \"Set3\", 4, 8 )\n",
    "S3.addApprovalSet( \"Set4\", 7, 1 )\n",
    "\n",
    "# Visualize\n",
    "S3.visualize( drawPiercing = True)\n",
    "\n",
    "# Find piercing number and piercing set\n",
    "piercingNumber, piercingSet, x, _ = S3.findPiercingNumber()\n",
    "print(piercingNumber)\n",
    "print(piercingSet)\n",
    "print(x)"
   ]
  },
  {
   "cell_type": "code",
   "execution_count": 26,
   "metadata": {
    "colab": {},
    "colab_type": "code",
    "id": "41Wjx9sev6VH"
   },
   "outputs": [],
   "source": [
    "# Eliminate Containment\n",
    "S3.eliminateContainmentPair([\"Set1\", \"Set2\"])"
   ]
  },
  {
   "cell_type": "code",
   "execution_count": 27,
   "metadata": {
    "colab": {},
    "colab_type": "code",
    "id": "yoE0etsowUGM"
   },
   "outputs": [],
   "source": [
    "# Make LR-Alternating (Eliminate RRL)\n",
    "S3.eliminateRRLAll()"
   ]
  },
  {
   "cell_type": "code",
   "execution_count": 28,
   "metadata": {
    "colab": {},
    "colab_type": "code",
    "id": "Hl0hxiFowg1W"
   },
   "outputs": [
    {
     "data": {
      "image/png": "[encoded data removed]",
      "text/plain": [
       "<Figure size 432x288 with 1 Axes>"
      ]
     },
     "metadata": {
      "needs_background": "light"
     },
     "output_type": "display_data"
    }
   ],
   "source": [
    "S3.visualize( drawPiercing = True )"
   ]
  },
  {
   "cell_type": "code",
   "execution_count": 29,
   "metadata": {
    "colab": {},
    "colab_type": "code",
    "id": "UizOao21wjCM"
   },
   "outputs": [
    {
     "name": "stdout",
     "output_type": "stream",
     "text": [
      "2\n",
      "[3 8]\n",
      "[0. 0. 1. 0. 0. 0. 0. 1.]\n",
      "[[0. 1. 1. 1. 1. 1. 1. 0.]\n",
      " [1. 1. 1. 1. 1. 0. 0. 1.]\n",
      " [1. 0. 0. 1. 1. 1. 1. 1.]\n",
      " [1. 1. 1. 0. 0. 1. 1. 1.]]\n"
     ]
    }
   ],
   "source": [
    "piercingNumber2, piercingSet2, x2, Mat = S3.findPiercingNumber()\n",
    "print(piercingNumber2)\n",
    "print(piercingSet2)\n",
    "print(x2)\n",
    "print(Mat)"
   ]
  },
  {
   "cell_type": "markdown",
   "metadata": {
    "colab_type": "text",
    "id": "2X80Zs5mxjCC"
   },
   "source": [
    "Quick note: The example above shows that the linear program does not give exact solution when finding a piercing number of a circular society (although I believe it will for linear society)\n",
    "\n",
    "(for interval graphs, which are \"strongly chordal\", many NP-hard problems can be solved efficiently)\n",
    "https://en.wikipedia.org/wiki/Strongly_chordal_graph\n",
    "\n",
    "So, maybe this means that for circular society, the corresponding graph doesn't have these nice properties.\n",
    "\n",
    "other notes to self: https://en.wikipedia.org/wiki/Perfect_graph\n"
   ]
  },
  {
   "cell_type": "markdown",
   "metadata": {
    "colab_type": "text",
    "id": "LckJRizeGwXs"
   },
   "source": [
    "## Exploration 3: Transforming circular societies into uniform via Hardin's Transformations (keeping track of change in piercing number)\n",
    "\n"
   ]
  },
  {
   "cell_type": "markdown",
   "metadata": {
    "colab_type": "text",
    "id": "1lN0DJUwQP3e"
   },
   "source": [
    "### Carolyn's Example \n",
    "\n",
    "(Section 2.1 of brain dump in Overleaf)"
   ]
  },
  {
   "cell_type": "code",
   "execution_count": 30,
   "metadata": {
    "colab": {},
    "colab_type": "code",
    "id": "Beg7vaq9t0Ns"
   },
   "outputs": [
    {
     "name": "stdout",
     "output_type": "stream",
     "text": [
      "--------\n",
      "Before any transformations\n",
      "Agreement number: 2\n",
      "Piercing number: 3\n",
      "--------\n",
      "After Hardin's transformations\n",
      "Agreement number after LR-alternation: 2\n",
      "Piercing number after LR-alternation: 2\n",
      "--------\n"
     ]
    },
    {
     "data": {
      "image/png": "[encoded data removed]",
      "text/plain": [
       "<Figure size 432x288 with 1 Axes>"
      ]
     },
     "metadata": {
      "needs_background": "light"
     },
     "output_type": "display_data"
    },
    {
     "data": {
      "image/png": "[encoded data removed]",
      "text/plain": [
       "<Figure size 432x288 with 1 Axes>"
      ]
     },
     "metadata": {
      "needs_background": "light"
     },
     "output_type": "display_data"
    }
   ],
   "source": [
    "# Carolyn's example\n",
    "S4 = CircularSociety( \"CarolynsExample\", 10)\n",
    "\n",
    "#   Adding sets \n",
    "S4.addApprovalSet( \"Blue\", 2, 8 )  # \"Blue\" is the set's name, left endpoint = 2, right endpoint = 8\n",
    "S4.addApprovalSet( \"Red\", 4, 6 )\n",
    "S4.addApprovalSet( \"Green\", 0.5, 3 )\n",
    "S4.addApprovalSet( \"Purple\", 7, 9.5 )\n",
    "\n",
    "# Finding the agreement number of the society\n",
    "a4, pos4 = S4.findAgreementNumber()\n",
    "\n",
    "print(\"--------\")\n",
    "print(\"Before any transformations\")\n",
    "print(\"Agreement number:\", a4)\n",
    "p4, _, _, _ = S4.findPiercingNumber()\n",
    "print(\"Piercing number:\", p4)\n",
    "S4.visualize( drawAgreement = True, drawPiercing = True )\n",
    "print(\"--------\")\n",
    "\n",
    "# Apply transformations\n",
    "import copy\n",
    "\n",
    "S4new = copy.deepcopy(S4)\n",
    "S4new.uniformize()\n",
    "\n",
    "print(\"After Hardin's transformations\")\n",
    "a4new, _ = S4new.findAgreementNumber()\n",
    "print(\"Agreement number after LR-alternation:\", a4new)\n",
    "p4new, _, _, _ = S4new.findPiercingNumber()\n",
    "print(\"Piercing number after LR-alternation:\", p4new)\n",
    "S4new.visualize( drawAgreement = True, drawPiercing = True )\n",
    "print(\"--------\")"
   ]
  },
  {
   "cell_type": "code",
   "execution_count": 31,
   "metadata": {
    "colab": {},
    "colab_type": "code",
    "id": "ovrDUi5y3RBI"
   },
   "outputs": [
    {
     "name": "stdout",
     "output_type": "stream",
     "text": [
      " Blue: [2, 8]\n",
      " Red: [4, 6]\n",
      " Green: [0.5, 3]\n",
      " Purple: [7, 9.5]\n",
      " Purple2: [7, 9.5]\n"
     ]
    }
   ],
   "source": [
    "S4b = S4\n",
    "\n",
    "S4.addApprovalSet( \"Purple2\", 7, 9.5 )\n",
    "\n",
    "S4b.listApprovalSets()"
   ]
  },
  {
   "cell_type": "code",
   "execution_count": 32,
   "metadata": {
    "colab": {},
    "colab_type": "code",
    "id": "xCmrXCVH45MH"
   },
   "outputs": [
    {
     "name": "stdout",
     "output_type": "stream",
     "text": [
      "--------\n",
      "Before any transformations\n",
      "Agreement number: 3\n",
      "Piercing number: 8\n",
      "--------\n",
      "After Hardin's transformations\n",
      "Agreement number after LR-alternation: 8\n",
      "Piercing number after LR-alternation: 2\n",
      "--------\n"
     ]
    },
    {
     "data": {
      "image/png": "[encoded data removed]",
      "text/plain": [
       "<Figure size 432x288 with 1 Axes>"
      ]
     },
     "metadata": {
      "needs_background": "light"
     },
     "output_type": "display_data"
    },
    {
     "data": {
      "image/png": "[encoded data removed]",
      "text/plain": [
       "<Figure size 432x288 with 1 Axes>"
      ]
     },
     "metadata": {
      "needs_background": "light"
     },
     "output_type": "display_data"
    }
   ],
   "source": [
    "# Generalize Carolyn's example?\n",
    "S4b = CircularSociety( \"Carolyn's Example, Generalized\", 10)\n",
    "\n",
    "#   Adding sets \n",
    "S4b.addApprovalSet( \"Set 1\", 1, 1.8 )\n",
    "S4b.addApprovalSet( \"Set 2\", 2, 2.8 )\n",
    "S4b.addApprovalSet( \"Set 3\", 3, 3.8 )\n",
    "S4b.addApprovalSet( \"Set 4\", 4, 4.8 )\n",
    "S4b.addApprovalSet( \"Set 5\", 5, 5.8 )\n",
    "S4b.addApprovalSet( \"Set 6\", 6, 6.8 )\n",
    "S4b.addApprovalSet( \"Set 7\", 7, 7.8 )\n",
    "S4b.addApprovalSet( \"Set 8\", 8, 8.8 )\n",
    "S4b.addApprovalSet( \"Set 9\", 1.6, 8.4 )\n",
    "S4b.addApprovalSet( \"Set 10\", 8.4, 1.4 )\n",
    "\n",
    "# Finding the agreement number of the society\n",
    "a4b, _ = S4b.findAgreementNumber()\n",
    "\n",
    "print(\"--------\")\n",
    "print(\"Before any transformations\")\n",
    "print(\"Agreement number:\", a4b)\n",
    "p4b, _, _, _ = S4b.findPiercingNumber()\n",
    "print(\"Piercing number:\", p4b)\n",
    "S4b.visualize( drawAgreement = True, drawPiercing = True )\n",
    "print(\"--------\")\n",
    "\n",
    "# Apply transformations\n",
    "import copy\n",
    "\n",
    "S4bnew = copy.deepcopy(S4b)\n",
    "S4bnew.uniformize()\n",
    "\n",
    "print(\"After Hardin's transformations\")\n",
    "a4bnew, _ = S4bnew.findAgreementNumber()\n",
    "print(\"Agreement number after LR-alternation:\", a4bnew)\n",
    "p4bnew, _, _, _ = S4bnew.findPiercingNumber()\n",
    "print(\"Piercing number after LR-alternation:\", p4bnew)\n",
    "S4bnew.visualize( drawAgreement = True, drawPiercing = True )\n",
    "print(\"--------\")"
   ]
  },
  {
   "cell_type": "code",
   "execution_count": 34,
   "metadata": {
    "colab": {},
    "colab_type": "code",
    "id": "wRTEGrRH6S9J"
   },
   "outputs": [
    {
     "data": {
      "image/png": "[encoded data removed]",
      "text/plain": [
       "<Figure size 432x288 with 1 Axes>"
      ]
     },
     "metadata": {
      "needs_background": "light"
     },
     "output_type": "display_data"
    }
   ],
   "source": [
    "# saving visualizations\n",
    "#f1 = plt.figure()\n",
    "S4bnew.visualize(drawAgreement = True, drawPiercing = True)\n",
    "#plt.plot()\n",
    "plt.savefig(\"example_outputs/example10transformed.pdf\", bbox_inches='tight')"
   ]
  },
  {
   "cell_type": "markdown",
   "metadata": {
    "colab_type": "text",
    "id": "3lbEfTMLTDpZ"
   },
   "source": [
    "### Randomly-generated example"
   ]
  },
  {
   "cell_type": "code",
   "execution_count": 35,
   "metadata": {
    "colab": {},
    "colab_type": "code",
    "id": "tFw9vK7fIl1d"
   },
   "outputs": [
    {
     "name": "stdout",
     "output_type": "stream",
     "text": [
      "--------\n",
      "Before any transformations\n",
      "Agreement number: 7\n",
      "Piercing number: 2\n",
      "--------\n",
      "After Hardin's transformations\n",
      "Agreement number uniformizing: 7\n",
      "Piercing number after uniformizing: 2\n"
     ]
    }
   ],
   "source": [
    "# Generate a random circular society\n",
    "S5 = circularsocieties.generateRandomSociety( \"RandomSociety\", 10, 10, epsilon = 0.5, mode = 1, a = 1, b = 1 )\n",
    "\n",
    "\n",
    "# Finding the agreement number of the society\n",
    "a5, pos5 = S5.findAgreementNumber()\n",
    "\n",
    "print(\"--------\")\n",
    "print(\"Before any transformations\")\n",
    "print(\"Agreement number:\", a5)\n",
    "p5, _, _, _ = S5.findPiercingNumber()\n",
    "print(\"Piercing number:\", p5)\n",
    "#S5.visualize( drawAgreement = True, drawPiercing = True )\n",
    "\n",
    "# Apply transformations\n",
    "S5transformed = copy.deepcopy(S5)\n",
    "S5transformed.uniformize()\n",
    "\n",
    "print(\"--------\")\n",
    "print(\"After Hardin's transformations\")\n",
    "a5new, pos5new = S5transformed.findAgreementNumber()\n",
    "print(\"Agreement number uniformizing:\", a5new)\n",
    "p5new, _, _, _ = S5transformed.findPiercingNumber()\n",
    "print(\"Piercing number after uniformizing:\", p5new)\n",
    "#S5.visualize( drawAgreement = True, drawPiercing = True )"
   ]
  },
  {
   "cell_type": "code",
   "execution_count": 36,
   "metadata": {},
   "outputs": [],
   "source": [
    "# writing circular society information to text file\n",
    "# --------------\n",
    "import datetime\n",
    "\n",
    "def writeSocietyInformation( circSoc, textfilename, append = True):\n",
    "  # Create a local file to upload.\n",
    "  if append:\n",
    "    appendText = 'a'\n",
    "  else:\n",
    "    appendText = 'w'\n",
    "\n",
    "  with open(textfilename, appendText ) as f:\n",
    "    f.write(\"----------------------------------------------------\\n\")\n",
    "    f.write(\"Date: \" + str(datetime.datetime.now()) + \"\\n\" )\n",
    "    f.write(\"Circular Society Name: \" + circSoc.name + \"\\n\")\n",
    "    f.write(\"Spectrum: [0, \" + str(circSoc.modulo) + \"].  (Note: we identify 0 = \" + str(circSoc.modulo) + \") \\n\")\n",
    "    f.write(\"Number of Voters: \" + str(circSoc.numVoters) + \"\\n\")\n",
    "    f.write(\"Approval Sets:\\n\")\n",
    "    for A in circSoc.approvalSets:\n",
    "      if A.left_endpt <= A.right_endpt:\n",
    "        f.write( \" \" + A.name + \": [\" + str(A.left_endpt) + \", \" + str(A.right_endpt) + \"]\\n\")\n",
    "      elif A.right_endpt == 0:\n",
    "        f.write( \" \" + A.name + \": [\" + str(A.left_endpt) + \", \" + str(A.modulo) + \"]\\n\")\n",
    "      else:\n",
    "        f.write( \" \" + A.name + \": [0,\" + str(A.right_endpt) + \"] U [\" + str(A.left_endpt) + \", \" + str(A.modulo) + \"]\\n\")\n",
    "    #f.write(\"Before any transformations\\n\")\n",
    "    a, _ = circSoc.findAgreementNumber()\n",
    "    p, piercingset, _, _ = circSoc.findPiercingNumber()\n",
    "    f.write(\"Agreement number: \" + str(a) + \"\\n\")\n",
    "    f.write(\"Piercing number: \" + str(p) + \"\\n\")\n",
    "    f.write(\"Piercing set: \")\n",
    "    f.write(str(piercingset))\n",
    "    f.write(\"\\n\")\n",
    "# ----------------"
   ]
  },
  {
   "cell_type": "code",
   "execution_count": 37,
   "metadata": {
    "colab": {},
    "colab_type": "code",
    "id": "zgclscNFY76u"
   },
   "outputs": [],
   "source": [
    "# Create a local file to upload.\n",
    "writeSocietyInformation( S5, 'example_outputs/output.txt', append = True) # to write info to file"
   ]
  },
  {
   "cell_type": "code",
   "execution_count": 38,
   "metadata": {
    "colab": {},
    "colab_type": "code",
    "id": "0bTYlN_A0qqu"
   },
   "outputs": [
    {
     "data": {
      "image/png": "[encoded data removed]",
      "text/plain": [
       "<Figure size 432x288 with 1 Axes>"
      ]
     },
     "metadata": {
      "needs_background": "light"
     },
     "output_type": "display_data"
    }
   ],
   "source": [
    "# saving visualizations\n",
    "#f1 = plt.figure()\n",
    "S5.visualize(drawAgreement = True, drawPiercing = True)\n",
    "#plt.plot()\n",
    "plt.savefig(\"example_outputs/random10.pdf\", bbox_inches='tight')"
   ]
  },
  {
   "cell_type": "code",
   "execution_count": 39,
   "metadata": {
    "colab": {},
    "colab_type": "code",
    "id": "LJH_q0G4rjRT"
   },
   "outputs": [
    {
     "data": {
      "image/png": "[encoded data removed]",
      "text/plain": [
       "<Figure size 432x288 with 1 Axes>"
      ]
     },
     "metadata": {
      "needs_background": "light"
     },
     "output_type": "display_data"
    }
   ],
   "source": [
    "# saving visualizations\n",
    "S5transformed.visualize(drawAgreement = True, drawPiercing = True)\n",
    "plt.savefig(\"example_outputs/random10_transformed.pdf\", bbox_inches='tight')"
   ]
  },
  {
   "cell_type": "markdown",
   "metadata": {
    "colab_type": "text",
    "id": "fMQGcMzXl9W1"
   },
   "source": [
    "## Exploration 4: Experiments with randomly generated fixed length societies"
   ]
  },
  {
   "cell_type": "code",
   "execution_count": 40,
   "metadata": {
    "colab": {},
    "colab_type": "code",
    "id": "ZyVEIGzxANsT"
   },
   "outputs": [
    {
     "name": "stdout",
     "output_type": "stream",
     "text": [
      "--------\n",
      "Before any transformations\n",
      "Agreement number: 2\n",
      "Piercing number: 2\n",
      "--------\n"
     ]
    },
    {
     "data": {
      "image/png": "[encoded data removed]",
      "text/plain": [
       "<Figure size 432x288 with 1 Axes>"
      ]
     },
     "metadata": {
      "needs_background": "light"
     },
     "output_type": "display_data"
    }
   ],
   "source": [
    "# ---\n",
    "# Random Example\n",
    "N = 3 # number of approval sets\n",
    "modulo = 1 # circumference of the circular society\n",
    "p = 0.25\n",
    "\n",
    "S = circularsocieties.generateRandomFixedLengthSociety( \"Fixed length society 1\", N, modulo, p, tick=0.05 )\n",
    "\n",
    "# ---\n",
    "# Finding the agreement number of the society\n",
    "a, position = S.findAgreementNumber()\n",
    "\n",
    "print(\"--------\")\n",
    "print(\"Before any transformations\")\n",
    "print(\"Agreement number:\", a)\n",
    "p, _, _, _ = S.findPiercingNumber()\n",
    "print(\"Piercing number:\", p)\n",
    "S.visualize( drawAgreement = True, drawPiercing = True )\n",
    "print(\"--------\")"
   ]
  },
  {
   "cell_type": "code",
   "execution_count": 41,
   "metadata": {
    "colab": {},
    "colab_type": "code",
    "id": "yTlTYqxuP_hi"
   },
   "outputs": [
    {
     "name": "stdout",
     "output_type": "stream",
     "text": [
      "Circular Society Name: Fixed length society 1\n",
      "Spectrum: [0, 1].  (Note: we identify 0 = 1)\n",
      "Number of Voters: 3\n",
      "Approval Sets:\n",
      " Set 1: [0,0.16063754513460626] U [0.9106375451346062, 1]\n",
      " Set 2: [0.4073645065597533, 0.6573645065597533]\n",
      " Set 3: [0.5155866555769678, 0.7655866555769678]\n",
      "[0.16063755 0.51558666]\n"
     ]
    }
   ],
   "source": [
    "S.printSocietyInfo()\n",
    "tau, piercingset, _, _ = S.findPiercingNumber()\n",
    "print(piercingset)"
   ]
  },
  {
   "cell_type": "code",
   "execution_count": 42,
   "metadata": {
    "colab": {},
    "colab_type": "code",
    "id": "HzmJm6gApDnh"
   },
   "outputs": [
    {
     "name": "stdout",
     "output_type": "stream",
     "text": [
      "--------\n",
      "After Hardin's transformations\n",
      "Agreement number after LR-alternation: 2\n",
      "Piercing number after LR-alternation: 2\n",
      "--------\n"
     ]
    },
    {
     "data": {
      "image/png": "[encoded data removed]",
      "text/plain": [
       "<Figure size 432x288 with 1 Axes>"
      ]
     },
     "metadata": {
      "needs_background": "light"
     },
     "output_type": "display_data"
    }
   ],
   "source": [
    "# Apply transformations\n",
    "Snew = copy.deepcopy(S)\n",
    "Snew.uniformize()\n",
    "\n",
    "print(\"--------\")\n",
    "print(\"After Hardin's transformations\")\n",
    "anew, _ = Snew.findAgreementNumber()\n",
    "print(\"Agreement number after LR-alternation:\", anew)\n",
    "pnew, _, _, _ = Snew.findPiercingNumber()\n",
    "print(\"Piercing number after LR-alternation:\", pnew)\n",
    "Snew.visualize( drawAgreement = True, drawPiercing = True )\n",
    "print(\"--------\")"
   ]
  },
  {
   "cell_type": "markdown",
   "metadata": {
    "colab_type": "text",
    "id": "qcs_l8BVKIaI"
   },
   "source": [
    "## Exploration 5: Fixed-Length Experiments\n"
   ]
  },
  {
   "cell_type": "code",
   "execution_count": 43,
   "metadata": {
    "colab": {
     "base_uri": "https://localhost:8080/",
     "height": 469
    },
    "colab_type": "code",
    "id": "636zpOOqKPod",
    "outputId": "de5f3bb1-6857-4f3d-ea25-4c4dd963733d"
   },
   "outputs": [
    {
     "name": "stdout",
     "output_type": "stream",
     "text": [
      "Circular Society Name: S\n",
      "Spectrum: [0, 1].  (Note: we identify 0 = 1)\n",
      "Number of Voters: 3\n",
      "Approval Sets:\n",
      " Set0: [0,0.3268] U [0.9268, 1]\n",
      " Set1: [0.3376, 0.7376]\n",
      " Set2: [0.4562, 0.8562000000000001]\n",
      "Agreement Number: 2\n",
      "Location of max agreement: 0.4562\n",
      "Piercing Number: 2\n",
      "Piercing Set: \n",
      "[0.3268 0.4562]\n"
     ]
    },
    {
     "data": {
      "image/png": "[encoded data removed]",
      "text/plain": [
       "<Figure size 432x288 with 1 Axes>"
      ]
     },
     "metadata": {
      "needs_background": "light"
     },
     "output_type": "display_data"
    }
   ],
   "source": [
    "# Creating a circular society S, the spectrum is [0, 1]\n",
    "S = CircularSociety( \"S\", 1)\n",
    "\n",
    "p = 0.4 # length of the society\n",
    "\n",
    "#   Adding sets \n",
    "left_endpoints = [0.9268, 0.3376, 0.4562]\n",
    "\n",
    "for i, left_pt in enumerate(left_endpoints):\n",
    "  S.addApprovalSet( \"Set\"+str(i), left_pt, (left_pt + p)%1 )\n",
    "\n",
    "#  Displaying the circular society's information (name, is it uniform, the spectrum, number of voters, list of approval sets) \n",
    "S.printSocietyInfo()\n",
    "\n",
    "#  Visualizing the circular society; each set is plotted horizontally (different y coordinates for different sets)\n",
    "S.visualize( drawAgreement = True, drawPiercing = True )\n",
    "\n",
    "#  Checking if the set is left-right alternating (returns True or False)\n",
    "S.is_LR_alt()\n",
    "\n",
    "# Finding the agreement number of the society\n",
    "a, pos = S.findAgreementNumber( )\n",
    "tau, piercingSet, x_value, Mat = S.findPiercingNumber()\n",
    "print('Agreement Number: '+ str(a))\n",
    "print('Location of max agreement: ' + str(pos))\n",
    "print('Piercing Number: ' + str(tau))\n",
    "print('Piercing Set: ')\n",
    "print(piercingSet)"
   ]
  },
  {
   "cell_type": "markdown",
   "metadata": {
    "colab_type": "text",
    "id": "Y1JPNEjC8Izb"
   },
   "source": [
    "## Exploration 6: Multiple randomly-generated fixed-length societies"
   ]
  },
  {
   "cell_type": "code",
   "execution_count": 44,
   "metadata": {
    "colab": {
     "base_uri": "https://localhost:8080/",
     "height": 289
    },
    "colab_type": "code",
    "id": "W7iAsG3YLPbe",
    "outputId": "3e12b969-c985-4d7c-8700-be43e00393dd"
   },
   "outputs": [
    {
     "name": "stdout",
     "output_type": "stream",
     "text": [
      "Num sets:  6\n",
      "Length:  0.19\n",
      "Num societies:  1000\n",
      "Piercing Numbers - Summary\n",
      "Min:  1.0\n",
      "Max:  5.0\n",
      "Mean:  2.923\n",
      "Median:  3.0\n",
      "Fraction with tau = 2 : 0.189\n",
      "Conjecture says:  0.193917648\n",
      "Fraction with tau = 3 : 0.697\n",
      "Conjecture says:  0.684843714\n",
      "Fraction with tau = 4 : 0.112\n",
      "Conjecture says:  0.11977113599999997\n",
      "Fraction with tau = 5 : 0.001\n",
      "Conjecture says:  7.125000000000025e-05\n"
     ]
    }
   ],
   "source": [
    "# ---\n",
    "nSoc = 1000 # number of randomly-generated societies\n",
    "\n",
    "N = 6 # number of approval sets\n",
    "modulo = 1 # circumference of the circular society platform\n",
    "p = 0.19\n",
    "agreementNumList = np.zeros( nSoc )\n",
    "piercingNumList = np.zeros( nSoc )\n",
    "\n",
    "\n",
    "for i in range(0, nSoc):\n",
    "  S = circularsocieties.generateRandomFixedLengthSociety( \"Fixed length society 1\", N, modulo, p, tick=0.05 )\n",
    "  #agreementNum, _ = S.findAgreementNumber()\n",
    "  piercingNum, _, _, _ = S.findPiercingNumber()\n",
    "  #agreementNumList[i] = agreementNum\n",
    "  piercingNumList[i] = piercingNum\n",
    "\n",
    "# print results & stats\n",
    "print('Num sets: ', N)\n",
    "print('Length: ', p)\n",
    "print('Num societies: ', nSoc)\n",
    "#print('Agreement Numbers: ', agreementNumList)\n",
    "#print('Piercing Numbers: ', piercingNumList)\n",
    "\n",
    "# piercing number stats\n",
    "print('Piercing Numbers - Summary')\n",
    "print('Min: ', np.min(piercingNumList))\n",
    "print('Max: ', np.max(piercingNumList))\n",
    "print('Mean: ', np.mean(piercingNumList))\n",
    "print('Median: ', np.median(piercingNumList))\n",
    "print('Fraction with tau = 2 :', np.sum( piercingNumList == 2) /nSoc )\n",
    "print('Conjecture says: ', N*(N-1)/2*(1-2*p)*((2*p)**(N-2)) )\n",
    "#print('conjecture says: ', N*(p**(N-1)) )\n",
    "\n",
    "# test tau = 3\n",
    "print('Fraction with tau = 3 :', np.sum( piercingNumList == 3) /nSoc )\n",
    "print('Conjecture says: ', N*(N-1)*(N-2) /3/2 * ((1-3*p) ** 2)  * ((3*p)**(N-3)) )\n",
    "\n",
    "# test tau = 4\n",
    "print('Fraction with tau = 4 :', np.sum( piercingNumList == 4) /nSoc )\n",
    "print('Conjecture says: ', N*(N-1)*(N-2)*(N-3) /4/3/2 * ((1-4*p) ** 3)  * ((4*p)**(N-4)) )\n",
    "\n",
    "# test tau = 5\n",
    "print('Fraction with tau = 5 :', np.sum( piercingNumList == 5) /nSoc )\n",
    "print('Conjecture says: ', N*(N-1)*(N-2)*(N-3) * (N-2) /5/4/3/2 * ((1-5*p) ** 4)  * ((5*p)**(N-5)) )"
   ]
  },
  {
   "cell_type": "code",
   "execution_count": 45,
   "metadata": {
    "colab": {},
    "colab_type": "code",
    "id": "JXo9RoLEChTA"
   },
   "outputs": [
    {
     "data": {
      "text/plain": [
       "array([], dtype=float64)"
      ]
     },
     "execution_count": 45,
     "metadata": {},
     "output_type": "execute_result"
    }
   ],
   "source": [
    "piercingNumList[ agreementNumList >= 5]"
   ]
  },
  {
   "cell_type": "markdown",
   "metadata": {
    "colab_type": "text",
    "id": "iBCSjDPwi3l-"
   },
   "source": [
    "## Exploration 7: Testing the implementation of the \"linear society piercing number algorithm\" on circular societies"
   ]
  },
  {
   "cell_type": "code",
   "execution_count": 46,
   "metadata": {
    "colab": {
     "base_uri": "https://localhost:8080/",
     "height": 299
    },
    "colab_type": "code",
    "id": "1q2ThY_qi-DW",
    "outputId": "cd847297-dc5f-4c6d-a335-d7a4afbace4f"
   },
   "outputs": [
    {
     "name": "stdout",
     "output_type": "stream",
     "text": [
      "10\n",
      "9\n"
     ]
    },
    {
     "data": {
      "image/png": "[encoded data removed]",
      "text/plain": [
       "<Figure size 432x288 with 1 Axes>"
      ]
     },
     "metadata": {
      "needs_background": "light"
     },
     "output_type": "display_data"
    }
   ],
   "source": [
    "# Creating a circular society S, the spectrum is [0, 1]\n",
    "N = 100 # number of approval sets\n",
    "modulo = 1 # circumference of the circular society platform\n",
    "p = 0.1 # length of the society\n",
    "\n",
    "S = circularsocieties.generateRandomFixedLengthSociety( \"Fixed length society 1\", N, modulo, p, tick=0.05 )\n",
    "\n",
    "#  Visualizing the circular society; each set is plotted horizontally (different y coordinates for different sets)\n",
    "S.visualize( drawAgreement = True, drawPiercing = True )\n",
    "\n",
    "#  use the linear piercing algorithm\n",
    "output = S.piercingAlgorithm( startingPoint=0)\n",
    "print(len(output))\n",
    "\n",
    "# find the actual piercing number\n",
    "p, _, _, _ = S.findPiercingNumber()\n",
    "print(p)"
   ]
  },
  {
   "cell_type": "code",
   "execution_count": 47,
   "metadata": {
    "colab": {
     "base_uri": "https://localhost:8080/",
     "height": 357
    },
    "colab_type": "code",
    "id": "kpkkpfMakAnR",
    "outputId": "b1d3d4cb-72e7-4140-b4f1-8b80c4f02ad1"
   },
   "outputs": [
    {
     "name": "stdout",
     "output_type": "stream",
     "text": [
      "Circular Society Name: Fixed length society 1\n",
      "Spectrum: [0, 1].  (Note: we identify 0 = 1)\n",
      "Number of Voters: 100\n",
      "Approval Sets:\n",
      " Set 1: [0.6007981188900526, 0.7007981188900526]\n",
      " Set 2: [0.36258887821470287, 0.46258887821470285]\n",
      " Set 3: [0.7192532816204296, 0.8192532816204295]\n",
      " Set 4: [0.5138955503386486, 0.6138955503386486]\n",
      " Set 5: [0.1419455618984916, 0.24194556189849162]\n",
      " Set 6: [0.5921845726114994, 0.6921845726114993]\n",
      " Set 7: [0,0.07957105905045436] U [0.9795710590504543, 1]\n",
      " Set 8: [0.49408365469299964, 0.5940836546929996]\n",
      " Set 9: [0.19714781906755952, 0.2971478190675595]\n",
      " Set 10: [0,0.03777821333841325] U [0.9377782133384133, 1]\n",
      " Set 11: [0.28849503190842873, 0.3884950319084287]\n",
      " Set 12: [0.4427823287826338, 0.5427823287826338]\n",
      " Set 13: [0.6013890753553379, 0.7013890753553379]\n",
      " Set 14: [0.6833590731779293, 0.7833590731779293]\n",
      " Set 15: [0.45769413636289114, 0.5576941363628911]\n",
      " Set 16: [0.05176596324773175, 0.15176596324773176]\n",
      " Set 17: [0.3942617596007353, 0.49426175960073526]\n",
      " Set 18: [0.5749900444238212, 0.6749900444238212]\n",
      " Set 19: [0.24191179077631364, 0.3419117907763136]\n",
      " Set 20: [0.8324584904435558, 0.9324584904435558]\n",
      " Set 21: [0.6823722755176539, 0.7823722755176539]\n",
      " Set 22: [0.3544149045338003, 0.4544149045338003]\n",
      " Set 23: [0.7454012250095277, 0.8454012250095276]\n",
      " Set 24: [0.8593923911056901, 0.9593923911056901]\n",
      " Set 25: [0.3818766012349135, 0.4818766012349135]\n",
      " Set 26: [0.5876088549076669, 0.6876088549076669]\n",
      " Set 27: [0.14797048295456916, 0.24797048295456917]\n",
      " Set 28: [0.6025192977072512, 0.7025192977072512]\n",
      " Set 29: [0.6025957278948563, 0.7025957278948562]\n",
      " Set 30: [0.39050115137623165, 0.4905011513762316]\n",
      " Set 31: [0,0.0681345070775321] U [0.968134507077532, 1]\n",
      " Set 32: [0,0.08434942896191266] U [0.9843494289619126, 1]\n",
      " Set 33: [0.2548018783210999, 0.3548018783210999]\n",
      " Set 34: [0.6178626002013718, 0.7178626002013718]\n",
      " Set 35: [0.3770142418823176, 0.47701424188231756]\n",
      " Set 36: [0,0.07004200004931516] U [0.9700420000493151, 1]\n",
      " Set 37: [0.33923280735255046, 0.43923280735255044]\n",
      " Set 38: [0.6297967558101455, 0.7297967558101455]\n",
      " Set 39: [0,0.057734611906854916] U [0.9577346119068549, 1]\n",
      " Set 40: [0.23111379290937684, 0.3311137929093768]\n",
      " Set 41: [0,0.023094302139733847] U [0.9230943021397339, 1]\n",
      " Set 42: [0.36973406211386683, 0.4697340621138668]\n",
      " Set 43: [0.10644508107848516, 0.20644508107848517]\n",
      " Set 44: [0,0.08896748097760754] U [0.9889674809776076, 1]\n",
      " Set 45: [0.1902682162045456, 0.29026821620454557]\n",
      " Set 46: [0.8466562342548447, 0.9466562342548447]\n",
      " Set 47: [0.5444186695204384, 0.6444186695204384]\n",
      " Set 48: [0.8676179943031858, 0.9676179943031857]\n",
      " Set 49: [0.7264446374487538, 0.8264446374487537]\n",
      " Set 50: [0.6174102645633175, 0.7174102645633175]\n",
      " Set 51: [0.7067305330569245, 0.8067305330569244]\n",
      " Set 52: [0.1540589380483971, 0.2540589380483971]\n",
      " Set 53: [0.06127330822831556, 0.16127330822831557]\n",
      " Set 54: [0.8200056146736875, 0.9200056146736875]\n",
      " Set 55: [0.2967658438834514, 0.3967658438834514]\n",
      " Set 56: [0.7839178221075013, 0.8839178221075012]\n",
      " Set 57: [0.6905782410426358, 0.7905782410426357]\n",
      " Set 58: [0.18262519070189476, 0.28262519070189474]\n",
      " Set 59: [0.3705427216104423, 0.4705427216104423]\n",
      " Set 60: [0.8433511335300464, 0.9433511335300464]\n",
      " Set 61: [0.20711258313343062, 0.3071125831334306]\n",
      " Set 62: [0.4892147578590753, 0.5892147578590753]\n",
      " Set 63: [0.13739751557873492, 0.23739751557873492]\n",
      " Set 64: [0.4866283762546523, 0.5866283762546523]\n",
      " Set 65: [0.5760522039389387, 0.6760522039389387]\n",
      " Set 66: [0,0.08270191306719132] U [0.9827019130671912, 1]\n",
      " Set 67: [0,0.09374751676192328] U [0.9937475167619232, 1]\n",
      " Set 68: [0.05338616559336251, 0.15338616559336252]\n",
      " Set 69: [0.740845848487833, 0.840845848487833]\n",
      " Set 70: [0.5300524608680264, 0.6300524608680264]\n",
      " Set 71: [0.8804257898407212, 0.9804257898407212]\n",
      " Set 72: [0.3857354014945644, 0.4857354014945644]\n",
      " Set 73: [0.1187884078210848, 0.2187884078210848]\n",
      " Set 74: [0.2945003746192897, 0.39450037461928966]\n",
      " Set 75: [0.3604069554353353, 0.4604069554353353]\n",
      " Set 76: [0.5291726245549925, 0.6291726245549925]\n",
      " Set 77: [0.27143257801748655, 0.3714325780174865]\n",
      " Set 78: [0.26116141047233743, 0.3611614104723374]\n",
      " Set 79: [0.24134753475384496, 0.34134753475384494]\n",
      " Set 80: [0.12376390095564471, 0.22376390095564472]\n",
      " Set 81: [0.644649347266185, 0.7446493472661849]\n",
      " Set 82: [0.13839892957909306, 0.23839892957909306]\n",
      " Set 83: [0.7424576791600626, 0.8424576791600625]\n",
      " Set 84: [0.013519219072176347, 0.11351921907217635]\n",
      " Set 85: [0.23973546324373918, 0.33973546324373916]\n",
      " Set 86: [0,0.040640271253832294] U [0.9406402712538323, 1]\n",
      " Set 87: [0.27203105252683835, 0.3720310525268383]\n",
      " Set 88: [0.6432329452884666, 0.7432329452884666]\n",
      " Set 89: [0.13848548778518366, 0.23848548778518366]\n",
      " Set 90: [0.6788526656797004, 0.7788526656797004]\n",
      " Set 91: [0.7640163992683967, 0.8640163992683967]\n",
      " Set 92: [0.35839827467903373, 0.4583982746790337]\n",
      " Set 93: [0.23341104511521504, 0.333411045115215]\n",
      " Set 94: [0.07442490682158964, 0.17442490682158965]\n",
      " Set 95: [0.31629303312785506, 0.41629303312785504]\n",
      " Set 96: [0.828675248957656, 0.928675248957656]\n",
      " Set 97: [0.16632062988176965, 0.26632062988176963]\n",
      " Set 98: [0.0757986883056132, 0.1757986883056132]\n",
      " Set 99: [0,0.004565181297271126] U [0.9045651812972711, 1]\n",
      " Set 100: [0.3476444808938933, 0.4476444808938933]\n",
      "------\n",
      "x :  0.4090873615736579\n",
      "[[0.41629303312785504\n",
      "  list(['Set 95', 'Set 37', 'Set 100', 'Set 22', 'Set 92', 'Set 75', 'Set 2', 'Set 42', 'Set 59', 'Set 35', 'Set 25', 'Set 72', 'Set 30', 'Set 17'])]\n",
      " [0.5427823287826338\n",
      "  list(['Set 12', 'Set 15', 'Set 64', 'Set 62', 'Set 8', 'Set 4', 'Set 76', 'Set 70'])]\n",
      " [0.6444186695204384\n",
      "  list(['Set 47', 'Set 18', 'Set 65', 'Set 26', 'Set 6', 'Set 1', 'Set 13', 'Set 28', 'Set 29', 'Set 50', 'Set 34', 'Set 38', 'Set 88'])]\n",
      " [0.7446493472661849\n",
      "  list(['Set 81', 'Set 90', 'Set 21', 'Set 14', 'Set 57', 'Set 51', 'Set 3', 'Set 49', 'Set 69', 'Set 83'])]\n",
      " [0.8454012250095276\n",
      "  list(['Set 23', 'Set 91', 'Set 56', 'Set 54', 'Set 96', 'Set 20', 'Set 60'])]\n",
      " [0.9466562342548447\n",
      "  list(['Set 46', 'Set 24', 'Set 48', 'Set 71', 'Set 99', 'Set 41', 'Set 10', 'Set 86'])]\n",
      " [0.057734611906854916\n",
      "  list(['Set 39', 'Set 31', 'Set 36', 'Set 7', 'Set 66', 'Set 32', 'Set 44', 'Set 67', 'Set 84', 'Set 16', 'Set 68'])]\n",
      " [0.16127330822831557\n",
      "  list(['Set 53', 'Set 94', 'Set 98', 'Set 43', 'Set 73', 'Set 80', 'Set 63', 'Set 82', 'Set 89', 'Set 5', 'Set 27', 'Set 52'])]\n",
      " [0.26632062988176963\n",
      "  list(['Set 97', 'Set 58', 'Set 45', 'Set 9', 'Set 61', 'Set 40', 'Set 93', 'Set 85', 'Set 79', 'Set 19', 'Set 33', 'Set 78'])]\n",
      " [0.3714325780174865\n",
      "  list(['Set 77', 'Set 87', 'Set 11', 'Set 74', 'Set 55'])]]\n",
      "10\n"
     ]
    }
   ],
   "source": [
    "#  use the linear piercing algorithm, cutting the circle at a randomly chosen location x\n",
    "S.printSocietyInfo()\n",
    "print('------')\n",
    "\n",
    "import random\n",
    "x = random.uniform(0, 1)\n",
    "print('x : ', x)\n",
    "output = S.piercingAlgorithm( startingPoint=x)\n",
    "print(np.array(output))\n",
    "print(len(output))"
   ]
  },
  {
   "cell_type": "markdown",
   "metadata": {
    "colab_type": "text",
    "id": "ULegrzeJPDOu"
   },
   "source": [
    "## Exploration 8: Multiple linear societies: check how often the linear piercing algorithm gives us the correct answer"
   ]
  },
  {
   "cell_type": "code",
   "execution_count": 48,
   "metadata": {
    "colab": {
     "base_uri": "https://localhost:8080/",
     "height": 68
    },
    "colab_type": "code",
    "id": "iEMVADG9PCo7",
    "outputId": "eadf81ae-47eb-49ab-a203-c52c70d3ff2a"
   },
   "outputs": [
    {
     "name": "stdout",
     "output_type": "stream",
     "text": [
      "Minimum difference:  0.0\n",
      "Maximum difference:  1.0\n",
      "Fraction correct : 0.95\n"
     ]
    }
   ],
   "source": [
    "nSoc = 100\n",
    "\n",
    "# Creating a circular society S, the spectrum is [0, 1]\n",
    "N = 100 # number of approval sets\n",
    "modulo = 1 # circumference of the circular society platform\n",
    "p = 0.3 # length of the society\n",
    "tau_diff_list = np.zeros( nSoc ) # tau minus tau_actual\n",
    "\n",
    "for i in range(0, nSoc):\n",
    "  S = circularsocieties.generateRandomFixedLengthSociety( \"Fixed length society 1\", N, modulo, p, tick=0.05 )\n",
    "  #  use the linear piercing algorithm\n",
    "  output = S.piercingAlgorithm( startingPoint=0)\n",
    "  tau = len(output)\n",
    "  # find the actual piercing number\n",
    "  tau_actual, _, _, _ = S.findPiercingNumber()\n",
    "  tau_diff_list[i] = tau - tau_actual\n",
    "\n",
    "min_tau_diff = min(tau_diff_list)\n",
    "max_tau_diff = max(tau_diff_list)\n",
    "num_correct = len( tau_diff_list[tau_diff_list == 0] )\n",
    "frac_correct = num_correct / nSoc\n",
    "\n",
    "print('Minimum difference: ', min_tau_diff )\n",
    "print('Maximum difference: ', max_tau_diff )\n",
    "print('Fraction correct :', frac_correct )"
   ]
  },
  {
   "cell_type": "markdown",
   "metadata": {
    "colab_type": "text",
    "id": "QsDjPXjc-dHY"
   },
   "source": [
    "## Exploration 9: Checking (k, m)-agreeability"
   ]
  },
  {
   "cell_type": "code",
   "execution_count": 49,
   "metadata": {
    "colab": {
     "base_uri": "https://localhost:8080/",
     "height": 231
    },
    "colab_type": "code",
    "id": "PC_8Z7WIC7Hm",
    "outputId": "73ced3f6-b49f-4e0d-dd1c-07a681f5a7b1"
   },
   "outputs": [
    {
     "name": "stdout",
     "output_type": "stream",
     "text": [
      "1\n",
      "[]\n"
     ]
    },
    {
     "data": {
      "image/png": "[encoded data removed]",
      "text/plain": [
       "<Figure size 432x288 with 1 Axes>"
      ]
     },
     "metadata": {
      "needs_background": "light"
     },
     "output_type": "display_data"
    }
   ],
   "source": [
    "# Creating a circular society S, the spectrum is [0, 1]\n",
    "N = 10 # number of approval sets\n",
    "modulo = 1 # circumference of the circular society platform\n",
    "p = 0.2 # length of the society\n",
    "\n",
    "S = circularsocieties.generateRandomFixedLengthSociety( \"Fixed length society 1\", N, modulo, p, tick=0.05 )\n",
    "\n",
    "#  Visualizing the circular society; each set is plotted horizontally (different y coordinates for different sets)\n",
    "S.visualize( drawAgreement = True, drawPiercing = True )\n",
    "\n",
    "is_kmagreeable, bad_m_sets = S.checkAgreeability(4, 9)\n",
    "print(is_kmagreeable)\n",
    "print(bad_m_sets)"
   ]
  },
  {
   "cell_type": "code",
   "execution_count": 50,
   "metadata": {
    "colab": {
     "base_uri": "https://localhost:8080/",
     "height": 197
    },
    "colab_type": "code",
    "id": "MqrDbN_EhP9i",
    "outputId": "4a57580a-6f56-4c4e-e58e-90db9890fb62",
    "scrolled": true
   },
   "outputs": [
    {
     "name": "stdout",
     "output_type": "stream",
     "text": [
      "0\n",
      "[['Set 1', 'Set 2', 'Set 3'], ['Set 1', 'Set 2', 'Set 10'], ['Set 1', 'Set 3', 'Set 4'], ['Set 1', 'Set 3', 'Set 9'], ['Set 1', 'Set 9', 'Set 10'], ['Set 2', 'Set 7', 'Set 10'], ['Set 3', 'Set 4', 'Set 5'], ['Set 4', 'Set 5', 'Set 7'], ['Set 5', 'Set 7', 'Set 10'], ['Set 6', 'Set 7', 'Set 10'], ['Set 7', 'Set 8', 'Set 10'], ['Set 7', 'Set 9', 'Set 10']]\n"
     ]
    }
   ],
   "source": [
    "is_kmagreeable, bad_m_sets = S.checkAgreeability(2, 3)\n",
    "print(is_kmagreeable)\n",
    "print(bad_m_sets)"
   ]
  },
  {
   "cell_type": "code",
   "execution_count": null,
   "metadata": {},
   "outputs": [],
   "source": []
  }
 ],
 "metadata": {
  "kernelspec": {
   "display_name": "Python 3",
   "language": "python",
   "name": "python3"
  },
  "language_info": {
   "codemirror_mode": {
    "name": "ipython",
    "version": 3
   },
   "file_extension": ".py",
   "mimetype": "text/x-python",
   "name": "python",
   "nbconvert_exporter": "python",
   "pygments_lexer": "ipython3",
   "version": "3.7.6"
  }
 },
 "nbformat": 4,
 "nbformat_minor": 4
}
