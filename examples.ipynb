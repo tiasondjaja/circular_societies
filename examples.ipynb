{
 "cells": [
  {
   "cell_type": "code",
   "execution_count": 1,
   "metadata": {},
   "outputs": [],
   "source": [
    "import circularsocieties\n",
    "from circularsocieties import CircularSociety"
   ]
  },
  {
   "cell_type": "markdown",
   "metadata": {
    "colab_type": "text",
    "id": "kUQENXpu_Gp_"
   },
   "source": [
    "## Examples"
   ]
  },
  {
   "cell_type": "markdown",
   "metadata": {
    "colab_type": "text",
    "id": "N07STkUEAjpi"
   },
   "source": [
    "### Example 1"
   ]
  },
  {
   "cell_type": "code",
   "execution_count": 2,
   "metadata": {
    "colab": {},
    "colab_type": "code",
    "id": "aC1df4CUf2xg"
   },
   "outputs": [
    {
     "name": "stdout",
     "output_type": "stream",
     "text": [
      "Circular Society Name: S1\n",
      "Spectrum: [0, 10].  (Note: we identify 0 = 10)\n",
      "Number of Voters: 5\n",
      "Approval Sets:\n",
      " Set1: [3, 5]\n",
      " Set2: [0,3] U [6, 10]\n",
      " Set3: [5, 8]\n",
      " Set4: [0,1] U [7, 10]\n",
      " Set5: [6, 9]\n",
      "4\n",
      "7\n"
     ]
    },
    {
     "data": {
      "image/png": "[encoded data removed]",
      "text/plain": [
       "<Figure size 432x288 with 1 Axes>"
      ]
     },
     "metadata": {
      "needs_background": "light"
     },
     "output_type": "display_data"
    }
   ],
   "source": [
    "# Example 1  (Run this cell by pressing Shift + Enter or clicking the \"play\" button to the side)\n",
    "\n",
    "# Creating a circular society named A (with a string name \"S1\") where the spectrum is [0, 10] (where 0 = 10)\n",
    "A = CircularSociety( \"S1\", 10)\n",
    "\n",
    "#   Adding sets \n",
    "A.addApprovalSet( \"Set1\", 3, 5 )  # \"Set1\" is the set's name, left endpoint = 3, right endpoint = 5\n",
    "A.addApprovalSet( \"Set2\", 0, 2 )\n",
    "A.addApprovalSet( \"Set3\", 5, 8 )\n",
    "A.addApprovalSet( \"Set4\", 7, 1 )\n",
    "A.addApprovalSet( \"Set5\", 6, 9 )\n",
    "A.addApprovalSet( \"Set6\", 2, 4 )\n",
    "\n",
    "#  Editing an existing set\n",
    "A.editApprovalSet( \"Set2\", 6, 3)\n",
    "\n",
    "#  Removing a set (by its names)\n",
    "A.removeApprovalSet( \"Set6\" )\n",
    "\n",
    "#  Displaying the circular society's information (name, is it uniform, the spectrum, number of voters, list of approval sets) \n",
    "A.printSocietyInfo()\n",
    "\n",
    "#  Visualizing the circular society; each set is plotted horizontally (different y coordinates for different sets)\n",
    "A.visualize( )\n",
    "\n",
    "#  Checking if the set is left-right alternating (returns True or False)\n",
    "A.is_LR_alt()\n",
    "\n",
    "# Finding the agreement number of the society\n",
    "a, pos = A.findAgreementNumber()\n",
    "print(a)\n",
    "print(pos)"
   ]
  },
  {
   "cell_type": "markdown",
   "metadata": {
    "colab_type": "text",
    "id": "kS2xv2-GAlni"
   },
   "source": [
    "### Example 2"
   ]
  },
  {
   "cell_type": "code",
   "execution_count": 3,
   "metadata": {
    "colab": {},
    "colab_type": "code",
    "id": "ZVdlx7pBf2x9"
   },
   "outputs": [
    {
     "name": "stdout",
     "output_type": "stream",
     "text": [
      "Circular Society Name: Soc1\n",
      "Spectrum: [0, 7].  (Note: we identify 0 = 7)\n",
      "Number of Voters: 7\n",
      "Approval Sets:\n",
      " Set 1: [0, 3.5]\n",
      " Set 2: [1, 4.5]\n",
      " Set 3: [2, 5.5]\n",
      " Set 4: [3, 6.5]\n",
      " Set 5: [0,0.5] U [4, 7]\n",
      " Set 6: [0,1.5] U [5, 7]\n",
      " Set 7: [0,2.5] U [6, 7]\n",
      "(['LSet 1', 'RSet 5', 'LSet 2', 'RSet 6', 'LSet 3', 'RSet 7', 'LSet 4', 'RSet 1', 'LSet 5', 'RSet 2', 'LSet 6', 'RSet 3', 'LSet 7', 'RSet 4'], [0, 0.5, 1, 1.5, 2, 2.5, 3, 3.5, 4, 4.5, 5, 5.5, 6, 6.5])\n",
      "Is the society left-right alternating? True\n",
      "Agreement number is:  4\n",
      "Location of max agreement along the horizontal axis (potentially one of several):  0\n"
     ]
    },
    {
     "data": {
      "image/png": "[encoded data removed]",
      "text/plain": [
       "<Figure size 432x288 with 1 Axes>"
      ]
     },
     "metadata": {
      "needs_background": "light"
     },
     "output_type": "display_data"
    }
   ],
   "source": [
    "# Example 2 (Run this cell by pressing Shift + Enter or clicking the \"play\" button to the side)\n",
    "\n",
    "# Generating a Uniform Society named S1 (with a string name \"Soc1\"), U(7, 4)\n",
    "S1 = circularsocieties.generateUniformCircularSociety( \"Soc1\", 7, 4)\n",
    "\n",
    "#  Displaying the circular society's information (name, is it uniform, the spectrum, number of voters, list of approval sets) \n",
    "S1.printSocietyInfo()\n",
    "\n",
    "#  Visualizing the circular society; each set is plotted horizontally (different y coordinates for different sets)\n",
    "S1.visualize( )\n",
    "\n",
    "# Displaying the list of left/right endpoints starting from x = 0.\n",
    "print(S1.listSetEndpoints())\n",
    "\n",
    "# Checking if the set is left-right alternating (returns True or False)\n",
    "print(\"Is the society left-right alternating?\", S1.is_LR_alt() )\n",
    "\n",
    "# Find the agreement number of this society\n",
    "a, location = S1.findAgreementNumber()\n",
    "print(\"Agreement number is: \", a)\n",
    "print(\"Location of max agreement along the horizontal axis (potentially one of several): \", location)"
   ]
  },
  {
   "cell_type": "markdown",
   "metadata": {
    "colab_type": "text",
    "id": "IS2YcGhRAnv_"
   },
   "source": [
    "### Example 3a"
   ]
  },
  {
   "cell_type": "code",
   "execution_count": 4,
   "metadata": {
    "colab": {},
    "colab_type": "code",
    "id": "NmOqH2Gof2yT"
   },
   "outputs": [
    {
     "name": "stdout",
     "output_type": "stream",
     "text": [
      "Circular Society Name: A\n",
      "Spectrum: [0, 10].  (Note: we identify 0 = 10)\n",
      "Number of Voters: 10\n",
      "Approval Sets:\n",
      " Set 1: [1.2672448750566767, 5.142017308758076]\n",
      " Set 2: [1.012580142772641, 2.6525486066313397]\n",
      " Set 3: [0,0.2763286789174091] U [5.671079711241608, 10]\n",
      " Set 4: [0,1.3347830617342749] U [6.695779483821999, 10]\n",
      " Set 5: [4.7894083832938925, 5.994872411774862]\n",
      " Set 6: [0.6108710026604036, 9.621458321427763]\n",
      " Set 7: [5.6518972091247255, 8.42532382788663]\n",
      " Set 8: [0,8.901884209183985] U [9.881913001268215, 10]\n",
      " Set 9: [1.1881518437138072, 4.104549700616079]\n",
      " Set 10: [0,6.682094440546366] U [8.313399780043314, 10]\n",
      "Agreement number is:  7\n",
      "Location of max agreement along the horizontal axis (potentially one of several):  1.2672448750566767\n"
     ]
    },
    {
     "data": {
      "image/png": "[encoded data removed]",
      "text/plain": [
       "<Figure size 432x288 with 1 Axes>"
      ]
     },
     "metadata": {
      "needs_background": "light"
     },
     "output_type": "display_data"
    }
   ],
   "source": [
    "# Example 3a: Randomly-generated circular societies\n",
    "\n",
    "S2 = circularsocieties.generateRandomSociety( 'A', 10, 10, epsilon = 0.5 )\n",
    "S2.printSocietyInfo()\n",
    "S2.visualize(  )\n",
    "a2, location2 = S2.findAgreementNumber()\n",
    "\n",
    "print(\"Agreement number is: \", a2)\n",
    "print(\"Location of max agreement along the horizontal axis (potentially one of several): \", location2)"
   ]
  },
  {
   "cell_type": "markdown",
   "metadata": {
    "colab_type": "text",
    "id": "Ykk9hAjZz_UD"
   },
   "source": [
    "### Example 3b: Randomly-generated circular Societies\n",
    "\n",
    "Given a society whose approval sets are randomly generated (with a particular distribution), what is the distribution of the approval number of the random society?"
   ]
  },
  {
   "cell_type": "code",
   "execution_count": 5,
   "metadata": {
    "colab": {},
    "colab_type": "code",
    "id": "2pQz3DGXuHAh"
   },
   "outputs": [],
   "source": [
    "# Generate R random societies, each with N voters\n",
    "#   Each approval set has endpts from the uniform distribution on [0, modulo]\n",
    "\n",
    "import numpy as np\n",
    "import matplotlib.pyplot as plt\n",
    "\n",
    "R = 100\n",
    "N = 10\n",
    "modulo = 10\n",
    "\n",
    "approval = np.empty([R,])\n",
    "\n",
    "for i in np.arange(0, R):\n",
    "  S = circularsocieties.generateRandomSociety( 'A', N, modulo, epsilon = 0.5, mode = 2, a = 2, b=2 )\n",
    "  approval[i], a = S.findAgreementNumber()"
   ]
  },
  {
   "cell_type": "code",
   "execution_count": 6,
   "metadata": {
    "colab": {},
    "colab_type": "code",
    "id": "6L4OwirI7aHg"
   },
   "outputs": [
    {
     "data": {
      "text/plain": [
       "(array([11.,  0.,  0., 46.,  0.,  0., 35.,  0.,  0.,  8.]),\n",
       " array([0.6 , 0.63, 0.66, 0.69, 0.72, 0.75, 0.78, 0.81, 0.84, 0.87, 0.9 ]),\n",
       " <a list of 10 Patch objects>)"
      ]
     },
     "execution_count": 6,
     "metadata": {},
     "output_type": "execute_result"
    },
    {
     "data": {
      "image/png": "[encoded data removed]",
      "text/plain": [
       "<Figure size 432x288 with 1 Axes>"
      ]
     },
     "metadata": {
      "needs_background": "light"
     },
     "output_type": "display_data"
    }
   ],
   "source": [
    "approvalRatio = approval/N\n",
    "plt.hist(approvalRatio, bins = 10)"
   ]
  },
  {
   "cell_type": "code",
   "execution_count": 7,
   "metadata": {
    "colab": {},
    "colab_type": "code",
    "id": "FK_jw4us4Mps"
   },
   "outputs": [
    {
     "data": {
      "text/plain": [
       "0.74"
      ]
     },
     "execution_count": 7,
     "metadata": {},
     "output_type": "execute_result"
    }
   ],
   "source": [
    "np.mean(approvalRatio)"
   ]
  },
  {
   "cell_type": "code",
   "execution_count": 8,
   "metadata": {
    "colab": {},
    "colab_type": "code",
    "id": "DK_dxFC38YoC"
   },
   "outputs": [
    {
     "name": "stdout",
     "output_type": "stream",
     "text": [
      "Circular Society Name: A\n",
      "Spectrum: [0, 10].  (Note: we identify 0 = 10)\n",
      "Number of Voters: 10\n",
      "Approval Sets:\n",
      " Set 1: [0.9616010140161724, 6.170486153513523]\n",
      " Set 2: [0.8531208796732426, 8.42308152941218]\n",
      " Set 3: [0,7.2782530898102635] U [8.834190142137526, 10]\n",
      " Set 4: [0,0.22778565208118806] U [5.351170320240062, 10]\n",
      " Set 5: [0,3.5599432449670427] U [7.654038660407942, 10]\n",
      " Set 6: [0,3.666287170612865] U [8.723237929114179, 10]\n",
      " Set 7: [6.921883957808549, 7.656189044133397]\n",
      " Set 8: [0,4.602830130662017] U [8.794301991845469, 10]\n",
      " Set 9: [0,2.739830617569371] U [8.927354090273163, 10]\n",
      " Set 10: [0,1.216002339225314] U [2.5215331668719343, 10]\n"
     ]
    }
   ],
   "source": [
    "S.printSocietyInfo()"
   ]
  },
  {
   "cell_type": "code",
   "execution_count": 9,
   "metadata": {
    "colab": {},
    "colab_type": "code",
    "id": "O67CyWRAe3xI"
   },
   "outputs": [
    {
     "data": {
      "image/png": "[encoded data removed]",
      "text/plain": [
       "<Figure size 432x288 with 1 Axes>"
      ]
     },
     "metadata": {
      "needs_background": "light"
     },
     "output_type": "display_data"
    }
   ],
   "source": [
    "S.visualize( drawAgreement = True )"
   ]
  },
  {
   "cell_type": "code",
   "execution_count": 10,
   "metadata": {
    "colab": {},
    "colab_type": "code",
    "id": "rFrnHAAAfSsq"
   },
   "outputs": [
    {
     "data": {
      "text/plain": [
       "(8, 0.9616010140161724)"
      ]
     },
     "execution_count": 10,
     "metadata": {},
     "output_type": "execute_result"
    }
   ],
   "source": [
    "S.findAgreementNumber()"
   ]
  },
  {
   "cell_type": "markdown",
   "metadata": {
    "colab_type": "text",
    "id": "fMQGcMzXl9W1"
   },
   "source": [
    "### Example 4: Experiments with randomly-generated fixed length societies"
   ]
  },
  {
   "cell_type": "code",
   "execution_count": 40,
   "metadata": {
    "colab": {},
    "colab_type": "code",
    "id": "ZyVEIGzxANsT"
   },
   "outputs": [
    {
     "name": "stdout",
     "output_type": "stream",
     "text": [
      "--------\n",
      "Before any transformations\n",
      "Agreement number: 2\n",
      "Piercing number: 2\n",
      "--------\n"
     ]
    },
    {
     "data": {
      "image/png": "[encoded data removed]",
      "text/plain": [
       "<Figure size 432x288 with 1 Axes>"
      ]
     },
     "metadata": {
      "needs_background": "light"
     },
     "output_type": "display_data"
    }
   ],
   "source": [
    "# ---\n",
    "# Random Example\n",
    "N = 3 # number of approval sets\n",
    "modulo = 1 # circumference of the circular society\n",
    "p = 0.25\n",
    "\n",
    "S = circularsocieties.generateRandomFixedLengthSociety( \"Fixed length society 1\", N, modulo, p, tick=0.05 )\n",
    "\n",
    "# ---\n",
    "# Finding the agreement number of the society\n",
    "a, position = S.findAgreementNumber()\n",
    "\n",
    "print(\"--------\")\n",
    "print(\"Before any transformations\")\n",
    "print(\"Agreement number:\", a)\n",
    "p, _, _, _ = S.findPiercingNumber()\n",
    "print(\"Piercing number:\", p)\n",
    "S.visualize( drawAgreement = True, drawPiercing = True )\n",
    "print(\"--------\")"
   ]
  },
  {
   "cell_type": "code",
   "execution_count": 41,
   "metadata": {
    "colab": {},
    "colab_type": "code",
    "id": "yTlTYqxuP_hi"
   },
   "outputs": [
    {
     "name": "stdout",
     "output_type": "stream",
     "text": [
      "Circular Society Name: Fixed length society 1\n",
      "Spectrum: [0, 1].  (Note: we identify 0 = 1)\n",
      "Number of Voters: 3\n",
      "Approval Sets:\n",
      " Set 1: [0,0.16063754513460626] U [0.9106375451346062, 1]\n",
      " Set 2: [0.4073645065597533, 0.6573645065597533]\n",
      " Set 3: [0.5155866555769678, 0.7655866555769678]\n",
      "[0.16063755 0.51558666]\n"
     ]
    }
   ],
   "source": [
    "S.printSocietyInfo()\n",
    "tau, piercingset, _, _ = S.findPiercingNumber()\n",
    "print(piercingset)"
   ]
  },
  {
   "cell_type": "code",
   "execution_count": 42,
   "metadata": {
    "colab": {},
    "colab_type": "code",
    "id": "HzmJm6gApDnh"
   },
   "outputs": [
    {
     "name": "stdout",
     "output_type": "stream",
     "text": [
      "--------\n",
      "After Hardin's transformations\n",
      "Agreement number after LR-alternation: 2\n",
      "Piercing number after LR-alternation: 2\n",
      "--------\n"
     ]
    },
    {
     "data": {
      "image/png": "[encoded data removed]",
      "text/plain": [
       "<Figure size 432x288 with 1 Axes>"
      ]
     },
     "metadata": {
      "needs_background": "light"
     },
     "output_type": "display_data"
    }
   ],
   "source": [
    "# Apply transformations\n",
    "Snew = copy.deepcopy(S)\n",
    "Snew.uniformize()\n",
    "\n",
    "print(\"--------\")\n",
    "print(\"After Hardin's transformations\")\n",
    "anew, _ = Snew.findAgreementNumber()\n",
    "print(\"Agreement number after LR-alternation:\", anew)\n",
    "pnew, _, _, _ = Snew.findPiercingNumber()\n",
    "print(\"Piercing number after LR-alternation:\", pnew)\n",
    "Snew.visualize( drawAgreement = True, drawPiercing = True )\n",
    "print(\"--------\")"
   ]
  },
  {
   "cell_type": "markdown",
   "metadata": {
    "colab_type": "text",
    "id": "QsDjPXjc-dHY"
   },
   "source": [
    "### Example 5: Checking (k, m)-agreeability"
   ]
  },
  {
   "cell_type": "code",
   "execution_count": 49,
   "metadata": {
    "colab": {
     "base_uri": "https://localhost:8080/",
     "height": 231
    },
    "colab_type": "code",
    "id": "PC_8Z7WIC7Hm",
    "outputId": "73ced3f6-b49f-4e0d-dd1c-07a681f5a7b1"
   },
   "outputs": [
    {
     "name": "stdout",
     "output_type": "stream",
     "text": [
      "1\n",
      "[]\n"
     ]
    },
    {
     "data": {
      "image/png": "[encoded data removed]",
      "text/plain": [
       "<Figure size 432x288 with 1 Axes>"
      ]
     },
     "metadata": {
      "needs_background": "light"
     },
     "output_type": "display_data"
    }
   ],
   "source": [
    "# Creating a circular society S, the spectrum is [0, 1]\n",
    "N = 10 # number of approval sets\n",
    "modulo = 1 # circumference of the circular society platform\n",
    "p = 0.2 # length of the society\n",
    "\n",
    "S = circularsocieties.generateRandomFixedLengthSociety( \"Fixed length society 1\", N, modulo, p, tick=0.05 )\n",
    "\n",
    "#  Visualizing the circular society; each set is plotted horizontally (different y coordinates for different sets)\n",
    "S.visualize( drawAgreement = True, drawPiercing = True )\n",
    "\n",
    "is_kmagreeable, bad_m_sets = S.checkAgreeability(4, 9)\n",
    "print(is_kmagreeable)\n",
    "print(bad_m_sets)"
   ]
  },
  {
   "cell_type": "code",
   "execution_count": 50,
   "metadata": {
    "colab": {
     "base_uri": "https://localhost:8080/",
     "height": 197
    },
    "colab_type": "code",
    "id": "MqrDbN_EhP9i",
    "outputId": "4a57580a-6f56-4c4e-e58e-90db9890fb62",
    "scrolled": true
   },
   "outputs": [
    {
     "name": "stdout",
     "output_type": "stream",
     "text": [
      "0\n",
      "[['Set 1', 'Set 2', 'Set 3'], ['Set 1', 'Set 2', 'Set 10'], ['Set 1', 'Set 3', 'Set 4'], ['Set 1', 'Set 3', 'Set 9'], ['Set 1', 'Set 9', 'Set 10'], ['Set 2', 'Set 7', 'Set 10'], ['Set 3', 'Set 4', 'Set 5'], ['Set 4', 'Set 5', 'Set 7'], ['Set 5', 'Set 7', 'Set 10'], ['Set 6', 'Set 7', 'Set 10'], ['Set 7', 'Set 8', 'Set 10'], ['Set 7', 'Set 9', 'Set 10']]\n"
     ]
    }
   ],
   "source": [
    "is_kmagreeable, bad_m_sets = S.checkAgreeability(2, 3)\n",
    "print(is_kmagreeable)\n",
    "print(bad_m_sets)"
   ]
  },
  {
   "cell_type": "code",
   "execution_count": null,
   "metadata": {},
   "outputs": [],
   "source": []
  }
 ],
 "metadata": {
  "kernelspec": {
   "display_name": "Python 3",
   "language": "python",
   "name": "python3"
  },
  "language_info": {
   "codemirror_mode": {
    "name": "ipython",
    "version": 3
   },
   "file_extension": ".py",
   "mimetype": "text/x-python",
   "name": "python",
   "nbconvert_exporter": "python",
   "pygments_lexer": "ipython3",
   "version": "3.7.6"
  }
 },
 "nbformat": 4,
 "nbformat_minor": 4
}
