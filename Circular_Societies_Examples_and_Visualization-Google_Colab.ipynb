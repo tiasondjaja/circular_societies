{
  "nbformat": 4,
  "nbformat_minor": 0,
  "metadata": {
    "colab": {
      "name": "Circular Societies Examples and Visualization - Google Colab.ipynb",
      "provenance": [],
      "collapsed_sections": [
        "iY6TPjpSBP-Y",
        "kS2xv2-GAlni",
        "Ykk9hAjZz_UD",
        "lMGgDqgNp458",
        "4vomVzijySvD",
        "OUpCVYENjDU3",
        "LckJRizeGwXs",
        "1lN0DJUwQP3e",
        "fMQGcMzXl9W1",
        "qcs_l8BVKIaI",
        "Y1JPNEjC8Izb",
        "iBCSjDPwi3l-",
        "ULegrzeJPDOu",
        "QsDjPXjc-dHY"
      ],
      "include_colab_link": true
    },
    "kernelspec": {
      "display_name": "Python 3",
      "language": "python",
      "name": "python3"
    }
  },
  "cells": [
    {
      "cell_type": "markdown",
      "metadata": {
        "id": "view-in-github",
        "colab_type": "text"
      },
      "source": [
        "<a href=\"https://colab.research.google.com/github/tiasondjaja/circular_societies/blob/master/Circular_Societies_Examples_and_Visualization-Google_Colab.ipynb\" target=\"_parent\"><img src=\"https://colab.research.google.com/assets/colab-badge.svg\" alt=\"Open In Colab\"/></a>"
      ]
    },
    {
      "cell_type": "markdown",
      "metadata": {
        "id": "wZ4upHILf2w8",
        "colab_type": "text"
      },
      "source": [
        "# Circular Societies Visualization Tool\n",
        "\n",
        "In this document, we define:\n",
        "+ The `Set` class (to create approval sets)\n",
        "+ The `CircularSociety` class (to create a circular society, which is made up of approval sets)\n",
        "    + Along with methods for visualizing the circular societies, computing piercing number and approval number, checking (k, m)-agreeability, and transforming the society into Hardin's uniform society.\n",
        "+ Functions to randomly generate circular societies.\n",
        "\n",
        "A complete \"documentation\" and a couple of examples are included below (scroll down).\n",
        "\n",
        "\n",
        "### How to run and use this document\n",
        "+ First, run the code cell in the \"Setup\" section below.  Do not modify anything.\n",
        "+ Then, optionally, read the documentation and run the code cells in the \"Example\" section\n",
        "+ Experiment with your own circular societies"
      ]
    },
    {
      "cell_type": "markdown",
      "metadata": {
        "id": "iY6TPjpSBP-Y",
        "colab_type": "text"
      },
      "source": [
        "## Setup\n",
        "\n",
        "Run the code cell in the \"Setup\" section below once each time the notebook is started. Do not modify anything."
      ]
    },
    {
      "cell_type": "code",
      "metadata": {
        "id": "F9I5hP_gf2xD",
        "colab_type": "code",
        "colab": {}
      },
      "source": [
        "import numpy as np\n",
        "import scipy as sp\n",
        "import cvxpy as cp\n",
        "import matplotlib.pyplot as plt\n",
        "import datetime\n",
        "import copy\n",
        "import itertools\n",
        "\n",
        "\n",
        "# Part 0 ----------------------------------\n",
        "# Define the Set class (approval set)\n",
        "class Set:\n",
        "    # Initialize Class\n",
        "    def __init__( self, name, left_endpt, right_endpt, modulo ):\n",
        "        self.name = name\n",
        "        self.left_endpt = left_endpt\n",
        "        self.right_endpt = right_endpt\n",
        "        self.modulo = modulo\n",
        "    \n",
        "    # Method to print set name and left- and right-endpoints\n",
        "    def printSetInfo( self ):\n",
        "        if self.left_endpt <= self.right_endpt:\n",
        "            print( \" \" + self.name + \": [\" + str(self.left_endpt) + \", \" + str(self.right_endpt) + \"]\")\n",
        "        elif self.right_endpt == 0:\n",
        "            print( \" \" + self.name + \": [\" + str(self.left_endpt) + \", \" + str(self.modulo) + \"]\")\n",
        "        else:\n",
        "            print( \" \" + self.name + \": [0,\" + str(self.right_endpt) + \"] U [\" + str(self.left_endpt) + \", \" + str(self.modulo) + \"]\")\n",
        "    \n",
        "    def editSet( self, newname, newleft_endpt, newright_endpt, newmodulo ):\n",
        "        self.name = newname\n",
        "        self.left_endpt = newleft_endpt\n",
        "        self.right_endpt = newright_endpt\n",
        "        self.modulo = newmodulo\n",
        "        \n",
        "    def isPointInSet( self, point):\n",
        "        check = False\n",
        "        \n",
        "        if (self.left_endpt <= point and point <= self.right_endpt):\n",
        "             check = True\n",
        "        elif (self.left_endpt <= point and self.right_endpt <= self.left_endpt):\n",
        "             check = True\n",
        "        elif (point <= self.right_endpt and self.right_endpt <= self.left_endpt):\n",
        "             check = True\n",
        "            \n",
        "        return check\n",
        "  \n",
        "# Part 1 - MAIN ----------------------------------  \n",
        "\n",
        "# Define the CircularSociety class\n",
        "\n",
        "class CircularSociety:\n",
        "    \n",
        "    # Initialize Class\n",
        "    def __init__( self, name, modulo, isUniform = 0, tick = 0.5 ):\n",
        "        self.name = name\n",
        "        self.modulo = modulo # modulo > 0; the circular society is represented as [0, modulo) with 0 = modulo\n",
        "        self.approvalSets = [] # initialize with empty approval sets\n",
        "        self.numVoters = 0\n",
        "        self.tick = tick\n",
        "        \n",
        "        # List of all endpoints and setnames (useful when checking for left-right alternation)\n",
        "        self.list_setnames = []\n",
        "        self.list_left_endpts = []\n",
        "        self.list_right_endpts = []\n",
        "    \n",
        "    # method that returns a set given its name\n",
        "    def getSet( self, setname ):\n",
        "      for A in self.approvalSets:\n",
        "        if A.name == setname:\n",
        "          return A\n",
        "      return None\n",
        "    \n",
        "    ### DISPLAYING / OBTAINING BASIC INFORMATION ABOUT THE CIRCULAR SOCIETY----\n",
        "    \n",
        "    # Method to print list of approval sets\n",
        "    def listApprovalSets( self ):\n",
        "        for A in self.approvalSets:\n",
        "            A.printSetInfo()\n",
        "            \n",
        "    # Method to print society information\n",
        "    def printSocietyInfo( self ):\n",
        "        print(\"Circular Society Name: \" + self.name)\n",
        "        print(\"Spectrum: [0, \" + str(self.modulo) + \"].  (Note: we identify 0 = \" + str(self.modulo) + \")\"  )\n",
        "        print(\"Number of Voters: \" + str(self.numVoters) )\n",
        "        print(\"Approval Sets:\")\n",
        "        self.listApprovalSets()\n",
        "    \n",
        "    # Method to list the endpoints of the sets, from 0 to N\n",
        "    def listSetEndpoints( self ):\n",
        "        N = self.numVoters\n",
        "        orderedendpts = []\n",
        "        orderednames = []\n",
        "        setindices_ordered_left = np.argsort(self.list_left_endpts)\n",
        "        setindices_ordered_right = np.argsort(self.list_right_endpts)\n",
        "        left_i = 0\n",
        "        right_i = 0\n",
        "        \n",
        "        for step in range( 0, 2*N ):\n",
        "            if left_i < N and right_i < N:\n",
        "                if self.list_left_endpts[ setindices_ordered_left[left_i] ] < self.list_right_endpts[ setindices_ordered_right[right_i] ]:\n",
        "                    orderedendpts.append( self.list_left_endpts[ setindices_ordered_left[left_i] ] )\n",
        "                    orderednames.append( 'L' + self.list_setnames[ setindices_ordered_left[left_i] ] )\n",
        "                    left_i += 1\n",
        "                else:\n",
        "                    orderedendpts.append( self.list_right_endpts[ setindices_ordered_right[right_i] ] )\n",
        "                    orderednames.append( 'R' + self.list_setnames[ setindices_ordered_right[right_i] ] )\n",
        "                    right_i += 1\n",
        "            elif left_i == N and right_i < N:\n",
        "                orderedendpts.append( self.list_right_endpts[ setindices_ordered_right[right_i] ] )\n",
        "                orderednames.append( 'R' + self.list_setnames[ setindices_ordered_right[right_i] ] )\n",
        "                right_i += 1\n",
        "            else:\n",
        "                orderedendpts.append( self.list_left_endpts[ setindices_ordered_left[left_i] ] )\n",
        "                orderednames.append( 'L' + self.list_setnames[ setindices_ordered_left[left_i] ] )\n",
        "                left_i += 1\n",
        "        return orderednames, orderedendpts\n",
        "      \n",
        "    \n",
        "    ### FINDING, EDITING, ADDING, REMOVING APPROVAL SETS-----------------------\n",
        "    \n",
        "    # Method to find an approval set by name\n",
        "    def findApprovalSetName( self, setName ):\n",
        "        for ind, A in enumerate( self.approvalSets ):\n",
        "            if setName == A.name:\n",
        "                return ind # if set name found, return index\n",
        "        return -1 # if set name not found, return -1 \n",
        "    \n",
        "    # Method to add a new approval set into the society\n",
        "    def addApprovalSet( self, setName, left_endpt, right_endpt ):\n",
        "        # Check that setName is different from names of sets already on the list\n",
        "        ind = self.findApprovalSetName( setName ) # if not found, ind = -1\n",
        "        if ind == -1:\n",
        "            newSet = Set( setName, left_endpt, right_endpt, self.modulo )\n",
        "            \n",
        "            # Update attributes\n",
        "            self.approvalSets.append( newSet )\n",
        "            self.numVoters += 1\n",
        "            \n",
        "            # Update list of all endpoints\n",
        "            self.list_setnames.append( setName )\n",
        "            self.list_left_endpts.append( left_endpt )\n",
        "            self.list_right_endpts.append( right_endpt )\n",
        "            \n",
        "        else:\n",
        "            print(\"Set is not added because this set name has already been chosen.  Please pick a different set name.\")\n",
        "\n",
        "    # Method to remove an approval set from the society\n",
        "    def removeApprovalSet( self, setName ):\n",
        "        for ind, A in enumerate( self.approvalSets ):\n",
        "            if setName == A.name:\n",
        "                self.approvalSets.pop(ind)\n",
        "                self.list_setnames.pop(ind)\n",
        "                self.list_left_endpts.pop(ind)\n",
        "                self.list_right_endpts.pop(ind)\n",
        "                self.numVoters -= 1\n",
        "    \n",
        "    # Method to edit the endpoints of an approval set\n",
        "    def editApprovalSet( self, setName, newleft_endpt, newright_endpt ):\n",
        "        ind = self.findApprovalSetName( setName ) # if not found, ind = -1\n",
        "        \n",
        "        if ind == -1:\n",
        "            print(\"Set name is not found\")\n",
        "        else:\n",
        "            A = self.approvalSets[ind]\n",
        "            A.editSet( setName, newleft_endpt, newright_endpt, self.modulo )\n",
        "            self.list_left_endpts[ind] = newleft_endpt\n",
        "            self.list_right_endpts[ind] = newright_endpt\n",
        "    \n",
        "    \n",
        "    ### AGREEABILITY, AGREEMENT NUMBER, PIERCING NUMBER -----------------------\n",
        "    \n",
        "    # Method to check (k, m) agreeability (brute force)\n",
        "    def checkAgreeability( self, k, m):\n",
        "      setNames = [ A.name for A in self.approvalSets ]\n",
        "      subcollections_m = [list(i) for i in itertools.combinations(setNames, m)]\n",
        "      good = [] # is the society k,m agreeable? will store 1 or 0 for each collection of m sets\n",
        "      bad_m_sets = []\n",
        "      for collection in subcollections_m:\n",
        "        good_m_sets = [] # will store 1 or 0 for each collection of k sets\n",
        "        subcollections_k = [list(i) for i in itertools.combinations(collection, k)]\n",
        "        for collection1 in subcollections_k:\n",
        "          setname = collection1[0]\n",
        "          A = S.getSet(setname)\n",
        "          left = A.left_endpt\n",
        "          left_list = np.array([self.getSet(setname1).isPointInSet(left) for setname1 in collection1 ])\n",
        "          left_good = np.prod(left_list)\n",
        "          right = A.right_endpt\n",
        "          right_list = np.array([self.getSet(setname1).isPointInSet(right) for setname1 in collection1 ])\n",
        "          right_good = np.prod(right_list)\n",
        "          set_good = 1 - ( (1-left_good) * (1-right_good) ) # good if at least one is good\n",
        "          good_m_sets.append(set_good)\n",
        "        good_m_sets = np.array(good_m_sets)\n",
        "        good_m = 1 - np.prod(1-good_m_sets) # good if at least one is good\n",
        "        if good_m == 0:\n",
        "          bad_m_sets.append(collection)\n",
        "        good.append(good_m)\n",
        "      good = np.array(good)\n",
        "      is_kmagreeable = np.prod(good) # good if all is good\n",
        "      return is_kmagreeable, bad_m_sets\n",
        "    \n",
        "    # Method to the find agreement number (and the location)\n",
        "    def findAgreementNumber( self ):\n",
        "        Names, Endpts = self.listSetEndpoints()\n",
        "        agreement = 0\n",
        "        agrement_location = Endpts[0]\n",
        "        \n",
        "        # At each point, the number of intersecting sets changes only when an endpoint is encountered,\n",
        "        #  therefore, we will check the number of intersecting sets only at endpoints\n",
        "        for i in Endpts:\n",
        "          numSets_contain_i = 0\n",
        "          \n",
        "          for A in self.approvalSets:\n",
        "            if A.isPointInSet( i ):\n",
        "              numSets_contain_i = numSets_contain_i + 1\n",
        "          \n",
        "          if numSets_contain_i > agreement:\n",
        "            agreement = numSets_contain_i\n",
        "            agreement_location = i\n",
        "          \n",
        "        return agreement, agreement_location\n",
        "      \n",
        "    def findPiercingNumber( self ):\n",
        "      # Finding piercing number using an integer linear program (ILP) formulation\n",
        "      # (a linear program (LP) that is constrained to have integer solutions)\n",
        "      \n",
        "      # First, find constraint matrix/data for LP used to find piercing number\n",
        "      # Candidate piercing points are the endpoints of the intervals\n",
        "      _, orderedendpts = self.listSetEndpoints()\n",
        "      N = self.numVoters\n",
        "      M = 2*N\n",
        "      Mat = np.empty( [ N, M] )\n",
        "      for i in np.arange(0, N):\n",
        "        for j, p in enumerate(orderedendpts):\n",
        "          A = self.approvalSets[i]\n",
        "          Mat[i, j] = A.isPointInSet( p )\n",
        "      \n",
        "      # Next, vector of coefficients of objective function\n",
        "      c = np.ones(M)\n",
        "      \n",
        "      ## Solve ILP using cvxpy\n",
        "      x = cp.Variable(M, integer = True)\n",
        "      objective = cp.Minimize( c*x)\n",
        "      constraints = [ Mat*x >= np.ones(N), 0 <= x, x <= 1]\n",
        "      prob = cp.Problem( objective, constraints )\n",
        "      val = prob.solve()\n",
        "      piercingNumber = int(np.round(val))\n",
        "      piercingSet = np.transpose(orderedendpts)[ np.round(x.value) > 0]\n",
        "      \n",
        "      return piercingNumber, piercingSet, x.value, Mat\n",
        "    \n",
        "    # implementing the linear society piercing number algorithm\n",
        "    def piercingAlgorithm( self, startingPoint = 0 ):\n",
        "\n",
        "      orderedendptnames, orderedendpts = self.listSetEndpoints()\n",
        "\n",
        "      if startingPoint > 0 :\n",
        "        temp1 = [ x for x in orderedendpts if x >= startingPoint ]\n",
        "        temp1names = [x for i, x in enumerate(orderedendptnames) if orderedendpts[i] >= startingPoint]\n",
        "        temp2 = [x for x in orderedendpts if x < startingPoint]\n",
        "        temp2names = [x for i, x in enumerate(orderedendptnames) if orderedendpts[i] < startingPoint]\n",
        "        orderedendpts = temp1 + temp2\n",
        "        orderedendptnames = temp1names + temp2names\n",
        "\n",
        "      uncovered_setnames = []\n",
        "      N = self.numVoters\n",
        "      for i in range(0, 2*N):\n",
        "        if( orderedendptnames[i][0] == \"R\" ):\n",
        "          uncovered_setnames.append( orderedendptnames[i][1:] )\n",
        "\n",
        "      # currently, uncovered_setnames contains all sets' names\n",
        "      piercingSet = []\n",
        "      while( len(uncovered_setnames) > 0): #while there are uncovered sets\n",
        "        current_point = self.getSet(uncovered_setnames[0]).right_endpt\n",
        "        covered_setnames = [setname for setname in uncovered_setnames if S.getSet(setname).isPointInSet(current_point) ]\n",
        "        uncovered_setnames = [setname for setname in uncovered_setnames if not S.getSet(setname).isPointInSet(current_point) ]\n",
        "        piercingSet.append( [current_point, covered_setnames] )\n",
        "      return piercingSet\n",
        "\n",
        "\n",
        "    ### HARDIN'S TRANSFORMATIONS (ELIMINATE CONTAINMENT, LR-ALTERNATION)-------\n",
        "    \n",
        "    # Method to check if Left-Right-alternating\n",
        "    def is_LR_alt( self, findRRL = False ):\n",
        "        L = self.listSetEndpoints()\n",
        "        numEndpts = len(L[0])\n",
        "        \n",
        "        # determine if LR alternating; if findRRL is True, also find names of sets where of RRL endpoints occur\n",
        "        isLR = True\n",
        "        RRLsets = list()\n",
        "        for i in range(0, numEndpts):\n",
        "            # determine if LR alternating\n",
        "            if L[0][i][0] == L[0][(i+1)%numEndpts][0]:\n",
        "                isLR = False\n",
        "            # find names of sets where of RRL endpoints occur\n",
        "            if ( findRRL ):\n",
        "                if(L[0][i%numEndpts][0] == \"R\" and L[0][(i+1)%numEndpts][0] == \"R\" and L[0][(i+2)%numEndpts][0] == \"L\"):\n",
        "                    RRLsets.append( [ L[0][i%numEndpts][1:], L[0][(i+1)%numEndpts][1:], L[0][(i+2)%numEndpts][1:] ])\n",
        "        \n",
        "        if findRRL:\n",
        "          return isLR, RRLsets\n",
        "        else:\n",
        "          return isLR\n",
        "        \n",
        "    # Method to check if a pair of sets has containment \n",
        "    def checkContainmentPair( self, setPair ):\n",
        "      Set1Name = setPair[0]\n",
        "      Set2Name = setPair[1]\n",
        "      indSet1 = self.findApprovalSetName( Set1Name )\n",
        "      indSet2 = self.findApprovalSetName( Set2Name )\n",
        "      containmentIsFound = False\n",
        "      \n",
        "      if (indSet1 == -1 or indSet2 == -1):\n",
        "        print(\"At least one of the set names is not found\")\n",
        "      else:\n",
        "        A1 = self.approvalSets[indSet1]\n",
        "        A2 = self.approvalSets[indSet2]\n",
        "        \n",
        "        if( A1.left_endpt <= A1.right_endpt and A2.left_endpt <= A2.right_endpt): \n",
        "          # Case 1: A1, A2 both don't wrap around\n",
        "          if( A1.left_endpt <= A2.left_endpt and A2.right_endpt <= A1.right_endpt ):\n",
        "            containmentIsFound = True # A2 is contained in A1\n",
        "            \n",
        "          elif( A2.left_endpt <= A1.left_endpt and A1.right_endpt <= A2.right_endpt ):\n",
        "            containmentIsFound = True # A1 is contained in A2\n",
        "          \n",
        "        elif ( A1.left_endpt <= A1.right_endpt and A2.left_endpt > A2.right_endpt ): \n",
        "          # Case 2: A1 doesn't wrap, A2 wraps around\n",
        "          if( A1.right_endpt <= A2.right_endpt or A2.left_endpt <= A1.left_endpt ):\n",
        "            containmentIsFound = True #A1 is contained in A2\n",
        "            \n",
        "        elif ( A1.left_endpt > A1.right_endpt and A2.left_endpt <= A2.right_endpt ): \n",
        "          # Case 3: A1 wraps, A2 doesn't wrap around\n",
        "          if( A1.left_endpt <= A2.left_endpt or A2.right_endpt <= A1.right_endpt ):\n",
        "            containmentIsFound = True #A2 is contained in A1\n",
        "          \n",
        "        else: \n",
        "          # Case 4: A1, A2 both wrap around\n",
        "          if( A2.right_endpt <= A1.right_endpt and A1.left_endpt <= A2.left_endpt):\n",
        "            containmentIsFound = True # A2 is contained in A1\n",
        "            \n",
        "          elif( A1.right_endpt <= A2.right_endpt and A2.left_endpt <= A1.left_endpt ):\n",
        "            containmentIsFound = True # A1 is contained in A2\n",
        "            \n",
        "      return containmentIsFound\n",
        "    \n",
        "    # Method to detect any containent and identifying pairs\n",
        "    def checkContainmentAll( self, findContainmentPairs = False ):\n",
        "      N = self.numVoters\n",
        "      approvalSetNames = self.list_setnames\n",
        "      containmentPairs = []\n",
        "      containmentIsFound = False\n",
        "      \n",
        "      for i in np.arange(0, N):\n",
        "        setName1 = self.list_setnames[i]\n",
        "        for j in np.arange(i+1, N):\n",
        "          setName2 = self.list_setnames[j]\n",
        "          \n",
        "          if ( self.checkContainmentPair( [setName1, setName2]) ):\n",
        "            \n",
        "            containmentPairs.append( [setName1, setName2] )\n",
        "            containmentIsFound = True\n",
        "            \n",
        "      if findContainmentPairs:\n",
        "        return containmentIsFound, containmentPairs\n",
        "      else:\n",
        "        return containmentIsFound\n",
        "    \n",
        "    # Method to eliminate a pair of containment\n",
        "    def eliminateContainmentPair( self, containmentPair ):\n",
        "        smallSetName = containmentPair[0]\n",
        "        largeSetName = containmentPair[1]\n",
        "        indSmallSet = self.findApprovalSetName( smallSetName )\n",
        "        indLargeSet = self.findApprovalSetName( largeSetName )\n",
        "        \n",
        "        if (indSmallSet == -1 or indLargeSet == -1):\n",
        "            print(\"At least one of the set names is not found\")\n",
        "        else:\n",
        "            # Swap the right endpoints of the two sets\n",
        "            ASmall = self.approvalSets[indSmallSet]\n",
        "            ALarge = self.approvalSets[indLargeSet]\n",
        "            \n",
        "            small_right_endpt = ASmall.right_endpt\n",
        "            small_newright_endpt = ALarge.right_endpt\n",
        "            large_newright_endpt = small_right_endpt\n",
        "            \n",
        "            self.editApprovalSet( smallSetName, ASmall.left_endpt, small_newright_endpt )\n",
        "            self.editApprovalSet( largeSetName, ALarge.left_endpt, large_newright_endpt )\n",
        "\n",
        "    # Method to eliminate all containments\n",
        "    def eliminateContainmentAll( self ):\n",
        "      \n",
        "      containmentIsFound, containmentPairs = self.checkContainmentAll( findContainmentPairs = True)\n",
        "      maxIt = 100\n",
        "      it = 0\n",
        "      \n",
        "      while(containmentIsFound and it < maxIt):\n",
        "        for setPair in containmentPairs:\n",
        "          self.eliminateContainmentPair( setPair )\n",
        "        containmentIsFound, containmentPairs = self.checkContainmentAll( findContainmentPairs = True )\n",
        "        it = it + 1\n",
        "      \n",
        "            \n",
        "    # Method to eliminate a set of RRL endpoints\n",
        "    def eliminateRRLTriple( self, RRLsets ):\n",
        "        Set2Name = RRLsets[1] # first set is unchanged\n",
        "        Set3Name = RRLsets[2]\n",
        "        indSet2 = self.findApprovalSetName( Set2Name )\n",
        "        indSet3 = self.findApprovalSetName( Set3Name )\n",
        "        \n",
        "        if (indSet2 == -1 or indSet3 == -1):\n",
        "            print(\"At least one of the set names is not found\")\n",
        "        else:\n",
        "            # Swap the right endpt of Set2 and the left endpoint of Set3\n",
        "            A2 = self.approvalSets[indSet2]\n",
        "            A3 = self.approvalSets[indSet3]\n",
        "            \n",
        "            set2_right_endpt = A2.right_endpt\n",
        "            set2_newright_endpt = A3.left_endpt\n",
        "            set3_newleft_endpt = set2_right_endpt\n",
        "            \n",
        "            self.editApprovalSet( Set2Name, A2.left_endpt, set2_newright_endpt)\n",
        "            self.editApprovalSet( Set3Name, set3_newleft_endpt, A3.right_endpt )\n",
        "    \n",
        "    # Method to eliminate all RRL (to achieve LR-alternation)\n",
        "    def eliminateRRLAll( self, maxIt = 10000 ):\n",
        "        isLR, RRLsets = self.is_LR_alt( findRRL = True )\n",
        "        \n",
        "        numIt = 0\n",
        "        while( not isLR and numIt < maxIt):\n",
        "          for triple in RRLsets:\n",
        "            self.eliminateRRLTriple( triple )\n",
        "          isLR, RRLsets = self.is_LR_alt( findRRL = True )\n",
        "          numIt = numIt + 1\n",
        "        \n",
        "        if ( not isLR ):\n",
        "          print(\"Max iteration reached but the society is still not LR-Alternating\")\n",
        "\n",
        "    # Method to transform into a uniform society\n",
        "    def uniformize( self ):\n",
        "        self.eliminateContainmentAll()\n",
        "        self.eliminateRRLAll()\n",
        "        \n",
        "\n",
        "        \n",
        "    ### VISUALIZATION --------------------------------------------------------\n",
        "    \n",
        "    # Method to visualize the sets\n",
        "    def visualize( self, drawAgreement = False, drawPiercing = False ):\n",
        "        \n",
        "        ## Set up grid\n",
        "        fig = plt.figure()\n",
        "        ax = fig.add_subplot(1, 1, 1)\n",
        "        # Major ticks every 1, minor ticks every self.tick (default = 0.5)\n",
        "        major_ticks = np.arange(0, self.modulo+1, self.modulo * 0.1)\n",
        "        minor_ticks = np.arange(0, self.modulo+1, self.tick)        \n",
        "        ax.set_xticks(major_ticks)\n",
        "        ax.set_xticks(minor_ticks, minor=True)\n",
        "        #ax.set_yticks(major_ticks)\n",
        "        #ax.set_yticks(minor_ticks, minor=True)\n",
        "        # Different thickness settings for the major and minor grids:\n",
        "        ax.grid(which='minor', alpha=0.2)\n",
        "        ax.grid(which='major', alpha=0.5)\n",
        "        plt.yticks(np.arange(0, self.numVoters+1, step = 1) )\n",
        "        \n",
        "        # Draw the intervals\n",
        "        for ind, A in enumerate( self.approvalSets ):\n",
        "            if A.left_endpt <= A.right_endpt:\n",
        "                x = [A.left_endpt, A.right_endpt]\n",
        "                y = [ind+1, ind+1]\n",
        "                plt.plot( x, y, 'ro-')\n",
        "            else:\n",
        "                x = [A.left_endpt, self.modulo]\n",
        "                y = [ind+1, ind+1]\n",
        "                plt.plot( A.left_endpt, ind+1, 'ro-', self.modulo, ind+1, 'r>-')\n",
        "                plt.plot( x, y, 'r')\n",
        "                x = [0, A.right_endpt]\n",
        "                plt.plot( 0, ind+1, 'r<-', A.right_endpt, ind+1, 'ro-')\n",
        "                plt.plot( x, y, 'r')\n",
        "                \n",
        "        # Draw one of the points that attains agreement number\n",
        "        if drawAgreement:\n",
        "            a, pos = self.findAgreementNumber()\n",
        "            plt.plot( [pos, pos], [0.8, self.numVoters], 'blue' )\n",
        "        \n",
        "        # Draw the piercing points\n",
        "        if drawPiercing:\n",
        "          piercingNum, piercingSet, _, _ = self.findPiercingNumber()\n",
        "          for pos in piercingSet:\n",
        "            plt.plot( [pos, pos], [0, 0.2 + self.numVoters], 'green', linestyle = 'dashed' )\n",
        "\n",
        "# Part 3 - generating random circular societies ----------------------------------    \n",
        "\n",
        "# Define function to generate a random fixed-length circular society\n",
        "def generateRandomFixedLengthSociety( societyname, N, modulo, p, tick = 0.5 ):\n",
        "    # N is number of voters\n",
        "    # modulo is the circumference of the circular society\n",
        "    # p is a fraction between 0 and 1 that controls the length of approval sets\n",
        "    #    The length of each set is p times modulo\n",
        "    # tick = 0.5 : controls tick marks in the visualization\n",
        "    \n",
        "    S = CircularSociety( societyname, modulo, tick = tick )\n",
        "    \n",
        "    for i in list(range(N)):\n",
        "      left = np.random.uniform(low=0, high=modulo)\n",
        "      right = (left + p * modulo) % modulo\n",
        "      S.addApprovalSet( \"Set \" + str(i+1), left , right )\n",
        "    \n",
        "    return S\n",
        "\n",
        "# extras:\n",
        "# Define function to generate a circular society with a random approval sets\n",
        "def generateRandomSociety( societyname, N, modulo, epsilon = 0.5, mode = 1, a = 1, b = 1 ):\n",
        "    # epsilon = 0.5 is the perturbation of the right-endpoints\n",
        "    # N is number of voters\n",
        "    # mode lets us choose how the approval sets are generated\n",
        "    #   mode = 1: endpoints are chosen uniformly at random from [0, modulo]\n",
        "    #   mode = 2: left endpoint is chosen uniformly at random from [0, modulo]; \n",
        "    #             set length is from the beta distribution with parameters a, b\n",
        "    \n",
        "    S = CircularSociety( societyname, modulo, tick = epsilon )\n",
        "    \n",
        "    for i in list(range(N)):\n",
        "      if mode == 1:\n",
        "        left = np.random.uniform(low=0, high=modulo)\n",
        "        right = np.random.uniform(low=0, high=modulo)\n",
        "      elif mode == 2:\n",
        "        left = np.random.uniform(low=0, high=modulo) \n",
        "        right = (left + np.random.beta(a, b)* modulo) % modulo\n",
        "        \n",
        "      S.addApprovalSet( \"Set \" + str(i+1), left , right )\n",
        "    \n",
        "    \n",
        "    return S\n",
        "  \n",
        "# Define function to generate U(N, h) (Hardin's uniform circular society)\n",
        "def generateUniformCircularSociety( societyname, N, h, epsilon = 0.5 ):\n",
        "    # epsilon = 0.5 is the perturbation of the right-endpoints\n",
        "    \n",
        "    S = CircularSociety( societyname, N, tick = epsilon )\n",
        "    \n",
        "    for i in list(range(N)):\n",
        "        S.addApprovalSet( \"Set \" + str(i+1), i, round( (i + h - epsilon) % N, 1) )\n",
        "    return S\n",
        "\n"
      ],
      "execution_count": 0,
      "outputs": []
    },
    {
      "cell_type": "markdown",
      "metadata": {
        "id": "RCrDqSK-f2xZ",
        "colab_type": "text"
      },
      "source": [
        "## Documentation\n",
        "\n"
      ]
    },
    {
      "cell_type": "markdown",
      "metadata": {
        "id": "4dAjfaWNA3NJ",
        "colab_type": "text"
      },
      "source": [
        "### Creating a circular society object:\n",
        "\n",
        "`CircularSociety( name, modulo, isUniform = 0, tick = 0.5 )`\n",
        "\n",
        "+ `name`: string, a name for this society\n",
        "+ `modulo`: positive integer, the circular society will have [0, `modulo`] as its spectrum, with 0 and `modulo` identified\n",
        "+ `tick`: (Optional) numerical; the default is 0.5.   This determines the x-axis tickmark in the visualization"
      ]
    },
    {
      "cell_type": "markdown",
      "metadata": {
        "id": "77jOt7uaA1E6",
        "colab_type": "text"
      },
      "source": [
        "### Methods for the `CircularSociety` object:\n",
        "\n",
        "\n",
        "\n",
        "\n",
        "\n"
      ]
    },
    {
      "cell_type": "markdown",
      "metadata": {
        "colab_type": "text",
        "id": "umMemwNHBrr0"
      },
      "source": [
        "#### Methods for displaying basic information of the circular society\n",
        "+ `.listApprovalSets()`: listing the approval sets in this society\n",
        "+ `.printSocietyInfo()`: displaying the circular society's information (name, is it uniform, the spectrum, number of voters, list of approval sets) \n",
        "+ `.listSetEndpoints( )`: method to list the endpoints of the set, starting from the left-most (from 0).\n",
        "\n",
        "\n",
        "\n",
        "\n",
        "\n",
        "\n"
      ]
    },
    {
      "cell_type": "markdown",
      "metadata": {
        "id": "WBQ0LlKrzjlF",
        "colab_type": "text"
      },
      "source": [
        "#### Methods for finding, editing, adding, removing approval sets from the circular society:\n",
        "+ `.addApprovalSet( setName, left_endpt, right_endpt )`\n",
        "    + `setName`: string, name for the new set\n",
        "    + `left_endpt`: numerical, the left endpoint of the new set (does not have to be smaller than `right_endpt`)\n",
        "    + `right_endpt`: numerical, the right endpoint of the new set\n",
        "+ `.removeApprovalSet( setName )`: removing an existing approval set/voter\n",
        "    + `setName`: string, name of the set to be removed.  If setName is not found in the list of sets, an error message will be displayed\n",
        "+ `.editApprovalSet( setName, newleft_endpt, newright_endpt )`: editing an existing approval set\n",
        "    + `setName`: string, name of the set to be edited.  If setName is not found in the list of sets, an error message will be displayed\n",
        "    + `newleft_endpt`: numerical, the new left endpoint of the set\n",
        "    + `right_endpt`: numerical, the new right endpoint of the set"
      ]
    },
    {
      "cell_type": "markdown",
      "metadata": {
        "id": "KG0SnYdPzgoj",
        "colab_type": "text"
      },
      "source": [
        "#### Methods for finding agreement and piercing numbers\n",
        "+ `.checkAgreeability( k, m)`: method that returns (1) a True or False value (true if the society is (k, m)-agreeable), and (2) a list of \"bad collections of m approval sets\"--if the society is (k, m)-agreeable, then this is empty\n",
        "+ `.findAgreementNumber( )`: method that returns (1) the agreement number of the society and (2) the location where it is attained (if there are multiple locations, only the leftmost will be returned).  This method only checks points that are also endpoints of an approval set\n",
        "+ `.findPiercingNumber( )`: method that finds the piercing number of the society.  The candidates for piercing points are endpoints of the approval sets.  The method formulates the problem as an integer linear program, solved using the `cvxpy` library.  Outputs:\n",
        "  + `piercingNumber`: the piercing number\n",
        "  + `piercingSet`: the set of points that pierce the approval sets \n",
        "  + `x.value`: the optimal solution of the integer linear programming problem\n",
        "  + `Mat`: the `A` matrix involved in the integer linear programming formulation\n",
        "+ `.piercingAlgorithm( startingPoint = 0 )`: an implementation of the linear society piercing set algorithm\n",
        "  + Input: `startingPoint` is where we want to start the algorithm (a reference point for \"leftmost\". The default value is 0.\n",
        "  + Output: a piercing set "
      ]
    },
    {
      "cell_type": "markdown",
      "metadata": {
        "id": "L8H515Dey12v",
        "colab_type": "text"
      },
      "source": [
        "#### Methods related to Hardin's transformation (containment, LR-alternation)\n",
        "+ `.checkContainmentPair( setPair )`: method that returns True if one of the sets in the given pair is contained in the other.  The input `setPair` is a list containing the string names of the two sets\n",
        "+ `.checkContainmentAll( findContainmentPairs = False )`: method that check if there is any containment among all approval sets in the circular society.\n",
        "  + If `findContainmentPairs = False`, then the method returns True if there is a containment and False otherwise.\n",
        "  + If `findContainmentPairs = True`, then the method returns two outputs: the first is True/False indicating if there is containment; the second output is a list that contains pairs of sets (one of the sets in each pair is contained in the other one)\n",
        "+ `.eliminateContainmentPair( containmentPair  )`: method that switches the right endpoints of two sets where one was contained in the other.\n",
        "    + `containmentPair `: list of two approval sets' string names \n",
        "+ `.eliminateContainmentAll( )`: loops over all pairs of approval sets and check pairwise containment\n",
        "+ `.is_LR_alt( findRRL )`: method that \n",
        "  1. returns `True` or `False`, checking if the set is left-right alternating or not and \n",
        "  2. if `findRRL` is True, also returns a list containing lists of 3 approval  sets that attain RRL endpoints (if the set is LR alternating, this list is empty).  The default is `findRRL=False`\n",
        "+ `.eliminateRRLTriple( RRLsets )`: method that switches the right endpoints of the RL set in an RRL triple, to create an RLR triple\n",
        "  + `RRLsets`: a list of three set names that attains the RRL endpoints (in order)\n",
        "+ `.eliminateRRLAll( maxIt )`: method that eliminates all RRL triples, achieving a LR-alternating society, up to a given number of iterations.  If maximum iteration is achieved without achieving LR-alternation, a message indicating this is displayed.\n",
        "  + `maxIt`: max number of iteration.  The default is 100.\n",
        "+ `.uniformize()`: calls `.eliminateContainmentAll( )` followed by `.eliminateRRLAll( )`, transforming society into Hardin's uniform society."
      ]
    },
    {
      "cell_type": "markdown",
      "metadata": {
        "id": "b3H8E73My5Oc",
        "colab_type": "text"
      },
      "source": [
        "\n",
        "#### Methods for visualizing the circular society\n",
        "+ `.visualize( )`: visualizing the sets in this circular society; each set is plotted horizontally (different y coordinates for different sets)"
      ]
    },
    {
      "cell_type": "markdown",
      "metadata": {
        "id": "a5tgaIYCAyiZ",
        "colab_type": "text"
      },
      "source": [
        "### Function to create Hardin's Uniform Society:\n",
        "+ `generateUniformCircularSociety( societyname, N, h, epsilon = 0.5 )`:\n",
        "    + `societyname`: string, name of the society\n",
        "    + `N`: positive integer, number of approval sets\n",
        "    + `h`: positive integer, length of the sets, also the agreement number of the socity\n",
        "    + `epsilon`: (Optional), numerical, the default is 0.5; perturbs the right endpoint (instead of having the right endpoint of the interval be open)"
      ]
    },
    {
      "cell_type": "markdown",
      "metadata": {
        "id": "cCjRfV5LAxE7",
        "colab_type": "text"
      },
      "source": [
        "### Functions to randomly generate a circular society:\n",
        "+ `generateRandomSociety( societyname, N, modulo, epsilon = 0.5, mode = 1, a = 1, b = 1 )`:\n",
        "    + `societyname`: string, name of the society\n",
        "    + `N`: positive integer, number of approval sets\n",
        "    + `modulo`: positive integer, the circular society will have [0, `modulo`] as its spectrum, with 0 and `modulo` identified\n",
        "   + `mode`: (Optional) lets us choose how the approval sets are generated\n",
        "      + `mode = 1`: for each set, left and right endpoints are chosen uniformly at random from [0, `modulo`]\n",
        "      + `mode = 2`: for each set, left endpoint is chosen uniformly at random from [0, `modulo`]; the length is chosen from `modulo` * beta distribution with parameters `a`, `b`.  The default values are `a = 1` and `b = 1`,  which reduces to the uniform distribution  \n",
        "\n",
        "  + `epsilon`: (Optional), numerical, the default is 0.5; perturbs the right endpoint (instead of having the right endpoint of the interval be open)\n",
        "\n",
        "+ `generateRandomFixedLengthSociety( societyname, N, modulo, p, tick = 0.5 )`:\n",
        "  + `N` is number of voters\n",
        "  + `modulo` is the circumference of the circular society\n",
        "  + `p` is a fraction between 0 and 1 that controls the length of approval sets\n",
        "    + the length of each set is `p` times `modulo`\n",
        "  + `tick`: controls tick marks in the visualization.  The default value is 0.5"
      ]
    },
    {
      "cell_type": "markdown",
      "metadata": {
        "id": "kUQENXpu_Gp_",
        "colab_type": "text"
      },
      "source": [
        "## Examples"
      ]
    },
    {
      "cell_type": "markdown",
      "metadata": {
        "id": "N07STkUEAjpi",
        "colab_type": "text"
      },
      "source": [
        "### Example 1"
      ]
    },
    {
      "cell_type": "code",
      "metadata": {
        "id": "aC1df4CUf2xg",
        "colab_type": "code",
        "colab": {}
      },
      "source": [
        "# Example 1  (Run this cell by pressing Shift + Enter or clicking the \"play\" button to the side)\n",
        "\n",
        "# Creating a circular society named A (with a string name \"S1\") where the spectrum is [0, 10] (where 0 = 10)\n",
        "A = CircularSociety( \"S1\", 10)\n",
        "\n",
        "#   Adding sets \n",
        "A.addApprovalSet( \"Set1\", 3, 5 )  # \"Set1\" is the set's name, left endpoint = 3, right endpoint = 5\n",
        "A.addApprovalSet( \"Set2\", 0, 2 )\n",
        "A.addApprovalSet( \"Set3\", 5, 8 )\n",
        "A.addApprovalSet( \"Set4\", 7, 1 )\n",
        "A.addApprovalSet( \"Set5\", 6, 9 )\n",
        "A.addApprovalSet( \"Set6\", 2, 4 )\n",
        "\n",
        "#  Editing an existing set\n",
        "A.editApprovalSet( \"Set2\", 6, 3)\n",
        "\n",
        "#  Removing a set (by its names)\n",
        "A.removeApprovalSet( \"Set6\" )\n",
        "\n",
        "#  Displaying the circular society's information (name, is it uniform, the spectrum, number of voters, list of approval sets) \n",
        "A.printSocietyInfo()\n",
        "\n",
        "#  Visualizing the circular society; each set is plotted horizontally (different y coordinates for different sets)\n",
        "A.visualize( )\n",
        "\n",
        "#  Checking if the set is left-right alternating (returns True or False)\n",
        "A.is_LR_alt()\n",
        "\n",
        "# Finding the agreement number of the society\n",
        "a, pos = A.findAgreementNumber()\n",
        "print(a)\n",
        "print(pos)"
      ],
      "execution_count": 0,
      "outputs": []
    },
    {
      "cell_type": "markdown",
      "metadata": {
        "id": "kS2xv2-GAlni",
        "colab_type": "text"
      },
      "source": [
        "### Example 2"
      ]
    },
    {
      "cell_type": "code",
      "metadata": {
        "id": "ZVdlx7pBf2x9",
        "colab_type": "code",
        "colab": {}
      },
      "source": [
        "# Example 2 (Run this cell by pressing Shift + Enter or clicking the \"play\" button to the side)\n",
        "\n",
        "# Generating a Uniform Society named S1 (with a string name \"Soc1\"), U(7, 4)\n",
        "S1 = generateUniformCircularSociety( \"Soc1\", 7, 4)\n",
        "\n",
        "#  Displaying the circular society's information (name, is it uniform, the spectrum, number of voters, list of approval sets) \n",
        "S1.printSocietyInfo()\n",
        "\n",
        "#  Visualizing the circular society; each set is plotted horizontally (different y coordinates for different sets)\n",
        "S1.visualize( )\n",
        "\n",
        "# Displaying the list of left/right endpoints starting from x = 0.\n",
        "print(S1.listSetEndpoints())\n",
        "\n",
        "# Checking if the set is left-right alternating (returns True or False)\n",
        "print(\"Is the society left-right alternating?\", S1.is_LR_alt() )\n",
        "\n",
        "# Find the agreement number of this society\n",
        "a, location = S1.findAgreementNumber()\n",
        "print(\"Agreement number is: \", a)\n",
        "print(\"Location of max agreement along the horizontal axis (potentially one of several): \", location)"
      ],
      "execution_count": 0,
      "outputs": []
    },
    {
      "cell_type": "markdown",
      "metadata": {
        "id": "IS2YcGhRAnv_",
        "colab_type": "text"
      },
      "source": [
        "### Example 3"
      ]
    },
    {
      "cell_type": "code",
      "metadata": {
        "id": "NmOqH2Gof2yT",
        "colab_type": "code",
        "colab": {}
      },
      "source": [
        "# Example 3: Random Society\n",
        "\n",
        "S2 = generateRandomSociety( 'A', 10, 10, epsilon = 0.5 )\n",
        "S2.printSocietyInfo()\n",
        "S2.visualize(  )\n",
        "a2, location2 = S2.findAgreementNumber()\n",
        "\n",
        "print(\"Agreement number is: \", a2)\n",
        "print(\"Location of max agreement along the horizontal axis (potentially one of several): \", location2)"
      ],
      "execution_count": 0,
      "outputs": []
    },
    {
      "cell_type": "markdown",
      "metadata": {
        "id": "Ykk9hAjZz_UD",
        "colab_type": "text"
      },
      "source": [
        "## Exploration 1: Randomly-Generated Circular Societies\n",
        "\n",
        "Given a society whose approval sets are randomly generated (with a particular distribution), what is the distribution of the approval number of the random society?"
      ]
    },
    {
      "cell_type": "code",
      "metadata": {
        "id": "2pQz3DGXuHAh",
        "colab_type": "code",
        "colab": {}
      },
      "source": [
        "# Generate R random societies, each with N voters\n",
        "#   Each approval set has endpts from the uniform distribution on [0, modulo]\n",
        "\n",
        "R = 100\n",
        "N = 10\n",
        "modulo = 10\n",
        "\n",
        "approval = np.empty([R,])\n",
        "\n",
        "for i in np.arange(0, R):\n",
        "  S = generateRandomSociety( 'A', N, modulo, epsilon = 0.5, mode = 2, a = 2, b=2 )\n",
        "  approval[i], a = S.findAgreementNumber()"
      ],
      "execution_count": 0,
      "outputs": []
    },
    {
      "cell_type": "code",
      "metadata": {
        "id": "6L4OwirI7aHg",
        "colab_type": "code",
        "colab": {}
      },
      "source": [
        "approvalRatio = approval/N\n",
        "plt.hist(approvalRatio, bins = 10)"
      ],
      "execution_count": 0,
      "outputs": []
    },
    {
      "cell_type": "code",
      "metadata": {
        "id": "FK_jw4us4Mps",
        "colab_type": "code",
        "colab": {}
      },
      "source": [
        "np.mean(approvalRatio)"
      ],
      "execution_count": 0,
      "outputs": []
    },
    {
      "cell_type": "code",
      "metadata": {
        "id": "DK_dxFC38YoC",
        "colab_type": "code",
        "colab": {}
      },
      "source": [
        "S.printSocietyInfo()"
      ],
      "execution_count": 0,
      "outputs": []
    },
    {
      "cell_type": "code",
      "metadata": {
        "id": "O67CyWRAe3xI",
        "colab_type": "code",
        "colab": {}
      },
      "source": [
        "S.visualize( drawAgreement = True )"
      ],
      "execution_count": 0,
      "outputs": []
    },
    {
      "cell_type": "code",
      "metadata": {
        "id": "rFrnHAAAfSsq",
        "colab_type": "code",
        "colab": {}
      },
      "source": [
        "S.findAgreementNumber()"
      ],
      "execution_count": 0,
      "outputs": []
    },
    {
      "cell_type": "markdown",
      "metadata": {
        "id": "lMGgDqgNp458",
        "colab_type": "text"
      },
      "source": [
        "## Exploration 2 (mainly for checking if code was written correctly)\n",
        "\n",
        "The ultimate goal is to obtain a bound on the change in piercing number as we transform an arbitrary circular society into a uniform one, via Hardin's transformations: (1) Elimination of containment, and (2) Left-right alternation."
      ]
    },
    {
      "cell_type": "markdown",
      "metadata": {
        "id": "4vomVzijySvD",
        "colab_type": "text"
      },
      "source": [
        "### 2A: Eliminating containment (check if correct)\n",
        "\n",
        "Below, we first check that the implementation of the method `.eliminateContainmentPair( self, smallSetName, largeSetName )` is correct."
      ]
    },
    {
      "cell_type": "code",
      "metadata": {
        "id": "EsN45QIUwt60",
        "colab_type": "code",
        "colab": {}
      },
      "source": [
        "# Example 4: Eliminating containment\n",
        "\n",
        "# First, create a circular society named S3 (with a string name \"S3\") where the spectrum is [0, 10] (where 0 = 10)\n",
        "S3 = CircularSociety( \"S3\", 10)\n",
        "\n",
        "#   Adding sets \n",
        "S3.addApprovalSet( \"Set1\", 3, 5 )  # \"Set1\" is the set's name, left endpoint = 3, right endpoint = 5\n",
        "S3.addApprovalSet( \"Set2\", 2, 6 )\n",
        "S3.addApprovalSet( \"Set3\", 4, 8 )\n",
        "S3.addApprovalSet( \"Set4\", 7, 1 )\n",
        "\n",
        "# Finding the agreement number of the society\n",
        "a3, pos3 = S3.findAgreementNumber()\n",
        "print(a3)\n",
        "print(pos3)\n",
        "\n",
        "#  Visualizing the circular society; each set is plotted horizontally (different y coordinates for different sets)\n",
        "S3.visualize( drawAgreement = True )"
      ],
      "execution_count": 0,
      "outputs": []
    },
    {
      "cell_type": "code",
      "metadata": {
        "id": "BE8es2xSxMqa",
        "colab_type": "code",
        "colab": {}
      },
      "source": [
        "# Eliminate containment (Set1 is currently contained in Set2)\n",
        "\n",
        "S3.eliminateContainmentPair( [\"Set1\", \"Set2\"] )\n",
        "\n",
        "#  Visualizing the updated circular society\n",
        "S3.visualize( drawAgreement = True )\n",
        "\n",
        "# Finding the agreement number of the updated society\n",
        "a3new, pos3new = S3.findAgreementNumber()\n",
        "print(a3new)\n",
        "print(pos3new)"
      ],
      "execution_count": 0,
      "outputs": []
    },
    {
      "cell_type": "code",
      "metadata": {
        "id": "Na5dDYSjz6PJ",
        "colab_type": "code",
        "colab": {}
      },
      "source": [
        "# Check if LR-alternating, finding sets that attain Right-Right-Left endpoints\n",
        "LR = S3.is_LR_alt( findRRL = True)\n",
        "print(LR)"
      ],
      "execution_count": 0,
      "outputs": []
    },
    {
      "cell_type": "code",
      "metadata": {
        "id": "SVZvYUZtG92t",
        "colab_type": "code",
        "colab": {}
      },
      "source": [
        "# Iteration 1\n",
        "# Eliminate RRL in the first triple\n",
        "S3.eliminateRRLTriple( LR[1][0] )\n",
        "S3.visualize( drawAgreement = True )\n",
        "\n",
        "# Check if LR-alternating, finding sets that attain Right-Right-Left endpoints\n",
        "LR = S3.is_LR_alt( findRRL = True)\n",
        "print(LR)"
      ],
      "execution_count": 0,
      "outputs": []
    },
    {
      "cell_type": "code",
      "metadata": {
        "id": "e2_b7weKSLKC",
        "colab_type": "code",
        "colab": {}
      },
      "source": [
        "# Iteration 2\n",
        "# Eliminate RRL in the first triple\n",
        "S3.eliminateRRLTriple( LR[1][0] )\n",
        "S3.visualize( drawAgreement = True )\n",
        "\n",
        "# Check if LR-alternating, finding sets that attain Right-Right-Left endpoints\n",
        "LR = S3.is_LR_alt( findRRL = True)\n",
        "print(LR)"
      ],
      "execution_count": 0,
      "outputs": []
    },
    {
      "cell_type": "code",
      "metadata": {
        "id": "MyTYPNCVSLWF",
        "colab_type": "code",
        "colab": {}
      },
      "source": [
        "# Iteration 3\n",
        "# Eliminate RRL in the first triple\n",
        "S3.eliminateRRLTriple( LR[1][0] )\n",
        "S3.visualize( drawAgreement = True )\n",
        "\n",
        "# Check if LR-alternating, finding sets that attain Right-Right-Left endpoints\n",
        "LR = S3.is_LR_alt( findRRL = True)\n",
        "print(LR)"
      ],
      "execution_count": 0,
      "outputs": []
    },
    {
      "cell_type": "code",
      "metadata": {
        "id": "2HUgwA6JSXjy",
        "colab_type": "code",
        "colab": {}
      },
      "source": [
        "# Iteration 4\n",
        "# Eliminate RRL in the first triple\n",
        "S3.eliminateRRLTriple( LR[1][0] )\n",
        "S3.visualize( drawAgreement = True )\n",
        "\n",
        "# Check if LR-alternating, finding sets that attain Right-Right-Left endpoints\n",
        "LR = S3.is_LR_alt( findRRL = True)\n",
        "print(LR)"
      ],
      "execution_count": 0,
      "outputs": []
    },
    {
      "cell_type": "markdown",
      "metadata": {
        "id": "CLjPhebxu_y8",
        "colab_type": "text"
      },
      "source": [
        "### 2B: LR-alternation (check that it's coded correctly)"
      ]
    },
    {
      "cell_type": "code",
      "metadata": {
        "colab_type": "code",
        "id": "grpMtok5Xg2-",
        "colab": {}
      },
      "source": [
        "## ------\n",
        "# Example 4 again: Eliminating containment and RRL\n",
        "# Same example as above; \n",
        "#   but to test the method .eliminateRRLAll() which repeats the above iterations until society is LR-alternating\n",
        "\n",
        "# First, create a circular society named S3 (with a string name \"S3\") where the spectrum is [0, 10] (where 0 = 10)\n",
        "S3 = CircularSociety( \"S3\", 10)\n",
        "#   Adding sets \n",
        "S3.addApprovalSet( \"Set1\", 3, 5 )  # \"Set1\" is the set's name, left endpoint = 3, right endpoint = 5\n",
        "S3.addApprovalSet( \"Set2\", 2, 6 )\n",
        "S3.addApprovalSet( \"Set3\", 4, 8 )\n",
        "S3.addApprovalSet( \"Set4\", 7, 1 )\n",
        "\n",
        "# Eliminate containment (Set1 is currently contained in Set2)\n",
        "S3.eliminateContainmentPair( \"Set1\", \"Set2\")\n",
        "\n",
        "#  Visualizing the updated circular society\n",
        "S3.visualize( drawAgreement = True )"
      ],
      "execution_count": 0,
      "outputs": []
    },
    {
      "cell_type": "code",
      "metadata": {
        "colab_type": "code",
        "id": "3k2Iq2EOXg3I",
        "colab": {}
      },
      "source": [
        "# Eliminate all RRL endpoints\n",
        "S3.eliminateRRLAll()\n",
        "\n",
        "# Check if LR-alternating, finding sets that attain Right-Right-Left endpoints\n",
        "LR = S3.is_LR_alt( findRRL = True)\n",
        "print(LR)"
      ],
      "execution_count": 0,
      "outputs": []
    },
    {
      "cell_type": "code",
      "metadata": {
        "id": "MkDvAVRSYH8N",
        "colab_type": "code",
        "colab": {}
      },
      "source": [
        "S3.visualize(  drawAgreement = True )"
      ],
      "execution_count": 0,
      "outputs": []
    },
    {
      "cell_type": "code",
      "metadata": {
        "id": "kzrAUzBWYJmL",
        "colab_type": "code",
        "colab": {}
      },
      "source": [
        "S3.findAgreementNumber()"
      ],
      "execution_count": 0,
      "outputs": []
    },
    {
      "cell_type": "markdown",
      "metadata": {
        "id": "OUpCVYENjDU3",
        "colab_type": "text"
      },
      "source": [
        "### 2C: Finding and visualizing piercing number of a circular society (check that it's coded correctly)\n"
      ]
    },
    {
      "cell_type": "code",
      "metadata": {
        "id": "jnHsWwnsoW5N",
        "colab_type": "code",
        "colab": {}
      },
      "source": [
        "## ------\n",
        "# Example 4 again, continued\n",
        "# First, create a circular society named S3 (with a string name \"S3\") where the spectrum is [0, 10] (where 0 = 10)\n",
        "S3 = CircularSociety( \"S3\", 10)\n",
        "\n",
        "#   Adding sets \n",
        "S3.addApprovalSet( \"Set1\", 3, 5 )  # \"Set1\" is the set's name, left endpoint = 3, right endpoint = 5\n",
        "S3.addApprovalSet( \"Set2\", 2, 6 )\n",
        "S3.addApprovalSet( \"Set3\", 4, 8 )\n",
        "S3.addApprovalSet( \"Set4\", 7, 1 )\n",
        "\n",
        "# Visualize\n",
        "S3.visualize()"
      ],
      "execution_count": 0,
      "outputs": []
    },
    {
      "cell_type": "code",
      "metadata": {
        "id": "-GnW1MkFocuQ",
        "colab_type": "code",
        "colab": {}
      },
      "source": [
        "# finding the piercing number (and its location)\n",
        "piercingNumber, piercingSet, x1, M = S3.findPiercingNumber()\n",
        "print(piercingNumber)\n",
        "print(piercingSet)\n",
        "print(x1)\n",
        "print(M)"
      ],
      "execution_count": 0,
      "outputs": []
    },
    {
      "cell_type": "code",
      "metadata": {
        "id": "gT-nc5N-sJkg",
        "colab_type": "code",
        "colab": {}
      },
      "source": [
        "# Visualize the piercing set\n",
        "S3.visualize( drawAgreement = True, drawPiercing = True)"
      ],
      "execution_count": 0,
      "outputs": []
    },
    {
      "cell_type": "markdown",
      "metadata": {
        "id": "gE6u2emvvm92",
        "colab_type": "text"
      },
      "source": [
        "### 2D: Track change in piercing number before vs. after Hardin's Transformations"
      ]
    },
    {
      "cell_type": "code",
      "metadata": {
        "id": "nKDKCIogs_rL",
        "colab_type": "code",
        "colab": {}
      },
      "source": [
        "## ------\n",
        "# Example 4 again, continued\n",
        "# First, create a circular society named S3 (with a string name \"S3\") where the spectrum is [0, 10] (where 0 = 10)\n",
        "S3 = CircularSociety( \"S3\", 10)\n",
        "\n",
        "#   Adding sets \n",
        "S3.addApprovalSet( \"Set1\", 3, 5 )  # \"Set1\" is the set's name, left endpoint = 3, right endpoint = 5\n",
        "S3.addApprovalSet( \"Set2\", 2, 6 )\n",
        "S3.addApprovalSet( \"Set3\", 4, 8 )\n",
        "S3.addApprovalSet( \"Set4\", 7, 1 )\n",
        "\n",
        "# Visualize\n",
        "S3.visualize( drawPiercing = True)\n",
        "\n",
        "# Find piercing number and piercing set\n",
        "piercingNumber, piercingSet, x, _ = S3.findPiercingNumber()\n",
        "print(piercingNumber)\n",
        "print(piercingSet)\n",
        "print(x)"
      ],
      "execution_count": 0,
      "outputs": []
    },
    {
      "cell_type": "code",
      "metadata": {
        "id": "41Wjx9sev6VH",
        "colab_type": "code",
        "colab": {}
      },
      "source": [
        "# Eliminate Containment\n",
        "S3.eliminateContainmentPair(\"Set1\", \"Set2\")"
      ],
      "execution_count": 0,
      "outputs": []
    },
    {
      "cell_type": "code",
      "metadata": {
        "id": "yoE0etsowUGM",
        "colab_type": "code",
        "colab": {}
      },
      "source": [
        "# Make LR-Alternating (Eliminate RRL)\n",
        "S3.eliminateRRLAll()"
      ],
      "execution_count": 0,
      "outputs": []
    },
    {
      "cell_type": "code",
      "metadata": {
        "id": "Hl0hxiFowg1W",
        "colab_type": "code",
        "colab": {}
      },
      "source": [
        "S3.visualize( drawPiercing = True )"
      ],
      "execution_count": 0,
      "outputs": []
    },
    {
      "cell_type": "code",
      "metadata": {
        "id": "UizOao21wjCM",
        "colab_type": "code",
        "colab": {}
      },
      "source": [
        "piercingNumber2, piercingSet2, x2, Mat = S3.findPiercingNumber()\n",
        "print(piercingNumber2)\n",
        "print(piercingSet2)\n",
        "print(x2)\n",
        "print(Mat)"
      ],
      "execution_count": 0,
      "outputs": []
    },
    {
      "cell_type": "markdown",
      "metadata": {
        "id": "2X80Zs5mxjCC",
        "colab_type": "text"
      },
      "source": [
        "Quick note: The example above shows that the linear program does not give exact solution when finding a piercing number of a circular society (although I believe it will for linear society)\n",
        "\n",
        "(for interval graphs, which are \"strongly chordal\", many NP-hard problems can be solved efficiently)\n",
        "https://en.wikipedia.org/wiki/Strongly_chordal_graph\n",
        "\n",
        "So, maybe this means that for circular society, the corresponding graph doesn't have these nice properties.\n",
        "\n",
        "other notes to self: https://en.wikipedia.org/wiki/Perfect_graph\n"
      ]
    },
    {
      "cell_type": "markdown",
      "metadata": {
        "id": "LckJRizeGwXs",
        "colab_type": "text"
      },
      "source": [
        "## Exploration 3: Transforming circular societies into uniform via Hardin's Transformations (keeping track of change in piercing number)\n",
        "\n"
      ]
    },
    {
      "cell_type": "markdown",
      "metadata": {
        "id": "1lN0DJUwQP3e",
        "colab_type": "text"
      },
      "source": [
        "### Carolyn's Example \n",
        "\n",
        "(Section 2.1 of brain dump in Overleaf)"
      ]
    },
    {
      "cell_type": "code",
      "metadata": {
        "id": "Beg7vaq9t0Ns",
        "colab_type": "code",
        "colab": {}
      },
      "source": [
        "# Carolyn's example\n",
        "S4 = CircularSociety( \"CarolynsExample\", 10)\n",
        "\n",
        "#   Adding sets \n",
        "S4.addApprovalSet( \"Blue\", 2, 8 )  # \"Blue\" is the set's name, left endpoint = 2, right endpoint = 8\n",
        "S4.addApprovalSet( \"Red\", 4, 6 )\n",
        "S4.addApprovalSet( \"Green\", 0.5, 3 )\n",
        "S4.addApprovalSet( \"Purple\", 7, 9.5 )\n",
        "\n",
        "# Finding the agreement number of the society\n",
        "a4, pos4 = S4.findAgreementNumber()\n",
        "\n",
        "print(\"--------\")\n",
        "print(\"Before any transformations\")\n",
        "print(\"Agreement number:\", a4)\n",
        "p4, _, _, _ = S4.findPiercingNumber()\n",
        "print(\"Piercing number:\", p4)\n",
        "S4.visualize( drawAgreement = True, drawPiercing = True )\n",
        "print(\"--------\")\n",
        "\n",
        "# Apply transformations\n",
        "S4new = copy.deepcopy(S4)\n",
        "S4new.uniformize()\n",
        "\n",
        "print(\"After Hardin's transformations\")\n",
        "a4new, _ = S4new.findAgreementNumber()\n",
        "print(\"Agreement number after LR-alternation:\", a4new)\n",
        "p4new, _, _, _ = S4new.findPiercingNumber()\n",
        "print(\"Piercing number after LR-alternation:\", p4new)\n",
        "S4new.visualize( drawAgreement = True, drawPiercing = True )\n",
        "print(\"--------\")"
      ],
      "execution_count": 0,
      "outputs": []
    },
    {
      "cell_type": "code",
      "metadata": {
        "id": "skWCU4RVqkrX",
        "colab_type": "code",
        "colab": {}
      },
      "source": [
        "#writeSocietyInformation( S4, 'output.txt', append = True)"
      ],
      "execution_count": 0,
      "outputs": []
    },
    {
      "cell_type": "code",
      "metadata": {
        "id": "ovrDUi5y3RBI",
        "colab_type": "code",
        "colab": {}
      },
      "source": [
        "S4b = S4\n",
        "\n",
        "S4.addApprovalSet( \"Purple2\", 7, 9.5 )\n",
        "\n",
        "S4b.listApprovalSets()"
      ],
      "execution_count": 0,
      "outputs": []
    },
    {
      "cell_type": "code",
      "metadata": {
        "id": "xCmrXCVH45MH",
        "colab_type": "code",
        "colab": {}
      },
      "source": [
        "# Generalize Carolyn's example?\n",
        "S4b = CircularSociety( \"Carolyn's Example, Generalized\", 10)\n",
        "\n",
        "#   Adding sets \n",
        "S4b.addApprovalSet( \"Set 1\", 1, 1.8 )\n",
        "S4b.addApprovalSet( \"Set 2\", 2, 2.8 )\n",
        "S4b.addApprovalSet( \"Set 3\", 3, 3.8 )\n",
        "S4b.addApprovalSet( \"Set 4\", 4, 4.8 )\n",
        "S4b.addApprovalSet( \"Set 5\", 5, 5.8 )\n",
        "S4b.addApprovalSet( \"Set 6\", 6, 6.8 )\n",
        "S4b.addApprovalSet( \"Set 7\", 7, 7.8 )\n",
        "S4b.addApprovalSet( \"Set 8\", 8, 8.8 )\n",
        "S4b.addApprovalSet( \"Set 9\", 1.6, 8.4 )\n",
        "S4b.addApprovalSet( \"Set 10\", 8.4, 1.4 )\n",
        "\n",
        "# Finding the agreement number of the society\n",
        "a4b, _ = S4b.findAgreementNumber()\n",
        "\n",
        "print(\"--------\")\n",
        "print(\"Before any transformations\")\n",
        "print(\"Agreement number:\", a4b)\n",
        "p4b, _, _, _ = S4b.findPiercingNumber()\n",
        "print(\"Piercing number:\", p4b)\n",
        "S4b.visualize( drawAgreement = True, drawPiercing = True )\n",
        "print(\"--------\")\n",
        "\n",
        "# Apply transformations\n",
        "S4bnew = copy.deepcopy(S4b)\n",
        "S4bnew.uniformize()\n",
        "\n",
        "print(\"After Hardin's transformations\")\n",
        "a4bnew, _ = S4bnew.findAgreementNumber()\n",
        "print(\"Agreement number after LR-alternation:\", a4bnew)\n",
        "p4bnew, _, _, _ = S4bnew.findPiercingNumber()\n",
        "print(\"Piercing number after LR-alternation:\", p4bnew)\n",
        "S4bnew.visualize( drawAgreement = True, drawPiercing = True )\n",
        "print(\"--------\")"
      ],
      "execution_count": 0,
      "outputs": []
    },
    {
      "cell_type": "code",
      "metadata": {
        "id": "wRTEGrRH6S9J",
        "colab_type": "code",
        "colab": {}
      },
      "source": [
        "# saving visualizations\n",
        "#f1 = plt.figure()\n",
        "S4bnew.visualize(drawAgreement = True, drawPiercing = True)\n",
        "#plt.plot()\n",
        "plt.savefig(\"/content/gdrive/My Drive/ApprovalVoting/example10transformed.pdf\", bbox_inches='tight')"
      ],
      "execution_count": 0,
      "outputs": []
    },
    {
      "cell_type": "markdown",
      "metadata": {
        "id": "3lbEfTMLTDpZ",
        "colab_type": "text"
      },
      "source": [
        "### Randomly-generated example"
      ]
    },
    {
      "cell_type": "code",
      "metadata": {
        "id": "tFw9vK7fIl1d",
        "colab_type": "code",
        "colab": {}
      },
      "source": [
        "# Generate a random circular society\n",
        "S5 = generateRandomSociety( \"RandomSociety\", 10, 10, epsilon = 0.5, mode = 1, a = 1, b = 1 )\n",
        "\n",
        "\n",
        "# Finding the agreement number of the society\n",
        "a5, pos5 = S5.findAgreementNumber()\n",
        "\n",
        "print(\"--------\")\n",
        "print(\"Before any transformations\")\n",
        "print(\"Agreement number:\", a5)\n",
        "p5, _, _, _ = S5.findPiercingNumber()\n",
        "print(\"Piercing number:\", p5)\n",
        "#S5.visualize( drawAgreement = True, drawPiercing = True )\n",
        "\n",
        "# Apply transformations\n",
        "S5transformed = copy.deepcopy(S5)\n",
        "S5transformed.uniformize()\n",
        "\n",
        "print(\"--------\")\n",
        "print(\"After Hardin's transformations\")\n",
        "a5new, pos5new = S5transformed.findAgreementNumber()\n",
        "print(\"Agreement number uniformizing:\", a5new)\n",
        "p5new, _, _, _ = S5transformed.findPiercingNumber()\n",
        "print(\"Piercing number after uniformizing:\", p5new)\n",
        "#S5.visualize( drawAgreement = True, drawPiercing = True )"
      ],
      "execution_count": 0,
      "outputs": []
    },
    {
      "cell_type": "code",
      "metadata": {
        "id": "zgclscNFY76u",
        "colab_type": "code",
        "colab": {}
      },
      "source": [
        "# Create a local file to upload.\n",
        "writeSocietyInformation( S5, 'output.txt', append = True) # to write info to file\n",
        "\n",
        "!cat /content/gdrive/My\\ Drive/ApprovalVoting/output.txt # to display content of text file\n"
      ],
      "execution_count": 0,
      "outputs": []
    },
    {
      "cell_type": "code",
      "metadata": {
        "id": "0bTYlN_A0qqu",
        "colab_type": "code",
        "colab": {}
      },
      "source": [
        "# saving visualizations\n",
        "#f1 = plt.figure()\n",
        "S5.visualize(drawAgreement = True, drawPiercing = True)\n",
        "#plt.plot()\n",
        "plt.savefig(\"/content/gdrive/My Drive/ApprovalVoting/random10.pdf\", bbox_inches='tight')"
      ],
      "execution_count": 0,
      "outputs": []
    },
    {
      "cell_type": "code",
      "metadata": {
        "id": "LJH_q0G4rjRT",
        "colab_type": "code",
        "colab": {}
      },
      "source": [
        "# saving visualizations\n",
        "S5transformed.visualize(drawAgreement = True, drawPiercing = True)\n",
        "plt.savefig(\"/content/gdrive/My Drive/ApprovalVoting/random10_transformed.pdf\", bbox_inches='tight')"
      ],
      "execution_count": 0,
      "outputs": []
    },
    {
      "cell_type": "markdown",
      "metadata": {
        "id": "fMQGcMzXl9W1",
        "colab_type": "text"
      },
      "source": [
        "## Exploration 4: Experiments with randomly generated fixed length societies"
      ]
    },
    {
      "cell_type": "code",
      "metadata": {
        "id": "ZyVEIGzxANsT",
        "colab_type": "code",
        "colab": {}
      },
      "source": [
        "# ---\n",
        "# Random Example\n",
        "N = 3 # number of approval sets\n",
        "modulo = 1 # circumference of the circular society\n",
        "p = 0.25\n",
        "\n",
        "S = generateRandomFixedLengthSociety( \"Fixed length society 1\", N, modulo, p, tick=0.05 )\n",
        "\n",
        "# ---\n",
        "# Finding the agreement number of the society\n",
        "a, position = S.findAgreementNumber()\n",
        "\n",
        "print(\"--------\")\n",
        "print(\"Before any transformations\")\n",
        "print(\"Agreement number:\", a)\n",
        "p, _, _, _ = S.findPiercingNumber()\n",
        "print(\"Piercing number:\", p)\n",
        "S.visualize( drawAgreement = True, drawPiercing = True )\n",
        "print(\"--------\")"
      ],
      "execution_count": 0,
      "outputs": []
    },
    {
      "cell_type": "code",
      "metadata": {
        "id": "yTlTYqxuP_hi",
        "colab_type": "code",
        "colab": {}
      },
      "source": [
        "S.printSocietyInfo()\n",
        "tau, piercingset, _, _ = S.findPiercingNumber()\n",
        "print(piercingset)\n",
        "\n",
        "#writeSocietyInformation( S, 'fixed_length_2019-09-23.txt', append = True)"
      ],
      "execution_count": 0,
      "outputs": []
    },
    {
      "cell_type": "code",
      "metadata": {
        "id": "HzmJm6gApDnh",
        "colab_type": "code",
        "colab": {}
      },
      "source": [
        "# Apply transformations\n",
        "Snew = copy.deepcopy(S)\n",
        "Snew.uniformize()\n",
        "\n",
        "print(\"--------\")\n",
        "print(\"After Hardin's transformations\")\n",
        "anew, _ = Snew.findAgreementNumber()\n",
        "print(\"Agreement number after LR-alternation:\", anew)\n",
        "pnew, _, _, _ = Snew.findPiercingNumber()\n",
        "print(\"Piercing number after LR-alternation:\", pnew)\n",
        "Snew.visualize( drawAgreement = True, drawPiercing = True )\n",
        "print(\"--------\")"
      ],
      "execution_count": 0,
      "outputs": []
    },
    {
      "cell_type": "code",
      "metadata": {
        "id": "INFDu8V2wqNC",
        "colab_type": "code",
        "colab": {}
      },
      "source": [
        ""
      ],
      "execution_count": 0,
      "outputs": []
    },
    {
      "cell_type": "markdown",
      "metadata": {
        "id": "qcs_l8BVKIaI",
        "colab_type": "text"
      },
      "source": [
        "## Exploration 5: Fixed-Length Experiments\n"
      ]
    },
    {
      "cell_type": "code",
      "metadata": {
        "id": "636zpOOqKPod",
        "colab_type": "code",
        "outputId": "de5f3bb1-6857-4f3d-ea25-4c4dd963733d",
        "colab": {
          "base_uri": "https://localhost:8080/",
          "height": 469
        }
      },
      "source": [
        "# Creating a circular society S, the spectrum is [0, 1]\n",
        "S = CircularSociety( \"S\", 1)\n",
        "\n",
        "p = 0.4 # length of the society\n",
        "\n",
        "#   Adding sets \n",
        "left_endpoints = [0.9268, 0.3376, 0.4562]\n",
        "\n",
        "for i, left_pt in enumerate(left_endpoints):\n",
        "  S.addApprovalSet( \"Set\"+str(i), left_pt, (left_pt + p)%1 )\n",
        "\n",
        "#  Displaying the circular society's information (name, is it uniform, the spectrum, number of voters, list of approval sets) \n",
        "S.printSocietyInfo()\n",
        "\n",
        "#  Visualizing the circular society; each set is plotted horizontally (different y coordinates for different sets)\n",
        "S.visualize( drawAgreement = True, drawPiercing = True )\n",
        "\n",
        "#  Checking if the set is left-right alternating (returns True or False)\n",
        "S.is_LR_alt()\n",
        "\n",
        "# Finding the agreement number of the society\n",
        "a, pos = S.findAgreementNumber( )\n",
        "tau, piercingSet, x_value, Mat = S.findPiercingNumber()\n",
        "print('Agreement Number: '+ str(a))\n",
        "print('Location of max agreement: ' + str(pos))\n",
        "print('Piercing Number: ' + str(tau))\n",
        "print('Piercing Set: ')\n",
        "print(piercingSet)"
      ],
      "execution_count": 0,
      "outputs": [
        {
          "output_type": "stream",
          "text": [
            "Circular Society Name: S\n",
            "Spectrum: [0, 1].  (Note: we identify 0 = 1)\n",
            "Number of Voters: 3\n",
            "Approval Sets:\n",
            " Set0: [0,0.3268] U [0.9268, 1]\n",
            " Set1: [0.3376, 0.7376]\n",
            " Set2: [0.4562, 0.8562000000000001]\n",
            "Agreement Number: 2\n",
            "Location of max agreement: 0.4562\n",
            "Piercing Number: 2\n",
            "Piercing Set: \n",
            "[0.3268 0.4562]\n"
          ],
          "name": "stdout"
        },
        {
          "output_type": "display_data",
          "data": {
            "image/png": "[encoded data removed]",
            "text/plain": [
              "<Figure size 432x288 with 1 Axes>"
            ]
          },
          "metadata": {
            "tags": [],
            "needs_background": "light"
          }
        }
      ]
    },
    {
      "cell_type": "markdown",
      "metadata": {
        "id": "Y1JPNEjC8Izb",
        "colab_type": "text"
      },
      "source": [
        "## Exploration 6: Multiple randomly-generated fixed-length societies"
      ]
    },
    {
      "cell_type": "code",
      "metadata": {
        "id": "W7iAsG3YLPbe",
        "colab_type": "code",
        "outputId": "3e12b969-c985-4d7c-8700-be43e00393dd",
        "colab": {
          "base_uri": "https://localhost:8080/",
          "height": 289
        }
      },
      "source": [
        "# ---\n",
        "nSoc = 1000 # number of randomly-generated societies\n",
        "\n",
        "N = 6 # number of approval sets\n",
        "modulo = 1 # circumference of the circular society platform\n",
        "p = 0.19\n",
        "agreementNumList = np.zeros( nSoc )\n",
        "piercingNumList = np.zeros( nSoc )\n",
        "\n",
        "\n",
        "for i in range(0, nSoc):\n",
        "  S = generateRandomFixedLengthSociety( \"Fixed length society 1\", N, modulo, p, tick=0.05 )\n",
        "  #agreementNum, _ = S.findAgreementNumber()\n",
        "  piercingNum, _, _, _ = S.findPiercingNumber()\n",
        "  #agreementNumList[i] = agreementNum\n",
        "  piercingNumList[i] = piercingNum\n",
        "\n",
        "# print results & stats\n",
        "print('Num sets: ', N)\n",
        "print('Length: ', p)\n",
        "print('Num societies: ', nSoc)\n",
        "#print('Agreement Numbers: ', agreementNumList)\n",
        "#print('Piercing Numbers: ', piercingNumList)\n",
        "\n",
        "# piercing number stats\n",
        "print('Piercing Numbers - Summary')\n",
        "print('Min: ', np.min(piercingNumList))\n",
        "print('Max: ', np.max(piercingNumList))\n",
        "print('Mean: ', np.mean(piercingNumList))\n",
        "print('Median: ', np.median(piercingNumList))\n",
        "print('Fraction with tau = 2 :', np.sum( piercingNumList == 2) /nSoc )\n",
        "print('Conjecture says: ', N*(N-1)/2*(1-2*p)*((2*p)**(N-2)) )\n",
        "#print('conjecture says: ', N*(p**(N-1)) )\n",
        "\n",
        "# test tau = 3\n",
        "print('Fraction with tau = 3 :', np.sum( piercingNumList == 3) /nSoc )\n",
        "print('Conjecture says: ', N*(N-1)*(N-2) /3/2 * ((1-3*p) ** 2)  * ((3*p)**(N-3)) )\n",
        "\n",
        "# test tau = 4\n",
        "print('Fraction with tau = 4 :', np.sum( piercingNumList == 4) /nSoc )\n",
        "print('Conjecture says: ', N*(N-1)*(N-2)*(N-3) /4/3/2 * ((1-4*p) ** 3)  * ((4*p)**(N-4)) )\n",
        "\n",
        "# test tau = 5\n",
        "print('Fraction with tau = 5 :', np.sum( piercingNumList == 5) /nSoc )\n",
        "print('Conjecture says: ', N*(N-1)*(N-2)*(N-3) * (N-2) /5/4/3/2 * ((1-5*p) ** 4)  * ((5*p)**(N-5)) )"
      ],
      "execution_count": 0,
      "outputs": [
        {
          "output_type": "stream",
          "text": [
            "Num sets:  6\n",
            "Length:  0.19\n",
            "Num societies:  1000\n",
            "Piercing Numbers - Summary\n",
            "Min:  1.0\n",
            "Max:  4.0\n",
            "Mean:  2.942\n",
            "Median:  3.0\n",
            "Fraction with tau = 2 : 0.184\n",
            "Conjecture says:  0.193917648\n",
            "Fraction with tau = 3 : 0.687\n",
            "Conjecture says:  0.684843714\n",
            "Fraction with tau = 4 : 0.128\n",
            "Conjecture says:  0.11977113599999997\n",
            "Fraction with tau = 5 : 0.0\n",
            "Conjecture says:  7.125000000000025e-05\n"
          ],
          "name": "stdout"
        }
      ]
    },
    {
      "cell_type": "code",
      "metadata": {
        "id": "JXo9RoLEChTA",
        "colab_type": "code",
        "colab": {}
      },
      "source": [
        "piercingNumList[ agreementNumList >= 5]"
      ],
      "execution_count": 0,
      "outputs": []
    },
    {
      "cell_type": "markdown",
      "metadata": {
        "id": "iBCSjDPwi3l-",
        "colab_type": "text"
      },
      "source": [
        "## Exploration 7: Testing the implementation of the \"linear society piercing number algorithm\" on circular societies"
      ]
    },
    {
      "cell_type": "code",
      "metadata": {
        "id": "1q2ThY_qi-DW",
        "colab_type": "code",
        "outputId": "cd847297-dc5f-4c6d-a335-d7a4afbace4f",
        "colab": {
          "base_uri": "https://localhost:8080/",
          "height": 299
        }
      },
      "source": [
        "# Creating a circular society S, the spectrum is [0, 1]\n",
        "N = 100 # number of approval sets\n",
        "modulo = 1 # circumference of the circular society platform\n",
        "p = 0.1 # length of the society\n",
        "\n",
        "S = generateRandomFixedLengthSociety( \"Fixed length society 1\", N, modulo, p, tick=0.05 )\n",
        "\n",
        "#  Visualizing the circular society; each set is plotted horizontally (different y coordinates for different sets)\n",
        "S.visualize( drawAgreement = True, drawPiercing = True )\n",
        "\n",
        "#  use the linear piercing algorithm\n",
        "output = S.piercingAlgorithm( startingPoint=0)\n",
        "print(len(output))\n",
        "\n",
        "# find the actual piercing number\n",
        "p, _, _, _ = S.findPiercingNumber()\n",
        "print(p)"
      ],
      "execution_count": 0,
      "outputs": [
        {
          "output_type": "stream",
          "text": [
            "10\n",
            "9\n"
          ],
          "name": "stdout"
        },
        {
          "output_type": "display_data",
          "data": {
            "image/png": "[encoded data removed]",
            "text/plain": [
              "<Figure size 432x288 with 1 Axes>"
            ]
          },
          "metadata": {
            "tags": []
          }
        }
      ]
    },
    {
      "cell_type": "code",
      "metadata": {
        "id": "kpkkpfMakAnR",
        "colab_type": "code",
        "outputId": "b1d3d4cb-72e7-4140-b4f1-8b80c4f02ad1",
        "colab": {
          "base_uri": "https://localhost:8080/",
          "height": 357
        }
      },
      "source": [
        "#  use the linear piercing algorithm, cutting the circle at a randomly chosen location x\n",
        "S.printSocietyInfo()\n",
        "print('------')\n",
        "\n",
        "import random\n",
        "x = random.uniform(0, 1)\n",
        "print('x : ', x)\n",
        "output = S.piercingAlgorithm( startingPoint=x)\n",
        "print(np.array(output))\n",
        "print(len(output))"
      ],
      "execution_count": 0,
      "outputs": [
        {
          "output_type": "stream",
          "text": [
            "Circular Society Name: Fixed length society 1\n",
            "Spectrum: [0, 1].  (Note: we identify 0 = 1)\n",
            "Number of Voters: 10\n",
            "Approval Sets:\n",
            " Set 1: [0.11826599559245932, 0.3682659955924593]\n",
            " Set 2: [0.3459478228534085, 0.5959478228534085]\n",
            " Set 3: [0,0.18776004038305238] U [0.9377600403830523, 1]\n",
            " Set 4: [0.3411167632987965, 0.5911167632987965]\n",
            " Set 5: [0,0.13508836859867412] U [0.8850883685986741, 1]\n",
            " Set 6: [0.6418289266214466, 0.8918289266214466]\n",
            " Set 7: [0.17542104255074298, 0.425421042550743]\n",
            " Set 8: [0.4813445367719562, 0.7313445367719562]\n",
            " Set 9: [0.41322100073775747, 0.6632210007377575]\n",
            " Set 10: [0,0.12829538729937262] U [0.8782953872993726, 1]\n",
            "------\n",
            "x :  0.03661458676169649\n",
            "[[0.12829538729937262 list(['Set 10', 'Set 5', 'Set 3', 'Set 1'])]\n",
            " [0.425421042550743 list(['Set 7', 'Set 4', 'Set 2', 'Set 9'])]\n",
            " [0.7313445367719562 list(['Set 8', 'Set 6'])]]\n",
            "3\n"
          ],
          "name": "stdout"
        }
      ]
    },
    {
      "cell_type": "markdown",
      "metadata": {
        "id": "ULegrzeJPDOu",
        "colab_type": "text"
      },
      "source": [
        "## Exploration 8: Multiple linear societies: check how often the linear piercing algorithm gives us the correct answer"
      ]
    },
    {
      "cell_type": "code",
      "metadata": {
        "id": "iEMVADG9PCo7",
        "colab_type": "code",
        "outputId": "eadf81ae-47eb-49ab-a203-c52c70d3ff2a",
        "colab": {
          "base_uri": "https://localhost:8080/",
          "height": 68
        }
      },
      "source": [
        "nSoc = 100\n",
        "\n",
        "# Creating a circular society S, the spectrum is [0, 1]\n",
        "N = 100 # number of approval sets\n",
        "modulo = 1 # circumference of the circular society platform\n",
        "p = 0.3 # length of the society\n",
        "tau_diff_list = np.zeros( nSoc ) # tau minus tau_actual\n",
        "\n",
        "for i in range(0, nSoc):\n",
        "  S = generateRandomFixedLengthSociety( \"Fixed length society 1\", N, modulo, p, tick=0.05 )\n",
        "  #  use the linear piercing algorithm\n",
        "  output = S.piercingAlgorithm( startingPoint=0)\n",
        "  tau = len(output)\n",
        "  # find the actual piercing number\n",
        "  tau_actual, _, _, _ = S.findPiercingNumber()\n",
        "  tau_diff_list[i] = tau - tau_actual\n",
        "\n",
        "min_tau_diff = min(tau_diff_list)\n",
        "max_tau_diff = max(tau_diff_list)\n",
        "num_correct = len( tau_diff_list[tau_diff_list == 0] )\n",
        "frac_correct = num_correct / nSoc\n",
        "\n",
        "print('Minimum difference: ', min_tau_diff )\n",
        "print('Maximum difference: ', max_tau_diff )\n",
        "print('Fraction correct :', frac_correct )"
      ],
      "execution_count": 0,
      "outputs": [
        {
          "output_type": "stream",
          "text": [
            "Minimum difference:  0.0\n",
            "Maximum difference:  1.0\n",
            "Fraction correct : 0.96\n"
          ],
          "name": "stdout"
        }
      ]
    },
    {
      "cell_type": "markdown",
      "metadata": {
        "id": "QsDjPXjc-dHY",
        "colab_type": "text"
      },
      "source": [
        "## Exploration 9: Checking (k, m)-agreeability"
      ]
    },
    {
      "cell_type": "code",
      "metadata": {
        "id": "PC_8Z7WIC7Hm",
        "colab_type": "code",
        "outputId": "73ced3f6-b49f-4e0d-dd1c-07a681f5a7b1",
        "colab": {
          "base_uri": "https://localhost:8080/",
          "height": 231
        }
      },
      "source": [
        "# Creating a circular society S, the spectrum is [0, 1]\n",
        "N = 10 # number of approval sets\n",
        "modulo = 1 # circumference of the circular society platform\n",
        "p = 0.2 # length of the society\n",
        "\n",
        "S = generateRandomFixedLengthSociety( \"Fixed length society 1\", N, modulo, p, tick=0.05 )\n",
        "\n",
        "#  Visualizing the circular society; each set is plotted horizontally (different y coordinates for different sets)\n",
        "S.visualize( drawAgreement = True, drawPiercing = True )\n",
        "\n",
        "is_kmagreeable, bad_m_sets = S.checkAgreeability(4, 9)\n",
        "print(is_kmagreeable)\n",
        "print(bad_m_sets)"
      ],
      "execution_count": 0,
      "outputs": [
        {
          "output_type": "error",
          "ename": "NameError",
          "evalue": "ignored",
          "traceback": [
            "\u001b[0;31m---------------------------------------------------------------------------\u001b[0m",
            "\u001b[0;31mNameError\u001b[0m                                 Traceback (most recent call last)",
            "\u001b[0;32m<ipython-input-1-8b6385f5e29d>\u001b[0m in \u001b[0;36m<module>\u001b[0;34m()\u001b[0m\n\u001b[1;32m      4\u001b[0m \u001b[0mp\u001b[0m \u001b[0;34m=\u001b[0m \u001b[0;36m0.2\u001b[0m \u001b[0;31m# length of the society\u001b[0m\u001b[0;34m\u001b[0m\u001b[0;34m\u001b[0m\u001b[0m\n\u001b[1;32m      5\u001b[0m \u001b[0;34m\u001b[0m\u001b[0m\n\u001b[0;32m----> 6\u001b[0;31m \u001b[0mS\u001b[0m \u001b[0;34m=\u001b[0m \u001b[0mgenerateRandomFixedLengthSociety\u001b[0m\u001b[0;34m(\u001b[0m \u001b[0;34m\"Fixed length society 1\"\u001b[0m\u001b[0;34m,\u001b[0m \u001b[0mN\u001b[0m\u001b[0;34m,\u001b[0m \u001b[0mmodulo\u001b[0m\u001b[0;34m,\u001b[0m \u001b[0mp\u001b[0m\u001b[0;34m,\u001b[0m \u001b[0mtick\u001b[0m\u001b[0;34m=\u001b[0m\u001b[0;36m0.05\u001b[0m \u001b[0;34m)\u001b[0m\u001b[0;34m\u001b[0m\u001b[0;34m\u001b[0m\u001b[0m\n\u001b[0m\u001b[1;32m      7\u001b[0m \u001b[0;34m\u001b[0m\u001b[0m\n\u001b[1;32m      8\u001b[0m \u001b[0;31m#  Visualizing the circular society; each set is plotted horizontally (different y coordinates for different sets)\u001b[0m\u001b[0;34m\u001b[0m\u001b[0;34m\u001b[0m\u001b[0;34m\u001b[0m\u001b[0m\n",
            "\u001b[0;31mNameError\u001b[0m: name 'generateRandomFixedLengthSociety' is not defined"
          ]
        }
      ]
    },
    {
      "cell_type": "code",
      "metadata": {
        "id": "MqrDbN_EhP9i",
        "colab_type": "code",
        "outputId": "4a57580a-6f56-4c4e-e58e-90db9890fb62",
        "colab": {
          "base_uri": "https://localhost:8080/",
          "height": 197
        }
      },
      "source": [
        "is_kmagreeable, bad_m_sets = S.checkAgreeability(2, 3)\n",
        "print(is_kmagreeable)\n",
        "print(bad_m_sets)"
      ],
      "execution_count": 0,
      "outputs": [
        {
          "output_type": "error",
          "ename": "NameError",
          "evalue": "ignored",
          "traceback": [
            "\u001b[0;31m---------------------------------------------------------------------------\u001b[0m",
            "\u001b[0;31mNameError\u001b[0m                                 Traceback (most recent call last)",
            "\u001b[0;32m<ipython-input-2-74b092ece11f>\u001b[0m in \u001b[0;36m<module>\u001b[0;34m()\u001b[0m\n\u001b[0;32m----> 1\u001b[0;31m \u001b[0mis_kmagreeable\u001b[0m\u001b[0;34m,\u001b[0m \u001b[0mbad_m_sets\u001b[0m \u001b[0;34m=\u001b[0m \u001b[0mS\u001b[0m\u001b[0;34m.\u001b[0m\u001b[0mcheckAgreeability\u001b[0m\u001b[0;34m(\u001b[0m\u001b[0;36m2\u001b[0m\u001b[0;34m,\u001b[0m \u001b[0;36m3\u001b[0m\u001b[0;34m)\u001b[0m\u001b[0;34m\u001b[0m\u001b[0;34m\u001b[0m\u001b[0m\n\u001b[0m\u001b[1;32m      2\u001b[0m \u001b[0mprint\u001b[0m\u001b[0;34m(\u001b[0m\u001b[0mis_kmagreeable\u001b[0m\u001b[0;34m)\u001b[0m\u001b[0;34m\u001b[0m\u001b[0;34m\u001b[0m\u001b[0m\n\u001b[1;32m      3\u001b[0m \u001b[0mprint\u001b[0m\u001b[0;34m(\u001b[0m\u001b[0mbad_m_sets\u001b[0m\u001b[0;34m)\u001b[0m\u001b[0;34m\u001b[0m\u001b[0;34m\u001b[0m\u001b[0m\n",
            "\u001b[0;31mNameError\u001b[0m: name 'S' is not defined"
          ]
        }
      ]
    },
    {
      "cell_type": "code",
      "metadata": {
        "id": "yJPhp3rECfg9",
        "colab_type": "code",
        "colab": {}
      },
      "source": [
        ""
      ],
      "execution_count": 0,
      "outputs": []
    }
  ]
}