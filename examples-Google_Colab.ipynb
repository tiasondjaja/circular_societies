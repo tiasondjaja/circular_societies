{
  "nbformat": 4,
  "nbformat_minor": 0,
  "metadata": {
    "colab": {
      "name": "examples-Google_Colab.ipynb",
      "provenance": [],
      "collapsed_sections": [
        "iY6TPjpSBP-Y",
        "kUQENXpu_Gp_"
      ],
      "include_colab_link": true
    },
    "kernelspec": {
      "display_name": "Python 3",
      "language": "python",
      "name": "python3"
    }
  },
  "cells": [
    {
      "cell_type": "markdown",
      "metadata": {
        "id": "view-in-github",
        "colab_type": "text"
      },
      "source": [
        "<a href=\"https://colab.research.google.com/github/tiasondjaja/circular_societies/blob/master/examples-Google_Colab.ipynb\" target=\"_parent\"><img src=\"https://colab.research.google.com/assets/colab-badge.svg\" alt=\"Open In Colab\"/></a>"
      ]
    },
    {
      "cell_type": "markdown",
      "metadata": {
        "id": "wZ4upHILf2w8",
        "colab_type": "text"
      },
      "source": [
        "# Circular Societies Visualization Tool\n",
        "\n",
        "In this document, we define:\n",
        "+ The `Set` class (to create approval sets)\n",
        "+ The `CircularSociety` class (to create a circular society, which is made up of approval sets)\n",
        "    + Along with methods for visualizing the circular societies, computing piercing number and approval number, checking (k, m)-agreeability, and transforming the society into Hardin's uniform society.\n",
        "+ Functions to randomly generate circular societies.\n",
        "\n",
        "A complete \"documentation\" and a couple of examples are included below (scroll down).\n",
        "\n",
        "\n",
        "### How to run and use this document\n",
        "+ First, run the code cell in the \"Setup\" section below.  Do not modify anything.\n",
        "+ Then, optionally, read the documentation and run the code cells in the \"Example\" section\n",
        "+ Experiment with your own circular societies"
      ]
    },
    {
      "cell_type": "markdown",
      "metadata": {
        "id": "iY6TPjpSBP-Y",
        "colab_type": "text"
      },
      "source": [
        "## Setup\n",
        "\n",
        "Run the code cell in the \"Setup\" section below once each time the notebook is started. Do not modify anything."
      ]
    },
    {
      "cell_type": "code",
      "metadata": {
        "id": "F9I5hP_gf2xD",
        "colab_type": "code",
        "colab": {}
      },
      "source": [
        "import numpy as np\n",
        "import scipy as sp\n",
        "import cvxpy as cp\n",
        "import matplotlib.pyplot as plt\n",
        "import itertools\n",
        "\n",
        "# Part 0 ----------------------------------\n",
        "# Define the Set class (approval set)\n",
        "class Set:\n",
        "    # Initialize Class\n",
        "    def __init__( self, name, left_endpt, right_endpt, modulo ):\n",
        "        self.name = name\n",
        "        self.left_endpt = left_endpt\n",
        "        self.right_endpt = right_endpt\n",
        "        self.modulo = modulo\n",
        "    \n",
        "    # Method to print set name and left- and right-endpoints\n",
        "    def printSetInfo( self ):\n",
        "        if self.left_endpt <= self.right_endpt:\n",
        "            print( \" \" + self.name + \": [\" + str(self.left_endpt) + \", \" + str(self.right_endpt) + \"]\")\n",
        "        elif self.right_endpt == 0:\n",
        "            print( \" \" + self.name + \": [\" + str(self.left_endpt) + \", \" + str(self.modulo) + \"]\")\n",
        "        else:\n",
        "            print( \" \" + self.name + \": [0,\" + str(self.right_endpt) + \"] U [\" + str(self.left_endpt) + \", \" + str(self.modulo) + \"]\")\n",
        "    \n",
        "    def editSet( self, newname, newleft_endpt, newright_endpt, newmodulo ):\n",
        "        self.name = newname\n",
        "        self.left_endpt = newleft_endpt\n",
        "        self.right_endpt = newright_endpt\n",
        "        self.modulo = newmodulo\n",
        "        \n",
        "    def isPointInSet( self, point):\n",
        "        check = False\n",
        "        \n",
        "        if (self.left_endpt <= point and point <= self.right_endpt):\n",
        "             check = True\n",
        "        elif (self.left_endpt <= point and self.right_endpt <= self.left_endpt):\n",
        "             check = True\n",
        "        elif (point <= self.right_endpt and self.right_endpt <= self.left_endpt):\n",
        "             check = True\n",
        "            \n",
        "        return check\n",
        "  \n",
        "# Part 1 - MAIN ----------------------------------  \n",
        "\n",
        "# Define the CircularSociety class\n",
        "\n",
        "class CircularSociety:\n",
        "    \n",
        "    # Initialize Class\n",
        "    def __init__( self, name, modulo, isUniform = 0, tick = 0.5 ):\n",
        "        self.name = name\n",
        "        self.modulo = modulo # modulo > 0; the circular society is represented as [0, modulo) with 0 = modulo\n",
        "        self.approvalSets = [] # initialize with empty approval sets\n",
        "        self.numVoters = 0\n",
        "        self.tick = tick\n",
        "        \n",
        "        # List of all endpoints and setnames (useful when checking for left-right alternation)\n",
        "        self.list_setnames = []\n",
        "        self.list_left_endpts = []\n",
        "        self.list_right_endpts = []\n",
        "    \n",
        "    # method that returns a set given its name\n",
        "    def getSet( self, setname ):\n",
        "      for A in self.approvalSets:\n",
        "        if A.name == setname:\n",
        "          return A\n",
        "      return None\n",
        "    \n",
        "    ### DISPLAYING / OBTAINING BASIC INFORMATION ABOUT THE CIRCULAR SOCIETY----\n",
        "    \n",
        "    # Method to print list of approval sets\n",
        "    def listApprovalSets( self ):\n",
        "        for A in self.approvalSets:\n",
        "            A.printSetInfo()\n",
        "            \n",
        "    # Method to print society information\n",
        "    def printSocietyInfo( self ):\n",
        "        print(\"Circular Society Name: \" + self.name)\n",
        "        print(\"Spectrum: [0, \" + str(self.modulo) + \"].  (Note: we identify 0 = \" + str(self.modulo) + \")\"  )\n",
        "        print(\"Number of Voters: \" + str(self.numVoters) )\n",
        "        print(\"Approval Sets:\")\n",
        "        self.listApprovalSets()\n",
        "    \n",
        "    # Method to list the endpoints of the sets, from 0 to N\n",
        "    def listSetEndpoints( self ):\n",
        "        N = self.numVoters\n",
        "        orderedendpts = []\n",
        "        orderednames = []\n",
        "        setindices_ordered_left = np.argsort(self.list_left_endpts)\n",
        "        setindices_ordered_right = np.argsort(self.list_right_endpts)\n",
        "        left_i = 0\n",
        "        right_i = 0\n",
        "        \n",
        "        for step in range( 0, 2*N ):\n",
        "            if left_i < N and right_i < N:\n",
        "                if self.list_left_endpts[ setindices_ordered_left[left_i] ] < self.list_right_endpts[ setindices_ordered_right[right_i] ]:\n",
        "                    orderedendpts.append( self.list_left_endpts[ setindices_ordered_left[left_i] ] )\n",
        "                    orderednames.append( 'L' + self.list_setnames[ setindices_ordered_left[left_i] ] )\n",
        "                    left_i += 1\n",
        "                else:\n",
        "                    orderedendpts.append( self.list_right_endpts[ setindices_ordered_right[right_i] ] )\n",
        "                    orderednames.append( 'R' + self.list_setnames[ setindices_ordered_right[right_i] ] )\n",
        "                    right_i += 1\n",
        "            elif left_i == N and right_i < N:\n",
        "                orderedendpts.append( self.list_right_endpts[ setindices_ordered_right[right_i] ] )\n",
        "                orderednames.append( 'R' + self.list_setnames[ setindices_ordered_right[right_i] ] )\n",
        "                right_i += 1\n",
        "            else:\n",
        "                orderedendpts.append( self.list_left_endpts[ setindices_ordered_left[left_i] ] )\n",
        "                orderednames.append( 'L' + self.list_setnames[ setindices_ordered_left[left_i] ] )\n",
        "                left_i += 1\n",
        "        return orderednames, orderedendpts\n",
        "      \n",
        "    \n",
        "    ### FINDING, EDITING, ADDING, REMOVING APPROVAL SETS-----------------------\n",
        "    \n",
        "    # Method to find an approval set by name\n",
        "    def findApprovalSetName( self, setName ):\n",
        "        for ind, A in enumerate( self.approvalSets ):\n",
        "            if setName == A.name:\n",
        "                return ind # if set name found, return index\n",
        "        return -1 # if set name not found, return -1 \n",
        "    \n",
        "    # Method to add a new approval set into the society\n",
        "    def addApprovalSet( self, setName, left_endpt, right_endpt ):\n",
        "        # Check that setName is different from names of sets already on the list\n",
        "        ind = self.findApprovalSetName( setName ) # if not found, ind = -1\n",
        "        if ind == -1:\n",
        "            newSet = Set( setName, left_endpt, right_endpt, self.modulo )\n",
        "            \n",
        "            # Update attributes\n",
        "            self.approvalSets.append( newSet )\n",
        "            self.numVoters += 1\n",
        "            \n",
        "            # Update list of all endpoints\n",
        "            self.list_setnames.append( setName )\n",
        "            self.list_left_endpts.append( left_endpt )\n",
        "            self.list_right_endpts.append( right_endpt )\n",
        "            \n",
        "        else:\n",
        "            print(\"Set is not added because this set name has already been chosen.  Please pick a different set name.\")\n",
        "\n",
        "    # Method to remove an approval set from the society\n",
        "    def removeApprovalSet( self, setName ):\n",
        "        for ind, A in enumerate( self.approvalSets ):\n",
        "            if setName == A.name:\n",
        "                self.approvalSets.pop(ind)\n",
        "                self.list_setnames.pop(ind)\n",
        "                self.list_left_endpts.pop(ind)\n",
        "                self.list_right_endpts.pop(ind)\n",
        "                self.numVoters -= 1\n",
        "    \n",
        "    # Method to edit the endpoints of an approval set\n",
        "    def editApprovalSet( self, setName, newleft_endpt, newright_endpt ):\n",
        "        ind = self.findApprovalSetName( setName ) # if not found, ind = -1\n",
        "        \n",
        "        if ind == -1:\n",
        "            print(\"Set name is not found\")\n",
        "        else:\n",
        "            A = self.approvalSets[ind]\n",
        "            A.editSet( setName, newleft_endpt, newright_endpt, self.modulo )\n",
        "            self.list_left_endpts[ind] = newleft_endpt\n",
        "            self.list_right_endpts[ind] = newright_endpt\n",
        "    \n",
        "    \n",
        "    ### AGREEABILITY, AGREEMENT NUMBER, PIERCING NUMBER -----------------------\n",
        "    \n",
        "    # Method to check (k, m) agreeability (brute force)\n",
        "    def checkAgreeability( self, k, m):\n",
        "      setNames = [ A.name for A in self.approvalSets ]\n",
        "      subcollections_m = [list(i) for i in itertools.combinations(setNames, m)]\n",
        "      good = [] # is the society k,m agreeable? will store 1 or 0 for each collection of m sets\n",
        "      bad_m_sets = []\n",
        "      for collection in subcollections_m:\n",
        "        good_m_sets = [] # will store 1 or 0 for each collection of k sets\n",
        "        subcollections_k = [list(i) for i in itertools.combinations(collection, k)]\n",
        "        for collection1 in subcollections_k:\n",
        "          setname = collection1[0]\n",
        "          A = self.getSet(setname)\n",
        "          left = A.left_endpt\n",
        "          left_list = np.array([self.getSet(setname1).isPointInSet(left) for setname1 in collection1 ])\n",
        "          left_good = np.prod(left_list)\n",
        "          right = A.right_endpt\n",
        "          right_list = np.array([self.getSet(setname1).isPointInSet(right) for setname1 in collection1 ])\n",
        "          right_good = np.prod(right_list)\n",
        "          set_good = 1 - ( (1-left_good) * (1-right_good) ) # good if at least one is good\n",
        "          good_m_sets.append(set_good)\n",
        "        good_m_sets = np.array(good_m_sets)\n",
        "        good_m = 1 - np.prod(1-good_m_sets) # good if at least one is good\n",
        "        if good_m == 0:\n",
        "          bad_m_sets.append(collection)\n",
        "        good.append(good_m)\n",
        "      good = np.array(good)\n",
        "      is_kmagreeable = np.prod(good) # good if all is good\n",
        "      return is_kmagreeable, bad_m_sets\n",
        "    \n",
        "    # Method to the find agreement number (and the location)\n",
        "    def findAgreementNumber( self ):\n",
        "        Names, Endpts = self.listSetEndpoints()\n",
        "        agreement = 0\n",
        "        agrement_location = Endpts[0]\n",
        "        \n",
        "        # At each point, the number of intersecting sets changes only when an endpoint is encountered,\n",
        "        #  therefore, we will check the number of intersecting sets only at endpoints\n",
        "        for i in Endpts:\n",
        "          numSets_contain_i = 0\n",
        "          \n",
        "          for A in self.approvalSets:\n",
        "            if A.isPointInSet( i ):\n",
        "              numSets_contain_i = numSets_contain_i + 1\n",
        "          \n",
        "          if numSets_contain_i > agreement:\n",
        "            agreement = numSets_contain_i\n",
        "            agreement_location = i\n",
        "          \n",
        "        return agreement, agreement_location\n",
        "      \n",
        "    def findPiercingNumber( self ):\n",
        "      # Finding piercing number using an integer linear program (ILP) formulation\n",
        "      # (a linear program (LP) that is constrained to have integer solutions)\n",
        "      \n",
        "      # First, find constraint matrix/data for LP used to find piercing number\n",
        "      # Candidate piercing points are the endpoints of the intervals\n",
        "      _, orderedendpts = self.listSetEndpoints()\n",
        "      N = self.numVoters\n",
        "      M = 2*N\n",
        "      Mat = np.empty( [ N, M] )\n",
        "      for i in np.arange(0, N):\n",
        "        for j, p in enumerate(orderedendpts):\n",
        "          A = self.approvalSets[i]\n",
        "          Mat[i, j] = A.isPointInSet( p )\n",
        "      \n",
        "      # Next, vector of coefficients of objective function\n",
        "      c = np.ones(M)\n",
        "      \n",
        "      ## Solve ILP using cvxpy\n",
        "      x = cp.Variable(M, integer = True)\n",
        "      objective = cp.Minimize( cp.matmul(c, x) )\n",
        "      constraints = [ cp.matmul(Mat,x) >= np.ones(N), 0 <= x, x <= 1]\n",
        "      prob = cp.Problem( objective, constraints )\n",
        "      val = prob.solve(solver='GLPK_MI')\n",
        "      piercingNumber = int(np.round(val))\n",
        "      piercingSet = np.transpose(orderedendpts)[ np.round(x.value) > 0]\n",
        "      \n",
        "      return piercingNumber, piercingSet, x.value, Mat\n",
        "    \n",
        "    # implementing the linear society piercing number algorithm\n",
        "    def piercingAlgorithm( self, startingPoint = 0 ):\n",
        "\n",
        "      orderedendptnames, orderedendpts = self.listSetEndpoints()\n",
        "\n",
        "      if startingPoint > 0 :\n",
        "        temp1 = [ x for x in orderedendpts if x >= startingPoint ]\n",
        "        temp1names = [x for i, x in enumerate(orderedendptnames) if orderedendpts[i] >= startingPoint]\n",
        "        temp2 = [x for x in orderedendpts if x < startingPoint]\n",
        "        temp2names = [x for i, x in enumerate(orderedendptnames) if orderedendpts[i] < startingPoint]\n",
        "        orderedendpts = temp1 + temp2\n",
        "        orderedendptnames = temp1names + temp2names\n",
        "\n",
        "      uncovered_setnames = []\n",
        "      N = self.numVoters\n",
        "      for i in range(0, 2*N):\n",
        "        if( orderedendptnames[i][0] == \"R\" ):\n",
        "          uncovered_setnames.append( orderedendptnames[i][1:] )\n",
        "\n",
        "      # currently, uncovered_setnames contains all sets' names\n",
        "      piercingSet = []\n",
        "      while( len(uncovered_setnames) > 0): #while there are uncovered sets\n",
        "        current_point = self.getSet(uncovered_setnames[0]).right_endpt\n",
        "        covered_setnames = [setname for setname in uncovered_setnames if self.getSet(setname).isPointInSet(current_point) ]\n",
        "        uncovered_setnames = [setname for setname in uncovered_setnames if not self.getSet(setname).isPointInSet(current_point) ]\n",
        "        piercingSet.append( [current_point, covered_setnames] )\n",
        "      return piercingSet\n",
        "\n",
        "\n",
        "    ### HARDIN'S TRANSFORMATIONS (ELIMINATE CONTAINMENT, LR-ALTERNATION)-------\n",
        "    \n",
        "    # Method to check if Left-Right-alternating\n",
        "    def is_LR_alt( self, findRRL = False ):\n",
        "        L = self.listSetEndpoints()\n",
        "        numEndpts = len(L[0])\n",
        "        \n",
        "        # determine if LR alternating; if findRRL is True, also find names of sets where of RRL endpoints occur\n",
        "        isLR = True\n",
        "        RRLsets = list()\n",
        "        for i in range(0, numEndpts):\n",
        "            # determine if LR alternating\n",
        "            if L[0][i][0] == L[0][(i+1)%numEndpts][0]:\n",
        "                isLR = False\n",
        "            # find names of sets where of RRL endpoints occur\n",
        "            if ( findRRL ):\n",
        "                if(L[0][i%numEndpts][0] == \"R\" and L[0][(i+1)%numEndpts][0] == \"R\" and L[0][(i+2)%numEndpts][0] == \"L\"):\n",
        "                    RRLsets.append( [ L[0][i%numEndpts][1:], L[0][(i+1)%numEndpts][1:], L[0][(i+2)%numEndpts][1:] ])\n",
        "        \n",
        "        if findRRL:\n",
        "          return isLR, RRLsets\n",
        "        else:\n",
        "          return isLR\n",
        "        \n",
        "    # Method to check if a pair of sets has containment \n",
        "    def checkContainmentPair( self, setPair ):\n",
        "      Set1Name = setPair[0]\n",
        "      Set2Name = setPair[1]\n",
        "      indSet1 = self.findApprovalSetName( Set1Name )\n",
        "      indSet2 = self.findApprovalSetName( Set2Name )\n",
        "      containmentIsFound = False\n",
        "      \n",
        "      if (indSet1 == -1 or indSet2 == -1):\n",
        "        print(\"At least one of the set names is not found\")\n",
        "      else:\n",
        "        A1 = self.approvalSets[indSet1]\n",
        "        A2 = self.approvalSets[indSet2]\n",
        "        \n",
        "        if( A1.left_endpt <= A1.right_endpt and A2.left_endpt <= A2.right_endpt): \n",
        "          # Case 1: A1, A2 both don't wrap around\n",
        "          if( A1.left_endpt <= A2.left_endpt and A2.right_endpt <= A1.right_endpt ):\n",
        "            containmentIsFound = True # A2 is contained in A1\n",
        "            \n",
        "          elif( A2.left_endpt <= A1.left_endpt and A1.right_endpt <= A2.right_endpt ):\n",
        "            containmentIsFound = True # A1 is contained in A2\n",
        "          \n",
        "        elif ( A1.left_endpt <= A1.right_endpt and A2.left_endpt > A2.right_endpt ): \n",
        "          # Case 2: A1 doesn't wrap, A2 wraps around\n",
        "          if( A1.right_endpt <= A2.right_endpt or A2.left_endpt <= A1.left_endpt ):\n",
        "            containmentIsFound = True #A1 is contained in A2\n",
        "            \n",
        "        elif ( A1.left_endpt > A1.right_endpt and A2.left_endpt <= A2.right_endpt ): \n",
        "          # Case 3: A1 wraps, A2 doesn't wrap around\n",
        "          if( A1.left_endpt <= A2.left_endpt or A2.right_endpt <= A1.right_endpt ):\n",
        "            containmentIsFound = True #A2 is contained in A1\n",
        "          \n",
        "        else: \n",
        "          # Case 4: A1, A2 both wrap around\n",
        "          if( A2.right_endpt <= A1.right_endpt and A1.left_endpt <= A2.left_endpt):\n",
        "            containmentIsFound = True # A2 is contained in A1\n",
        "            \n",
        "          elif( A1.right_endpt <= A2.right_endpt and A2.left_endpt <= A1.left_endpt ):\n",
        "            containmentIsFound = True # A1 is contained in A2\n",
        "            \n",
        "      return containmentIsFound\n",
        "    \n",
        "    # Method to detect any containent and identifying pairs\n",
        "    def checkContainmentAll( self, findContainmentPairs = False ):\n",
        "      N = self.numVoters\n",
        "      approvalSetNames = self.list_setnames\n",
        "      containmentPairs = []\n",
        "      containmentIsFound = False\n",
        "      \n",
        "      for i in np.arange(0, N):\n",
        "        setName1 = self.list_setnames[i]\n",
        "        for j in np.arange(i+1, N):\n",
        "          setName2 = self.list_setnames[j]\n",
        "          \n",
        "          if ( self.checkContainmentPair( [setName1, setName2]) ):\n",
        "            \n",
        "            containmentPairs.append( [setName1, setName2] )\n",
        "            containmentIsFound = True\n",
        "            \n",
        "      if findContainmentPairs:\n",
        "        return containmentIsFound, containmentPairs\n",
        "      else:\n",
        "        return containmentIsFound\n",
        "    \n",
        "    # Method to eliminate a pair of containment\n",
        "    def eliminateContainmentPair( self, containmentPair ):\n",
        "        smallSetName = containmentPair[0]\n",
        "        largeSetName = containmentPair[1]\n",
        "        indSmallSet = self.findApprovalSetName( smallSetName )\n",
        "        indLargeSet = self.findApprovalSetName( largeSetName )\n",
        "        \n",
        "        if (indSmallSet == -1 or indLargeSet == -1):\n",
        "            print(\"At least one of the set names is not found\")\n",
        "        else:\n",
        "            # Swap the right endpoints of the two sets\n",
        "            ASmall = self.approvalSets[indSmallSet]\n",
        "            ALarge = self.approvalSets[indLargeSet]\n",
        "            \n",
        "            small_right_endpt = ASmall.right_endpt\n",
        "            small_newright_endpt = ALarge.right_endpt\n",
        "            large_newright_endpt = small_right_endpt\n",
        "            \n",
        "            self.editApprovalSet( smallSetName, ASmall.left_endpt, small_newright_endpt )\n",
        "            self.editApprovalSet( largeSetName, ALarge.left_endpt, large_newright_endpt )\n",
        "\n",
        "    # Method to eliminate all containments\n",
        "    def eliminateContainmentAll( self ):\n",
        "      \n",
        "      containmentIsFound, containmentPairs = self.checkContainmentAll( findContainmentPairs = True)\n",
        "      maxIt = 100\n",
        "      it = 0\n",
        "      \n",
        "      while(containmentIsFound and it < maxIt):\n",
        "        for setPair in containmentPairs:\n",
        "          self.eliminateContainmentPair( setPair )\n",
        "        containmentIsFound, containmentPairs = self.checkContainmentAll( findContainmentPairs = True )\n",
        "        it = it + 1\n",
        "      \n",
        "            \n",
        "    # Method to eliminate a set of RRL endpoints\n",
        "    def eliminateRRLTriple( self, RRLsets ):\n",
        "        Set2Name = RRLsets[1] # first set is unchanged\n",
        "        Set3Name = RRLsets[2]\n",
        "        indSet2 = self.findApprovalSetName( Set2Name )\n",
        "        indSet3 = self.findApprovalSetName( Set3Name )\n",
        "        \n",
        "        if (indSet2 == -1 or indSet3 == -1):\n",
        "            print(\"At least one of the set names is not found\")\n",
        "        else:\n",
        "            # Swap the right endpt of Set2 and the left endpoint of Set3\n",
        "            A2 = self.approvalSets[indSet2]\n",
        "            A3 = self.approvalSets[indSet3]\n",
        "            \n",
        "            set2_right_endpt = A2.right_endpt\n",
        "            set2_newright_endpt = A3.left_endpt\n",
        "            set3_newleft_endpt = set2_right_endpt\n",
        "            \n",
        "            self.editApprovalSet( Set2Name, A2.left_endpt, set2_newright_endpt)\n",
        "            self.editApprovalSet( Set3Name, set3_newleft_endpt, A3.right_endpt )\n",
        "    \n",
        "    # Method to eliminate all RRL (to achieve LR-alternation)\n",
        "    def eliminateRRLAll( self, maxIt = 10000 ):\n",
        "        isLR, RRLsets = self.is_LR_alt( findRRL = True )\n",
        "        \n",
        "        numIt = 0\n",
        "        while( not isLR and numIt < maxIt):\n",
        "          for triple in RRLsets:\n",
        "            self.eliminateRRLTriple( triple )\n",
        "          isLR, RRLsets = self.is_LR_alt( findRRL = True )\n",
        "          numIt = numIt + 1\n",
        "        \n",
        "        if ( not isLR ):\n",
        "          print(\"Max iteration reached but the society is still not LR-Alternating\")\n",
        "\n",
        "    # Method to transform into a uniform society\n",
        "    def uniformize( self ):\n",
        "        self.eliminateContainmentAll()\n",
        "        self.eliminateRRLAll()\n",
        "        \n",
        "\n",
        "        \n",
        "    ### VISUALIZATION --------------------------------------------------------\n",
        "    \n",
        "    # Method to visualize the sets\n",
        "    def visualize( self, drawAgreement = False, drawPiercing = False ):\n",
        "        \n",
        "        ## Set up grid\n",
        "        fig = plt.figure()\n",
        "        ax = fig.add_subplot(1, 1, 1)\n",
        "        # Major ticks every 1, minor ticks every self.tick (default = 0.5)\n",
        "        major_ticks = np.arange(0, self.modulo+1, self.modulo * 0.1)\n",
        "        minor_ticks = np.arange(0, self.modulo+1, self.tick)        \n",
        "        ax.set_xticks(major_ticks)\n",
        "        ax.set_xticks(minor_ticks, minor=True)\n",
        "        #ax.set_yticks(major_ticks)\n",
        "        #ax.set_yticks(minor_ticks, minor=True)\n",
        "        # Different thickness settings for the major and minor grids:\n",
        "        ax.grid(which='minor', alpha=0.2)\n",
        "        ax.grid(which='major', alpha=0.5)\n",
        "        plt.yticks(np.arange(0, self.numVoters+1, step = 1) )\n",
        "        \n",
        "        # Draw the intervals\n",
        "        for ind, A in enumerate( self.approvalSets ):\n",
        "            if A.left_endpt <= A.right_endpt:\n",
        "                x = [A.left_endpt, A.right_endpt]\n",
        "                y = [ind+1, ind+1]\n",
        "                plt.plot( x, y, 'ro-')\n",
        "            else:\n",
        "                x = [A.left_endpt, self.modulo]\n",
        "                y = [ind+1, ind+1]\n",
        "                plt.plot( A.left_endpt, ind+1, 'ro-', self.modulo, ind+1, 'r>-')\n",
        "                plt.plot( x, y, 'r')\n",
        "                x = [0, A.right_endpt]\n",
        "                plt.plot( 0, ind+1, 'r<-', A.right_endpt, ind+1, 'ro-')\n",
        "                plt.plot( x, y, 'r')\n",
        "                \n",
        "        # Draw one of the points that attains agreement number\n",
        "        if drawAgreement:\n",
        "            a, pos = self.findAgreementNumber()\n",
        "            plt.plot( [pos, pos], [0.8, self.numVoters], 'blue' )\n",
        "        \n",
        "        # Draw the piercing points\n",
        "        if drawPiercing:\n",
        "          piercingNum, piercingSet, _, _ = self.findPiercingNumber()\n",
        "          for pos in piercingSet:\n",
        "            plt.plot( [pos, pos], [0, 0.2 + self.numVoters], 'green', linestyle = 'dashed' )\n",
        "\n",
        "# Part 3 - generating random circular societies ----------------------------------    \n",
        "\n",
        "# Define function to generate a random fixed-length circular society\n",
        "def generateRandomFixedLengthSociety( societyname, N, modulo, p, tick = 0.5 ):\n",
        "    # N is number of voters\n",
        "    # modulo is the circumference of the circular society\n",
        "    # p is a fraction between 0 and 1 that controls the length of approval sets\n",
        "    #    The length of each set is p times modulo\n",
        "    # tick = 0.5 : controls tick marks in the visualization\n",
        "    \n",
        "    CS = CircularSociety( societyname, modulo, tick = tick )\n",
        "    \n",
        "    for i in list(range(N)):\n",
        "      left = np.random.uniform(low=0, high=modulo)\n",
        "      right = (left + p * modulo) % modulo\n",
        "      CS.addApprovalSet( \"Set \" + str(i+1), left , right )\n",
        "    \n",
        "    return CS\n",
        "\n",
        "# extras:\n",
        "# Define function to generate a circular society with a random approval sets\n",
        "def generateRandomSociety( societyname, N, modulo, epsilon = 0.5, mode = 1, a = 1, b = 1 ):\n",
        "    # epsilon = 0.5 is the perturbation of the right-endpoints\n",
        "    # N is number of voters\n",
        "    # mode lets us choose how the approval sets are generated\n",
        "    #   mode = 1: endpoints are chosen uniformly at random from [0, modulo]\n",
        "    #   mode = 2: left endpoint is chosen uniformly at random from [0, modulo]; \n",
        "    #             set length is from the beta distribution with parameters a, b\n",
        "    \n",
        "    CS = CircularSociety( societyname, modulo, tick = epsilon )\n",
        "    \n",
        "    for i in list(range(N)):\n",
        "      if mode == 1:\n",
        "        left = np.random.uniform(low=0, high=modulo)\n",
        "        right = np.random.uniform(low=0, high=modulo)\n",
        "      elif mode == 2:\n",
        "        left = np.random.uniform(low=0, high=modulo) \n",
        "        right = (left + np.random.beta(a, b)* modulo) % modulo\n",
        "        \n",
        "      CS.addApprovalSet( \"Set \" + str(i+1), left , right )\n",
        "    \n",
        "    \n",
        "    return CS\n",
        "  \n",
        "# Define function to generate U(N, h) (Hardin's uniform circular society)\n",
        "def generateUniformCircularSociety( societyname, N, h, epsilon = 0.5 ):\n",
        "    # epsilon = 0.5 is the perturbation of the right-endpoints\n",
        "    \n",
        "    CS = CircularSociety( societyname, N, tick = epsilon )\n",
        "    \n",
        "    for i in list(range(N)):\n",
        "        CS.addApprovalSet( \"Set \" + str(i+1), i, round( (i + h - epsilon) % N, 1) )\n",
        "    return CS"
      ],
      "execution_count": null,
      "outputs": []
    },
    {
      "cell_type": "markdown",
      "metadata": {
        "id": "RCrDqSK-f2xZ",
        "colab_type": "text"
      },
      "source": [
        "## Documentation\n",
        "\n",
        "https://github.com/tiasondjaja/circular_societies/blob/master/DOCUMENTATION.md"
      ]
    },
    {
      "cell_type": "markdown",
      "metadata": {
        "id": "kUQENXpu_Gp_",
        "colab_type": "text"
      },
      "source": [
        "## Examples"
      ]
    },
    {
      "cell_type": "markdown",
      "metadata": {
        "id": "N07STkUEAjpi",
        "colab_type": "text"
      },
      "source": [
        "### Example 1"
      ]
    },
    {
      "cell_type": "code",
      "metadata": {
        "id": "aC1df4CUf2xg",
        "colab_type": "code",
        "colab": {
          "base_uri": "https://localhost:8080/"
        },
        "outputId": "09625fce-404d-4dcd-e22d-94a107833df9"
      },
      "source": [
        "# Example 1  (Run this cell by pressing Shift + Enter or clicking the \"play\" button on the left)\n",
        "\n",
        "# Creating a circular society named A (with a string name \"S1\") where the spectrum is [0, 10] (where 0 = 10)\n",
        "A = CircularSociety( \"S1\", 10)\n",
        "\n",
        "#   Adding sets \n",
        "A.addApprovalSet( \"Set1\", 3, 5 )  # \"Set1\" is the set's name, left endpoint = 3, right endpoint = 5\n",
        "A.addApprovalSet( \"Set2\", 0, 2 )\n",
        "A.addApprovalSet( \"Set3\", 5, 8 )\n",
        "A.addApprovalSet( \"Set4\", 7, 1 )\n",
        "A.addApprovalSet( \"Set5\", 6, 9 )\n",
        "A.addApprovalSet( \"Set6\", 2, 4 )\n",
        "\n",
        "#  Editing an existing set\n",
        "A.editApprovalSet( \"Set2\", 6, 3)\n",
        "\n",
        "#  Removing a set (by its names)\n",
        "A.removeApprovalSet( \"Set6\" )\n",
        "\n",
        "#  Displaying the circular society's information (name, is it uniform, the spectrum, number of voters, list of approval sets) \n",
        "A.printSocietyInfo()\n",
        "\n",
        "#  Visualizing the circular society; each set is plotted horizontally (different y coordinates for different sets)\n",
        "A.visualize( )\n",
        "\n",
        "#  Checking if the set is left-right alternating (returns True or False)\n",
        "A.is_LR_alt()\n",
        "\n",
        "# Finding the agreement number of the society\n",
        "a, pos = A.findAgreementNumber()\n",
        "print(a)\n",
        "print(pos)"
      ],
      "execution_count": null,
      "outputs": [
        {
          "output_type": "stream",
          "text": [
            "Circular Society Name: S1\n",
            "Spectrum: [0, 10].  (Note: we identify 0 = 10)\n",
            "Number of Voters: 5\n",
            "Approval Sets:\n",
            " Set1: [3, 5]\n",
            " Set2: [0,3] U [6, 10]\n",
            " Set3: [5, 8]\n",
            " Set4: [0,1] U [7, 10]\n",
            " Set5: [6, 9]\n",
            "4\n",
            "7\n"
          ],
          "name": "stdout"
        },
        {
          "output_type": "display_data",
          "data": {
            "image/png": "[encoded data removed]",
            "text/plain": [
              "<Figure size 432x288 with 1 Axes>"
            ]
          },
          "metadata": {
            "tags": [],
            "needs_background": "light"
          }
        }
      ]
    },
    {
      "cell_type": "markdown",
      "metadata": {
        "id": "kS2xv2-GAlni",
        "colab_type": "text"
      },
      "source": [
        "### Example 2"
      ]
    },
    {
      "cell_type": "code",
      "metadata": {
        "id": "ZVdlx7pBf2x9",
        "colab_type": "code",
        "colab": {
          "base_uri": "https://localhost:8080/"
        },
        "outputId": "532d3ace-446b-4fe2-9cf4-9350eb031072"
      },
      "source": [
        "# Example 2 (Run this cell by pressing Shift + Enter or clicking the \"play\" button to the side)\n",
        "\n",
        "# Generating a Uniform Society named S1 (with a string name \"Soc1\"), U(7, 4)\n",
        "S1 = generateUniformCircularSociety( \"Soc1\", 7, 4)\n",
        "\n",
        "#  Displaying the circular society's information (name, is it uniform, the spectrum, number of voters, list of approval sets) \n",
        "S1.printSocietyInfo()\n",
        "\n",
        "#  Visualizing the circular society; each set is plotted horizontally (different y coordinates for different sets)\n",
        "S1.visualize( )\n",
        "\n",
        "# Displaying the list of left/right endpoints starting from x = 0.\n",
        "print(S1.listSetEndpoints())\n",
        "\n",
        "# Checking if the set is left-right alternating (returns True or False)\n",
        "print(\"Is the society left-right alternating?\", S1.is_LR_alt() )\n",
        "\n",
        "# Find the agreement number of this society\n",
        "a, location = S1.findAgreementNumber()\n",
        "print(\"Agreement number is: \", a)\n",
        "print(\"Location of max agreement along the horizontal axis (potentially one of several): \", location)"
      ],
      "execution_count": null,
      "outputs": [
        {
          "output_type": "stream",
          "text": [
            "Circular Society Name: Soc1\n",
            "Spectrum: [0, 7].  (Note: we identify 0 = 7)\n",
            "Number of Voters: 7\n",
            "Approval Sets:\n",
            " Set 1: [0, 3.5]\n",
            " Set 2: [1, 4.5]\n",
            " Set 3: [2, 5.5]\n",
            " Set 4: [3, 6.5]\n",
            " Set 5: [0,0.5] U [4, 7]\n",
            " Set 6: [0,1.5] U [5, 7]\n",
            " Set 7: [0,2.5] U [6, 7]\n",
            "(['LSet 1', 'RSet 5', 'LSet 2', 'RSet 6', 'LSet 3', 'RSet 7', 'LSet 4', 'RSet 1', 'LSet 5', 'RSet 2', 'LSet 6', 'RSet 3', 'LSet 7', 'RSet 4'], [0, 0.5, 1, 1.5, 2, 2.5, 3, 3.5, 4, 4.5, 5, 5.5, 6, 6.5])\n",
            "Is the society left-right alternating? True\n",
            "Agreement number is:  4\n",
            "Location of max agreement along the horizontal axis (potentially one of several):  0\n"
          ],
          "name": "stdout"
        },
        {
          "output_type": "display_data",
          "data": {
            "image/png": "[encoded data removed]",
            "text/plain": [
              "<Figure size 432x288 with 1 Axes>"
            ]
          },
          "metadata": {
            "tags": [],
            "needs_background": "light"
          }
        }
      ]
    },
    {
      "cell_type": "markdown",
      "metadata": {
        "id": "IS2YcGhRAnv_",
        "colab_type": "text"
      },
      "source": [
        "### Example 3a: Randomly-generated circular societies"
      ]
    },
    {
      "cell_type": "code",
      "metadata": {
        "id": "NmOqH2Gof2yT",
        "colab_type": "code",
        "colab": {
          "base_uri": "https://localhost:8080/"
        },
        "outputId": "68d8c81d-4401-4acb-97ac-0903e73c7c16"
      },
      "source": [
        "# Example 3: Randomly-generated circular societies\n",
        "\n",
        "S2 = generateRandomSociety( 'A', 10, 10, epsilon = 0.5 )\n",
        "S2.printSocietyInfo()\n",
        "S2.visualize(  )\n",
        "a2, location2 = S2.findAgreementNumber()\n",
        "\n",
        "print(\"Agreement number is: \", a2)\n",
        "print(\"Location of max agreement along the horizontal axis (potentially one of several): \", location2)"
      ],
      "execution_count": null,
      "outputs": [
        {
          "output_type": "stream",
          "text": [
            "Circular Society Name: A\n",
            "Spectrum: [0, 10].  (Note: we identify 0 = 10)\n",
            "Number of Voters: 10\n",
            "Approval Sets:\n",
            " Set 1: [0,6.897229184546641] U [7.6851364992776805, 10]\n",
            " Set 2: [4.599096259321124, 7.702448577256988]\n",
            " Set 3: [0,2.4823822351373703] U [5.656537765844022, 10]\n",
            " Set 4: [4.307460808038254, 5.715783199724714]\n",
            " Set 5: [2.5212578319380388, 2.736452258747417]\n",
            " Set 6: [0.6360914993865119, 9.521166419655941]\n",
            " Set 7: [3.4301433690826153, 4.525416748179966]\n",
            " Set 8: [0,0.6668826166361819] U [3.6913482412050023, 10]\n",
            " Set 9: [0,8.039160821268931] U [9.022900679328655, 10]\n",
            " Set 10: [0,1.2561703443771322] U [3.5695255842926255, 10]\n",
            "Agreement number is:  8\n",
            "Location of max agreement along the horizontal axis (potentially one of several):  5.656537765844022\n"
          ],
          "name": "stdout"
        },
        {
          "output_type": "display_data",
          "data": {
            "image/png": "[encoded data removed]",
            "text/plain": [
              "<Figure size 432x288 with 1 Axes>"
            ]
          },
          "metadata": {
            "tags": [],
            "needs_background": "light"
          }
        }
      ]
    },
    {
      "cell_type": "markdown",
      "metadata": {
        "id": "Ykk9hAjZz_UD",
        "colab_type": "text"
      },
      "source": [
        "### Example 3b: Randomly-generated circular Societies\n",
        "\n",
        "Given a society whose approval sets are randomly generated (with a particular distribution), what is the distribution of the approval number of the random society?"
      ]
    },
    {
      "cell_type": "code",
      "metadata": {
        "id": "2pQz3DGXuHAh",
        "colab_type": "code",
        "colab": {}
      },
      "source": [
        "# Generate R random societies, each with N voters\n",
        "#   Each approval set has endpts from the uniform distribution on [0, modulo]\n",
        "\n",
        "R = 100\n",
        "N = 10\n",
        "modulo = 10\n",
        "\n",
        "approval = np.empty([R,])\n",
        "\n",
        "for i in np.arange(0, R):\n",
        "  S = generateRandomSociety( 'A', N, modulo, epsilon = 0.5, mode = 2, a = 2, b=2 )\n",
        "  approval[i], a = S.findAgreementNumber()"
      ],
      "execution_count": null,
      "outputs": []
    },
    {
      "cell_type": "code",
      "metadata": {
        "id": "6L4OwirI7aHg",
        "colab_type": "code",
        "colab": {
          "base_uri": "https://localhost:8080/"
        },
        "outputId": "863b0452-fbb1-4373-87e7-46923489bcd3"
      },
      "source": [
        "approvalRatio = approval/N\n",
        "plt.hist(approvalRatio, bins = 10)"
      ],
      "execution_count": null,
      "outputs": [
        {
          "output_type": "execute_result",
          "data": {
            "text/plain": [
              "(array([24.,  0.,  0., 32.,  0.,  0., 30.,  0.,  0., 14.]),\n",
              " array([0.6 , 0.63, 0.66, 0.69, 0.72, 0.75, 0.78, 0.81, 0.84, 0.87, 0.9 ]),\n",
              " <a list of 10 Patch objects>)"
            ]
          },
          "metadata": {
            "tags": []
          },
          "execution_count": 44
        },
        {
          "output_type": "display_data",
          "data": {
            "image/png": "[encoded data removed]",
            "text/plain": [
              "<Figure size 432x288 with 1 Axes>"
            ]
          },
          "metadata": {
            "tags": [],
            "needs_background": "light"
          }
        }
      ]
    },
    {
      "cell_type": "code",
      "metadata": {
        "id": "FK_jw4us4Mps",
        "colab_type": "code",
        "colab": {
          "base_uri": "https://localhost:8080/"
        },
        "outputId": "2b1737fd-11c3-454e-d7fe-96beae9eee58"
      },
      "source": [
        "np.mean(approvalRatio)"
      ],
      "execution_count": null,
      "outputs": [
        {
          "output_type": "execute_result",
          "data": {
            "text/plain": [
              "0.7339999999999999"
            ]
          },
          "metadata": {
            "tags": []
          },
          "execution_count": 45
        }
      ]
    },
    {
      "cell_type": "code",
      "metadata": {
        "id": "DK_dxFC38YoC",
        "colab_type": "code",
        "colab": {
          "base_uri": "https://localhost:8080/"
        },
        "outputId": "40fc9aaa-b6d8-490e-8c20-4ee376a40c57"
      },
      "source": [
        "S.printSocietyInfo()"
      ],
      "execution_count": null,
      "outputs": [
        {
          "output_type": "stream",
          "text": [
            "Circular Society Name: A\n",
            "Spectrum: [0, 10].  (Note: we identify 0 = 10)\n",
            "Number of Voters: 10\n",
            "Approval Sets:\n",
            " Set 1: [0,3.1373010833700157] U [7.766508866796168, 10]\n",
            " Set 2: [0,3.988072122587635] U [5.169257195787668, 10]\n",
            " Set 3: [5.585571494735917, 8.268659741399873]\n",
            " Set 4: [0,4.7259267369715] U [5.324493454378796, 10]\n",
            " Set 5: [0.6597846917064409, 2.176608933752992]\n",
            " Set 6: [2.3858432863138237, 4.991947304820513]\n",
            " Set 7: [0,0.8731749177512889] U [7.665276891494766, 10]\n",
            " Set 8: [5.07241765121842, 9.090626935684725]\n",
            " Set 9: [2.489773935442803, 6.048043878482824]\n",
            " Set 10: [3.295535251261319, 7.1333496211195975]\n"
          ],
          "name": "stdout"
        }
      ]
    },
    {
      "cell_type": "code",
      "metadata": {
        "id": "O67CyWRAe3xI",
        "colab_type": "code",
        "colab": {
          "base_uri": "https://localhost:8080/"
        },
        "outputId": "e950244c-1abe-4813-a79a-67e0789840c7"
      },
      "source": [
        "S.visualize( drawAgreement = True )"
      ],
      "execution_count": null,
      "outputs": [
        {
          "output_type": "display_data",
          "data": {
            "image/png": "[encoded data removed]",
            "text/plain": [
              "<Figure size 432x288 with 1 Axes>"
            ]
          },
          "metadata": {
            "tags": [],
            "needs_background": "light"
          }
        }
      ]
    },
    {
      "cell_type": "code",
      "metadata": {
        "id": "rFrnHAAAfSsq",
        "colab_type": "code",
        "colab": {
          "base_uri": "https://localhost:8080/"
        },
        "outputId": "d9c15ed5-122e-4078-867c-82c2ffebbb21"
      },
      "source": [
        "S.findAgreementNumber()"
      ],
      "execution_count": null,
      "outputs": [
        {
          "output_type": "execute_result",
          "data": {
            "text/plain": [
              "(6, 5.585571494735917)"
            ]
          },
          "metadata": {
            "tags": []
          },
          "execution_count": 48
        }
      ]
    },
    {
      "cell_type": "markdown",
      "metadata": {
        "id": "fMQGcMzXl9W1",
        "colab_type": "text"
      },
      "source": [
        "### Example 4: Experiments with randomly generated fixed length societies"
      ]
    },
    {
      "cell_type": "code",
      "metadata": {
        "id": "ZyVEIGzxANsT",
        "colab_type": "code",
        "colab": {
          "base_uri": "https://localhost:8080/",
          "height": 350
        },
        "outputId": "78bdc3f4-f497-45af-e935-7176ea86c64f"
      },
      "source": [
        "# ---\n",
        "# Random Example\n",
        "N = 3 # number of approval sets\n",
        "modulo = 1 # circumference of the circular society\n",
        "p = 0.25\n",
        "\n",
        "S = generateRandomFixedLengthSociety( \"Fixed length society 1\", N, modulo, p, tick=0.05 )\n",
        "\n",
        "# ---\n",
        "# Finding the agreement number of the society\n",
        "a, position = S.findAgreementNumber()\n",
        "\n",
        "print(\"--------\")\n",
        "print(\"Before any transformations\")\n",
        "print(\"Agreement number:\", a)\n",
        "p, _, _, _ = S.findPiercingNumber()\n",
        "print(\"Piercing number:\", p)\n",
        "S.visualize( drawAgreement = True, drawPiercing = True )\n",
        "print(\"--------\")"
      ],
      "execution_count": null,
      "outputs": [
        {
          "output_type": "stream",
          "text": [
            "--------\n",
            "Before any transformations\n",
            "Agreement number: 2\n",
            "Piercing number: 2\n",
            "--------\n"
          ],
          "name": "stdout"
        },
        {
          "output_type": "display_data",
          "data": {
            "image/png": "[encoded data removed]",
            "text/plain": [
              "<Figure size 432x288 with 1 Axes>"
            ]
          },
          "metadata": {
            "tags": [],
            "needs_background": "light"
          }
        }
      ]
    },
    {
      "cell_type": "code",
      "metadata": {
        "id": "yTlTYqxuP_hi",
        "colab_type": "code",
        "colab": {
          "base_uri": "https://localhost:8080/",
          "height": 153
        },
        "outputId": "611ead34-05dd-429f-b9fb-c6e2891d7358"
      },
      "source": [
        "S.printSocietyInfo()\n",
        "tau, piercingset, _, _ = S.findPiercingNumber()\n",
        "print(piercingset)"
      ],
      "execution_count": null,
      "outputs": [
        {
          "output_type": "stream",
          "text": [
            "Circular Society Name: Fixed length society 1\n",
            "Spectrum: [0, 1].  (Note: we identify 0 = 1)\n",
            "Number of Voters: 3\n",
            "Approval Sets:\n",
            " Set 1: [0.3846541495697703, 0.6346541495697703]\n",
            " Set 2: [0.43266841430606695, 0.682668414306067]\n",
            " Set 3: [0.04370607910735813, 0.29370607910735813]\n",
            "[0.04370608 0.43266841]\n"
          ],
          "name": "stdout"
        }
      ]
    },
    {
      "cell_type": "code",
      "metadata": {
        "id": "HzmJm6gApDnh",
        "colab_type": "code",
        "colab": {
          "base_uri": "https://localhost:8080/",
          "height": 350
        },
        "outputId": "2e3dcaa3-1401-4a0e-a6d8-a15e84d9cabb"
      },
      "source": [
        "# Apply transformations\n",
        "Snew = copy.deepcopy(S)\n",
        "Snew.uniformize()\n",
        "\n",
        "print(\"--------\")\n",
        "print(\"After Hardin's transformations\")\n",
        "anew, _ = Snew.findAgreementNumber()\n",
        "print(\"Agreement number after LR-alternation:\", anew)\n",
        "pnew, _, _, _ = Snew.findPiercingNumber()\n",
        "print(\"Piercing number after LR-alternation:\", pnew)\n",
        "Snew.visualize( drawAgreement = True, drawPiercing = True )\n",
        "print(\"--------\")"
      ],
      "execution_count": null,
      "outputs": [
        {
          "output_type": "stream",
          "text": [
            "--------\n",
            "After Hardin's transformations\n",
            "Agreement number after LR-alternation: 2\n",
            "Piercing number after LR-alternation: 2\n",
            "--------\n"
          ],
          "name": "stdout"
        },
        {
          "output_type": "display_data",
          "data": {
            "image/png": "[encoded data removed]",
            "text/plain": [
              "<Figure size 432x288 with 1 Axes>"
            ]
          },
          "metadata": {
            "tags": [],
            "needs_background": "light"
          }
        }
      ]
    },
    {
      "cell_type": "markdown",
      "metadata": {
        "id": "QsDjPXjc-dHY",
        "colab_type": "text"
      },
      "source": [
        "### Example 5: Checking (k, m)-agreeability"
      ]
    },
    {
      "cell_type": "code",
      "metadata": {
        "id": "PC_8Z7WIC7Hm",
        "colab_type": "code",
        "colab": {
          "base_uri": "https://localhost:8080/"
        },
        "outputId": "be4b5590-f9f2-4cc7-dfdc-741924512484"
      },
      "source": [
        "# Creating a circular society S, the spectrum is [0, 1]\n",
        "N = 10 # number of approval sets\n",
        "modulo = 1 # circumference of the circular society platform\n",
        "p = 0.2 # length of the society\n",
        "\n",
        "S = generateRandomFixedLengthSociety( \"Fixed length society 1\", N, modulo, p, tick=0.05 )\n",
        "\n",
        "#  Visualizing the circular society; each set is plotted horizontally (different y coordinates for different sets)\n",
        "S.visualize( drawAgreement = True, drawPiercing = True )\n",
        "\n",
        "is_kmagreeable, bad_m_sets = S.checkAgreeability(4, 9)\n",
        "print(is_kmagreeable)\n",
        "print(bad_m_sets)"
      ],
      "execution_count": null,
      "outputs": [
        {
          "output_type": "stream",
          "text": [
            "1\n",
            "[]\n"
          ],
          "name": "stdout"
        },
        {
          "output_type": "display_data",
          "data": {
            "image/png": "[encoded data removed]",
            "text/plain": [
              "<Figure size 432x288 with 1 Axes>"
            ]
          },
          "metadata": {
            "tags": [],
            "needs_background": "light"
          }
        }
      ]
    },
    {
      "cell_type": "code",
      "metadata": {
        "id": "MqrDbN_EhP9i",
        "colab_type": "code",
        "colab": {
          "base_uri": "https://localhost:8080/"
        },
        "outputId": "a64c6381-ceb5-4c19-8516-9eb71eb5c600"
      },
      "source": [
        "is_kmagreeable, bad_m_sets = S.checkAgreeability(2, 3)\n",
        "print(is_kmagreeable)\n",
        "print(bad_m_sets)"
      ],
      "execution_count": null,
      "outputs": [
        {
          "output_type": "stream",
          "text": [
            "0\n",
            "[['Set 1', 'Set 2', 'Set 5'], ['Set 1', 'Set 3', 'Set 5'], ['Set 2', 'Set 4', 'Set 5'], ['Set 2', 'Set 5', 'Set 6'], ['Set 2', 'Set 5', 'Set 7'], ['Set 2', 'Set 5', 'Set 8'], ['Set 2', 'Set 5', 'Set 9'], ['Set 2', 'Set 5', 'Set 10'], ['Set 3', 'Set 4', 'Set 5'], ['Set 3', 'Set 5', 'Set 6'], ['Set 3', 'Set 5', 'Set 7'], ['Set 3', 'Set 5', 'Set 8'], ['Set 3', 'Set 5', 'Set 9'], ['Set 3', 'Set 5', 'Set 10']]\n"
          ],
          "name": "stdout"
        }
      ]
    },
    {
      "cell_type": "code",
      "metadata": {
        "id": "yJPhp3rECfg9",
        "colab_type": "code",
        "colab": {}
      },
      "source": [
        ""
      ],
      "execution_count": null,
      "outputs": []
    }
  ]
}